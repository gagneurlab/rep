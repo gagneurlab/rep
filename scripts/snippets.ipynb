{
 "cells": [
  {
   "cell_type": "code",
   "execution_count": null,
   "metadata": {},
   "outputs": [],
   "source": [
    "xrds = xr.DataArray(\n",
    "    np.log(raw_data.X + 1),\n",
    "    dims=(\"observations\", \"features\"),\n",
    "    coords={\n",
    "        \"observations\": xr.DataArray(raw_data.obs_names, dims=(\"observations\", )),\n",
    "        \"features\": xr.DataArray(raw_data.var_names, dims=(\"features\", )),\n",
    "        **raw_data.obs.to_xarray().rename_dims({\"index\":\"observations\"}),\n",
    "        **raw_data.var.to_xarray().rename_dims({\"index\":\"features\"})\n",
    "    }\n",
    ")\n",
    "xrds.chunk({\"observations\": 1000, \"features\": 1000})"
   ]
  }
 ],
 "metadata": {
  "kernelspec": {
   "display_name": "Python [conda env:florian]",
   "language": "python",
   "name": "conda-env-florian-py"
  },
  "language_info": {
   "codemirror_mode": {
    "name": "ipython",
    "version": 3
   },
   "file_extension": ".py",
   "mimetype": "text/x-python",
   "name": "python",
   "nbconvert_exporter": "python",
   "pygments_lexer": "ipython3",
   "version": "3.7.3"
  }
 },
 "nbformat": 4,
 "nbformat_minor": 2
}
