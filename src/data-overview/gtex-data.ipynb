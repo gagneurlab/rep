{
 "cells": [
  {
   "cell_type": "markdown",
   "metadata": {},
   "source": [
    "## Goal\n",
    "\n",
    "Figure out how many training samples do we have to go from one tissue to another one"
   ]
  },
  {
   "cell_type": "code",
   "execution_count": 16,
   "metadata": {},
   "outputs": [],
   "source": [
    "%matplotlib inline"
   ]
  },
  {
   "cell_type": "code",
   "execution_count": 1,
   "metadata": {},
   "outputs": [],
   "source": [
    "vcf_file = '/s/project/gtex-processed/vcf/GTEx_Analysis_20150112_WholeGenomeSeq_148Indiv_GATK_HaplotypeCaller.vcf.gz'"
   ]
  },
  {
   "cell_type": "code",
   "execution_count": 2,
   "metadata": {},
   "outputs": [],
   "source": [
    "count_file = '/s/project/gtex-processed/gene_counts_v7/GTEx_Analysis_2016-01-15_v7_RNASeQCv1.1.8_gene_reads.gct'"
   ]
  },
  {
   "cell_type": "code",
   "execution_count": 3,
   "metadata": {},
   "outputs": [],
   "source": [
    "import pandas as pd"
   ]
  },
  {
   "cell_type": "code",
   "execution_count": 4,
   "metadata": {},
   "outputs": [],
   "source": [
    "metadata = '/s/project/gtex-processed/gene_counts_v7/SraRunTable.txt'"
   ]
  },
  {
   "cell_type": "code",
   "execution_count": 5,
   "metadata": {},
   "outputs": [],
   "source": [
    "md = pd.read_table(metadata)"
   ]
  },
  {
   "cell_type": "code",
   "execution_count": 31,
   "metadata": {},
   "outputs": [],
   "source": [
    "counts = pd.read_table(count_file, skiprows=2)"
   ]
  },
  {
   "cell_type": "code",
   "execution_count": 36,
   "metadata": {},
   "outputs": [],
   "source": [
    "# counts.to_feather('/s/project/gtex-processed/gene_counts_v7/GTEx_Analysis_2016-01-15_v7_RNASeQCv1.1.8_gene_reads.feather')"
   ]
  },
  {
   "cell_type": "code",
   "execution_count": 52,
   "metadata": {},
   "outputs": [
    {
     "data": {
      "text/plain": [
       "Index(['Description', 'GTEX-1117F-0226-SM-5GZZ7', 'GTEX-111CU-1826-SM-5GZYN',\n",
       "       'GTEX-111FC-0226-SM-5N9B8', 'GTEX-111VG-2326-SM-5N9BK',\n",
       "       'GTEX-111YS-2426-SM-5GZZQ', 'GTEX-1122O-2026-SM-5NQ91',\n",
       "       'GTEX-1128S-2126-SM-5H12U', 'GTEX-113IC-0226-SM-5HL5C',\n",
       "       'GTEX-117YX-2226-SM-5EGJJ',\n",
       "       ...\n",
       "       'GTEX-ZVE2-0006-SM-51MRW', 'GTEX-ZVP2-0005-SM-51MRK',\n",
       "       'GTEX-ZVT2-0005-SM-57WBW', 'GTEX-ZVT3-0006-SM-51MT9',\n",
       "       'GTEX-ZVT4-0006-SM-57WB8', 'GTEX-ZVTK-0006-SM-57WBK',\n",
       "       'GTEX-ZVZP-0006-SM-51MSW', 'GTEX-ZVZQ-0006-SM-51MR8',\n",
       "       'GTEX-ZXES-0005-SM-57WCB', 'GTEX-ZXG5-0005-SM-57WCN'],\n",
       "      dtype='object', length=11689)"
      ]
     },
     "execution_count": 52,
     "metadata": {},
     "output_type": "execute_result"
    }
   ],
   "source": [
    "counts.columns"
   ]
  },
  {
   "cell_type": "code",
   "execution_count": 6,
   "metadata": {},
   "outputs": [
    {
     "data": {
      "text/plain": [
       "['Assay_Type_s',\n",
       " 'AssemblyName_s',\n",
       " 'AvgSpotLen_l',\n",
       " 'BioSample_s',\n",
       " 'Center_Name_s',\n",
       " 'Experiment_s',\n",
       " 'InsertSize_l',\n",
       " 'Instrument_s',\n",
       " 'LibraryLayout_s',\n",
       " 'LibrarySelection_s',\n",
       " 'LibrarySource_s',\n",
       " 'Library_Name_s',\n",
       " 'LoadDate_s',\n",
       " 'MBases_l',\n",
       " 'MBytes_l',\n",
       " 'ReleaseDate_s',\n",
       " 'Run_s',\n",
       " 'SRA_Sample_s',\n",
       " 'Sample_Name_s',\n",
       " 'analyte_type_s',\n",
       " 'biospecimen_repository_sample_id_s',\n",
       " 'body_site_s',\n",
       " 'data_type_s',\n",
       " 'histological_type_s',\n",
       " 'instrument_name_s',\n",
       " 'is_tumor_s',\n",
       " 'lane_s',\n",
       " 'library_type_s',\n",
       " 'molecular_data_type_s',\n",
       " 'product_order_s',\n",
       " 'product_part_number_s',\n",
       " 'sex_s',\n",
       " 'submitted_subject_id_s',\n",
       " 'work_request_s',\n",
       " 'BioProject_s',\n",
       " 'Consent_s',\n",
       " 'Organism_s',\n",
       " 'Platform_s',\n",
       " 'SRA_Study_s',\n",
       " 'biospecimen_repository_s',\n",
       " 'gap_accession_s',\n",
       " 'study_design_s',\n",
       " 'study_name_s']"
      ]
     },
     "execution_count": 6,
     "metadata": {},
     "output_type": "execute_result"
    }
   ],
   "source": [
    "md.columns.tolist()"
   ]
  },
  {
   "cell_type": "code",
   "execution_count": 7,
   "metadata": {},
   "outputs": [
    {
     "data": {
      "text/plain": [
       "RNA-Seq    9777\n",
       "WGS         650\n",
       "WXS         609\n",
       "Name: Assay_Type_s, dtype: int64"
      ]
     },
     "execution_count": 7,
     "metadata": {},
     "output_type": "execute_result"
    }
   ],
   "source": [
    "# Assay types\n",
    "md.Assay_Type_s.value_counts()"
   ]
  },
  {
   "cell_type": "code",
   "execution_count": 8,
   "metadata": {},
   "outputs": [],
   "source": [
    "md_rna = md[md.Assay_Type_s == 'RNA-Seq']"
   ]
  },
  {
   "cell_type": "code",
   "execution_count": 9,
   "metadata": {},
   "outputs": [],
   "source": [
    "# Tissues"
   ]
  },
  {
   "cell_type": "code",
   "execution_count": 10,
   "metadata": {},
   "outputs": [
    {
     "data": {
      "text/plain": [
       "Muscle - Skeletal                            477\n",
       "Whole Blood                                  455\n",
       "Skin - Sun Exposed (Lower leg)               401\n",
       "Adipose - Subcutaneous                       385\n",
       "Lung                                         380\n",
       "Thyroid                                      367\n",
       "Artery - Tibial                              362\n",
       "Esophagus - Mucosa                           339\n",
       "Nerve - Tibial                               334\n",
       "Cells - Transformed fibroblasts              305\n",
       "Esophagus - Muscularis                       290\n",
       "Heart - Left Ventricle                       274\n",
       "Skin - Not Sun Exposed (Suprapubic)          273\n",
       "Artery - Aorta                               249\n",
       "Adipose - Visceral (Omentum)                 235\n",
       "Breast - Mammary Tissue                      222\n",
       "Heart - Atrial Appendage                     219\n",
       "Stomach                                      210\n",
       "Colon - Transverse                           210\n",
       "Testis                                       208\n",
       "Pancreas                                     202\n",
       "Esophagus - Gastroesophageal Junction        177\n",
       "Colon - Sigmoid                              175\n",
       "Adrenal Gland                                161\n",
       "Brain - Cerebellum                           147\n",
       "Liver                                        142\n",
       "Artery - Coronary                            141\n",
       "Cells - EBV-transformed lymphocytes          138\n",
       "Brain - Caudate (basal ganglia)              135\n",
       "Brain - Cortex                               133\n",
       "Pituitary                                    127\n",
       "Brain - Nucleus accumbens (basal ganglia)    125\n",
       "Brain - Frontal Cortex (BA9)                 122\n",
       "Prostate                                     121\n",
       "Spleen                                       121\n",
       "Brain - Cerebellar Hemisphere                120\n",
       "Ovary                                        112\n",
       "Small Intestine - Terminal Ileum             106\n",
       "Brain - Putamen (basal ganglia)              105\n",
       "Brain - Hypothalamus                         104\n",
       "Brain - Hippocampus                          104\n",
       "Cells - Leukemia cell line (CML)             102\n",
       "Brain - Anterior cingulate cortex (BA24)     100\n",
       "Vagina                                        99\n",
       "Uterus                                        93\n",
       "Brain - Amygdala                              83\n",
       "Brain - Spinal cord (cervical c-1)            76\n",
       "Brain - Substantia nigra                      72\n",
       "Minor Salivary Gland                          71\n",
       "Kidney - Cortex                               38\n",
       "Bladder                                       12\n",
       "Fallopian Tube                                 7\n",
       "Cervix - Ectocervix                            6\n",
       "Cervix - Endocervix                            5\n",
       "Name: body_site_s, dtype: int64"
      ]
     },
     "execution_count": 10,
     "metadata": {},
     "output_type": "execute_result"
    }
   ],
   "source": [
    "md_rna.body_site_s.value_counts()"
   ]
  },
  {
   "cell_type": "code",
   "execution_count": 62,
   "metadata": {},
   "outputs": [
    {
     "data": {
      "text/plain": [
       "<module 'matplotlib.pyplot' from '/opt/modules/i12g/anaconda/3-5.0.1/lib/python3.6/site-packages/matplotlib/pyplot.py'>"
      ]
     },
     "execution_count": 62,
     "metadata": {},
     "output_type": "execute_result"
    }
   ],
   "source": [
    "reload(plt)"
   ]
  },
  {
   "cell_type": "code",
   "execution_count": 14,
   "metadata": {},
   "outputs": [],
   "source": [
    "import matplotlib"
   ]
  },
  {
   "cell_type": "code",
   "execution_count": 18,
   "metadata": {},
   "outputs": [
    {
     "data": {
      "text/plain": [
       "<matplotlib.axes._subplots.AxesSubplot at 0x7f4bf37f9b38>"
      ]
     },
     "execution_count": 18,
     "metadata": {},
     "output_type": "execute_result"
    },
    {
     "data": {
      "image/png": "[encoded data removed]",
      "text/plain": [
       "<Figure size 432x288 with 1 Axes>"
      ]
     },
     "metadata": {},
     "output_type": "display_data"
    }
   ],
   "source": [
    "md_rna.groupby(['submitted_subject_id_s']).size().plot.hist(50)"
   ]
  },
  {
   "cell_type": "code",
   "execution_count": 23,
   "metadata": {},
   "outputs": [
    {
     "data": {
      "text/html": [
       "<div>\n",
       "<style scoped>\n",
       "    .dataframe tbody tr th:only-of-type {\n",
       "        vertical-align: middle;\n",
       "    }\n",
       "\n",
       "    .dataframe tbody tr th {\n",
       "        vertical-align: top;\n",
       "    }\n",
       "\n",
       "    .dataframe thead th {\n",
       "        text-align: right;\n",
       "    }\n",
       "</style>\n",
       "<table border=\"1\" class=\"dataframe\">\n",
       "  <thead>\n",
       "    <tr style=\"text-align: right;\">\n",
       "      <th></th>\n",
       "      <th>submitted_subject_id_s</th>\n",
       "      <th>body_site_s</th>\n",
       "    </tr>\n",
       "  </thead>\n",
       "  <tbody>\n",
       "    <tr>\n",
       "      <th>0</th>\n",
       "      <td>GTEX-WEY5</td>\n",
       "      <td>Skin - Sun Exposed (Lower leg)</td>\n",
       "    </tr>\n",
       "    <tr>\n",
       "      <th>1</th>\n",
       "      <td>GTEX-SUCS</td>\n",
       "      <td>Testis</td>\n",
       "    </tr>\n",
       "    <tr>\n",
       "      <th>2</th>\n",
       "      <td>GTEX-SUCS</td>\n",
       "      <td>Thyroid</td>\n",
       "    </tr>\n",
       "    <tr>\n",
       "      <th>4</th>\n",
       "      <td>GTEX-WFG8</td>\n",
       "      <td>Stomach</td>\n",
       "    </tr>\n",
       "    <tr>\n",
       "      <th>5</th>\n",
       "      <td>GTEX-WFG8</td>\n",
       "      <td>Esophagus - Mucosa</td>\n",
       "    </tr>\n",
       "  </tbody>\n",
       "</table>\n",
       "</div>"
      ],
      "text/plain": [
       "  submitted_subject_id_s                     body_site_s\n",
       "0              GTEX-WEY5  Skin - Sun Exposed (Lower leg)\n",
       "1              GTEX-SUCS                          Testis\n",
       "2              GTEX-SUCS                         Thyroid\n",
       "4              GTEX-WFG8                         Stomach\n",
       "5              GTEX-WFG8              Esophagus - Mucosa"
      ]
     },
     "execution_count": 23,
     "metadata": {},
     "output_type": "execute_result"
    }
   ],
   "source": [
    "md_rna_subset = md_rna[['submitted_subject_id_s', 'body_site_s']].drop_duplicates()\n",
    "md_rna_subset.head()"
   ]
  },
  {
   "cell_type": "code",
   "execution_count": 35,
   "metadata": {},
   "outputs": [
    {
     "data": {
      "text/plain": [
       "<matplotlib.axes._subplots.AxesSubplot at 0x7f4bf3276128>"
      ]
     },
     "execution_count": 35,
     "metadata": {},
     "output_type": "execute_result"
    },
    {
     "data": {
      "image/png": "[encoded data removed]",
      "text/plain": [
       "<Figure size 432x288 with 1 Axes>"
      ]
     },
     "metadata": {},
     "output_type": "display_data"
    }
   ],
   "source": [
    "md_rna_subset.groupby(['submitted_subject_id_s']).size().plot.hist(35)"
   ]
  },
  {
   "cell_type": "code",
   "execution_count": 29,
   "metadata": {},
   "outputs": [],
   "source": [
    "# Total number of points"
   ]
  },
  {
   "cell_type": "code",
   "execution_count": 26,
   "metadata": {},
   "outputs": [],
   "source": [
    "from scipy.misc import comb "
   ]
  },
  {
   "cell_type": "code",
   "execution_count": 33,
   "metadata": {},
   "outputs": [
    {
     "name": "stderr",
     "output_type": "stream",
     "text": [
      "/opt/modules/i12g/anaconda/3-5.0.1/lib/python3.6/site-packages/ipykernel/__main__.py:1: DeprecationWarning: `comb` is deprecated!\n",
      "Importing `comb` from scipy.misc is deprecated in scipy 1.0.0. Use `scipy.special.comb` instead.\n",
      "  if __name__ == '__main__':\n"
     ]
    },
    {
     "data": {
      "text/plain": [
       "86082"
      ]
     },
     "execution_count": 33,
     "metadata": {},
     "output_type": "execute_result"
    }
   ],
   "source": [
    "md_rna_subset.groupby(['submitted_subject_id_s']).size().apply(lambda x: comb(x, 2)).sum().astype(int)"
   ]
  },
  {
   "cell_type": "code",
   "execution_count": 25,
   "metadata": {},
   "outputs": [
    {
     "data": {
      "text/plain": [
       "Assay_Type_s                                                    RNA-Seq\n",
       "AssemblyName_s                                                      NaN\n",
       "AvgSpotLen_l                                                        101\n",
       "BioSample_s                                                SAMN03878238\n",
       "Center_Name_s                                       THE BROAD INSTITUTE\n",
       "Experiment_s                                                 SRX1124996\n",
       "InsertSize_l                                                          0\n",
       "Instrument_s                                             Illumina MiSeq\n",
       "LibraryLayout_s                                                  PAIRED\n",
       "LibrarySelection_s                                                  PCR\n",
       "LibrarySource_s                                          TRANSCRIPTOMIC\n",
       "Library_Name_s                                                      NaN\n",
       "LoadDate_s                                                   2015-09-11\n",
       "MBases_l                                                             91\n",
       "MBytes_l                                                             47\n",
       "ReleaseDate_s                                                2015-10-06\n",
       "Run_s                                                        SRR2135286\n",
       "SRA_Sample_s                                                 SRS1017133\n",
       "Sample_Name_s                              GTEX-WEY5-1826-SM-5CHRT_rep2\n",
       "analyte_type_s                                            RNA:Total RNA\n",
       "biospecimen_repository_sample_id_s         GTEX-WEY5-1826-SM-5CHRT_rep2\n",
       "body_site_s                              Skin - Sun Exposed (Lower leg)\n",
       "data_type_s                                                         NaN\n",
       "histological_type_s                                                Skin\n",
       "instrument_name_s                                                   NaN\n",
       "is_tumor_s                                                           No\n",
       "lane_s                                                              NaN\n",
       "library_type_s                                                      NaN\n",
       "molecular_data_type_s                                     RNA Seq (NGS)\n",
       "product_order_s                                                     NaN\n",
       "product_part_number_s                                               NaN\n",
       "sex_s                                                            female\n",
       "submitted_subject_id_s                                        GTEX-WEY5\n",
       "work_request_s                                                      NaN\n",
       "BioProject_s                                                 PRJNA75899\n",
       "Consent_s                                                           GRU\n",
       "Organism_s                                                 Homo sapiens\n",
       "Platform_s                                                     ILLUMINA\n",
       "SRA_Study_s                                                   SRP012682\n",
       "biospecimen_repository_s                                           GTEx\n",
       "gap_accession_s                                               phs000424\n",
       "study_design_s                                          Cross-Sectional\n",
       "study_name_s                          Genotype-Tissue Expression (GTEx)\n",
       "Name: 0, dtype: object"
      ]
     },
     "execution_count": 25,
     "metadata": {},
     "output_type": "execute_result"
    }
   ],
   "source": [
    "md.iloc[0]"
   ]
  },
  {
   "cell_type": "code",
   "execution_count": 23,
   "metadata": {},
   "outputs": [
    {
     "data": {
      "text/html": [
       "<div>\n",
       "<style scoped>\n",
       "    .dataframe tbody tr th:only-of-type {\n",
       "        vertical-align: middle;\n",
       "    }\n",
       "\n",
       "    .dataframe tbody tr th {\n",
       "        vertical-align: top;\n",
       "    }\n",
       "\n",
       "    .dataframe thead th {\n",
       "        text-align: right;\n",
       "    }\n",
       "</style>\n",
       "<table border=\"1\" class=\"dataframe\">\n",
       "  <thead>\n",
       "    <tr style=\"text-align: right;\">\n",
       "      <th></th>\n",
       "      <th>Assay_Type_s</th>\n",
       "      <th>AssemblyName_s</th>\n",
       "      <th>AvgSpotLen_l</th>\n",
       "      <th>BioSample_s</th>\n",
       "      <th>Center_Name_s</th>\n",
       "      <th>Experiment_s</th>\n",
       "      <th>InsertSize_l</th>\n",
       "      <th>Instrument_s</th>\n",
       "      <th>LibraryLayout_s</th>\n",
       "      <th>LibrarySelection_s</th>\n",
       "      <th>...</th>\n",
       "      <th>work_request_s</th>\n",
       "      <th>BioProject_s</th>\n",
       "      <th>Consent_s</th>\n",
       "      <th>Organism_s</th>\n",
       "      <th>Platform_s</th>\n",
       "      <th>SRA_Study_s</th>\n",
       "      <th>biospecimen_repository_s</th>\n",
       "      <th>gap_accession_s</th>\n",
       "      <th>study_design_s</th>\n",
       "      <th>study_name_s</th>\n",
       "    </tr>\n",
       "  </thead>\n",
       "  <tbody>\n",
       "    <tr>\n",
       "      <th>0</th>\n",
       "      <td>RNA-Seq</td>\n",
       "      <td>NaN</td>\n",
       "      <td>101</td>\n",
       "      <td>SAMN03878238</td>\n",
       "      <td>THE BROAD INSTITUTE</td>\n",
       "      <td>SRX1124996</td>\n",
       "      <td>0</td>\n",
       "      <td>Illumina MiSeq</td>\n",
       "      <td>PAIRED</td>\n",
       "      <td>PCR</td>\n",
       "      <td>...</td>\n",
       "      <td>NaN</td>\n",
       "      <td>PRJNA75899</td>\n",
       "      <td>GRU</td>\n",
       "      <td>Homo sapiens</td>\n",
       "      <td>ILLUMINA</td>\n",
       "      <td>SRP012682</td>\n",
       "      <td>GTEx</td>\n",
       "      <td>phs000424</td>\n",
       "      <td>Cross-Sectional</td>\n",
       "      <td>Genotype-Tissue Expression (GTEx)</td>\n",
       "    </tr>\n",
       "    <tr>\n",
       "      <th>1</th>\n",
       "      <td>RNA-Seq</td>\n",
       "      <td>NaN</td>\n",
       "      <td>121</td>\n",
       "      <td>SAMN03877803</td>\n",
       "      <td>THE BROAD INSTITUTE</td>\n",
       "      <td>SRX1124995</td>\n",
       "      <td>0</td>\n",
       "      <td>Illumina MiSeq</td>\n",
       "      <td>PAIRED</td>\n",
       "      <td>PCR</td>\n",
       "      <td>...</td>\n",
       "      <td>NaN</td>\n",
       "      <td>PRJNA75899</td>\n",
       "      <td>GRU</td>\n",
       "      <td>Homo sapiens</td>\n",
       "      <td>ILLUMINA</td>\n",
       "      <td>SRP012682</td>\n",
       "      <td>GTEx</td>\n",
       "      <td>phs000424</td>\n",
       "      <td>Cross-Sectional</td>\n",
       "      <td>Genotype-Tissue Expression (GTEx)</td>\n",
       "    </tr>\n",
       "    <tr>\n",
       "      <th>2</th>\n",
       "      <td>RNA-Seq</td>\n",
       "      <td>NaN</td>\n",
       "      <td>103</td>\n",
       "      <td>SAMN03877676</td>\n",
       "      <td>THE BROAD INSTITUTE</td>\n",
       "      <td>SRX1124994</td>\n",
       "      <td>0</td>\n",
       "      <td>Illumina MiSeq</td>\n",
       "      <td>PAIRED</td>\n",
       "      <td>PCR</td>\n",
       "      <td>...</td>\n",
       "      <td>NaN</td>\n",
       "      <td>PRJNA75899</td>\n",
       "      <td>GRU</td>\n",
       "      <td>Homo sapiens</td>\n",
       "      <td>ILLUMINA</td>\n",
       "      <td>SRP012682</td>\n",
       "      <td>GTEx</td>\n",
       "      <td>phs000424</td>\n",
       "      <td>Cross-Sectional</td>\n",
       "      <td>Genotype-Tissue Expression (GTEx)</td>\n",
       "    </tr>\n",
       "    <tr>\n",
       "      <th>3</th>\n",
       "      <td>RNA-Seq</td>\n",
       "      <td>NaN</td>\n",
       "      <td>119</td>\n",
       "      <td>SAMN03877663</td>\n",
       "      <td>THE BROAD INSTITUTE</td>\n",
       "      <td>SRX1124993</td>\n",
       "      <td>0</td>\n",
       "      <td>Illumina MiSeq</td>\n",
       "      <td>PAIRED</td>\n",
       "      <td>PCR</td>\n",
       "      <td>...</td>\n",
       "      <td>NaN</td>\n",
       "      <td>PRJNA75899</td>\n",
       "      <td>GRU</td>\n",
       "      <td>Homo sapiens</td>\n",
       "      <td>ILLUMINA</td>\n",
       "      <td>SRP012682</td>\n",
       "      <td>GTEx</td>\n",
       "      <td>phs000424</td>\n",
       "      <td>Cross-Sectional</td>\n",
       "      <td>Genotype-Tissue Expression (GTEx)</td>\n",
       "    </tr>\n",
       "    <tr>\n",
       "      <th>4</th>\n",
       "      <td>RNA-Seq</td>\n",
       "      <td>NaN</td>\n",
       "      <td>117</td>\n",
       "      <td>SAMN03878267</td>\n",
       "      <td>THE BROAD INSTITUTE</td>\n",
       "      <td>SRX1125005</td>\n",
       "      <td>0</td>\n",
       "      <td>Illumina MiSeq</td>\n",
       "      <td>PAIRED</td>\n",
       "      <td>PCR</td>\n",
       "      <td>...</td>\n",
       "      <td>NaN</td>\n",
       "      <td>PRJNA75899</td>\n",
       "      <td>GRU</td>\n",
       "      <td>Homo sapiens</td>\n",
       "      <td>ILLUMINA</td>\n",
       "      <td>SRP012682</td>\n",
       "      <td>GTEx</td>\n",
       "      <td>phs000424</td>\n",
       "      <td>Cross-Sectional</td>\n",
       "      <td>Genotype-Tissue Expression (GTEx)</td>\n",
       "    </tr>\n",
       "  </tbody>\n",
       "</table>\n",
       "<p>5 rows × 43 columns</p>\n",
       "</div>"
      ],
      "text/plain": [
       "  Assay_Type_s AssemblyName_s  AvgSpotLen_l   BioSample_s  \\\n",
       "0      RNA-Seq            NaN           101  SAMN03878238   \n",
       "1      RNA-Seq            NaN           121  SAMN03877803   \n",
       "2      RNA-Seq            NaN           103  SAMN03877676   \n",
       "3      RNA-Seq            NaN           119  SAMN03877663   \n",
       "4      RNA-Seq            NaN           117  SAMN03878267   \n",
       "\n",
       "         Center_Name_s Experiment_s  InsertSize_l    Instrument_s  \\\n",
       "0  THE BROAD INSTITUTE   SRX1124996             0  Illumina MiSeq   \n",
       "1  THE BROAD INSTITUTE   SRX1124995             0  Illumina MiSeq   \n",
       "2  THE BROAD INSTITUTE   SRX1124994             0  Illumina MiSeq   \n",
       "3  THE BROAD INSTITUTE   SRX1124993             0  Illumina MiSeq   \n",
       "4  THE BROAD INSTITUTE   SRX1125005             0  Illumina MiSeq   \n",
       "\n",
       "  LibraryLayout_s LibrarySelection_s                ...                  \\\n",
       "0          PAIRED                PCR                ...                   \n",
       "1          PAIRED                PCR                ...                   \n",
       "2          PAIRED                PCR                ...                   \n",
       "3          PAIRED                PCR                ...                   \n",
       "4          PAIRED                PCR                ...                   \n",
       "\n",
       "  work_request_s BioProject_s Consent_s    Organism_s  Platform_s SRA_Study_s  \\\n",
       "0            NaN   PRJNA75899       GRU  Homo sapiens    ILLUMINA   SRP012682   \n",
       "1            NaN   PRJNA75899       GRU  Homo sapiens    ILLUMINA   SRP012682   \n",
       "2            NaN   PRJNA75899       GRU  Homo sapiens    ILLUMINA   SRP012682   \n",
       "3            NaN   PRJNA75899       GRU  Homo sapiens    ILLUMINA   SRP012682   \n",
       "4            NaN   PRJNA75899       GRU  Homo sapiens    ILLUMINA   SRP012682   \n",
       "\n",
       "  biospecimen_repository_s gap_accession_s   study_design_s  \\\n",
       "0                     GTEx       phs000424  Cross-Sectional   \n",
       "1                     GTEx       phs000424  Cross-Sectional   \n",
       "2                     GTEx       phs000424  Cross-Sectional   \n",
       "3                     GTEx       phs000424  Cross-Sectional   \n",
       "4                     GTEx       phs000424  Cross-Sectional   \n",
       "\n",
       "                        study_name_s  \n",
       "0  Genotype-Tissue Expression (GTEx)  \n",
       "1  Genotype-Tissue Expression (GTEx)  \n",
       "2  Genotype-Tissue Expression (GTEx)  \n",
       "3  Genotype-Tissue Expression (GTEx)  \n",
       "4  Genotype-Tissue Expression (GTEx)  \n",
       "\n",
       "[5 rows x 43 columns]"
      ]
     },
     "execution_count": 23,
     "metadata": {},
     "output_type": "execute_result"
    }
   ],
   "source": [
    "md.head()"
   ]
  }
 ],
 "metadata": {
  "kernelspec": {
   "display_name": "Python [default]",
   "language": "python",
   "name": "python3"
  },
  "language_info": {
   "codemirror_mode": {
    "name": "ipython",
    "version": 3
   },
   "file_extension": ".py",
   "mimetype": "text/x-python",
   "name": "python",
   "nbconvert_exporter": "python",
   "pygments_lexer": "ipython3",
   "version": "3.6.3"
  }
 },
 "nbformat": 4,
 "nbformat_minor": 2
}
