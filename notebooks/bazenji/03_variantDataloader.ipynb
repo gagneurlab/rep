{
 "cells": [
  {
   "cell_type": "raw",
   "metadata": {},
   "source": [
    "Purpose: Plan of whole pipeline from Ref-genome/vcf-file/TSS-file/"
   ]
  },
  {
   "cell_type": "raw",
   "metadata": {},
   "source": [
    "\n",
    "\n",
    "Classes: \n",
    "    [later: PipelineConfigurator: takes Gene-IDs  and sample-IDs from user, writes into output file\n",
    "            Calls all others, needs therefor all files. Makes sure that Intervall-Translator and model are compatible\n",
    "    ]\n",
    "    IntervalTranslator: takes TSS-file and gene-IDs, batch-size (#persons in one iteration) and creates intervals for MutatedSeqProvider according to \"mode\" like \"only around TSS\"\n",
    "    SequenceMutator: gets lists of intervalls and list of samples, returns mutated sequences. Special case \"ref\" for reference\n",
    "        Works on per-person-basis\n",
    "        \n",
    "    ResultWriter: puts results in Xarray with dimensions Gene/Sample/Outputvalues, stores it to disk\n",
    "    \n",
    "    \n",
    "   RefGenome in fasta: https://raw.githubusercontent.com/kipoi/kipoiseq/master/tests/data/hg38_chr22_32000000_32300000.fa\n",
    "   \n",
    "   intervalls-example: https://raw.githubusercontent.com/kipoi/kipoiseq/master/tests/data/intervals_51bp.tsv\n",
    "   CAGE TSS `/s/project/avsec/ExPecto/resources/geneanno.csv` -> convert to .bed\n",
    "\n",
    "   \n",
    "   GTEx-vcf from /s/project/gtex-processed/vcf/GTEx_Analysis_20150112_WholeGenomeSeq_148Indiv_GATK_HaplotypeCaller.vcf.gz\n",
    "  \n",
    "    "
   ]
  },
  {
   "cell_type": "code",
   "execution_count": null,
   "metadata": {},
   "outputs": [],
   "source": [
    "class IntervalCreator(object):\n",
    "    \"\"\"Converts the  file with CAGE-TSS to a .bed interval file\"\"\"\n",
    "    def __init__(tssFile, outFile):\n",
    "    def convertToBed(distUpstream,distDownstream):\n",
    "        "
   ]
  },
  {
   "cell_type": "code",
   "execution_count": 1,
   "metadata": {},
   "outputs": [
    {
     "name": "stdout",
     "output_type": "stream",
     "text": [
      "Requirement already satisfied: kipoiseq in /data/nasif12/modules_if12/SL7/i12g/anaconda/3-5.0.1/lib/python3.6/site-packages (0.2.2)\n",
      "Requirement already satisfied: tqdm in /data/nasif12/modules_if12/SL7/i12g/anaconda/3-5.0.1/lib/python3.6/site-packages (from kipoiseq) (4.28.1)\n",
      "Requirement already satisfied: pybedtools in /data/nasif12/modules_if12/SL7/i12g/anaconda/3-5.0.1/lib/python3.6/site-packages (from kipoiseq) (0.7.10)\n",
      "Requirement already satisfied: pyfaidx in /data/nasif12/modules_if12/SL7/i12g/anaconda/3-5.0.1/lib/python3.6/site-packages (from kipoiseq) (0.5.4.2)\n",
      "Requirement already satisfied: h5py in /data/nasif12/modules_if12/SL7/i12g/anaconda/3-5.0.1/lib/python3.6/site-packages (from kipoiseq) (2.8.0)\n",
      "Requirement already satisfied: kipoi>=0.5.5 in /data/nasif12/modules_if12/SL7/i12g/anaconda/3-5.0.1/lib/python3.6/site-packages (from kipoiseq) (0.6.5)\n",
      "Requirement already satisfied: colorlog in /data/nasif12/modules_if12/SL7/i12g/anaconda/3-5.0.1/lib/python3.6/site-packages (from kipoiseq) (3.1.4)\n",
      "Requirement already satisfied: related>=0.6.0 in /data/nasif12/modules_if12/SL7/i12g/anaconda/3-5.0.1/lib/python3.6/site-packages (from kipoiseq) (0.7.1)\n",
      "Requirement already satisfied: pandas in /data/nasif12/modules_if12/SL7/i12g/anaconda/3-5.0.1/lib/python3.6/site-packages (from kipoiseq) (0.23.4)\n",
      "Requirement already satisfied: gffutils in /data/nasif12/modules_if12/SL7/i12g/anaconda/3-5.0.1/lib/python3.6/site-packages/gffutils-0.9-py3.6.egg (from kipoiseq) (0.9)\n",
      "Requirement already satisfied: numpy in /data/nasif12/modules_if12/SL7/i12g/anaconda/3-5.0.1/lib/python3.6/site-packages (from kipoiseq) (1.16.0)\n",
      "Requirement already satisfied: six in /data/nasif12/modules_if12/SL7/i12g/anaconda/3-5.0.1/lib/python3.6/site-packages (from pybedtools->kipoiseq) (1.12.0)\n",
      "Requirement already satisfied: setuptools>=0.7 in /data/nasif12/modules_if12/SL7/i12g/anaconda/3-5.0.1/lib/python3.6/site-packages (from pyfaidx->kipoiseq) (39.1.0)\n",
      "Requirement already satisfied: future in /data/nasif12/modules_if12/SL7/i12g/anaconda/3-5.0.1/lib/python3.6/site-packages (from kipoi>=0.5.5->kipoiseq) (0.17.1)\n",
      "Requirement already satisfied: enum34 in /data/nasif12/modules_if12/SL7/i12g/anaconda/3-5.0.1/lib/python3.6/site-packages (from kipoi>=0.5.5->kipoiseq) (1.1.6)\n",
      "Requirement already satisfied: tinydb in /data/nasif12/modules_if12/SL7/i12g/anaconda/3-5.0.1/lib/python3.6/site-packages (from kipoi>=0.5.5->kipoiseq) (3.12.1)\n",
      "Requirement already satisfied: urllib3<1.23,>=1.21.1 in /data/nasif12/modules_if12/SL7/i12g/anaconda/3-5.0.1/lib/python3.6/site-packages (from kipoi>=0.5.5->kipoiseq) (1.22)\n",
      "Requirement already satisfied: pyyaml in /data/nasif12/modules_if12/SL7/i12g/anaconda/3-5.0.1/lib/python3.6/site-packages (from kipoi>=0.5.5->kipoiseq) (3.13)\n",
      "Requirement already satisfied: jinja2 in /data/nasif12/modules_if12/SL7/i12g/anaconda/3-5.0.1/lib/python3.6/site-packages (from kipoi>=0.5.5->kipoiseq) (2.10)\n",
      "Requirement already satisfied: cookiecutter in /data/nasif12/modules_if12/SL7/i12g/anaconda/3-5.0.1/lib/python3.6/site-packages (from kipoi>=0.5.5->kipoiseq) (1.6.0)\n",
      "Requirement already satisfied: attrs in /data/nasif12/modules_if12/SL7/i12g/anaconda/3-5.0.1/lib/python3.6/site-packages (from related>=0.6.0->kipoiseq) (18.2.0)\n",
      "Requirement already satisfied: python-dateutil in /data/nasif12/modules_if12/SL7/i12g/anaconda/3-5.0.1/lib/python3.6/site-packages (from related>=0.6.0->kipoiseq) (2.7.5)\n",
      "Requirement already satisfied: pytz>=2011k in /data/nasif12/modules_if12/SL7/i12g/anaconda/3-5.0.1/lib/python3.6/site-packages (from pandas->kipoiseq) (2018.6)\n",
      "Requirement already satisfied: argh in /data/nasif12/modules_if12/SL7/i12g/anaconda/3-5.0.1/lib/python3.6/site-packages/argh-0.26.2-py3.6.egg (from gffutils->kipoiseq) (0.26.2)\n",
      "Requirement already satisfied: argcomplete in /data/nasif12/modules_if12/SL7/i12g/anaconda/3-5.0.1/lib/python3.6/site-packages/argcomplete-1.9.4-py3.6.egg (from gffutils->kipoiseq) (1.9.4)\n",
      "Requirement already satisfied: simplejson in /data/nasif12/modules_if12/SL7/i12g/anaconda/3-5.0.1/lib/python3.6/site-packages (from gffutils->kipoiseq) (3.15.0)\n",
      "Requirement already satisfied: MarkupSafe>=0.23 in /data/nasif12/modules_if12/SL7/i12g/anaconda/3-5.0.1/lib/python3.6/site-packages (from jinja2->kipoi>=0.5.5->kipoiseq) (1.0)\n",
      "Requirement already satisfied: requests>=2.18.0 in /data/nasif12/modules_if12/SL7/i12g/anaconda/3-5.0.1/lib/python3.6/site-packages (from cookiecutter->kipoi>=0.5.5->kipoiseq) (2.20.0)\n",
      "Requirement already satisfied: jinja2-time>=0.1.0 in /data/nasif12/modules_if12/SL7/i12g/anaconda/3-5.0.1/lib/python3.6/site-packages (from cookiecutter->kipoi>=0.5.5->kipoiseq) (0.2.0)\n",
      "Requirement already satisfied: whichcraft>=0.4.0 in /data/nasif12/modules_if12/SL7/i12g/anaconda/3-5.0.1/lib/python3.6/site-packages (from cookiecutter->kipoi>=0.5.5->kipoiseq) (0.5.2)\n",
      "Requirement already satisfied: click>=5.0 in /data/nasif12/modules_if12/SL7/i12g/anaconda/3-5.0.1/lib/python3.6/site-packages (from cookiecutter->kipoi>=0.5.5->kipoiseq) (7.0)\n",
      "Requirement already satisfied: binaryornot>=0.2.0 in /data/nasif12/modules_if12/SL7/i12g/anaconda/3-5.0.1/lib/python3.6/site-packages (from cookiecutter->kipoi>=0.5.5->kipoiseq) (0.4.4)\n",
      "Requirement already satisfied: poyo>=0.1.0 in /data/nasif12/modules_if12/SL7/i12g/anaconda/3-5.0.1/lib/python3.6/site-packages (from cookiecutter->kipoi>=0.5.5->kipoiseq) (0.4.2)\n",
      "Requirement already satisfied: idna<2.8,>=2.5 in /data/nasif12/modules_if12/SL7/i12g/anaconda/3-5.0.1/lib/python3.6/site-packages (from requests>=2.18.0->cookiecutter->kipoi>=0.5.5->kipoiseq) (2.7)\n",
      "Requirement already satisfied: chardet<3.1.0,>=3.0.2 in /data/nasif12/modules_if12/SL7/i12g/anaconda/3-5.0.1/lib/python3.6/site-packages (from requests>=2.18.0->cookiecutter->kipoi>=0.5.5->kipoiseq) (3.0.4)\n",
      "Requirement already satisfied: certifi>=2017.4.17 in /data/nasif12/modules_if12/SL7/i12g/anaconda/3-5.0.1/lib/python3.6/site-packages (from requests>=2.18.0->cookiecutter->kipoi>=0.5.5->kipoiseq) (2018.11.29)\n",
      "Requirement already satisfied: arrow in /data/nasif12/modules_if12/SL7/i12g/anaconda/3-5.0.1/lib/python3.6/site-packages (from jinja2-time>=0.1.0->cookiecutter->kipoi>=0.5.5->kipoiseq) (0.12.1)\n",
      "\u001b[33mYou are using pip version 19.0.1, however version 19.0.2 is available.\n",
      "You should consider upgrading via the 'pip install --upgrade pip' command.\u001b[0m\n"
     ]
    }
   ],
   "source": [
    "!pip install kipoiseq"
   ]
  },
  {
   "cell_type": "code",
   "execution_count": 1,
   "metadata": {},
   "outputs": [],
   "source": [
    "#numpy troubles: in terminal, in RIGHT env: conda install numpy==1.15\n",
    "import numpy"
   ]
  },
  {
   "cell_type": "code",
   "execution_count": 2,
   "metadata": {},
   "outputs": [
    {
     "name": "stderr",
     "output_type": "stream",
     "text": [
      "/opt/modules/i12g/anaconda/3-5.0.1/envs/rep/lib/python3.6/importlib/_bootstrap.py:219: RuntimeWarning: numpy.dtype size changed, may indicate binary incompatibility. Expected 96, got 88\n",
      "  return f(*args, **kwds)\n",
      "/opt/modules/i12g/anaconda/3-5.0.1/envs/rep/lib/python3.6/importlib/_bootstrap.py:219: RuntimeWarning: numpy.dtype size changed, may indicate binary incompatibility. Expected 96, got 88\n",
      "  return f(*args, **kwds)\n"
     ]
    }
   ],
   "source": [
    "from kipoiseq.dataloaders import SeqIntervalDl\n",
    "\n",
    "class VariantTransformer(object):\n",
    "    \"\"\"Includes the required variants into an reference-genome DNA-sequence\"\"\"\n",
    "    def __init__(self,vcfFile): \n",
    "    def __call__(seq,genomePosi,sample-idx):\n",
    "\n",
    "class VariantDataloader(SeqIntervalDl):\n",
    "    \n",
    "    \n",
    "#adapted from super class (kipoiseq)\n",
    "    def __init__(self,\n",
    "                    intervals_file,\n",
    "                    fasta_file,\n",
    "                    vcfFile):\n",
    "        super().__init__(intervals_file,fasta_file)\n",
    "        self.var_transform=VariantTransformer(vcfFile)\n",
    "        \n",
    "    def __len__(self):\n",
    "        return len(self.seq_dl)*len(self.var_transform)\n",
    "\n",
    "    def __getitem__(self, idx):\n",
    "        idInterval=idx/len(self.var_transform)\n",
    "        idSample=idx%len(self.var_transform)\n",
    "        ret = self.seq_dl[idInterval]\n",
    "        \n",
    "        ret['inputs'] = self.var_transform(str(ret[\"inputs\"]),ret[\"metadata\"],idSample)\n",
    "        ret['inputs'] = self.input_transform(str(ret[\"inputs\"]))\n",
    "        return ret"
   ]
  }
 ],
 "metadata": {
  "kernelspec": {
   "display_name": "Python [conda env:rep]",
   "language": "python",
   "name": "conda-env-rep-py"
  },
  "language_info": {
   "codemirror_mode": {
    "name": "ipython",
    "version": 3
   },
   "file_extension": ".py",
   "mimetype": "text/x-python",
   "name": "python",
   "nbconvert_exporter": "python",
   "pygments_lexer": "ipython3",
   "version": "3.6.8"
  }
 },
 "nbformat": 4,
 "nbformat_minor": 2
}
