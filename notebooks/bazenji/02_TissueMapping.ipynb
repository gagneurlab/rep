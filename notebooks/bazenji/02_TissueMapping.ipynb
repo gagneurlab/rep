{
 "cells": [
  {
   "cell_type": "markdown",
   "metadata": {},
   "source": [
    "Purpose:\n",
    "Map Basenji-tissues to GTEX-Tissues\n",
    "\n",
    "Basenji:\n",
    "https://storage.googleapis.com/131k/sample_wigs.txt\n",
    "look for all \"CAGE\" entries -> These are expression values\n",
    "what is donor1,2,3? Seems like exactly that: the individual donors for the FANTOM5-project.\n",
    "Also, a donor might have several donations for each tissue...\n",
    "->does Basenji actually predict for all these outputs? Where is the sense in that, apart from validation within the Fantom5-data?\n",
    "For mapping, the ID (first col) is unusable. Different ID for same tissue if different patient, no pattern IMO\n",
    "\n",
    "\n",
    "GTEX:\n",
    "?"
   ]
  },
  {
   "cell_type": "code",
   "execution_count": 9,
   "metadata": {},
   "outputs": [
    {
     "name": "stdout",
     "output_type": "stream",
     "text": [
      "--2019-01-20 01:21:53--  https://storage.googleapis.com/131k/sample_wigs.txt\n",
      "Resolving storage.googleapis.com (storage.googleapis.com)... 172.217.18.176, 2a00:1450:4001:806::2010\n",
      "Connecting to storage.googleapis.com (storage.googleapis.com)|172.217.18.176|:443... connected.\n",
      "HTTP request sent, awaiting response... 200 OK\n",
      "Length: 470211 (459K) [text/plain]\n",
      "Saving to: ‘sample_wigs.txt.1’\n",
      "\n",
      "100%[======================================>] 470,211     --.-K/s   in 0.04s   \n",
      "\n",
      "2019-01-20 01:21:53 (10.1 MB/s) - ‘sample_wigs.txt.1’ saved [470211/470211]\n",
      "\n"
     ]
    }
   ],
   "source": [
    "#!mkdir REP\n",
    "#!mkdir REP/tissueMapping\n",
    "!cd REP/tissueMapping/\n",
    "!wget https://storage.googleapis.com/131k/sample_wigs.txt\n",
    "!mv sample_wigs.txt basenjiOutput.txt"
   ]
  },
  {
   "cell_type": "code",
   "execution_count": 11,
   "metadata": {},
   "outputs": [
    {
     "name": "stdout",
     "output_type": "stream",
     "text": [
      "973\n"
     ]
    }
   ],
   "source": [
    "! grep \"CAGE\" basenjiOutput.txt  |wc -l\n",
    "# not so little..."
   ]
  },
  {
   "cell_type": "code",
   "execution_count": 13,
   "metadata": {},
   "outputs": [
    {
     "name": "stdout",
     "output_type": "stream",
     "text": [
      "CNhs10846\t../../data/human/cage/fantom/coverage/CNhs10846.bw\tCAGE:Mesenchymal Stem Cells - Vertebral, donor1\n",
      "CNhs14079\t../../data/human/cage/fantom/coverage/CNhs14079.bw\tCAGE:medulla oblongata, newborn, donor10223\n",
      "CNhs10750\t../../data/human/cage/fantom/coverage/CNhs10750.bw\tCAGE:bile duct carcinoma cell line:HuCCT1\n",
      "CNhs13816\t../../data/human/cage/fantom/coverage/CNhs13816.bw\tCAGE:Olfactory epithelial cells, donor1\n",
      "CNhs13817\t../../data/human/cage/fantom/coverage/CNhs13817.bw\tCAGE:Olfactory epithelial cells, donor2\n",
      "CNhs13818\t../../data/human/cage/fantom/coverage/CNhs13818.bw\tCAGE:Olfactory epithelial cells, donor3\n",
      "CNhs13819\t../../data/human/cage/fantom/coverage/CNhs13819.bw\tCAGE:Olfactory epithelial cells, donor4\n",
      "CNhs11250\t../../data/human/cage/fantom/coverage/CNhs11250.bw\tCAGE:chronic myelogenous leukemia cell line:K562\n",
      "CNhs10843\t../../data/human/cage/fantom/coverage/CNhs10843.bw\tCAGE:Urothelial cells, donor0\n",
      "CNhs12844\t../../data/human/cage/fantom/coverage/CNhs12844.bw\tCAGE:vein, adult\n"
     ]
    }
   ],
   "source": [
    "#Lets see how the CAGE-entries look:\n",
    "! grep \"CAGE\" basenjiOutput.txt |tail"
   ]
  },
  {
   "cell_type": "code",
   "execution_count": null,
   "metadata": {},
   "outputs": [],
   "source": [
    "other example:\n",
    "CNhs12064\t../../data/human/cage/fantom/coverage/CNhs12064.bw\tCAGE:Anulus Pulposus Cell, donor2\n",
    "CNhs10876\t../../data/human/cage/fantom/coverage/CNhs10876.bw\tCAGE:Anulus Pulposus Cell, donor1\n",
    "CNhs14193\t../../data/human/cage/fantom/coverage/CNhs14193.bw\tCAGE:Smooth muscle cells - airway, control, donor4\n",
    "CNhs14192\t../../data/human/cage/fantom/coverage/CNhs14192.bw\tCAGE:Smooth muscle cells - airway, control, donor3\n",
    "CNhs14191\t../../data/human/cage/fantom/coverage/CNhs14191.bw\tCAGE:Smooth muscle cells - airway, control, donor2\n",
    "CNhs14190\t../../data/human/cage/fantom/coverage/CNhs14190.bw\tCAGE:Smooth muscle cells - airway, control, donor1\n",
    "CNhs12182\t../../data/human/cage/fantom/coverage/CNhs12182.bw\tCAGE:CD8+ T Cells (pluriselect), donor090612, donation1\n",
    "CNhs12187\t../../data/human/cage/fantom/coverage/CNhs12187.bw\tCAGE:CD8+ T Cells (pluriselect), donor090612, donation3\n",
    "CNhs12180\t../../data/human/cage/fantom/coverage/CNhs12180.bw\tCAGE:CD8+ T Cells (pluriselect), donor090309, donation3\n",
    "CNhs12178\t../../data/human/cage/fantom/coverage/CNhs12178.bw\tCAGE:CD8+ T Cells (pluriselect), donor090309, donation2\n",
    "CNhs12176\t../../data/human/cage/fantom/coverage/CNhs12176.bw\tCAGE:CD8+ T Cells (pluriselect), donor090309, donation1\n",
    "CNhs12184\t../../data/human/cage/fantom/coverage/CNhs12184.bw\tCAGE:CD8+ T Cells (pluriselect), donor090612, donation2\n",
    "CNhs12201\t../../data/human/cage/fantom/coverage/CNhs12201.bw\tCAGE:CD8+ T Cells (pluriselect), donor090325, donation1\n",
    "CNhs12199\t../../data/human/cage/fantom/coverage/CNhs12199.bw\tCAGE:CD8+ T Cells (pluriselect), donor090325, donation2"
   ]
  }
 ],
 "metadata": {
  "kernelspec": {
   "display_name": "Python [conda env:kipoi-manuscript]",
   "language": "python",
   "name": "conda-env-kipoi-manuscript-py"
  },
  "language_info": {
   "codemirror_mode": {
    "name": "ipython",
    "version": 3
   },
   "file_extension": ".py",
   "mimetype": "text/x-python",
   "name": "python",
   "nbconvert_exporter": "python",
   "pygments_lexer": "ipython3",
   "version": "3.6.5"
  }
 },
 "nbformat": 4,
 "nbformat_minor": 2
}
