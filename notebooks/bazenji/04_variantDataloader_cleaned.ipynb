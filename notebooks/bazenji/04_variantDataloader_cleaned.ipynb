{
 "cells": [
  {
   "cell_type": "markdown",
   "metadata": {},
   "source": [
    "Purpose: Plan of whole pipeline from Ref-genome/vcf-file/TSS-file/ to basenji-output"
   ]
  },
  {
   "cell_type": "markdown",
   "metadata": {},
   "source": [
    "Todo:\n",
    "ask Ziga about: vcf-gtex-gile\n",
    "run libs through with him\n",
    "\n",
    "add warning if Ref-Base is not base in VCF -> probl. due to shifted positions\n",
    "\n",
    "Classes: \n",
    "\n",
    "    [later: PipelineConfigurator: takes Gene-IDs  and sample-IDs from user, writes into output file\n",
    "            Calls all others, needs therefor all files. Makes sure that Intervall-Translator and model are compatible\n",
    "    ]\n",
    "    TODO:\n",
    "    Basenji-call with input\n",
    "    ResultWriter: puts results in Xarray with dimensions Gene/Sample/Outputvalues, stores it to disk\n",
    "    \n",
    "    Now: REPDataloader which reads in TSS, passes intervals to vcfFastaExtractor:\n",
    "    \n",
    "    TSS: not dataloader, is small...\n",
    "    but: IntervalCalculator: do...\n",
    "    \n",
    "    vcfFastaExtractor\n",
    "    random fasta access: pyfaidx\n",
    "    random vcf-access: pyVCF\n",
    "    \n",
    "    output: one-hot-encoded seq with annotations: geneID, sampleID, posiRefStart , ALLELE (0 or 1)\n",
    "    \n",
    "Input-files:\n",
    "\n",
    "   RefGenome in fasta: https://raw.githubusercontent.com/kipoi/kipoiseq/master/tests/data/hg38_chr22_32000000_32300000.fa\n",
    "   \n",
    "   (not used: intervalls-example: https://raw.githubusercontent.com/kipoi/kipoiseq/master/tests/data/intervals_51bp.tsv)\n",
    "   \n",
    "   CAGE TSS `/s/project/avsec/ExPecto/resources/geneanno.csv`\n",
    "   has:\n",
    "    lincRNA\n",
    "    lincRNA\n",
    "    protein_coding\n",
    "    rRNA\n",
    "   -> which to use?\n",
    "   \n",
    "   GTEx-vcf? maybe from /s/project/gtex-processed/vcf/GTEx_Analysis_20150112_WholeGenomeSeq_148Indiv_GATK_HaplotypeCaller.vcf.gz\n",
    "   \n",
    "   RefGenome: /s/genomes/human/hg38$ \n",
    "\n",
    "\n",
    "\n",
    "   \n",
    "   \n",
    "------\n",
    "   Use loading-param from:\n",
    "   https://github.com/kipoi/kipoi/blob/master/kipoi/data.py\n",
    "          dl = DataLoader(self, batch_size=1,\n",
    "                        collate_fn=numpy_collate_concat,    <---\n",
    "                        shuffle=False,\n",
    "                        num_workers=num_workers,\n",
    "drop_last=False)\n",
    "    "
   ]
  },
  {
   "cell_type": "code",
   "execution_count": null,
   "metadata": {},
   "outputs": [],
   "source": [
    "Todo next:      \n",
    "    \n",
    "    buffer zarr-writer...\n",
    "\n",
    "    \n",
    "    \n",
    "    test writer some more\n",
    "    \n",
    "    prep env for gpu01 \n",
    "        (write down my env here) + #pip install tensorflow-gpu==1.5.0\n",
    "        use env bazenji-pred (basenji-pred file in folder)\n",
    "            compare to kipoi-manuscript-tlearn-gpu:\n",
    "              conda list | grep cu\n",
    "              conda list | grep tensor\n",
    "\n",
    "        \n",
    "        export CUDA_VISIBLE_DEVICES=0 # set this before running stuff!\n",
    "    \n",
    "    get full script of workflow \n",
    "    \n",
    "    prep vcf file -) chrX everywhere\n",
    "    \n",
    "    igrnoe */* -> test what number they have...\n",
    "    \n",
    "    measure perf: gpu at 100%?\n",
    "        watch nvidia-smi and htop\n",
    "    if below 100%: use more workers / batch-writer from ziga \n",
    "    "
   ]
  },
  {
   "cell_type": "markdown",
   "metadata": {},
   "source": [
    "# Playing aroudn with fasta/vcf/tss-libs and fileformats"
   ]
  },
  {
   "cell_type": "code",
   "execution_count": 4,
   "metadata": {},
   "outputs": [
    {
     "name": "stdout",
     "output_type": "stream",
     "text": [
      "Requirement already satisfied: pyfaidx in /data/nasif12/modules_if12/SL7/i12g/anaconda/3-5.0.1/lib/python3.6/site-packages (0.5.4.2)\n",
      "Requirement already satisfied: setuptools>=0.7 in /data/nasif12/modules_if12/SL7/i12g/anaconda/3-5.0.1/lib/python3.6/site-packages (from pyfaidx) (39.1.0)\n",
      "Requirement already satisfied: six in /data/nasif12/modules_if12/SL7/i12g/anaconda/3-5.0.1/lib/python3.6/site-packages (from pyfaidx) (1.12.0)\n",
      "\u001b[33mYou are using pip version 19.0.1, however version 19.0.2 is available.\n",
      "You should consider upgrading via the 'pip install --upgrade pip' command.\u001b[0m\n"
     ]
    }
   ],
   "source": [
    " !pip install pyfaidx"
   ]
  },
  {
   "cell_type": "code",
   "execution_count": 85,
   "metadata": {},
   "outputs": [
    {
     "name": "stderr",
     "output_type": "stream",
     "text": [
      "Exception ignored in: <bound method BaseExtractor.__del__ of <kipoiseq.extractors.base.FastaStringExtractor object at 0x7f3184cb1f98>>\n",
      "Traceback (most recent call last):\n",
      "  File \"/opt/modules/i12g/anaconda/3-5.0.1/envs/rep/lib/python3.6/site-packages/kipoiseq/extractors/base.py\", line 16, in __del__\n",
      "    return self.close()\n",
      "  File \"/opt/modules/i12g/anaconda/3-5.0.1/envs/rep/lib/python3.6/site-packages/kipoiseq/extractors/base.py\", line 59, in close\n",
      "    return self.fasta.close()\n",
      "AttributeError: 'FastaStringExtractor' object has no attribute 'fasta'\n"
     ]
    }
   ],
   "source": [
    "from pyfaidx import Fasta\n",
    "refGenome = Fasta('/s/genomes/human/hg38/hg38.fa')"
   ]
  },
  {
   "cell_type": "code",
   "execution_count": 86,
   "metadata": {},
   "outputs": [
    {
     "data": {
      "text/plain": [
       ">chr1:40001-40100\n",
       "gcctcatggaggggatcagctgcgaggagctaagagccccctccagtcgatgctcaccaggaagctgaggtcttgtgtccagcaccctgcatagaactga"
      ]
     },
     "execution_count": 86,
     "metadata": {},
     "output_type": "execute_result"
    }
   ],
   "source": [
    "refGenome[\"chr1\"][40000:40100]"
   ]
  },
  {
   "cell_type": "code",
   "execution_count": 83,
   "metadata": {},
   "outputs": [
    {
     "name": "stderr",
     "output_type": "stream",
     "text": [
      "Exception ignored in: <bound method BaseExtractor.__del__ of <kipoiseq.extractors.base.FastaStringExtractor object at 0x7f321ec61438>>\n",
      "Traceback (most recent call last):\n",
      "  File \"/opt/modules/i12g/anaconda/3-5.0.1/envs/rep/lib/python3.6/site-packages/kipoiseq/extractors/base.py\", line 16, in __del__\n",
      "    return self.close()\n",
      "  File \"/opt/modules/i12g/anaconda/3-5.0.1/envs/rep/lib/python3.6/site-packages/kipoiseq/extractors/base.py\", line 59, in close\n",
      "    return self.fasta.close()\n",
      "AttributeError: 'FastaStringExtractor' object has no attribute 'fasta'\n"
     ]
    }
   ],
   "source": [
    "import vcf\n",
    "\n",
    "vcf_reader = vcf.Reader(filename='/s/project/gtex-processed/vcf/GTEx_Analysis_20150112_WholeGenomeSeq_148Indiv_GATK_HaplotypeCaller.vcf.gz')"
   ]
  },
  {
   "cell_type": "code",
   "execution_count": 84,
   "metadata": {},
   "outputs": [
    {
     "name": "stdout",
     "output_type": "stream",
     "text": [
      "[Call(sample=GTEX-QV31-0003-SM-5URDH, CallData(GT=0/0, AD=[35, 0], DP=35, GQ=79, PL=[0, 79, 1169])), Call(sample=GTEX-R55E-0003-SM-5URBX, CallData(GT=0/0, AD=[27, 0], DP=27, GQ=69, PL=[0, 69, 847])), Call(sample=GTEX-X4XY-0002-SM-5URBG, CallData(GT=0/0, AD=[34, 0], DP=34, GQ=62, PL=[0, 62, 949])), Call(sample=GTEX-X62O-0001-SM-5URD5, CallData(GT=1/1, AD=[0, 55], DP=55, GQ=99, PL=[1645, 164, 0])), Call(sample=GTEX-N7MS-0009-SM-5JK3E, CallData(GT=0/0, AD=[23, 0], DP=23, GQ=60, PL=[0, 60, 900])), Call(sample=GTEX-N7MT-0009-SM-5JK4X, CallData(GT=0/1, AD=[21, 12], DP=33, GQ=99, PL=[324, 0, 619])), Call(sample=GTEX-NFK9-0004-SM-5JK4Y, CallData(GT=0/0, AD=[27, 0], DP=27, GQ=73, PL=[0, 73, 924])), Call(sample=GTEX-NL3H-0009-SM-5JK37, CallData(GT=0/0, AD=[29, 0], DP=29, GQ=67, PL=[0, 67, 1016])), Call(sample=GTEX-NL4W-0009-SM-5JK3O, CallData(GT=0/0, AD=[29, 0], DP=29, GQ=63, PL=[0, 63, 1041])), Call(sample=GTEX-NPJ7-0009-SM-5JK4M, CallData(GT=0/1, AD=[14, 18], DP=32, GQ=99, PL=[541, 0, 393])), Call(sample=GTEX-NPJ8-0004-SM-5JK3D, CallData(GT=0/0, AD=[23, 0], DP=23, GQ=60, PL=[0, 60, 900])), Call(sample=GTEX-O5YT-0010-SM-5JK31, CallData(GT=0/1, AD=[17, 20], DP=37, GQ=99, PL=[591, 0, 481])), Call(sample=GTEX-O5YV-0004-SM-5JK2N, CallData(GT=0/1, AD=[28, 24], DP=52, GQ=99, PL=[694, 0, 829])), Call(sample=GTEX-O5YW-0003-SM-5JK2Y, CallData(GT=0/0, AD=[25, 0], DP=25, GQ=60, PL=[0, 60, 879])), Call(sample=GTEX-OHPK-0003-SM-5JK4Z, CallData(GT=0/0, AD=[24, 0], DP=24, GQ=60, PL=[0, 60, 900])), Call(sample=GTEX-OHPM-0003-SM-5JK4I, CallData(GT=0/1, AD=[21, 21], DP=42, GQ=99, PL=[590, 0, 604])), Call(sample=GTEX-OHPN-0004-SM-5JK2V, CallData(GT=0/1, AD=[40, 29], DP=69, GQ=99, PL=[730, 0, 1124])), Call(sample=GTEX-OIZF-0004-SM-5JK4C, CallData(GT=0/0, AD=[24, 0], DP=24, GQ=63, PL=[0, 63, 945])), Call(sample=GTEX-OIZG-0003-SM-5JK3W, CallData(GT=0/0, AD=[25, 0], DP=25, GQ=60, PL=[0, 60, 900])), Call(sample=GTEX-OIZH-0003-SM-5JK41, CallData(GT=0/1, AD=[16, 31], DP=47, GQ=99, PL=[905, 0, 421])), Call(sample=GTEX-OIZI-1026-SM-5JK2X, CallData(GT=0/1, AD=[27, 21], DP=48, GQ=99, PL=[628, 0, 875])), Call(sample=GTEX-OOBK-0004-SM-5JK4J, CallData(GT=0/1, AD=[26, 21], DP=47, GQ=99, PL=[600, 0, 753])), Call(sample=GTEX-OXRK-0004-SM-5JK32, CallData(GT=0/0, AD=[22, 0], DP=22, GQ=60, PL=[0, 60, 805])), Call(sample=GTEX-OXRL-0003-SM-5JK3X, CallData(GT=0/0, AD=[25, 0], DP=25, GQ=63, PL=[0, 63, 806])), Call(sample=GTEX-OXRN-0003-SM-5JK51, CallData(GT=0/1, AD=[17, 13], DP=30, GQ=99, PL=[376, 0, 511])), Call(sample=GTEX-OXRO-0003-SM-5JK2R, CallData(GT=0/1, AD=[27, 25], DP=52, GQ=99, PL=[707, 0, 785])), Call(sample=GTEX-OXRP-0003-SM-5JK3P, CallData(GT=1/1, AD=[1, 38], DP=39, GQ=99, PL=[1271, 107, 0])), Call(sample=GTEX-P44H-1126-SM-5JK39, CallData(GT=0/0, AD=[28, 0], DP=28, GQ=63, PL=[0, 63, 945])), Call(sample=GTEX-P4PP-0004-SM-5JK2S, CallData(GT=0/0, AD=[27, 0], DP=27, GQ=65, PL=[0, 65, 928])), Call(sample=GTEX-P4PQ-0003-SM-5JK3Q, CallData(GT=0/0, AD=[30, 0], DP=30, GQ=65, PL=[0, 65, 947])), Call(sample=GTEX-P4QR-0004-SM-5JK2Q, CallData(GT=0/0, AD=[26, 0], DP=26, GQ=60, PL=[0, 60, 900])), Call(sample=GTEX-P4QS-0003-SM-5JK4U, CallData(GT=0/0, AD=[32, 0], DP=32, GQ=65, PL=[0, 65, 1063])), Call(sample=GTEX-P4QT-0003-SM-5JK2P, CallData(GT=0/0, AD=[26, 0], DP=26, GQ=72, PL=[0, 72, 841])), Call(sample=GTEX-P78B-0004-SM-5JK48, CallData(GT=0/0, AD=[26, 0], DP=26, GQ=63, PL=[0, 63, 938])), Call(sample=GTEX-PLZ4-0003-SM-5JK4H, CallData(GT=0/0, AD=[27, 0], DP=27, GQ=61, PL=[0, 61, 874])), Call(sample=GTEX-PLZ5-0003-SM-5JK3C, CallData(GT=0/0, AD=[25, 0], DP=25, GQ=60, PL=[0, 60, 844])), Call(sample=GTEX-PLZ6-0003-SM-5JK4W, CallData(GT=1/1, AD=[0, 24], DP=24, GQ=72, PL=[827, 72, 0])), Call(sample=GTEX-POMQ-0003-SM-5JK46, CallData(GT=0/1, AD=[20, 18], DP=38, GQ=99, PL=[516, 0, 579])), Call(sample=GTEX-POYW-1226-SM-5JK3K, CallData(GT=0/1, AD=[12, 22], DP=34, GQ=99, PL=[683, 0, 323])), Call(sample=GTEX-PSDG-0004-SM-5JK3L, CallData(GT=0/0, AD=[25, 0], DP=25, GQ=63, PL=[0, 63, 945])), Call(sample=GTEX-PVOW-1026-SM-5JK3V, CallData(GT=0/1, AD=[20, 27], DP=47, GQ=99, PL=[817, 0, 602])), Call(sample=GTEX-PW2O-0004-SM-5JK3M, CallData(GT=0/0, AD=[27, 0], DP=27, GQ=60, PL=[0, 60, 900])), Call(sample=GTEX-PWCY-0001-SM-5JK3J, CallData(GT=0/1, AD=[23, 25], DP=48, GQ=99, PL=[709, 0, 627])), Call(sample=GTEX-PWN1-0004-SM-5JK3S, CallData(GT=0/1, AD=[15, 25], DP=40, GQ=99, PL=[724, 0, 359])), Call(sample=GTEX-PWO3-0004-SM-5JK3T, CallData(GT=0/0, AD=[37, 0], DP=37, GQ=61, PL=[0, 61, 1094])), Call(sample=GTEX-PWOO-0004-SM-5JK4A, CallData(GT=0/0, AD=[25, 0], DP=25, GQ=66, PL=[0, 66, 990])), Call(sample=GTEX-Q2AG-0003-SM-5JK4S, CallData(GT=0/1, AD=[16, 15], DP=31, GQ=99, PL=[432, 0, 415])), Call(sample=GTEX-Q2AH-0004-SM-5JK52, CallData(GT=0/1, AD=[24, 19], DP=43, GQ=99, PL=[539, 0, 686])), Call(sample=GTEX-Q2AI-0003-SM-5JK3F, CallData(GT=0/1, AD=[17, 24], DP=41, GQ=99, PL=[741, 0, 450])), Call(sample=GTEX-Q734-0001-SM-5JK3N, CallData(GT=0/0, AD=[27, 0], DP=27, GQ=66, PL=[0, 66, 909])), Call(sample=GTEX-QEG4-0003-SM-5URCG, CallData(GT=0/1, AD=[22, 18], DP=40, GQ=99, PL=[424, 0, 594])), Call(sample=GTEX-QEG5-0003-SM-5URCP, CallData(GT=0/1, AD=[14, 21], DP=35, GQ=99, PL=[551, 0, 322])), Call(sample=GTEX-QESD-0001-SM-5URC9, CallData(GT=0/0, AD=[28, 0], DP=28, GQ=68, PL=[0, 68, 868])), Call(sample=GTEX-QLQW-0001-SM-5URCU, CallData(GT=0/0, AD=[23, 0], DP=23, GQ=60, PL=[0, 60, 900])), Call(sample=GTEX-QMRM-0002-SM-5URC1, CallData(GT=0/1, AD=[17, 10], DP=27, GQ=99, PL=[213, 0, 497])), Call(sample=GTEX-QV44-0003-SM-5SOEM, CallData(GT=0/0, AD=[35, 0], DP=35, GQ=84, PL=[0, 84, 1101])), Call(sample=GTEX-QVUS-0001-SM-5URDT, CallData(GT=0/1, AD=[24, 28], DP=52, GQ=99, PL=[662, 0, 641])), Call(sample=GTEX-QXCU-0004-SM-5URDS, CallData(GT=0/0, AD=[34, 0], DP=34, GQ=61, PL=[0, 61, 906])), Call(sample=GTEX-R3RS-0001-SM-5URBE, CallData(GT=0/1, AD=[20, 21], DP=41, GQ=99, PL=[552, 0, 527])), Call(sample=GTEX-R55C-0003-SM-5URCJ, CallData(GT=0/1, AD=[14, 16], DP=30, GQ=99, PL=[423, 0, 322])), Call(sample=GTEX-R55G-0003-SM-5URBQ, CallData(GT=0/0, AD=[34, 0], DP=34, GQ=71, PL=[0, 71, 961])), Call(sample=GTEX-REY6-0004-SM-5URD2, CallData(GT=0/1, AD=[22, 17], DP=39, GQ=99, PL=[428, 0, 479])), Call(sample=GTEX-RM2N-0002-SM-5SOEB, CallData(GT=1/1, AD=[0, 43], DP=43, GQ=99, PL=[1285, 128, 0])), Call(sample=GTEX-RN64-0004-SM-5URBC, CallData(GT=0/0, AD=[32, 0], DP=32, GQ=66, PL=[0, 66, 932])), Call(sample=GTEX-RNOR-0001-SM-5URCF, CallData(GT=0/1, AD=[20, 21], DP=41, GQ=99, PL=[553, 0, 528])), Call(sample=GTEX-RU1J-0002-SM-5URDF, CallData(GT=0/1, AD=[14, 23], DP=37, GQ=99, PL=[639, 0, 314])), Call(sample=GTEX-RU72-0004-SM-5SOEJ, CallData(GT=0/0, AD=[28, 0], DP=28, GQ=66, PL=[0, 66, 852])), Call(sample=GTEX-RUSQ-0001-SM-5JK34, CallData(GT=1/1, AD=[0, 52], DP=52, GQ=99, PL=[1776, 156, 0])), Call(sample=GTEX-RWS6-0004-SM-5JK3Z, CallData(GT=0/0, AD=[25, 0], DP=25, GQ=63, PL=[0, 63, 945])), Call(sample=GTEX-RWSA-0003-SM-5JK4L, CallData(GT=0/0, AD=[28, 0], DP=28, GQ=65, PL=[0, 65, 950])), Call(sample=GTEX-S32W-0001-SM-5JK4N, CallData(GT=0/0, AD=[30, 0], DP=30, GQ=64, PL=[0, 64, 1030])), Call(sample=GTEX-S341-0001-SM-5JK33, CallData(GT=0/1, AD=[21, 13], DP=34, GQ=99, PL=[354, 0, 603])), Call(sample=GTEX-S4P3-0004-SM-5JK4R, CallData(GT=0/0, AD=[27, 0], DP=27, GQ=78, PL=[0, 78, 923])), Call(sample=GTEX-S4Q7-0001-SM-5JK3A, CallData(GT=0/0, AD=[22, 0], DP=22, GQ=60, PL=[0, 60, 900])), Call(sample=GTEX-S4UY-0003-SM-5JK3Y, CallData(GT=0/1, AD=[14, 19], DP=33, GQ=99, PL=[569, 0, 374])), Call(sample=GTEX-S4Z8-0003-SM-5JK3I, CallData(GT=0/1, AD=[20, 25], DP=45, GQ=99, PL=[719, 0, 534])), Call(sample=GTEX-S7PM-0926-SM-5JK36, CallData(GT=0/0, AD=[28, 0], DP=28, GQ=66, PL=[0, 66, 990])), Call(sample=GTEX-S7SE-0004-SM-5JK4E, CallData(GT=0/0, AD=[25, 0], DP=25, GQ=60, PL=[0, 60, 843])), Call(sample=GTEX-S95S-0004-SM-5JK3U, CallData(GT=0/0, AD=[32, 0], DP=32, GQ=84, PL=[0, 84, 1067])), Call(sample=GTEX-SIU7-0002-SM-5JK4G, CallData(GT=0/1, AD=[28, 17], DP=45, GQ=99, PL=[465, 0, 825])), Call(sample=GTEX-SIU8-0002-SM-5JK47, CallData(GT=1/1, AD=[0, 44], DP=44, GQ=99, PL=[1561, 132, 0])), Call(sample=GTEX-SN8G-0002-SM-5JK4B, CallData(GT=0/0, AD=[30, 0], DP=30, GQ=84, PL=[0, 84, 1020])), Call(sample=GTEX-SNOS-0004-SM-5SOEL, CallData(GT=0/0, AD=[25, 0], DP=25, GQ=63, PL=[0, 63, 793])), Call(sample=GTEX-SSA3-0001-SM-5URCI, CallData(GT=0/0, AD=[27, 0], DP=27, GQ=63, PL=[0, 63, 829])), Call(sample=GTEX-SUCS-0001-SM-5URDQ, CallData(GT=0/1, AD=[21, 19], DP=40, GQ=99, PL=[475, 0, 515])), Call(sample=GTEX-T2IS-0002-SM-5SOEK, CallData(GT=0/0, AD=[34, 0], DP=34, GQ=61, PL=[0, 61, 975])), Call(sample=GTEX-T2YK-0003-SM-5URCD, CallData(GT=0/1, AD=[19, 32], DP=51, GQ=99, PL=[851, 0, 430])), Call(sample=GTEX-T5JC-0002-SM-5SOER, CallData(GT=0/1, AD=[19, 25], DP=44, GQ=99, PL=[658, 0, 460])), Call(sample=GTEX-T5JW-0002-SM-5URDG, CallData(GT=0/1, AD=[16, 22], DP=38, GQ=99, PL=[567, 0, 389])), Call(sample=GTEX-T6MN-0003-SM-5URB7, CallData(GT=0/0, AD=[33, 0], DP=33, GQ=81, PL=[0, 81, 1027])), Call(sample=GTEX-T6MO-0001-SM-5URCH, CallData(GT=0/1, AD=[22, 9], DP=31, GQ=99, PL=[182, 0, 573])), Call(sample=GTEX-T8EM-0001-SM-5SOEA, CallData(GT=0/0, AD=[24, 0], DP=24, GQ=62, PL=[0, 62, 862])), Call(sample=GTEX-TKQ2-0002-SM-5URCO, CallData(GT=0/0, AD=[28, 0], DP=28, GQ=68, PL=[0, 68, 841])), Call(sample=GTEX-TML8-0004-SM-5SOEP, CallData(GT=0/0, AD=[27, 0], DP=27, GQ=63, PL=[0, 63, 829])), Call(sample=GTEX-TMMY-0003-SM-5SOES, CallData(GT=1/1, AD=[0, 52], DP=52, GQ=99, PL=[1604, 156, 0])), Call(sample=GTEX-TMZS-0002-SM-5URDR, CallData(GT=0/0, AD=[28, 0], DP=28, GQ=63, PL=[0, 63, 879])), Call(sample=GTEX-TSE9-0002-SM-5URBA, CallData(GT=0/0, AD=[24, 0], DP=24, GQ=62, PL=[0, 62, 722])), Call(sample=GTEX-U3ZG-0002-SM-5SOEN, CallData(GT=1/1, AD=[0, 43], DP=43, GQ=99, PL=[1235, 129, 0])), Call(sample=GTEX-U3ZH-0003-SM-5URBK, CallData(GT=0/1, AD=[14, 27], DP=41, GQ=99, PL=[734, 0, 308])), Call(sample=GTEX-U3ZN-0001-SM-5URBO, CallData(GT=0/0, AD=[25, 0], DP=25, GQ=64, PL=[0, 64, 762])), Call(sample=GTEX-U4B1-0001-SM-5URC2, CallData(GT=0/0, AD=[32, 0], DP=32, GQ=74, PL=[0, 74, 1031])), Call(sample=GTEX-U8XE-0004-SM-5URB8, CallData(GT=0/0, AD=[27, 0], DP=27, GQ=66, PL=[0, 66, 807])), Call(sample=GTEX-UJHI-0001-SM-5SOEU, CallData(GT=0/0, AD=[30, 0], DP=30, GQ=65, PL=[0, 65, 961])), Call(sample=GTEX-UJMC-0002-SM-5SOEI, CallData(GT=0/0, AD=[33, 0], DP=33, GQ=63, PL=[0, 63, 916])), Call(sample=GTEX-UPIC-0004-SM-5SOEF, CallData(GT=0/1, AD=[16, 17], DP=33, GQ=99, PL=[414, 0, 410])), Call(sample=GTEX-UPJH-0002-SM-5SOE9, CallData(GT=0/0, AD=[30, 0], DP=30, GQ=64, PL=[0, 64, 974])), Call(sample=GTEX-UPK5-0002-SM-5SOE3, CallData(GT=0/0, AD=[26, 0], DP=26, GQ=60, PL=[0, 60, 789])), Call(sample=GTEX-UTHO-0003-SM-5SOE4, CallData(GT=1/1, AD=[0, 34], DP=34, GQ=99, PL=[1076, 102, 0])), Call(sample=GTEX-V955-0001-SM-5SOEE, CallData(GT=0/1, AD=[29, 28], DP=57, GQ=99, PL=[665, 0, 679])), Call(sample=GTEX-VJYA-0003-SM-5SOED, CallData(GT=0/1, AD=[18, 20], DP=38, GQ=99, PL=[490, 0, 408])), Call(sample=GTEX-VUSH-0002-SM-5SOEH, CallData(GT=0/1, AD=[20, 19], DP=39, GQ=99, PL=[426, 0, 508])), Call(sample=GTEX-W5WG-0003-SM-5URC3, CallData(GT=0/1, AD=[17, 20], DP=37, GQ=99, PL=[539, 0, 405])), Call(sample=GTEX-W5X1-0002-SM-5URBS, CallData(GT=0/0, AD=[25, 0], DP=25, GQ=60, PL=[0, 60, 798])), Call(sample=GTEX-WCDI-0001-SM-5SOE7, CallData(GT=0/0, AD=[26, 0], DP=26, GQ=62, PL=[0, 62, 833])), Call(sample=GTEX-WFG7-0002-SM-5SOEQ, CallData(GT=0/0, AD=[29, 0], DP=29, GQ=64, PL=[0, 64, 807])), Call(sample=GTEX-WFJO-0003-SM-5URBP, CallData(GT=0/0, AD=[22, 0], DP=22, GQ=60, PL=[0, 60, 766])), Call(sample=GTEX-WFON-0003-SM-5URD4, CallData(GT=0/0, AD=[26, 0], DP=26, GQ=63, PL=[0, 63, 916])), Call(sample=GTEX-WHPG-0002-SM-5URBH, CallData(GT=0/0, AD=[37, 0], DP=37, GQ=75, PL=[0, 75, 1071])), Call(sample=GTEX-WHSB-0004-SM-5URDE, CallData(GT=0/0, AD=[31, 0], DP=31, GQ=61, PL=[0, 61, 895])), Call(sample=GTEX-WHWD-0002-SM-5SOEC, CallData(GT=0/0, AD=[35, 0], DP=35, GQ=73, PL=[0, 73, 901])), Call(sample=GTEX-WK11-0002-SM-5SOET, CallData(GT=0/0, AD=[28, 0], DP=28, GQ=62, PL=[0, 62, 793])), Call(sample=GTEX-WL46-0002-SM-5SOE8, CallData(GT=0/1, AD=[24, 18], DP=42, GQ=99, PL=[450, 0, 632])), Call(sample=GTEX-WOFM-0003-SM-5JK3H, CallData(GT=1/1, AD=[0, 35], DP=35, GQ=99, PL=[1185, 105, 0])), Call(sample=GTEX-WVLH-0001-SM-5SOE6, CallData(GT=0/0, AD=[32, 0], DP=32, GQ=65, PL=[0, 65, 968])), Call(sample=GTEX-WWYW-0004-SM-5URDN, CallData(GT=0/1, AD=[20, 25], DP=45, GQ=99, PL=[637, 0, 466])), Call(sample=GTEX-WXYG-0001-SM-5SOE5, CallData(GT=0/1, AD=[19, 15], DP=34, GQ=99, PL=[351, 0, 461])), Call(sample=GTEX-WY7C-0002-SM-5URBW, CallData(GT=0/0, AD=[29, 0], DP=29, GQ=65, PL=[0, 65, 889])), Call(sample=GTEX-WYJK-0001-SM-5URBR, CallData(GT=0/1, AD=[13, 17], DP=30, GQ=99, PL=[441, 0, 319])), Call(sample=GTEX-WZTO-0002-SM-5URDU, CallData(GT=0/0, AD=[30, 0], DP=30, GQ=75, PL=[0, 75, 896])), Call(sample=GTEX-X261-0002-SM-5URDP, CallData(GT=0/0, AD=[27, 0], DP=27, GQ=60, PL=[0, 60, 776])), Call(sample=GTEX-X3Y1-0002-SM-5URCV, CallData(GT=0/1, AD=[20, 7], DP=27, GQ=99, PL=[134, 0, 599])), Call(sample=GTEX-X4EO-0003-SM-5URCE, CallData(GT=0/1, AD=[14, 20], DP=34, GQ=99, PL=[456, 0, 349])), Call(sample=GTEX-X4XX-0004-SM-5URCR, CallData(GT=0/0, AD=[28, 0], DP=28, GQ=76, PL=[0, 76, 866])), Call(sample=GTEX-X585-0003-SM-5URCW, CallData(GT=0/0, AD=[28, 0], DP=28, GQ=66, PL=[0, 66, 863])), Call(sample=GTEX-X8HC-0003-SM-5URDI, CallData(GT=0/1, AD=[13, 22], DP=35, GQ=99, PL=[606, 0, 292])), Call(sample=GTEX-XBEC-0002-SM-5SOEV, CallData(GT=0/0, AD=[28, 0], DP=28, GQ=63, PL=[0, 63, 832])), Call(sample=GTEX-XBED-0004-SM-5URD9, CallData(GT=0/1, AD=[13, 19], DP=32, GQ=99, PL=[518, 0, 327])), Call(sample=GTEX-XGQ4-0001-SM-5SOEG, CallData(GT=0/0, AD=[54, 0], DP=54, GQ=99, PL=[0, 109, 1532])), Call(sample=GTEX-XMK1-0003-SM-5URB9, CallData(GT=0/0, AD=[28, 0], DP=28, GQ=69, PL=[0, 69, 803])), Call(sample=GTEX-XOT4-0001-SM-5URCM, CallData(GT=0/0, AD=[28, 0], DP=28, GQ=67, PL=[0, 67, 855])), Call(sample=GTEX-XOTO-0002-SM-5URC7, CallData(GT=0/1, AD=[17, 10], DP=27, GQ=99, PL=[220, 0, 437])), Call(sample=GTEX-XPT6-0004-SM-5URDL, CallData(GT=0/0, AD=[29, 0], DP=29, GQ=68, PL=[0, 68, 878])), Call(sample=GTEX-XQ3S-0002-SM-5JK42, CallData(GT=0/0, AD=[29, 0], DP=29, GQ=75, PL=[0, 75, 893])), Call(sample=GTEX-XUJ4-0001-SM-5JK4T, CallData(GT=0/0, AD=[37, 0], DP=37, GQ=88, PL=[0, 88, 1191])), Call(sample=GTEX-XUW1-0002-SM-5JK4P, CallData(GT=0/1, AD=[26, 20], DP=46, GQ=99, PL=[572, 0, 767])), Call(sample=GTEX-XV7Q-0004-SM-5JK3G, CallData(GT=0/0, AD=[26, 0], DP=26, GQ=65, PL=[0, 65, 990])), Call(sample=GTEX-XXEK-0001-SM-5JK35, CallData(GT=0/0, AD=[29, 0], DP=29, GQ=69, PL=[0, 69, 954])), Call(sample=GTEX-XYKS-0003-SM-5JK4D, CallData(GT=0/0, AD=[31, 0], DP=31, GQ=75, PL=[0, 75, 1016]))]\n"
     ]
    }
   ],
   "source": [
    "#example for calling\n",
    "for record in vcf_reader.fetch('20', 1110695, 1110780):  \n",
    "    print(record.samples)"
   ]
  },
  {
   "cell_type": "code",
   "execution_count": 3,
   "metadata": {},
   "outputs": [],
   "source": [
    "#numpy troubles: in terminal, in RIGHT env: conda install numpy==1.15\n",
    "import numpy\n"
   ]
  },
  {
   "cell_type": "code",
   "execution_count": 20,
   "metadata": {},
   "outputs": [
    {
     "name": "stdout",
     "output_type": "stream",
     "text": [
      "id,symbol,seqnames,strand,TSS,CAGE_representative_TSS,type\n",
      "ENSG00000000003,TSPAN6,chrX,-,99894988,99891748,protein_coding\n",
      "ENSG00000000005,TNMD,chrX,+,99839799,99839933,protein_coding\n",
      "ENSG00000000419,DPM1,chr20,-,49575092,49575069,protein_coding\n",
      "ENSG00000000457,SCYL3,chr1,-,169863408,169863037,protein_coding\n",
      "ENSG00000000460,C1orf112,chr1,+,169631245,169764186,protein_coding\n",
      "ENSG00000000938,FGR,chr1,-,27961788,27961654,protein_coding\n",
      "ENSG00000000971,CFH,chr1,+,196621008,196621174,protein_coding\n",
      "ENSG00000001036,FUCA2,chr6,-,143832827,143832857,protein_coding\n",
      "ENSG00000001084,GCLC,chr6,-,53481768,53409899,protein_coding\n"
     ]
    }
   ],
   "source": [
    "!head /s/project/avsec/ExPecto/resources/geneanno.csv\n",
    "\n",
    "import pandas as pd\n",
    "testCSV=pd.read_csv(\"/s/project/avsec/ExPecto/resources/geneanno.csv\")"
   ]
  },
  {
   "cell_type": "code",
   "execution_count": 26,
   "metadata": {},
   "outputs": [
    {
     "data": {
      "text/plain": [
       "array(['ENSG00000000003', 'ENSG00000000005', 'ENSG00000000419', ...,\n",
       "       'ENSG00000259763', 'ENSG00000259772', 'ENSG00000259774'],\n",
       "      dtype=object)"
      ]
     },
     "execution_count": 26,
     "metadata": {},
     "output_type": "execute_result"
    }
   ],
   "source": [
    "testCSV[\"id\"].values"
   ]
  },
  {
   "cell_type": "markdown",
   "metadata": {},
   "source": [
    "# helper classes for TSS-loader"
   ]
  },
  {
   "cell_type": "code",
   "execution_count": 87,
   "metadata": {},
   "outputs": [
    {
     "name": "stdout",
     "output_type": "stream",
     "text": [
      "[4,5,6)\n"
     ]
    },
    {
     "data": {
      "text/plain": [
       "[-1,0,1)"
      ]
     },
     "execution_count": 87,
     "metadata": {},
     "output_type": "execute_result"
    }
   ],
   "source": [
    "class rangeInterval(object): #renamed to avoid conflict with genomic interval\n",
    "    \"\"\"\n",
    "    stores window-range-info\n",
    "    as usual in python, an [ ) interval\"\"\"\n",
    "    def __init__(self, n_up,n_down,anchor=None):\n",
    "        if n_up==n_down:\n",
    "            raise AttributeError(\"An interval without elements is not supported. Your upper and lower bound(exclusive) are the same.\")\n",
    "            \n",
    "        \n",
    "        self.lower=n_up\n",
    "        self.upper=n_down\n",
    "        self.anchor=anchor\n",
    "        if anchor is None:\n",
    "            self.anchor=int((self.lower+self.upper)/2)\n",
    "    def setAnchor(self,newAnchor):\n",
    "        self.lower=newAnchor-(self.anchor-self.lower)\n",
    "        self.upper=newAnchor+(self.upper-self.anchor)\n",
    "        self.anchor=newAnchor\n",
    "    def __str__(self):\n",
    "        return \"[{},{},{})\".format(self.lower,self.anchor,self.upper)\n",
    "    def __repr__(self):\n",
    "        return str(self)\n",
    "    def __len__(self):\n",
    "        return self.upper-self.lower\n",
    "        \n",
    "test=rangeInterval(4,6)\n",
    "print(test)\n",
    "test.setAnchor(0)\n",
    "test"
   ]
  },
  {
   "cell_type": "code",
   "execution_count": 71,
   "metadata": {},
   "outputs": [
    {
     "data": {
      "text/plain": [
       "['AA', 'CC']"
      ]
     },
     "execution_count": 71,
     "metadata": {},
     "output_type": "execute_result"
    }
   ],
   "source": [
    "class VcfFastaDummy(object):\n",
    "    def __init__(self,a,b):\n",
    "        pass\n",
    "    def extract(self,interval,sample): \n",
    "        allele1=\"A\"*len(interval)\n",
    "        allele2=\"C\"*len(interval)\n",
    "        return [allele1,allele2]\n",
    "    \n",
    "test=VcfFastaDummy(\"a\",\"b\")\n",
    "test.extract(Interval(3,5),\"testSample\")"
   ]
  },
  {
   "cell_type": "code",
   "execution_count": 1,
   "metadata": {},
   "outputs": [
    {
     "name": "stdout",
     "output_type": "stream",
     "text": [
      "Solving environment: done\n",
      "\n",
      "\n",
      "==> WARNING: A newer version of conda exists. <==\n",
      "  current version: 4.5.12\n",
      "  latest version: 4.6.7\n",
      "\n",
      "Please update conda by running\n",
      "\n",
      "    $ conda update -n base -c defaults conda\n",
      "\n",
      "\n",
      "\n",
      "## Package Plan ##\n",
      "\n",
      "  environment location: /opt/modules/i12g/anaconda/3-5.0.1/envs/rep\n",
      "\n",
      "  added / updated specs: \n",
      "    - pytorch\n",
      "\n",
      "\n",
      "The following packages will be downloaded:\n",
      "\n",
      "    package                    |            build\n",
      "    ---------------------------|-----------------\n",
      "    cudnn-7.3.1                |        cuda9.0_0       331.3 MB\n",
      "\n",
      "The following NEW packages will be INSTALLED:\n",
      "\n",
      "    cffi:        1.11.5-py36he75722e_1\n",
      "    cudatoolkit: 9.0-h13b8566_0       \n",
      "    cudnn:       7.3.1-cuda9.0_0      \n",
      "    nccl:        1.3.5-cuda9.0_0      \n",
      "    ninja:       1.8.2-py36h6bb024c_1 \n",
      "    pycparser:   2.19-py36_0          \n",
      "    pytorch:     0.4.1-py36ha74772b_0 \n",
      "\n",
      "\n",
      "Downloading and Extracting Packages\n",
      "cudnn-7.3.1          | 331.3 MB  | ##################################### | 100% \n",
      "Preparing transaction: done\n",
      "Verifying transaction: done\n",
      "Executing transaction: done\n"
     ]
    }
   ],
   "source": [
    "! conda install pytorch -y # for dataloader/set-class"
   ]
  },
  {
   "cell_type": "code",
   "execution_count": 88,
   "metadata": {},
   "outputs": [
    {
     "data": {
      "text/plain": [
       "array([[1., 0., 0., 0.],\n",
       "       [0., 1., 0., 0.],\n",
       "       [0., 1., 0., 0.],\n",
       "       [0., 1., 0., 0.]])"
      ]
     },
     "execution_count": 88,
     "metadata": {},
     "output_type": "execute_result"
    }
   ],
   "source": [
    "        from kipoiseq.transforms import ReorderedOneHot\n",
    "        testTransform=ReorderedOneHot()\n",
    "        testTransform(\"ACCC\")"
   ]
  },
  {
   "cell_type": "markdown",
   "metadata": {},
   "source": [
    "# Working with new kipoiseq.extractor modules, install and so on.."
   ]
  },
  {
   "cell_type": "code",
   "execution_count": 6,
   "metadata": {},
   "outputs": [
    {
     "name": "stdout",
     "output_type": "stream",
     "text": [
      "\n",
      "gzip: stdout: Broken pipe\n"
     ]
    }
   ],
   "source": [
    "vcfFile=\"/s/project/gtex-processed/vcf/GTEx_Analysis_20150112_WholeGenomeSeq_148Indiv_GATK_HaplotypeCaller.vcf.gz\"\n",
    "vcfTest=\"vcfTest\"\n",
    "! zcat /s/project/gtex-processed/vcf/GTEx_Analysis_20150112_WholeGenomeSeq_148Indiv_GATK_HaplotypeCaller.vcf.gz | head -n 300 >test.vcf\n",
    "#add \"chr\" to each line beginning with a number ( is annotated without \"chr\", only number..)\n",
    "!sed 's/^\\([0-9]\\{1,2\\}\\t\\)/chr\\1/' -i test.vcf # NO \\t in replacement for some reason, seems to be there anyway\n",
    "!bgzip -c test.vcf > test.vcf.gz\n",
    "#create index\n",
    "!tabix -p vcf test.vcf.gz  "
   ]
  },
  {
   "cell_type": "markdown",
   "metadata": {},
   "source": [
    "Only usable with index!\n",
    "(base) [reinharj@ouga04 bazenji]$ bgzip -c vcfTest > test.vcf.gz\n",
    "(base) [reinharj@ouga04 bazenji]$ tabix -p vcf test.vcf.gz \n"
   ]
  },
  {
   "cell_type": "code",
   "execution_count": null,
   "metadata": {},
   "outputs": [],
   "source": [
    "!pip install -U kipoiseq"
   ]
  },
  {
   "cell_type": "code",
   "execution_count": 186,
   "metadata": {},
   "outputs": [
    {
     "data": {
      "text/plain": [
       "<module 'kipoiseq.extractors' from '/opt/modules/i12g/anaconda/3-5.0.1/envs/rep/lib/python3.6/site-packages/kipoiseq/extractors/__init__.py'>"
      ]
     },
     "execution_count": 186,
     "metadata": {},
     "output_type": "execute_result"
    }
   ],
   "source": [
    "from importlib import reload\n",
    "reload(kipoiseq)\n",
    "reload(kipoiseq.extractors)\n",
    "\n"
   ]
  },
  {
   "cell_type": "code",
   "execution_count": null,
   "metadata": {},
   "outputs": [],
   "source": [
    "!conda install -c bioconda cyvcf2 -y #did this manually..."
   ]
  },
  {
   "cell_type": "code",
   "execution_count": 89,
   "metadata": {},
   "outputs": [],
   "source": [
    "import cyvcf2"
   ]
  },
  {
   "cell_type": "code",
   "execution_count": 90,
   "metadata": {},
   "outputs": [],
   "source": [
    "from kipoiseq.extractors.vcf_seq import MultiSampleVCF\n",
    "vcfReader=MultiSampleVCF(\"test.vcf.gz\")"
   ]
  },
  {
   "cell_type": "code",
   "execution_count": 91,
   "metadata": {},
   "outputs": [],
   "source": [
    "        from pybedtools import Interval\n",
    "        #\"1 for chr1\" in this vcf-file....\n",
    "        testInterval= Interval(\"chr1\", start=10000, end=30000, strand=\"+\", otherfields=None)"
   ]
  },
  {
   "cell_type": "code",
   "execution_count": 92,
   "metadata": {},
   "outputs": [],
   "source": [
    "from pybedtools import Interval\n",
    "from kipoiseq.extractors.vcf_seq import MultiSampleVCF\n",
    "\n",
    "sample1=\"GTEX-QV31-0003-SM-5URDH\"\n",
    "sample2=\"GTEX-R55E-0003-SM-5URBX\"\n",
    "\n",
    "vcfReader=MultiSampleVCF(\"test.vcf.gz\")\n",
    "#\"1 for chr1\" in this vcf-file....\n",
    "testInterval= Interval(\"chr1\", start=10175, end=10179, strand=\"+\", otherfields=None) #end=10145 works, 10146 hangs -> first variant there...\n",
    "testVariant=list(vcfReader.fetch_variants(testInterval,\"GTEX-QV31-0003-SM-5URDH\"))[0]"
   ]
  },
  {
   "cell_type": "code",
   "execution_count": 93,
   "metadata": {},
   "outputs": [
    {
     "data": {
      "text/plain": [
       "Variant(chr1:10177 A/C)"
      ]
     },
     "execution_count": 93,
     "metadata": {},
     "output_type": "execute_result"
    }
   ],
   "source": [
    "testVariant"
   ]
  },
  {
   "cell_type": "code",
   "execution_count": null,
   "metadata": {},
   "outputs": [],
   "source": [
    "testVariant.genotypes #TODO .genotype or .gt_types?"
   ]
  },
  {
   "cell_type": "code",
   "execution_count": 36,
   "metadata": {},
   "outputs": [
    {
     "data": {
      "text/plain": [
       "array([2, 2, 2, 2, 0, 2, 2, 0, 2, 2, 2, 0, 2, 2, 2, 2, 0, 0, 0, 2, 2, 2,\n",
       "       2, 0, 2, 2, 2, 2, 2, 2, 2, 0, 2, 2, 2, 2, 2, 0, 2, 0, 2, 2, 0, 2,\n",
       "       0, 2, 2, 2, 2, 0, 2, 2, 2, 2, 0, 2, 0, 2, 2, 0, 0, 2, 0, 2, 2, 0,\n",
       "       2, 0, 2, 2, 0, 0, 2, 2, 2, 2, 0, 2, 0, 0, 2, 0, 2, 2, 2, 2, 0, 2,\n",
       "       1, 2, 2, 2, 2, 2, 2, 0, 2, 2, 2, 2, 2, 2, 2, 0, 2, 2, 2, 0, 0, 2,\n",
       "       0, 2, 2, 2, 0, 2, 0, 0, 2, 2, 2, 2, 2, 2, 0, 2, 2, 2, 2, 0, 2, 2,\n",
       "       2, 2, 2, 2, 2, 2, 2, 2, 2, 0, 2, 0, 2, 2, 2, 2], dtype=int32)"
      ]
     },
     "execution_count": 36,
     "metadata": {},
     "output_type": "execute_result"
    }
   ],
   "source": [
    "testVariant.gt_types"
   ]
  },
  {
   "cell_type": "code",
   "execution_count": 94,
   "metadata": {},
   "outputs": [],
   "source": [
    "from kipoiseq.extractors import MultiSampleVCF\n",
    "class AllelicMultiSampleVCF(MultiSampleVCF):\n",
    "    \"\"\"supports variant-query according to genotype\n",
    "    #TODO clean up code repetition... all in one method...\n",
    "    \"\"\"\n",
    "    def _has_variant_homo(self, variant, sample_id):\n",
    "        return variant.gt_types[self.sample_mapping[sample_id]] == 2 #might have to use ==3 since 2 is \"unknown/*\" ?\n",
    "    def _has_variant_hetero(self, variant, sample_id):\n",
    "        return variant.gt_types[self.sample_mapping[sample_id]] == 1\n",
    "    \n",
    "    def fetch_variants_homo(self, interval, sample_id=None):\n",
    "        for v in self(self._region(interval)):\n",
    "            if sample_id is None or self._has_variant_homo(v, sample_id):\n",
    "                yield v\n",
    "    def fetch_variants_hetero(self, interval, sample_id=None):\n",
    "        for v in self(self._region(interval)):\n",
    "            if sample_id is None or self._has_variant_hetero(v, sample_id):\n",
    "                yield v      \n",
    "    \n",
    "\n",
    "from kipoiseq.extractors import BaseExtractor,VariantSeqExtractor\n",
    "import pdb\n",
    "class AllelicVCFSeqExtractor(BaseExtractor):\n",
    "    def __init__(self, fasta_file, vcf_file):\n",
    "        self.fasta_file = fasta_file\n",
    "        self.vcf_file = vcf_file\n",
    "        self.variant_extractor = VariantSeqExtractor(fasta_file)\n",
    "        self.vcf = AllelicMultiSampleVCF(vcf_file)\n",
    "  \n",
    "    def get_allelic_variants(self,homoVars,heteroVars):\n",
    "        \"\"\"\n",
    "        hetero-allelic variants are only used on first allele, homo- on both\n",
    "        \"\"\"\n",
    "        return [homoVars+heteroVars,homoVars]\n",
    "        \n",
    "    def extract(self, interval, anchor=None, sample_id=None, fixed_len=True):\n",
    "        \n",
    "        print(\"getting variants...\")\n",
    "        homoVars=list(self.vcf.fetch_variants_homo(interval, sample_id)) #when mutating them, lists are way easier and not more costly than generators\n",
    "        heteroVars=list(self.vcf.fetch_variants_hetero(interval, sample_id))\n",
    "        \n",
    "        print(\"sorting variants, homo:{}, hetero:{}...\".format(len(homoVars),len(heteroVars)))\n",
    "\n",
    "        vars1,vars2=self.get_allelic_variants(homoVars,heteroVars)\n",
    "\n",
    "        print(\"sortED variants, 1st:{}, 2nd:{}...\".format(len(vars1),len(vars2)))\n",
    "        print(\"getting mutated seq...\")\n",
    "        \n",
    "        allele1=self.variant_extractor.extract(\n",
    "                interval, variants=vars1,\n",
    "                anchor=anchor, fixed_len=fixed_len)        \n",
    "        allele2=self.variant_extractor.extract(\n",
    "                interval, variants=vars2,\n",
    "                anchor=anchor, fixed_len=fixed_len)\n",
    "        \n",
    "        return [allele1,allele2]\n",
    "    \n"
   ]
  },
  {
   "cell_type": "code",
   "execution_count": 95,
   "metadata": {},
   "outputs": [
    {
     "name": "stdout",
     "output_type": "stream",
     "text": [
      "getting variants...\n",
      "sorting variants, homo:0, hetero:1...\n",
      "sortED variants, 1st:1, 2nd:0...\n",
      "getting mutated seq...\n",
      "['ccctaaAcct', 'ccctaacccc']\n"
     ]
    },
    {
     "data": {
      "text/plain": [
       "False"
      ]
     },
     "execution_count": 95,
     "metadata": {},
     "output_type": "execute_result"
    }
   ],
   "source": [
    "#test AllelicVCFSeqExtractor\n",
    "from pybedtools import Interval\n",
    "sample1=\"GTEX-QV31-0003-SM-5URDH\"\n",
    "sample2=\"GTEX-R55E-0003-SM-5URBX\"\n",
    "#\"1 for chr1\" in this vcf-file....\n",
    "testInterval= Interval(\"chr1\", start=10140, end=10150, strand=\"+\", otherfields=None) \n",
    "testExtractor=AllelicVCFSeqExtractor('/s/genomes/human/hg38/hg38.fa',\"/data/ouga/home/ag_gagneur/reinharj/REP/rep/notebooks/bazenji/test.vcf.gz\")\n",
    "testOut=testExtractor.extract(testInterval,10143,sample2)\n",
    "print(testOut)\n",
    "testOut[0]==testOut[1]"
   ]
  },
  {
   "cell_type": "code",
   "execution_count": 96,
   "metadata": {},
   "outputs": [
    {
     "name": "stdout",
     "output_type": "stream",
     "text": [
      "ccctaacccc\n"
     ]
    },
    {
     "data": {
      "text/plain": [
       "True"
      ]
     },
     "execution_count": 96,
     "metadata": {},
     "output_type": "execute_result"
    }
   ],
   "source": [
    "from pybedtools import Interval\n",
    "from kipoiseq.extractors import SingleSeqVCFSeqExtractor\n",
    "sample1=\"GTEX-QV31-0003-SM-5URDH\" #homo-neg at first snp (1_10146_AC_A_b37) \n",
    "sample2=\"GTEX-R55E-0003-SM-5URBX\" #hetero at first snp (1:10146)\n",
    "sample5=\"GTEX-N7MS-0009-SM-5JK3E\" #homo-neg for snp at 1_10177_A_C_b37 (sample 1/2 homo-unknown there)\n",
    "sample23=\"GTEX-OXRK-0004-SM-5JK32\" #homo-pos for 1_10327_T_C_b37\n",
    "sampleNo=\"GTEX-notexisting\"\n",
    "#\"1 for chr1\" in this vcf-file....\n",
    "testInterval= Interval(\"chr1\", start=10140, end=10150, strand=\"+\", otherfields=None) \n",
    "testExtractor=SingleSeqVCFSeqExtractor('/s/genomes/human/hg38/hg38.fa',\"/data/ouga/home/ag_gagneur/reinharj/REP/rep/notebooks/bazenji/test.vcf.gz\")\n",
    "testOut=testExtractor.extract(testInterval,10143,sample23)\n",
    "print(testOut)\n",
    "testOut[0]==testOut[1]"
   ]
  },
  {
   "cell_type": "markdown",
   "metadata": {},
   "source": [
    "testing pyvcf"
   ]
  },
  {
   "cell_type": "code",
   "execution_count": 2,
   "metadata": {},
   "outputs": [
    {
     "name": "stderr",
     "output_type": "stream",
     "text": [
      "/opt/modules/i12g/anaconda/3-5.0.1/envs/rep/lib/python3.6/importlib/_bootstrap.py:219: RuntimeWarning: numpy.dtype size changed, may indicate binary incompatibility. Expected 96, got 88\n",
      "  return f(*args, **kwds)\n"
     ]
    }
   ],
   "source": []
  },
  {
   "cell_type": "code",
   "execution_count": 7,
   "metadata": {},
   "outputs": [
    {
     "name": "stdout",
     "output_type": "stream",
     "text": [
      "chr1\t10230\t1_10230_AC_A_b37\tAC\tA\t97.75\tLCR\tAC=1;AF=0.003704;AN=270;BaseQRankSum=0.747;CCC=2596;ClippingRankSum=-0.747;DP=9628;FS=0;GQ_MEAN=10.21;GQ_STDDEV=15.23;HWP=0.0046;InbreedingCoeff=-0.1778;MQ=31.9;MQ0=0;MQRankSum=0.747;NCC=232;NEGATIVE_TRAIN_SITE;QD=6.98;ReadPosRankSum=-0.747;VQSLOD=0.412;culprit=FS\tGT:AD:DP:GQ:PL\t0/0:96,0:96:0:0,0,777\t./.:64,0:64:.:.\t0/0:91,0:91:0:0,0,401\t0/0:88,0:88:0:0,0,640\t0/0:21,0:21:0:0,0,45\t0/0:2,0:2:6:0,6,55\t0/0:22,0:22:0:0,0,431\t0/0:21,0:21:0:0,0,95\t0/0:48,0:48:0:0,0,54\t0/0:60,0:60:0:0,0,1314\t./.:12,0:12:.:.\t0/0:48,0:48:0:0,0,468\t0/0:28,0:28:0:0,0,215\t0/0:23,0:23:30:0,30,450\t./.:25,0:25:.:.\t0/0:51,0:51:40:0,40,1392\t0/0:66,0:66:0:0,0,708\t0/0:27,0:27:0:0,0,317\t0/0:64,0:64:0:0,0,434\t0/0:40,0:40:0:0,0,478\t0/0:65,0:65:0:0,0,1102\t0/0:22,0:22:14:0,14,574\t0/0:39,0:39:0:0,0,908\t0/0:23,0:23:0:0,0,194\t0/0:34,0:34:8:0,8,783\t0/0:19,0:19:0:0,0,325\t0/0:38,0:38:0:0,0,601\t0/0:64,0:64:0:0,0,735\t0/0:61,0:61:0:0,0,570\t0/0:48,0:48:0:0,0,827\t0/0:53,0:53:0:0,0,332\t0/0:35,0:35:0:0,0,383\t0/0:14,0:14:0:0,0,216\t0/0:16,0:16:12:0,12,414\t0/0:36,0:36:10:0,10,1002\t0/0:11,0:11:0:0,0,45\t0/0:11,0:11:0:0,0,179\t0/0:43,0:43:0:0,0,533\t0/0:83,0:83:0:0,0,1004\t0/0:9,0:9:0:0,0,45\t0/0:99,0:99:0:0,0,905\t0/0:17,0:17:0:0,0,313\t0/0:40,0:40:0:0,0,407\t0/0:63,0:63:0:0,0,63\t0/0:69,0:69:0:0,0,439\t0/0:26,0:26:12:0,12,180\t0/0:47,0:47:0:0,0,497\t0/0:14,0:14:0:0,0,299\t./.:1,0:1:.:.\t0/0:19,0:19:0:0,0,234\t0/0:79,0:79:0:0,0,687\t0/0:107,0:107:0:0,0,303\t0/0:101,0:101:0:0,0,844\t0/0:103,0:103:0:0,0,320\t0/0:75,0:75:0:0,0,754\t0/0:79,0:79:0:0,0,646\t0/0:119,0:119:0:0,0,492\t0/0:91,0:91:0:0,0,1353\t0/0:95,0:95:0:0,0,198\t0/0:70,0:70:0:0,0,633\t0/0:88,0:88:0:0,0,586\t0/0:85,0:85:0:0,0,304\t0/0:94,0:94:0:0,0,217\t0/0:79,0:79:0:0,0,736\t0/1:5,0:5:17:17,0,26\t0/0:53,0:53:0:0,0,701\t0/0:90,0:90:0:0,0,930\t0/0:40,0:40:0:0,0,141\t0/0:64,0:64:0:0,0,562\t0/0:13,0:13:0:0,0,45\t0/0:30,0:30:0:0,0,500\t./.:18,0:18:.:.\t./.:76,0:76:.:.\t./.:18,0:18:.:.\t0/0:60,0:60:0:0,0,757\t0/0:56,0:56:0:0,0,285\t0/0:76,0:76:0:0,0,272\t./.:10,0:10:.:.\t0/0:56,0:56:0:0,0,117\t0/0:73,0:73:0:0,0,357\t0/0:28,0:28:37:0,37,630\t0/0:43,0:43:0:0,0,87\t0/0:71,0:71:0:0,0,430\t0/0:81,0:81:0:0,0,1015\t0/0:90,0:90:0:0,0,710\t0/0:120,0:120:0:0,0,727\t0/0:120,0:120:0:0,0,538\t0/0:116,0:116:0:0,0,1351\t0/0:103,0:103:0:0,0,502\t0/0:83,0:83:0:0,0,135\t./.:100,0:100:.:.\t0/0:45,0:45:0:0,0,509\t0/0:90,0:90:0:0,0,551\t0/0:73,0:73:0:0,0,148\t0/0:65,0:65:0:0,0,725\t0/0:73,0:73:0:0,0,795\t0/0:88,0:88:0:0,0,889\t0/0:99,0:99:0:0,0,616\t0/0:96,0:96:0:0,0,317\t0/0:90,0:90:0:0,0,860\t./.:62,0:62:.:.\t0/0:82,0:82:0:0,0,341\t0/0:84,0:84:0:0,0,1009\t0/0:99,0:99:0:0,0,736\t0/0:92,0:92:0:0,0,523\t0/0:88,0:88:0:0,0,611\t0/0:48,0:48:0:0,0,313\t0/0:91,0:91:0:0,0,651\t0/0:158,0:158:0:0,0,892\t0/0:85,0:85:0:0,0,620\t0/0:78,0:78:0:0,0,700\t0/0:74,0:74:0:0,0,640\t0/0:66,0:66:0:0,0,217\t0/0:50,0:50:0:0,0,520\t0/0:59,0:59:0:0,0,484\t0/0:112,0:112:0:0,0,105\t0/0:84,0:84:0:0,0,794\t0/0:69,0:69:0:0,0,179\t0/0:63,0:63:0:0,0,375\t0/0:179,0:179:0:0,0,1173\t0/0:72,0:72:0:0,0,803\t./.:42,0:42:.:.\t0/0:12,0:12:0:0,0,231\t0/0:90,0:90:0:0,0,679\t0/0:94,0:94:0:0,0,216\t0/0:91,0:91:0:0,0,919\t0/0:94,0:94:0:0,0,657\t./.:71,0:71:.:.\t0/0:86,0:86:0:0,0,172\t0/0:80,0:80:0:0,0,971\t0/0:77,0:77:0:0,0,543\t0/0:79,0:79:0:0,0,651\t0/0:118,0:118:0:0,0,695\t./.:83,0:83:.:.\t0/0:73,0:73:0:0,0,541\t0/0:109,0:109:0:0,0,193\t0/0:96,0:96:0:0,0,812\t0/0:174,0:174:0:0,0,806\t0/0:69,0:69:0:0,0,271\t0/0:97,0:97:0:0,0,766\t0/0:109,0:109:0:0,0,1302\t0/0:78,0:78:0:0,0,901\t0/0:83,0:83:0:0,0,913\t0/0:49,0:49:0:0,0,1003\t0/0:63,0:63:0:0,0,562\t0/0:37,0:37:0:0,0,251\t0/0:37,0:37:0:0,0,319\t0/0:49,0:49:0:0,0,512\n",
      "\n"
     ]
    }
   ],
   "source": [
    "from pybedtools import Interval\n",
    "import cyvcf2\n",
    "testVCF=cyvcf2.VCF(\"/data/ouga/home/ag_gagneur/reinharj/REP/rep/notebooks/bazenji/test.vcf.gz\")\n",
    "#testInterval= Interval(\"chr1\", start=10140, end=10146, strand=\"+\", otherfields=None) #end=10145 works, 10146 hangs -> first variant there...\n",
    "testVariantGen=testVCF(\"chr1:10220-10233\")\n",
    "#testVariantGen=testVCF(\"chr1:2-9\") #\"official\" testfile\n",
    "\n",
    "for v in testVariantGen:\n",
    "    print(v)"
   ]
  },
  {
   "cell_type": "code",
   "execution_count": null,
   "metadata": {},
   "outputs": [],
   "source": [
    "import cyvcf2"
   ]
  },
  {
   "cell_type": "code",
   "execution_count": 4,
   "metadata": {},
   "outputs": [
    {
     "data": {
      "text/plain": [
       "'0.10.0'"
      ]
     },
     "execution_count": 4,
     "metadata": {},
     "output_type": "execute_result"
    }
   ],
   "source": [
    "cyvcf2.__version__"
   ]
  },
  {
   "cell_type": "markdown",
   "metadata": {},
   "source": [
    "# Output-writer with Zarr"
   ]
  },
  {
   "cell_type": "code",
   "execution_count": 5,
   "metadata": {},
   "outputs": [
    {
     "name": "stdout",
     "output_type": "stream",
     "text": [
      "Collecting zarr\n",
      "\u001b[?25l  Downloading https://files.pythonhosted.org/packages/30/5d/95f88adf4f50947949942364e9501f0bb06d3e3159018e20c23c1d462ae8/zarr-2.2.0.tar.gz (3.3MB)\n",
      "\u001b[K    100% |████████████████████████████████| 3.3MB 1.3MB/s \n",
      "\u001b[?25hCollecting asciitree (from zarr)\n",
      "  Downloading https://files.pythonhosted.org/packages/2d/6a/885bc91484e1aa8f618f6f0228d76d0e67000b0fdd6090673b777e311913/asciitree-0.3.3.tar.gz\n",
      "Requirement already satisfied: numpy>=1.7 in /data/nasif12/modules_if12/SL7/i12g/anaconda/3-5.0.1/envs/rep/lib/python3.6/site-packages (from zarr) (1.16.0)\n",
      "Collecting fasteners (from zarr)\n",
      "  Downloading https://files.pythonhosted.org/packages/14/3a/096c7ad18e102d4f219f5dd15951f9728ca5092a3385d2e8f79a7c1e1017/fasteners-0.14.1-py2.py3-none-any.whl\n",
      "Collecting numcodecs>=0.5.3 (from zarr)\n",
      "\u001b[?25l  Downloading https://files.pythonhosted.org/packages/6f/1c/b1537659c5900312f77454f3eca25c728bf1b0ab24ccbcca5e1d712a661b/numcodecs-0.6.3.tar.gz (3.8MB)\n",
      "\u001b[K    100% |████████████████████████████████| 3.8MB 1.0MB/s \n",
      "\u001b[?25hRequirement already satisfied: six in /data/nasif12/modules_if12/SL7/i12g/anaconda/3-5.0.1/envs/rep/lib/python3.6/site-packages (from fasteners->zarr) (1.12.0)\n",
      "Collecting monotonic>=0.1 (from fasteners->zarr)\n",
      "  Downloading https://files.pythonhosted.org/packages/ac/aa/063eca6a416f397bd99552c534c6d11d57f58f2e94c14780f3bbf818c4cf/monotonic-1.5-py2.py3-none-any.whl\n",
      "Building wheels for collected packages: zarr, asciitree, numcodecs\n",
      "  Running setup.py bdist_wheel for zarr ... \u001b[?25ldone\n",
      "\u001b[?25h  Stored in directory: /data/ouga/home/ag_gagneur/reinharj/.cache/pip/wheels/60/68/03/ed754a88e8af5cc9d77d6b043ac7913a69a0c4bccf036b56b2\n",
      "  Running setup.py bdist_wheel for asciitree ... \u001b[?25ldone\n",
      "\u001b[?25h  Stored in directory: /data/ouga/home/ag_gagneur/reinharj/.cache/pip/wheels/1d/d9/58/9808b306744df0208fccc640d3d9952a5bc7468502d42897d5\n",
      "  Running setup.py bdist_wheel for numcodecs ... \u001b[?25ldone\n",
      "\u001b[?25h  Stored in directory: /data/ouga/home/ag_gagneur/reinharj/.cache/pip/wheels/75/ea/37/8a1c2b6e937606f90dd0a9659783790d922efd1cf98d7a82a9\n",
      "Successfully built zarr asciitree numcodecs\n",
      "Installing collected packages: asciitree, monotonic, fasteners, numcodecs, zarr\n",
      "Successfully installed asciitree-0.3.3 fasteners-0.14.1 monotonic-1.5 numcodecs-0.6.3 zarr-2.2.0\n"
     ]
    }
   ],
   "source": [
    "! pip install zarr"
   ]
  },
  {
   "cell_type": "code",
   "execution_count": 128,
   "metadata": {},
   "outputs": [
    {
     "name": "stdout",
     "output_type": "stream",
     "text": [
      "....writing batch\n"
     ]
    }
   ],
   "source": [
    "class ZarrVariantPredWriter(object):\n",
    "    def __init__(self,outputFile,genes,samples,cAlleles,genePositions,predSize):\n",
    "        \"\"\"set up data array, annotate with attributes\n",
    "        cAlleles and predSize are given as raw numbers/dimension size\n",
    "        genes, samples and genePositions are given as elements\n",
    "        \n",
    "        \"\"\"\n",
    "        import zarr\n",
    "        self.filename=outputFile\n",
    "        self.cGenes=len(genes)\n",
    "        self.cSamples=len(samples)\n",
    "        self.cGenePositions=len(genePositions)\n",
    "        self.cAlleles=cAlleles\n",
    "        self.cPredSize=predSize\n",
    "        #Allele got canceled, just append allele 2 to allele1\n",
    "        self.data=zarr.open(self.filename, mode='w', shape=(self.cGenes,self.cSamples,self.cAlleles,self.cGenePositions,self.cPredSize),\n",
    "                 dtype='f8') #TODO: precision right? chunksize left out for now, are there default values? \"chunks=(1000, 1000),\"\n",
    "        \n",
    "        self.data.attrs['genes'] = self.as_idx_dict(genes)\n",
    "        self.data.attrs[\"samples\"]=self.as_idx_dict(samples)\n",
    "        self.data.attrs[\"genePositions\"]=self.as_idx_dict(genePositions)\n",
    "    @staticmethod    \n",
    "    def as_idx_dict(lis):\n",
    "        \"\"\"for O1 lookup\"\"\"\n",
    "        dic={}\n",
    "        for idx,elem in enumerate(lis):\n",
    "            dic[elem]=idx\n",
    "        return dic\n",
    "        \n",
    "    def batch_write(self,annotatedPreds):\n",
    "        \"\"\"plug in predictions in right position, given by metadata and annotation-array\n",
    "\n",
    "        gene, sample and allele can differ from prediction to prediction\n",
    "        expects all locations on gene in one go\n",
    "        \"\"\"\n",
    "        print(\"....writing batch\")\n",
    "        for inputIdx,predPerInput in enumerate(annotatedPreds[\"preds\"]):\n",
    "            geneId=annotatedPreds[\"metadata\"][\"gene_id\"][inputIdx]\n",
    "            sampleId=annotatedPreds[\"metadata\"][\"sample_id\"][inputIdx]\n",
    "            \n",
    "            alleleIdx=annotatedPreds[\"metadata\"][\"allele_id\"][inputIdx]\n",
    "            geneIdx=self.data.attrs[\"genes\"][geneId]\n",
    "            sampleIdx=self.data.attrs[\"samples\"][sampleId]\n",
    "            self.data[geneIdx,sampleIdx,alleleIdx]=predPerInput\n",
    "\n",
    "        return\n",
    "    def close(self):\n",
    "        \"\"\"\n",
    "        According to https://zarr.readthedocs.io/en/stable/api/creation.html:\n",
    "        Notes\n",
    "        There is no need to close an array. Data are automatically flushed to the file system.\"\"\"\n",
    "        pass \n",
    "        \n",
    "\n",
    "        \n",
    "import numpy as np \n",
    "test=ZarrVariantPredWriter(\"test\",[\"gene1\",\"gene2\",\"gene4\"],[\"samp1\",\"samp2\"],2,[0],10)\n",
    "testPreds=np.array([range(0,10),range(10,20)])\n",
    "testPredsShapedArray=np.reshape(testPreds,(2,1,10))\n",
    "testBatch={\"preds\":testPredsShapedArray,\n",
    "          \"metadata\":{\n",
    "              \"gene_id\":np.array([\"gene4\",\"gene2\"]),\n",
    "              \"sample_id\":np.array([\"samp2\",\"samp1\"]),\n",
    "              \"allele_id\":np.array([1,1])\n",
    "          }}\n",
    "test.batch_write(testBatch)\n",
    "\n",
    "#Todo: read and check..."
   ]
  },
  {
   "cell_type": "markdown",
   "metadata": {},
   "source": [
    "Use with Async batchwriter for buffering"
   ]
  },
  {
   "cell_type": "code",
   "execution_count": 132,
   "metadata": {},
   "outputs": [
    {
     "ename": "AttributeError",
     "evalue": "module 'kipoi.writers' has no attribute 'AsyncBatchWriter'",
     "output_type": "error",
     "traceback": [
      "\u001b[0;31m---------------------------------------------------------------------------\u001b[0m",
      "\u001b[0;31mAttributeError\u001b[0m                            Traceback (most recent call last)",
      "\u001b[0;32m<ipython-input-132-25f7769acc35>\u001b[0m in \u001b[0;36m<module>\u001b[0;34m\u001b[0m\n\u001b[1;32m      1\u001b[0m \u001b[0;32mimport\u001b[0m \u001b[0mkipoi\u001b[0m\u001b[0;34m.\u001b[0m\u001b[0mwriters\u001b[0m \u001b[0;32mas\u001b[0m \u001b[0mwrt\u001b[0m\u001b[0;34m\u001b[0m\u001b[0;34m\u001b[0m\u001b[0m\n\u001b[0;32m----> 2\u001b[0;31m \u001b[0mwrt\u001b[0m\u001b[0;34m.\u001b[0m\u001b[0mAsyncBatchWriter\u001b[0m\u001b[0;34m(\u001b[0m\u001b[0;34m)\u001b[0m\u001b[0;34m\u001b[0m\u001b[0;34m\u001b[0m\u001b[0m\n\u001b[0m",
      "\u001b[0;31mAttributeError\u001b[0m: module 'kipoi.writers' has no attribute 'AsyncBatchWriter'"
     ]
    }
   ],
   "source": [
    "import kipoi.writers as wrt\n",
    "wrt.AsyncBatchWriter()"
   ]
  },
  {
   "cell_type": "code",
   "execution_count": 144,
   "metadata": {},
   "outputs": [
    {
     "name": "stdout",
     "output_type": "stream",
     "text": [
      "Collecting kipoi\n",
      "  Using cached https://files.pythonhosted.org/packages/61/27/50ce54d62cc4a2696fe62290634f924bd80e54282964a198146e9c1691dc/kipoi-0.6.9-py3-none-any.whl\n",
      "Requirement already satisfied, skipping upgrade: attrs>=17.4.0 in /data/nasif12/modules_if12/SL7/i12g/anaconda/3-5.0.1/envs/rep/lib/python3.6/site-packages (from kipoi) (18.2.0)\n",
      "Requirement already satisfied, skipping upgrade: future in /data/nasif12/modules_if12/SL7/i12g/anaconda/3-5.0.1/envs/rep/lib/python3.6/site-packages (from kipoi) (0.17.1)\n",
      "Requirement already satisfied, skipping upgrade: pyyaml in /data/nasif12/modules_if12/SL7/i12g/anaconda/3-5.0.1/envs/rep/lib/python3.6/site-packages (from kipoi) (3.13)\n",
      "Requirement already satisfied, skipping upgrade: tqdm in /data/nasif12/modules_if12/SL7/i12g/anaconda/3-5.0.1/envs/rep/lib/python3.6/site-packages (from kipoi) (4.28.1)\n",
      "Requirement already satisfied, skipping upgrade: h5py in /data/nasif12/modules_if12/SL7/i12g/anaconda/3-5.0.1/envs/rep/lib/python3.6/site-packages (from kipoi) (2.8.0)\n",
      "Requirement already satisfied, skipping upgrade: urllib3>=1.21.1 in /data/nasif12/modules_if12/SL7/i12g/anaconda/3-5.0.1/envs/rep/lib/python3.6/site-packages (from kipoi) (1.22)\n",
      "Requirement already satisfied, skipping upgrade: colorlog in /data/nasif12/modules_if12/SL7/i12g/anaconda/3-5.0.1/envs/rep/lib/python3.6/site-packages (from kipoi) (4.0.2)\n",
      "Requirement already satisfied, skipping upgrade: deprecation>=2.0.6 in /data/nasif12/modules_if12/SL7/i12g/anaconda/3-5.0.1/envs/rep/lib/python3.6/site-packages (from kipoi) (2.0.6)\n",
      "Requirement already satisfied, skipping upgrade: kipoi-conda>=0.1.0 in /data/nasif12/modules_if12/SL7/i12g/anaconda/3-5.0.1/envs/rep/lib/python3.6/site-packages (from kipoi) (0.1.0)\n",
      "Requirement already satisfied, skipping upgrade: cookiecutter in /data/nasif12/modules_if12/SL7/i12g/anaconda/3-5.0.1/envs/rep/lib/python3.6/site-packages (from kipoi) (1.6.0)\n",
      "Requirement already satisfied, skipping upgrade: tinydb in /data/nasif12/modules_if12/SL7/i12g/anaconda/3-5.0.1/envs/rep/lib/python3.6/site-packages (from kipoi) (3.12.2)\n",
      "Requirement already satisfied, skipping upgrade: related>=0.6.0 in /data/nasif12/modules_if12/SL7/i12g/anaconda/3-5.0.1/envs/rep/lib/python3.6/site-packages (from kipoi) (0.7.2)\n",
      "Requirement already satisfied, skipping upgrade: enum34 in /data/nasif12/modules_if12/SL7/i12g/anaconda/3-5.0.1/envs/rep/lib/python3.6/site-packages (from kipoi) (1.1.6)\n",
      "Requirement already satisfied, skipping upgrade: pandas>=0.21.0 in /data/nasif12/modules_if12/SL7/i12g/anaconda/3-5.0.1/envs/rep/lib/python3.6/site-packages (from kipoi) (0.23.4)\n",
      "Requirement already satisfied, skipping upgrade: kipoi-utils>=0.1.2 in /data/nasif12/modules_if12/SL7/i12g/anaconda/3-5.0.1/envs/rep/lib/python3.6/site-packages (from kipoi) (0.1.8)\n",
      "Requirement already satisfied, skipping upgrade: numpy in /data/nasif12/modules_if12/SL7/i12g/anaconda/3-5.0.1/envs/rep/lib/python3.6/site-packages (from kipoi) (1.16.0)\n",
      "Requirement already satisfied, skipping upgrade: jinja2 in /data/nasif12/modules_if12/SL7/i12g/anaconda/3-5.0.1/envs/rep/lib/python3.6/site-packages (from kipoi) (2.10)\n",
      "Requirement already satisfied, skipping upgrade: six in /data/nasif12/modules_if12/SL7/i12g/anaconda/3-5.0.1/envs/rep/lib/python3.6/site-packages (from h5py->kipoi) (1.12.0)\n",
      "Requirement already satisfied, skipping upgrade: packaging in /data/nasif12/modules_if12/SL7/i12g/anaconda/3-5.0.1/envs/rep/lib/python3.6/site-packages (from deprecation>=2.0.6->kipoi) (19.0)\n",
      "Requirement already satisfied, skipping upgrade: poyo>=0.1.0 in /data/nasif12/modules_if12/SL7/i12g/anaconda/3-5.0.1/envs/rep/lib/python3.6/site-packages (from cookiecutter->kipoi) (0.4.2)\n",
      "Requirement already satisfied, skipping upgrade: click>=5.0 in /data/nasif12/modules_if12/SL7/i12g/anaconda/3-5.0.1/envs/rep/lib/python3.6/site-packages (from cookiecutter->kipoi) (7.0)\n",
      "Requirement already satisfied, skipping upgrade: whichcraft>=0.4.0 in /data/nasif12/modules_if12/SL7/i12g/anaconda/3-5.0.1/envs/rep/lib/python3.6/site-packages (from cookiecutter->kipoi) (0.5.2)\n",
      "Requirement already satisfied, skipping upgrade: jinja2-time>=0.1.0 in /data/nasif12/modules_if12/SL7/i12g/anaconda/3-5.0.1/envs/rep/lib/python3.6/site-packages (from cookiecutter->kipoi) (0.2.0)\n",
      "Requirement already satisfied, skipping upgrade: requests>=2.18.0 in /data/nasif12/modules_if12/SL7/i12g/anaconda/3-5.0.1/envs/rep/lib/python3.6/site-packages (from cookiecutter->kipoi) (2.21.0)\n",
      "Requirement already satisfied, skipping upgrade: binaryornot>=0.2.0 in /data/nasif12/modules_if12/SL7/i12g/anaconda/3-5.0.1/envs/rep/lib/python3.6/site-packages (from cookiecutter->kipoi) (0.4.4)\n",
      "Requirement already satisfied, skipping upgrade: python-dateutil in /data/nasif12/modules_if12/SL7/i12g/anaconda/3-5.0.1/envs/rep/lib/python3.6/site-packages (from related>=0.6.0->kipoi) (2.7.5)\n",
      "Requirement already satisfied, skipping upgrade: pytz>=2011k in /data/nasif12/modules_if12/SL7/i12g/anaconda/3-5.0.1/envs/rep/lib/python3.6/site-packages (from pandas>=0.21.0->kipoi) (2018.7)\n",
      "Requirement already satisfied, skipping upgrade: MarkupSafe>=0.23 in /data/nasif12/modules_if12/SL7/i12g/anaconda/3-5.0.1/envs/rep/lib/python3.6/site-packages (from jinja2->kipoi) (1.1.0)\n",
      "Requirement already satisfied, skipping upgrade: pyparsing>=2.0.2 in /data/nasif12/modules_if12/SL7/i12g/anaconda/3-5.0.1/envs/rep/lib/python3.6/site-packages (from packaging->deprecation>=2.0.6->kipoi) (2.3.0)\n",
      "Requirement already satisfied, skipping upgrade: arrow in /data/nasif12/modules_if12/SL7/i12g/anaconda/3-5.0.1/envs/rep/lib/python3.6/site-packages (from jinja2-time>=0.1.0->cookiecutter->kipoi) (0.12.1)\n",
      "Requirement already satisfied, skipping upgrade: certifi>=2017.4.17 in /data/nasif12/modules_if12/SL7/i12g/anaconda/3-5.0.1/envs/rep/lib/python3.6/site-packages (from requests>=2.18.0->cookiecutter->kipoi) (2019.3.9)\n",
      "Requirement already satisfied, skipping upgrade: idna<2.9,>=2.5 in /data/nasif12/modules_if12/SL7/i12g/anaconda/3-5.0.1/envs/rep/lib/python3.6/site-packages (from requests>=2.18.0->cookiecutter->kipoi) (2.8)\n",
      "Requirement already satisfied, skipping upgrade: chardet<3.1.0,>=3.0.2 in /data/nasif12/modules_if12/SL7/i12g/anaconda/3-5.0.1/envs/rep/lib/python3.6/site-packages (from requests>=2.18.0->cookiecutter->kipoi) (3.0.4)\n",
      "Installing collected packages: kipoi\n",
      "  Found existing installation: kipoi 0.6.5\n",
      "    Uninstalling kipoi-0.6.5:\n",
      "\u001b[31mCould not install packages due to an EnvironmentError: [Errno 13] Permission denied: '/data/nasif12/modules_if12/SL7/i12g/anaconda/3-5.0.1/envs/rep/bin/kipoi'\n",
      "Consider using the `--user` option or check the permissions.\n",
      "\u001b[0m\n"
     ]
    }
   ],
   "source": [
    "!pip install kipoi -U"
   ]
  },
  {
   "cell_type": "markdown",
   "metadata": {},
   "source": [
    "# TSSloader"
   ]
  },
  {
   "cell_type": "code",
   "execution_count": 122,
   "metadata": {},
   "outputs": [],
   "source": [
    "#data-loader tut here: https://stanford.edu/~shervine/blog/pytorch-how-to-generate-data-parallel\n",
    "from torch.utils.data import Dataset\n",
    "#formerly \"repDataloader\"\n",
    "class RepDataset(Dataset):\n",
    "    \n",
    "    from pybedtools import Interval\n",
    "    \n",
    "    def __init__(self,refGenFasta,vcfFile,tssFile,n_upstream,n_downstream,sample_ids,gene_ids=None):\n",
    "        \"\"\"set instance-vars, read TSS completely, load (dummy) VCFfastaExtractor\"\"\"\n",
    "\n",
    "        import pandas as pd\n",
    "\n",
    "        from kipoiseq.transforms import ReorderedOneHot\n",
    "        self.transform=ReorderedOneHot()\n",
    "        \n",
    "        \n",
    "        self.vcfFile=vcfFile\n",
    "        self.refGenFasta=refGenFasta\n",
    "        self.varExtractor=None\n",
    "        #AllelicVCFSeqExtractor(self.refGenFasta,vcfFile)#VcfFastaDummy(vcfFile,refGenFasta)\n",
    "        \n",
    "        self.sampleIDs=sample_ids\n",
    "        self.interval=None\n",
    "        self.refInterval=rangeInterval(n_upstream,n_downstream)\n",
    "        \n",
    "        \n",
    "        #TODO use only prot-coding? Separate file or bound to schema of example file?\n",
    "        self.tssCollection=pd.read_csv(tssFile) # needs field \"TSS\" with RegGen position and \"strand\" with \"+\" or \"-\"\n",
    "        if gene_ids:\n",
    "            self.geneIDs= gene_ids\n",
    "            tssCollection=tssCollection.loc[tssCollection['id'].isin( gene_ids)]\n",
    "            self.geneIDs=self.tssCollection[\"id\"].values #maybe specified IDs not in file...\n",
    "        else:\n",
    "            self.geneIDs=self.tssCollection[\"id\"].values\n",
    "        \n",
    "\n",
    "\n",
    "    def __len__(self):\n",
    "        return len(self.sampleIDs)*len(self.geneIDs)\n",
    "    def __getitem__(self,idx):\n",
    "        import numpy as np\n",
    "        import copy\n",
    "        \"\"\"transform idx to sample- and tss-id, then get both alleles from extractor\"\"\"\n",
    "        \n",
    "        #each worker needs own file handle:\n",
    "        if self.varExtractor==None:\n",
    "            self.varExtractor=AllelicVCFSeqExtractor(self.refGenFasta,self.vcfFile)\n",
    "        if self.interval==None:\n",
    "            self.interval=copy.deepcopy(self.refInterval)\n",
    "        \n",
    "        sampleIdx=int(idx/len(self.tssCollection))\n",
    "        tssIdx=int(idx%len(self.tssCollection))\n",
    "        \n",
    "        \n",
    "        chromo=self.tssCollection.loc[tssIdx,\"seqnames\"]\n",
    "        strand=self.tssCollection.loc[tssIdx,\"strand\"]\n",
    "        tssStart=self.tssCollection.loc[tssIdx,\"TSS\"]\n",
    "        \n",
    "        self.interval.setAnchor(tssStart)\n",
    "        genomic_interval=self.getGenomicInterval(chromo,strand)  \n",
    "        alleles= self.varExtractor.extract(genomic_interval,self.interval.anchor,self.sampleIDs[sampleIdx]) #strand-info where?\n",
    "        \n",
    "        #formatting output\n",
    "        gene_id=self.tssCollection.loc[tssIdx,\"id\"]\n",
    "        sample_id=self.sampleIDs[sampleIdx]\n",
    "        returnBatch={}\n",
    "        returnBatch[\"inputs\"]=[self.transform(alleles[0].upper()),self.transform(alleles[1].upper())]\n",
    "        #need np.array-conversion, or it will concat on other dimension for batchsize>1\n",
    "        returnBatch[\"metadata\"]={\"gene_id\":np.array([gene_id]*2),\"sample_id\":np.array([sample_id]*2),\"allele_id\":np.array([0,1])} \n",
    "        return returnBatch\n",
    "    \n",
    "    def getGenomicInterval(self,chromosome,strand):\n",
    "        \"\"\"converts internal interval to bedInterval as used in extractor\"\"\"\n",
    "        from pybedtools import Interval\n",
    "        \n",
    "        return Interval(chromosome, start=self.interval.lower, end=self.interval.upper, strand=strand, otherfields=None)\n",
    "    def get_gene_ids(self):\n",
    "        return self.geneIDs\n",
    "        "
   ]
  },
  {
   "cell_type": "markdown",
   "metadata": {},
   "source": [
    "# actual pipeline"
   ]
  },
  {
   "cell_type": "code",
   "execution_count": 79,
   "metadata": {},
   "outputs": [],
   "source": [
    "#make test-tss file\n",
    "#! head -n 20 /s/project/avsec/ExPecto/resources/geneanno.csv> testTSS.csv\n",
    "tssFile=\"testTSS.csv\""
   ]
  },
  {
   "cell_type": "code",
   "execution_count": 110,
   "metadata": {},
   "outputs": [],
   "source": [
    "#params\n",
    "basenjiSeqSize=131072 \n",
    "tssFile=\"testTSS.csv\"\n",
    "refGen='/s/genomes/human/hg38/hg38.fa'\n",
    "vcfFile=\"/data/ouga/home/ag_gagneur/reinharj/REP/rep/notebooks/bazenji/test.vcf.gz\"\n",
    "outfile=\"test.zarr\"\n",
    "\n",
    "sample1=\"GTEX-QV31-0003-SM-5URDH\" #homo-neg at first snp (1_10146_AC_A_b37) \n",
    "sample2=\"GTEX-R55E-0003-SM-5URBX\" #hetero at first snp (1:10146)\n",
    "sample5=\"GTEX-N7MS-0009-SM-5JK3E\" #homo-neg for snp at 1_10177_A_C_b37 (sample 1/2 homo-unknown there)\n",
    "sample23=\"GTEX-OXRK-0004-SM-5JK32\" #homo-pos for 1_10327_T_C_b37\n",
    "samples=[sample1,sample2,sample5,sample23]\n",
    "\n",
    "cAlleles=2\n",
    "predSize=4229\n",
    "binsOnSeq=[int(960/2)] #must be continous!"
   ]
  },
  {
   "cell_type": "code",
   "execution_count": 123,
   "metadata": {},
   "outputs": [
    {
     "name": "stdout",
     "output_type": "stream",
     "text": [
      "getting variants...\n",
      "sorting variants, homo:0, hetero:0...\n",
      "sortED variants, 1st:0, 2nd:0...\n",
      "getting mutated seq...\n"
     ]
    },
    {
     "name": "stderr",
     "output_type": "stream",
     "text": [
      "no intervals found for b'/data/ouga/home/ag_gagneur/reinharj/REP/rep/notebooks/bazenji/test.vcf.gz' at chrX:99774263-99905335\n",
      "no intervals found for b'/data/ouga/home/ag_gagneur/reinharj/REP/rep/notebooks/bazenji/test.vcf.gz' at chrX:99774263-99905335\n"
     ]
    }
   ],
   "source": [
    "#test single batch\n",
    "testData = RepDataset(refGen,vcfFile,tssFile,-int(basenjiSeqSize/2),int(basenjiSeqSize/2),samples)\n",
    "geneIDs= testData.get_gene_ids()\n",
    "testBatch=testData.__getitem__(1)"
   ]
  },
  {
   "cell_type": "code",
   "execution_count": 70,
   "metadata": {},
   "outputs": [
    {
     "data": {
      "text/plain": [
       "array(['ENSG00000000003', 'ENSG00000000005', 'ENSG00000000419',\n",
       "       'ENSG00000000457', 'ENSG00000000460', 'ENSG00000000938',\n",
       "       'ENSG00000000971', 'ENSG00000001036', 'ENSG00000001084',\n",
       "       'ENSG00000001167', 'ENSG00000001460', 'ENSG00000001461',\n",
       "       'ENSG00000001497', 'ENSG00000001561', 'ENSG00000001617',\n",
       "       'ENSG00000001626', 'ENSG00000001629', 'ENSG00000001630',\n",
       "       'ENSG00000001631'], dtype=object)"
      ]
     },
     "execution_count": 70,
     "metadata": {},
     "output_type": "execute_result"
    }
   ],
   "source": [
    "testData.get_gene_ids()"
   ]
  },
  {
   "cell_type": "code",
   "execution_count": 106,
   "metadata": {},
   "outputs": [
    {
     "name": "stdout",
     "output_type": "stream",
     "text": [
      "Collecting biopython==1.73\n",
      "  Using cached https://files.pythonhosted.org/packages/28/15/8ac646ff24cfa2588b4d5e5ea51e8d13f3d35806bd9498fbf40ef79026fd/biopython-1.73-cp36-cp36m-manylinux1_x86_64.whl\n",
      "Requirement already satisfied: numpy in /data/nasif12/modules_if12/SL7/i12g/anaconda/3-5.0.1/envs/rep/lib/python3.6/site-packages (from biopython==1.73) (1.16.0)\n",
      "Installing collected packages: biopython\n",
      "  Found existing installation: biopython 1.72\n",
      "    Uninstalling biopython-1.72:\n",
      "      Successfully uninstalled biopython-1.72\n",
      "Successfully installed biopython-1.73\n"
     ]
    }
   ],
   "source": [
    "!pip install biopython==1.73"
   ]
  },
  {
   "cell_type": "code",
   "execution_count": 129,
   "metadata": {},
   "outputs": [
    {
     "name": "stdout",
     "output_type": "stream",
     "text": [
      "Using downloaded and verified file: /data/nasif12/home_if12/reinharj/.kipoi/models/Basenji/downloaded/model_files/ckp/model.meta\n",
      "Using downloaded and verified file: /data/nasif12/home_if12/reinharj/.kipoi/models/Basenji/downloaded/model_files/ckp/model.index\n",
      "Using downloaded and verified file: /data/nasif12/home_if12/reinharj/.kipoi/models/Basenji/downloaded/model_files/ckp/model.data-00000-of-00001\n",
      "Using downloaded and verified file: /data/nasif12/home_if12/reinharj/.kipoi/models/Basenji/downloaded/model_files/const_feed_dict_pkl/3a76c37eb9ad255680ba774b110de1be\n",
      "INFO:tensorflow:Restoring parameters from /data/nasif12/home_if12/reinharj/.kipoi/models/Basenji/downloaded/model_files/ckp/model\n",
      "getting variants...\n",
      "sorting variants, homo:0, hetero:0...\n",
      "sortED variants, 1st:0, 2nd:0...\n",
      "getting mutated seq...\n"
     ]
    },
    {
     "name": "stderr",
     "output_type": "stream",
     "text": [
      "no intervals found for b'/data/ouga/home/ag_gagneur/reinharj/REP/rep/notebooks/bazenji/test.vcf.gz' at chrX:99829452-99960524\n",
      "no intervals found for b'/data/ouga/home/ag_gagneur/reinharj/REP/rep/notebooks/bazenji/test.vcf.gz' at chrX:99829452-99960524\n"
     ]
    },
    {
     "name": "stdout",
     "output_type": "stream",
     "text": [
      "....writing batch\n",
      "getting variants...\n",
      "sorting variants, homo:0, hetero:0...\n",
      "sortED variants, 1st:0, 2nd:0...\n",
      "getting mutated seq...\n"
     ]
    },
    {
     "name": "stderr",
     "output_type": "stream",
     "text": [
      "no intervals found for b'/data/ouga/home/ag_gagneur/reinharj/REP/rep/notebooks/bazenji/test.vcf.gz' at chrX:99774263-99905335\n",
      "no intervals found for b'/data/ouga/home/ag_gagneur/reinharj/REP/rep/notebooks/bazenji/test.vcf.gz' at chrX:99774263-99905335\n"
     ]
    },
    {
     "name": "stdout",
     "output_type": "stream",
     "text": [
      "....writing batch\n",
      "getting variants...\n",
      "sorting variants, homo:0, hetero:0...\n",
      "sortED variants, 1st:0, 2nd:0...\n",
      "getting mutated seq...\n"
     ]
    },
    {
     "name": "stderr",
     "output_type": "stream",
     "text": [
      "no intervals found for b'/data/ouga/home/ag_gagneur/reinharj/REP/rep/notebooks/bazenji/test.vcf.gz' at chr20:49509556-49640628\n",
      "no intervals found for b'/data/ouga/home/ag_gagneur/reinharj/REP/rep/notebooks/bazenji/test.vcf.gz' at chr20:49509556-49640628\n"
     ]
    },
    {
     "name": "stdout",
     "output_type": "stream",
     "text": [
      "....writing batch\n",
      "getting variants...\n",
      "sorting variants, homo:0, hetero:0...\n",
      "sortED variants, 1st:0, 2nd:0...\n",
      "getting mutated seq...\n",
      "....writing batch\n",
      "getting variants...\n",
      "sorting variants, homo:0, hetero:0...\n",
      "sortED variants, 1st:0, 2nd:0...\n",
      "getting mutated seq...\n"
     ]
    },
    {
     "ename": "KeyboardInterrupt",
     "evalue": "",
     "output_type": "error",
     "traceback": [
      "\u001b[0;31m---------------------------------------------------------------------------\u001b[0m",
      "\u001b[0;31mKeyboardInterrupt\u001b[0m                         Traceback (most recent call last)",
      "\u001b[0;32m<ipython-input-129-faf4588547af>\u001b[0m in \u001b[0;36m<module>\u001b[0;34m\u001b[0m\n\u001b[1;32m     27\u001b[0m \u001b[0;34m\u001b[0m\u001b[0m\n\u001b[1;32m     28\u001b[0m     \u001b[0mwriter\u001b[0m\u001b[0;34m.\u001b[0m\u001b[0mclose\u001b[0m\u001b[0;34m(\u001b[0m\u001b[0;34m)\u001b[0m\u001b[0;34m\u001b[0m\u001b[0;34m\u001b[0m\u001b[0m\n\u001b[0;32m---> 29\u001b[0;31m \u001b[0mpred_and_store\u001b[0m\u001b[0;34m(\u001b[0m\u001b[0;34m)\u001b[0m\u001b[0;34m\u001b[0m\u001b[0;34m\u001b[0m\u001b[0m\n\u001b[0m",
      "\u001b[0;32m<ipython-input-129-faf4588547af>\u001b[0m in \u001b[0;36mpred_and_store\u001b[0;34m()\u001b[0m\n\u001b[1;32m     17\u001b[0m \u001b[0;34m\u001b[0m\u001b[0m\n\u001b[1;32m     18\u001b[0m     \u001b[0;32mfor\u001b[0m \u001b[0mbatch\u001b[0m \u001b[0;32min\u001b[0m \u001b[0mgenerator\u001b[0m\u001b[0;34m:\u001b[0m\u001b[0;34m\u001b[0m\u001b[0;34m\u001b[0m\u001b[0m\n\u001b[0;32m---> 19\u001b[0;31m         \u001b[0mpreds\u001b[0m\u001b[0;34m=\u001b[0m\u001b[0mmodel\u001b[0m\u001b[0;34m.\u001b[0m\u001b[0mpredict_on_batch\u001b[0m\u001b[0;34m(\u001b[0m\u001b[0mbatch\u001b[0m\u001b[0;34m[\u001b[0m\u001b[0;34m'inputs'\u001b[0m\u001b[0;34m]\u001b[0m\u001b[0;34m)\u001b[0m\u001b[0;34m\u001b[0m\u001b[0;34m\u001b[0m\u001b[0m\n\u001b[0m\u001b[1;32m     20\u001b[0m         \u001b[0;31m#TODO choose/compute right bin AFTER TSS, not over. For now, just use middle\u001b[0m\u001b[0;34m\u001b[0m\u001b[0;34m\u001b[0m\u001b[0;34m\u001b[0m\u001b[0m\n\u001b[1;32m     21\u001b[0m         \u001b[0;31m#see https://github.com/kipoi/models/issues/87 for info n dimensions\u001b[0m\u001b[0;34m\u001b[0m\u001b[0;34m\u001b[0m\u001b[0;34m\u001b[0m\u001b[0m\n",
      "\u001b[0;32m/opt/modules/i12g/anaconda/3-5.0.1/envs/rep/lib/python3.6/site-packages/kipoi/model.py\u001b[0m in \u001b[0;36mpredict_on_batch\u001b[0;34m(self, x)\u001b[0m\n\u001b[1;32m   1512\u001b[0m         \u001b[0mfeed_dict\u001b[0m \u001b[0;34m=\u001b[0m \u001b[0mself\u001b[0m\u001b[0;34m.\u001b[0m\u001b[0m_build_feed_dict\u001b[0m\u001b[0;34m(\u001b[0m\u001b[0mx\u001b[0m\u001b[0;34m)\u001b[0m\u001b[0;34m\u001b[0m\u001b[0;34m\u001b[0m\u001b[0m\n\u001b[1;32m   1513\u001b[0m         return self.sess.run(self.target_ops,\n\u001b[0;32m-> 1514\u001b[0;31m                              feed_dict=merge_dicts(feed_dict, self.const_feed_dict))\n\u001b[0m\u001b[1;32m   1515\u001b[0m \u001b[0;34m\u001b[0m\u001b[0m\n\u001b[1;32m   1516\u001b[0m     \u001b[0;34m@\u001b[0m\u001b[0mclassmethod\u001b[0m\u001b[0;34m\u001b[0m\u001b[0;34m\u001b[0m\u001b[0m\n",
      "\u001b[0;32m/opt/modules/i12g/anaconda/3-5.0.1/envs/rep/lib/python3.6/site-packages/tensorflow/python/client/session.py\u001b[0m in \u001b[0;36mrun\u001b[0;34m(self, fetches, feed_dict, options, run_metadata)\u001b[0m\n\u001b[1;32m    927\u001b[0m     \u001b[0;32mtry\u001b[0m\u001b[0;34m:\u001b[0m\u001b[0;34m\u001b[0m\u001b[0;34m\u001b[0m\u001b[0m\n\u001b[1;32m    928\u001b[0m       result = self._run(None, fetches, feed_dict, options_ptr,\n\u001b[0;32m--> 929\u001b[0;31m                          run_metadata_ptr)\n\u001b[0m\u001b[1;32m    930\u001b[0m       \u001b[0;32mif\u001b[0m \u001b[0mrun_metadata\u001b[0m\u001b[0;34m:\u001b[0m\u001b[0;34m\u001b[0m\u001b[0;34m\u001b[0m\u001b[0m\n\u001b[1;32m    931\u001b[0m         \u001b[0mproto_data\u001b[0m \u001b[0;34m=\u001b[0m \u001b[0mtf_session\u001b[0m\u001b[0;34m.\u001b[0m\u001b[0mTF_GetBuffer\u001b[0m\u001b[0;34m(\u001b[0m\u001b[0mrun_metadata_ptr\u001b[0m\u001b[0;34m)\u001b[0m\u001b[0;34m\u001b[0m\u001b[0;34m\u001b[0m\u001b[0m\n",
      "\u001b[0;32m/opt/modules/i12g/anaconda/3-5.0.1/envs/rep/lib/python3.6/site-packages/tensorflow/python/client/session.py\u001b[0m in \u001b[0;36m_run\u001b[0;34m(self, handle, fetches, feed_dict, options, run_metadata)\u001b[0m\n\u001b[1;32m   1150\u001b[0m     \u001b[0;32mif\u001b[0m \u001b[0mfinal_fetches\u001b[0m \u001b[0;32mor\u001b[0m \u001b[0mfinal_targets\u001b[0m \u001b[0;32mor\u001b[0m \u001b[0;34m(\u001b[0m\u001b[0mhandle\u001b[0m \u001b[0;32mand\u001b[0m \u001b[0mfeed_dict_tensor\u001b[0m\u001b[0;34m)\u001b[0m\u001b[0;34m:\u001b[0m\u001b[0;34m\u001b[0m\u001b[0;34m\u001b[0m\u001b[0m\n\u001b[1;32m   1151\u001b[0m       results = self._do_run(handle, final_targets, final_fetches,\n\u001b[0;32m-> 1152\u001b[0;31m                              feed_dict_tensor, options, run_metadata)\n\u001b[0m\u001b[1;32m   1153\u001b[0m     \u001b[0;32melse\u001b[0m\u001b[0;34m:\u001b[0m\u001b[0;34m\u001b[0m\u001b[0;34m\u001b[0m\u001b[0m\n\u001b[1;32m   1154\u001b[0m       \u001b[0mresults\u001b[0m \u001b[0;34m=\u001b[0m \u001b[0;34m[\u001b[0m\u001b[0;34m]\u001b[0m\u001b[0;34m\u001b[0m\u001b[0;34m\u001b[0m\u001b[0m\n",
      "\u001b[0;32m/opt/modules/i12g/anaconda/3-5.0.1/envs/rep/lib/python3.6/site-packages/tensorflow/python/client/session.py\u001b[0m in \u001b[0;36m_do_run\u001b[0;34m(self, handle, target_list, fetch_list, feed_dict, options, run_metadata)\u001b[0m\n\u001b[1;32m   1326\u001b[0m     \u001b[0;32mif\u001b[0m \u001b[0mhandle\u001b[0m \u001b[0;32mis\u001b[0m \u001b[0;32mNone\u001b[0m\u001b[0;34m:\u001b[0m\u001b[0;34m\u001b[0m\u001b[0;34m\u001b[0m\u001b[0m\n\u001b[1;32m   1327\u001b[0m       return self._do_call(_run_fn, feeds, fetches, targets, options,\n\u001b[0;32m-> 1328\u001b[0;31m                            run_metadata)\n\u001b[0m\u001b[1;32m   1329\u001b[0m     \u001b[0;32melse\u001b[0m\u001b[0;34m:\u001b[0m\u001b[0;34m\u001b[0m\u001b[0;34m\u001b[0m\u001b[0m\n\u001b[1;32m   1330\u001b[0m       \u001b[0;32mreturn\u001b[0m \u001b[0mself\u001b[0m\u001b[0;34m.\u001b[0m\u001b[0m_do_call\u001b[0m\u001b[0;34m(\u001b[0m\u001b[0m_prun_fn\u001b[0m\u001b[0;34m,\u001b[0m \u001b[0mhandle\u001b[0m\u001b[0;34m,\u001b[0m \u001b[0mfeeds\u001b[0m\u001b[0;34m,\u001b[0m \u001b[0mfetches\u001b[0m\u001b[0;34m)\u001b[0m\u001b[0;34m\u001b[0m\u001b[0;34m\u001b[0m\u001b[0m\n",
      "\u001b[0;32m/opt/modules/i12g/anaconda/3-5.0.1/envs/rep/lib/python3.6/site-packages/tensorflow/python/client/session.py\u001b[0m in \u001b[0;36m_do_call\u001b[0;34m(self, fn, *args)\u001b[0m\n\u001b[1;32m   1332\u001b[0m   \u001b[0;32mdef\u001b[0m \u001b[0m_do_call\u001b[0m\u001b[0;34m(\u001b[0m\u001b[0mself\u001b[0m\u001b[0;34m,\u001b[0m \u001b[0mfn\u001b[0m\u001b[0;34m,\u001b[0m \u001b[0;34m*\u001b[0m\u001b[0margs\u001b[0m\u001b[0;34m)\u001b[0m\u001b[0;34m:\u001b[0m\u001b[0;34m\u001b[0m\u001b[0;34m\u001b[0m\u001b[0m\n\u001b[1;32m   1333\u001b[0m     \u001b[0;32mtry\u001b[0m\u001b[0;34m:\u001b[0m\u001b[0;34m\u001b[0m\u001b[0;34m\u001b[0m\u001b[0m\n\u001b[0;32m-> 1334\u001b[0;31m       \u001b[0;32mreturn\u001b[0m \u001b[0mfn\u001b[0m\u001b[0;34m(\u001b[0m\u001b[0;34m*\u001b[0m\u001b[0margs\u001b[0m\u001b[0;34m)\u001b[0m\u001b[0;34m\u001b[0m\u001b[0;34m\u001b[0m\u001b[0m\n\u001b[0m\u001b[1;32m   1335\u001b[0m     \u001b[0;32mexcept\u001b[0m \u001b[0merrors\u001b[0m\u001b[0;34m.\u001b[0m\u001b[0mOpError\u001b[0m \u001b[0;32mas\u001b[0m \u001b[0me\u001b[0m\u001b[0;34m:\u001b[0m\u001b[0;34m\u001b[0m\u001b[0;34m\u001b[0m\u001b[0m\n\u001b[1;32m   1336\u001b[0m       \u001b[0mmessage\u001b[0m \u001b[0;34m=\u001b[0m \u001b[0mcompat\u001b[0m\u001b[0;34m.\u001b[0m\u001b[0mas_text\u001b[0m\u001b[0;34m(\u001b[0m\u001b[0me\u001b[0m\u001b[0;34m.\u001b[0m\u001b[0mmessage\u001b[0m\u001b[0;34m)\u001b[0m\u001b[0;34m\u001b[0m\u001b[0;34m\u001b[0m\u001b[0m\n",
      "\u001b[0;32m/opt/modules/i12g/anaconda/3-5.0.1/envs/rep/lib/python3.6/site-packages/tensorflow/python/client/session.py\u001b[0m in \u001b[0;36m_run_fn\u001b[0;34m(feed_dict, fetch_list, target_list, options, run_metadata)\u001b[0m\n\u001b[1;32m   1317\u001b[0m       \u001b[0mself\u001b[0m\u001b[0;34m.\u001b[0m\u001b[0m_extend_graph\u001b[0m\u001b[0;34m(\u001b[0m\u001b[0;34m)\u001b[0m\u001b[0;34m\u001b[0m\u001b[0;34m\u001b[0m\u001b[0m\n\u001b[1;32m   1318\u001b[0m       return self._call_tf_sessionrun(\n\u001b[0;32m-> 1319\u001b[0;31m           options, feed_dict, fetch_list, target_list, run_metadata)\n\u001b[0m\u001b[1;32m   1320\u001b[0m \u001b[0;34m\u001b[0m\u001b[0m\n\u001b[1;32m   1321\u001b[0m     \u001b[0;32mdef\u001b[0m \u001b[0m_prun_fn\u001b[0m\u001b[0;34m(\u001b[0m\u001b[0mhandle\u001b[0m\u001b[0;34m,\u001b[0m \u001b[0mfeed_dict\u001b[0m\u001b[0;34m,\u001b[0m \u001b[0mfetch_list\u001b[0m\u001b[0;34m)\u001b[0m\u001b[0;34m:\u001b[0m\u001b[0;34m\u001b[0m\u001b[0;34m\u001b[0m\u001b[0m\n",
      "\u001b[0;32m/opt/modules/i12g/anaconda/3-5.0.1/envs/rep/lib/python3.6/site-packages/tensorflow/python/client/session.py\u001b[0m in \u001b[0;36m_call_tf_sessionrun\u001b[0;34m(self, options, feed_dict, fetch_list, target_list, run_metadata)\u001b[0m\n\u001b[1;32m   1405\u001b[0m     return tf_session.TF_SessionRun_wrapper(\n\u001b[1;32m   1406\u001b[0m         \u001b[0mself\u001b[0m\u001b[0;34m.\u001b[0m\u001b[0m_session\u001b[0m\u001b[0;34m,\u001b[0m \u001b[0moptions\u001b[0m\u001b[0;34m,\u001b[0m \u001b[0mfeed_dict\u001b[0m\u001b[0;34m,\u001b[0m \u001b[0mfetch_list\u001b[0m\u001b[0;34m,\u001b[0m \u001b[0mtarget_list\u001b[0m\u001b[0;34m,\u001b[0m\u001b[0;34m\u001b[0m\u001b[0;34m\u001b[0m\u001b[0m\n\u001b[0;32m-> 1407\u001b[0;31m         run_metadata)\n\u001b[0m\u001b[1;32m   1408\u001b[0m \u001b[0;34m\u001b[0m\u001b[0m\n\u001b[1;32m   1409\u001b[0m   \u001b[0;32mdef\u001b[0m \u001b[0m_call_tf_sessionprun\u001b[0m\u001b[0;34m(\u001b[0m\u001b[0mself\u001b[0m\u001b[0;34m,\u001b[0m \u001b[0mhandle\u001b[0m\u001b[0;34m,\u001b[0m \u001b[0mfeed_dict\u001b[0m\u001b[0;34m,\u001b[0m \u001b[0mfetch_list\u001b[0m\u001b[0;34m)\u001b[0m\u001b[0;34m:\u001b[0m\u001b[0;34m\u001b[0m\u001b[0;34m\u001b[0m\u001b[0m\n",
      "\u001b[0;31mKeyboardInterrupt\u001b[0m: "
     ]
    }
   ],
   "source": [
    "##MAIN routine!\n",
    "def pred_and_store():\n",
    "    inputData = RepDataset(refGen,vcfFile,tssFile,-int(basenjiSeqSize/2),int(basenjiSeqSize/2),samples)\n",
    "    geneIDs= inputData.get_gene_ids()\n",
    "    \n",
    "    from torch.utils import data\n",
    "    from kipoi.data_utils import numpy_collate_concat\n",
    "    generator = data.DataLoader(inputData,batch_size=1, collate_fn=numpy_collate_concat)\n",
    "\n",
    "    import kipoi\n",
    "    model = kipoi.get_model('Basenji')\n",
    "\n",
    "\n",
    "\n",
    "    writer=ZarrVariantPredWriter(outfile,geneIDs,samples,cAlleles,binsOnSeq,predSize)\n",
    "\n",
    "\n",
    "    for batch in generator:\n",
    "        preds=model.predict_on_batch(batch['inputs'])\n",
    "        #TODO choose/compute right bin AFTER TSS, not over. For now, just use middle\n",
    "        #see https://github.com/kipoi/models/issues/87 for info n dimensions\n",
    "\n",
    "        #remember: id_inputvec(batchsize,here allele1 and 2), id_genomicInterval, id_features/\"tissues\"\n",
    "        tssExpr=preds[:,binsOnSeq[0]:(binsOnSeq[-1]+1),:]\n",
    "        batch[\"preds\"]=tssExpr\n",
    "        writer.batch_write(batch)\n",
    "\n",
    "    writer.close()\n",
    "pred_and_store()"
   ]
  },
  {
   "cell_type": "code",
   "execution_count": null,
   "metadata": {},
   "outputs": [],
   "source": []
  },
  {
   "cell_type": "code",
   "execution_count": 41,
   "metadata": {},
   "outputs": [
    {
     "name": "stdout",
     "output_type": "stream",
     "text": [
      "Using downloaded and verified file: /data/nasif12/home_if12/reinharj/.kipoi/models/Basenji/downloaded/model_files/ckp/model.meta\n",
      "Using downloaded and verified file: /data/nasif12/home_if12/reinharj/.kipoi/models/Basenji/downloaded/model_files/ckp/model.index\n",
      "Using downloaded and verified file: /data/nasif12/home_if12/reinharj/.kipoi/models/Basenji/downloaded/model_files/ckp/model.data-00000-of-00001\n",
      "Using downloaded and verified file: /data/nasif12/home_if12/reinharj/.kipoi/models/Basenji/downloaded/model_files/const_feed_dict_pkl/3a76c37eb9ad255680ba774b110de1be\n",
      "INFO:tensorflow:Restoring parameters from /data/nasif12/home_if12/reinharj/.kipoi/models/Basenji/downloaded/model_files/ckp/model\n"
     ]
    }
   ],
   "source": [
    "import kipoi\n",
    "model = kipoi.get_model('Basenji')\n",
    "preds=model.predict_on_batch(testBatch['inputs'])"
   ]
  },
  {
   "cell_type": "code",
   "execution_count": 141,
   "metadata": {},
   "outputs": [],
   "source": [
    "preds.shape\n",
    "#TODO choose/compute right bin AFTER TSS, not over. For now, just use middle\n",
    "#see https://github.com/kipoi/models/issues/87 for info n dimensions\n",
    "tssExpr=preds[:,int(960/2),:]"
   ]
  },
  {
   "cell_type": "code",
   "execution_count": 67,
   "metadata": {},
   "outputs": [
    {
     "name": "stdout",
     "output_type": "stream",
     "text": [
      "# conda environments:\n",
      "#\n",
      "base                     /opt/modules/i12g/anaconda/3-5.0.1\n",
      "DeepBind                 /opt/modules/i12g/anaconda/3-5.0.1/envs/DeepBind\n",
      "DeepSEA                  /opt/modules/i12g/anaconda/3-5.0.1/envs/DeepSEA\n",
      "FactorNet                /opt/modules/i12g/anaconda/3-5.0.1/envs/FactorNet\n",
      "Python3.5Test            /opt/modules/i12g/anaconda/3-5.0.1/envs/Python3.5Test\n",
      "RL                       /opt/modules/i12g/anaconda/3-5.0.1/envs/RL\n",
      "avsec                    /opt/modules/i12g/anaconda/3-5.0.1/envs/avsec\n",
      "cadd-env                 /opt/modules/i12g/anaconda/3-5.0.1/envs/cadd-env\n",
      "cadd-env-py36            /opt/modules/i12g/anaconda/3-5.0.1/envs/cadd-env-py36\n",
      "cadd13_py27              /opt/modules/i12g/anaconda/3-5.0.1/envs/cadd13_py27\n",
      "cadd_temp                /opt/modules/i12g/anaconda/3-5.0.1/envs/cadd_temp\n",
      "celikm-mtsplice          /opt/modules/i12g/anaconda/3-5.0.1/envs/celikm-mtsplice\n",
      "chipnexus                /opt/modules/i12g/anaconda/3-5.0.1/envs/chipnexus\n",
      "deep-rbp                 /opt/modules/i12g/anaconda/3-5.0.1/envs/deep-rbp\n",
      "genetic_diagnosis        /opt/modules/i12g/anaconda/3-5.0.1/envs/genetic_diagnosis\n",
      "gpu-deep-rbp             /opt/modules/i12g/anaconda/3-5.0.1/envs/gpu-deep-rbp\n",
      "gym-cyvcf2               /opt/modules/i12g/anaconda/3-5.0.1/envs/gym-cyvcf2\n",
      "hpaic                    /opt/modules/i12g/anaconda/3-5.0.1/envs/hpaic\n",
      "kipoi-Basset             /opt/modules/i12g/anaconda/3-5.0.1/envs/kipoi-Basset\n",
      "kipoi-DeepBind           /opt/modules/i12g/anaconda/3-5.0.1/envs/kipoi-DeepBind\n",
      "kipoi-DeepBind__Homo_sapiens__RBP__D00084.001_RNAcompete_A1CF     /opt/modules/i12g/anaconda/3-5.0.1/envs/kipoi-DeepBind__Homo_sapiens__RBP__D00084.001_RNAcompete_A1CF\n",
      "kipoi-DeepSEA            /opt/modules/i12g/anaconda/3-5.0.1/envs/kipoi-DeepSEA\n",
      "kipoi-MMSplice           /opt/modules/i12g/anaconda/3-5.0.1/envs/kipoi-MMSplice\n",
      "kipoi-MMSplice__deltaLogitPSI     /opt/modules/i12g/anaconda/3-5.0.1/envs/kipoi-MMSplice__deltaLogitPSI\n",
      "kipoi-SiSp               /opt/modules/i12g/anaconda/3-5.0.1/envs/kipoi-SiSp\n",
      "kipoi-cadd-mms           /opt/modules/i12g/anaconda/3-5.0.1/envs/kipoi-cadd-mms\n",
      "kipoi-cadd-py3-keras3-gpu     /opt/modules/i12g/anaconda/3-5.0.1/envs/kipoi-cadd-py3-keras3-gpu\n",
      "kipoi-cadd2              /opt/modules/i12g/anaconda/3-5.0.1/envs/kipoi-cadd2\n",
      "kipoi-gksvm              /opt/modules/i12g/anaconda/3-5.0.1/envs/kipoi-gksvm\n",
      "kipoi-labranchor         /opt/modules/i12g/anaconda/3-5.0.1/envs/kipoi-labranchor\n",
      "kipoi-manuscript         /opt/modules/i12g/anaconda/3-5.0.1/envs/kipoi-manuscript\n",
      "kipoi-manuscript-tlearn-gpu     /opt/modules/i12g/anaconda/3-5.0.1/envs/kipoi-manuscript-tlearn-gpu\n",
      "kipoi-pwm_HOCOMOCO       /opt/modules/i12g/anaconda/3-5.0.1/envs/kipoi-pwm_HOCOMOCO\n",
      "kipoi-py27               /opt/modules/i12g/anaconda/3-5.0.1/envs/kipoi-py27\n",
      "kipoi-py3-keras1.2       /opt/modules/i12g/anaconda/3-5.0.1/envs/kipoi-py3-keras1.2\n",
      "kipoi-py3-keras2         /opt/modules/i12g/anaconda/3-5.0.1/envs/kipoi-py3-keras2\n",
      "kipoi-py35               /opt/modules/i12g/anaconda/3-5.0.1/envs/kipoi-py35\n",
      "kipoi-rbp_eclip__UPF1     /opt/modules/i12g/anaconda/3-5.0.1/envs/kipoi-rbp_eclip__UPF1\n",
      "kipoi-rbp_eclip__UPF1,HAL     /opt/modules/i12g/anaconda/3-5.0.1/envs/kipoi-rbp_eclip__UPF1,HAL\n",
      "kipoi-shared__envs__kipoi-py3-keras2     /opt/modules/i12g/anaconda/3-5.0.1/envs/kipoi-shared__envs__kipoi-py3-keras2\n",
      "kipoi-splicing           /opt/modules/i12g/anaconda/3-5.0.1/envs/kipoi-splicing\n",
      "km-Divergent421          /opt/modules/i12g/anaconda/3-5.0.1/envs/km-Divergent421\n",
      "liang                    /opt/modules/i12g/anaconda/3-5.0.1/envs/liang\n",
      "lsgkm-SVM                /opt/modules/i12g/anaconda/3-5.0.1/envs/lsgkm-SVM\n",
      "lsgkm-SVM2               /opt/modules/i12g/anaconda/3-5.0.1/envs/lsgkm-SVM2\n",
      "mmsplice-manuscript      /opt/modules/i12g/anaconda/3-5.0.1/envs/mmsplice-manuscript\n",
      "mmsplice_dev             /opt/modules/i12g/anaconda/3-5.0.1/envs/mmsplice_dev\n",
      "myEnv                    /opt/modules/i12g/anaconda/3-5.0.1/envs/myEnv\n",
      "primateDL                /opt/modules/i12g/anaconda/3-5.0.1/envs/primateDL\n",
      "pwm_HOCOMOCO             /opt/modules/i12g/anaconda/3-5.0.1/envs/pwm_HOCOMOCO\n",
      "py35cv3                  /opt/modules/i12g/anaconda/3-5.0.1/envs/py35cv3\n",
      "py36-empty               /opt/modules/i12g/anaconda/3-5.0.1/envs/py36-empty\n",
      "py36-empty2              /opt/modules/i12g/anaconda/3-5.0.1/envs/py36-empty2\n",
      "py36-empty3              /opt/modules/i12g/anaconda/3-5.0.1/envs/py36-empty3\n",
      "py36-empty3,asd:10       /opt/modules/i12g/anaconda/3-5.0.1/envs/py36-empty3,asd:10\n",
      "py36-empty3:10           /opt/modules/i12g/anaconda/3-5.0.1/envs/py36-empty3:10\n",
      "rep                   *  /opt/modules/i12g/anaconda/3-5.0.1/envs/rep\n",
      "sampledb                 /opt/modules/i12g/anaconda/3-5.0.1/envs/sampledb\n",
      "selene                   /opt/modules/i12g/anaconda/3-5.0.1/envs/selene\n",
      "spl_time                 /opt/modules/i12g/anaconda/3-5.0.1/envs/spl_time\n",
      "splicing                 /opt/modules/i12g/anaconda/3-5.0.1/envs/splicing\n",
      "test-env                 /opt/modules/i12g/anaconda/3-5.0.1/envs/test-env\n",
      "test-kipoi-BassetGM12878_Demo     /opt/modules/i12g/anaconda/3-5.0.1/envs/test-kipoi-BassetGM12878_Demo\n",
      "test-kipoi-Divergent430_Multitask     /opt/modules/i12g/anaconda/3-5.0.1/envs/test-kipoi-Divergent430_Multitask\n",
      "test-kipoi-FactorNet__CTCF__metaGENCODE_RNAseq_Unique35_DGF     /opt/modules/i12g/anaconda/3-5.0.1/envs/test-kipoi-FactorNet__CTCF__metaGENCODE_RNAseq_Unique35_DGF\n",
      "test-kipoi-MMSplice__acceptor     /opt/modules/i12g/anaconda/3-5.0.1/envs/test-kipoi-MMSplice__acceptor\n",
      "test-kipoi-MMSplice__deltaLogitPSI     /opt/modules/i12g/anaconda/3-5.0.1/envs/test-kipoi-MMSplice__deltaLogitPSI\n",
      "test-kipoi-MMSplice__donor     /opt/modules/i12g/anaconda/3-5.0.1/envs/test-kipoi-MMSplice__donor\n",
      "test-kipoi-MMSplice__exon_3prime     /opt/modules/i12g/anaconda/3-5.0.1/envs/test-kipoi-MMSplice__exon_3prime\n",
      "test-kipoi-MMSplice__exon_5prime     /opt/modules/i12g/anaconda/3-5.0.1/envs/test-kipoi-MMSplice__exon_5prime\n",
      "test-kipoi-MMSplice__modularPredictions     /opt/modules/i12g/anaconda/3-5.0.1/envs/test-kipoi-MMSplice__modularPredictions\n",
      "test-kipoi-deepTarget     /opt/modules/i12g/anaconda/3-5.0.1/envs/test-kipoi-deepTarget\n",
      "test-kipoi-labranchor     /opt/modules/i12g/anaconda/3-5.0.1/envs/test-kipoi-labranchor\n",
      "test-kipoi-labranchor2     /opt/modules/i12g/anaconda/3-5.0.1/envs/test-kipoi-labranchor2\n",
      "test-kipoi-rbp_eclip__AARS     /opt/modules/i12g/anaconda/3-5.0.1/envs/test-kipoi-rbp_eclip__AARS\n",
      "test-kipoi-tf-binding__human__pwm__HOCOMOCO__AHR     /opt/modules/i12g/anaconda/3-5.0.1/envs/test-kipoi-tf-binding__human__pwm__HOCOMOCO__AHR\n",
      "test-splicing            /opt/modules/i12g/anaconda/3-5.0.1/envs/test-splicing\n",
      "test_tf                  /opt/modules/i12g/anaconda/3-5.0.1/envs/test_tf\n",
      "tmp                      /opt/modules/i12g/anaconda/3-5.0.1/envs/tmp\n",
      "vapor                    /opt/modules/i12g/anaconda/3-5.0.1/envs/vapor\n",
      "\n"
     ]
    }
   ],
   "source": [
    "! conda env list"
   ]
  },
  {
   "cell_type": "code",
   "execution_count": 69,
   "metadata": {},
   "outputs": [],
   "source": [
    "! conda env export >~/REP/bazenji-pred.yml #also change first line \"name\" from rep to bazenji-pred"
   ]
  },
  {
   "cell_type": "code",
   "execution_count": null,
   "metadata": {},
   "outputs": [],
   "source": [
    "conda env create -f REP/bazenji-pred.yml \n",
    ":\n",
    "ResolvePackageNotFound: \n",
    "  - notebook==5.7.4=py36_1000\n",
    "  - jupyter_client==5.2.4=py_0\n",
    "  - nbconvert==5.3.1=py_1\n",
    "->removed those..."
   ]
  }
 ],
 "metadata": {
  "kernelspec": {
   "display_name": "Python 3",
   "language": "python",
   "name": "python3"
  },
  "language_info": {
   "codemirror_mode": {
    "name": "ipython",
    "version": 3
   },
   "file_extension": ".py",
   "mimetype": "text/x-python",
   "name": "python",
   "nbconvert_exporter": "python",
   "pygments_lexer": "ipython3",
   "version": "3.6.8"
  }
 },
 "nbformat": 4,
 "nbformat_minor": 2
}
