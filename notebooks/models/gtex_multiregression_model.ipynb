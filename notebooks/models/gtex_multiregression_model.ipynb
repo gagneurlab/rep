{
 "cells": [
  {
   "cell_type": "markdown",
   "metadata": {},
   "source": [
    "### Goal\n",
    "Build a multi linear regression model using the GTEx data. The model receives all combinations of pairs of tissues (X,Y) per invidividual. "
   ]
  },
  {
   "cell_type": "code",
   "execution_count": 1,
   "metadata": {},
   "outputs": [],
   "source": [
    "import os\n",
    "import sys\n",
    "\n",
    "import pandas as pd\n",
    "import numpy as np\n",
    "\n",
    "from rep import preprocessing as p"
   ]
  },
  {
   "cell_type": "code",
   "execution_count": 3,
   "metadata": {},
   "outputs": [],
   "source": [
    "file = os.path.join(os.readlink(os.path.join(\"..\",\"..\",\"data\")),\"processed\",\"gtex\",\"recount\",\"recount_gtex.h5ad\")\n",
    "gtex = p.load(file)"
   ]
  },
  {
   "cell_type": "code",
   "execution_count": 4,
   "metadata": {},
   "outputs": [
    {
     "data": {
      "text/plain": [
       "array([[3.396890e+05, 9.866900e+04, 5.469700e+04],\n",
       "       [3.000000e+01, 7.640000e+02, 1.290000e+03],\n",
       "       [2.175520e+05, 1.076085e+06, 1.685770e+05]], dtype=float32)"
      ]
     },
     "execution_count": 4,
     "metadata": {},
     "output_type": "execute_result"
    }
   ],
   "source": [
    "# get counts\n",
    "gtex.X[:3,:3]"
   ]
  },
  {
   "cell_type": "code",
   "execution_count": 5,
   "metadata": {},
   "outputs": [
    {
     "data": {
      "text/html": [
       "<div>\n",
       "<style scoped>\n",
       "    .dataframe tbody tr th:only-of-type {\n",
       "        vertical-align: middle;\n",
       "    }\n",
       "\n",
       "    .dataframe tbody tr th {\n",
       "        vertical-align: top;\n",
       "    }\n",
       "\n",
       "    .dataframe thead th {\n",
       "        text-align: right;\n",
       "    }\n",
       "</style>\n",
       "<table border=\"1\" class=\"dataframe\">\n",
       "  <thead>\n",
       "    <tr style=\"text-align: right;\">\n",
       "      <th></th>\n",
       "      <th>gene_id</th>\n",
       "      <th>bp_length</th>\n",
       "      <th>symbol</th>\n",
       "    </tr>\n",
       "    <tr>\n",
       "      <th>index</th>\n",
       "      <th></th>\n",
       "      <th></th>\n",
       "      <th></th>\n",
       "    </tr>\n",
       "  </thead>\n",
       "  <tbody>\n",
       "    <tr>\n",
       "      <th>ENSG00000000003.14</th>\n",
       "      <td>ENSG00000000003.14</td>\n",
       "      <td>4535</td>\n",
       "      <td>TSPAN6</td>\n",
       "    </tr>\n",
       "    <tr>\n",
       "      <th>ENSG00000000005.5</th>\n",
       "      <td>ENSG00000000005.5</td>\n",
       "      <td>1610</td>\n",
       "      <td>TNMD</td>\n",
       "    </tr>\n",
       "    <tr>\n",
       "      <th>ENSG00000000419.12</th>\n",
       "      <td>ENSG00000000419.12</td>\n",
       "      <td>1207</td>\n",
       "      <td>DPM1</td>\n",
       "    </tr>\n",
       "  </tbody>\n",
       "</table>\n",
       "</div>"
      ],
      "text/plain": [
       "                               gene_id  bp_length  symbol\n",
       "index                                                    \n",
       "ENSG00000000003.14  ENSG00000000003.14       4535  TSPAN6\n",
       "ENSG00000000005.5    ENSG00000000005.5       1610    TNMD\n",
       "ENSG00000000419.12  ENSG00000000419.12       1207    DPM1"
      ]
     },
     "execution_count": 5,
     "metadata": {},
     "output_type": "execute_result"
    }
   ],
   "source": [
    "# get genes description\n",
    "gtex.obs[:3]"
   ]
  },
  {
   "cell_type": "code",
   "execution_count": 6,
   "metadata": {},
   "outputs": [
    {
     "data": {
      "text/html": [
       "<div>\n",
       "<style scoped>\n",
       "    .dataframe tbody tr th:only-of-type {\n",
       "        vertical-align: middle;\n",
       "    }\n",
       "\n",
       "    .dataframe tbody tr th {\n",
       "        vertical-align: top;\n",
       "    }\n",
       "\n",
       "    .dataframe thead th {\n",
       "        text-align: right;\n",
       "    }\n",
       "</style>\n",
       "<table border=\"1\" class=\"dataframe\">\n",
       "  <thead>\n",
       "    <tr style=\"text-align: right;\">\n",
       "      <th></th>\n",
       "      <th>project</th>\n",
       "      <th>sample</th>\n",
       "      <th>experiment</th>\n",
       "      <th>mapped_read_count</th>\n",
       "      <th>avg_read_length</th>\n",
       "      <th>bigwig_file</th>\n",
       "      <th>sampid</th>\n",
       "      <th>smatsscr</th>\n",
       "      <th>Parent_Tissue</th>\n",
       "      <th>Tissue</th>\n",
       "      <th>Gender</th>\n",
       "      <th>Individual</th>\n",
       "    </tr>\n",
       "    <tr>\n",
       "      <th>index</th>\n",
       "      <th></th>\n",
       "      <th></th>\n",
       "      <th></th>\n",
       "      <th></th>\n",
       "      <th></th>\n",
       "      <th></th>\n",
       "      <th></th>\n",
       "      <th></th>\n",
       "      <th></th>\n",
       "      <th></th>\n",
       "      <th></th>\n",
       "      <th></th>\n",
       "    </tr>\n",
       "  </thead>\n",
       "  <tbody>\n",
       "    <tr>\n",
       "      <th>SRR660824</th>\n",
       "      <td>SRP012682</td>\n",
       "      <td>SRS389722</td>\n",
       "      <td>SRX222703</td>\n",
       "      <td>170790002</td>\n",
       "      <td>152</td>\n",
       "      <td>SRR660824_SRS389722_SRX222703_male_lung.bw</td>\n",
       "      <td>GTEX-QMR6-1926-SM-32PL9</td>\n",
       "      <td>3.0</td>\n",
       "      <td>Lung</td>\n",
       "      <td>Lung</td>\n",
       "      <td>male</td>\n",
       "      <td>GTEX-QMR6</td>\n",
       "    </tr>\n",
       "    <tr>\n",
       "      <th>SRR2166176</th>\n",
       "      <td>SRP012682</td>\n",
       "      <td>SRS1036203</td>\n",
       "      <td>SRX1152700</td>\n",
       "      <td>191059974</td>\n",
       "      <td>500</td>\n",
       "      <td>SRR2166176_SRS1036203_SRX1152700_male_brain.ce...</td>\n",
       "      <td>GTEX-T5JC-0011-R11A-SM-5S2RX</td>\n",
       "      <td>NaN</td>\n",
       "      <td>Brain</td>\n",
       "      <td>Brain - Cerebellar Hemisphere</td>\n",
       "      <td>male</td>\n",
       "      <td>GTEX-T5JC</td>\n",
       "    </tr>\n",
       "    <tr>\n",
       "      <th>SRR606939</th>\n",
       "      <td>SRP012682</td>\n",
       "      <td>SRS333474</td>\n",
       "      <td>SRX199032</td>\n",
       "      <td>159714774</td>\n",
       "      <td>136</td>\n",
       "      <td>SRR606939_SRS333474_SRX199032_female_heart.lef...</td>\n",
       "      <td>GTEX-POMQ-0326-SM-2I5FO</td>\n",
       "      <td>1.0</td>\n",
       "      <td>Heart</td>\n",
       "      <td>Heart - Left Ventricle</td>\n",
       "      <td>female</td>\n",
       "      <td>GTEX-POMQ</td>\n",
       "    </tr>\n",
       "  </tbody>\n",
       "</table>\n",
       "</div>"
      ],
      "text/plain": [
       "              project      sample  experiment  mapped_read_count  \\\n",
       "index                                                              \n",
       "SRR660824   SRP012682   SRS389722   SRX222703          170790002   \n",
       "SRR2166176  SRP012682  SRS1036203  SRX1152700          191059974   \n",
       "SRR606939   SRP012682   SRS333474   SRX199032          159714774   \n",
       "\n",
       "            avg_read_length  \\\n",
       "index                         \n",
       "SRR660824               152   \n",
       "SRR2166176              500   \n",
       "SRR606939               136   \n",
       "\n",
       "                                                  bigwig_file  \\\n",
       "index                                                           \n",
       "SRR660824          SRR660824_SRS389722_SRX222703_male_lung.bw   \n",
       "SRR2166176  SRR2166176_SRS1036203_SRX1152700_male_brain.ce...   \n",
       "SRR606939   SRR606939_SRS333474_SRX199032_female_heart.lef...   \n",
       "\n",
       "                                  sampid  smatsscr Parent_Tissue  \\\n",
       "index                                                              \n",
       "SRR660824        GTEX-QMR6-1926-SM-32PL9       3.0          Lung   \n",
       "SRR2166176  GTEX-T5JC-0011-R11A-SM-5S2RX       NaN         Brain   \n",
       "SRR606939        GTEX-POMQ-0326-SM-2I5FO       1.0         Heart   \n",
       "\n",
       "                                   Tissue  Gender Individual  \n",
       "index                                                         \n",
       "SRR660824                            Lung    male  GTEX-QMR6  \n",
       "SRR2166176  Brain - Cerebellar Hemisphere    male  GTEX-T5JC  \n",
       "SRR606939          Heart - Left Ventricle  female  GTEX-POMQ  "
      ]
     },
     "execution_count": 6,
     "metadata": {},
     "output_type": "execute_result"
    }
   ],
   "source": [
    "# get samples description\n",
    "gtex.var[:3]"
   ]
  },
  {
   "cell_type": "code",
   "execution_count": 7,
   "metadata": {},
   "outputs": [],
   "source": [
    "# compress row counts\n",
    "# max values for int8, int16, int32, int64\n",
    "max_values=[127,32767,2147483647,9223372036854775807]\n",
    "for i in range(gtex.X.shape[1]):\n",
    "    max_val = np.amax(gtex.X[:,i])\n",
    "    if max_val < max_values[0]: gtex.X[:,i].astype(np.int8)\n",
    "    elif max_val < max_values[1]: gtex.X[:,i].astype(np.int16)\n",
    "    elif max_val < max_values[2]: gtex.X[:,i].astype(np.int32)\n",
    "    else: gtex.X[:,i].astype(np.int64)"
   ]
  },
  {
   "cell_type": "code",
   "execution_count": 8,
   "metadata": {},
   "outputs": [
    {
     "data": {
      "text/plain": [
       "dtype('<f4')"
      ]
     },
     "execution_count": 8,
     "metadata": {},
     "output_type": "execute_result"
    }
   ],
   "source": [
    "gtex.X[:,1].dtype"
   ]
  },
  {
   "cell_type": "code",
   "execution_count": 9,
   "metadata": {},
   "outputs": [
    {
     "name": "stdout",
     "output_type": "stream",
     "text": [
      "(551, 2)\n",
      "   Individual  Gender\n",
      "0   GTEX-QMR6    male\n",
      "1   GTEX-T5JC    male\n",
      "2   GTEX-POMQ  female\n",
      "3   GTEX-T6MN    male\n",
      "5   GTEX-P4QR    male\n",
      "6   GTEX-OHPN  female\n",
      "7   GTEX-TMMY  female\n",
      "8   GTEX-PVOW    male\n",
      "9   GTEX-P4PP  female\n",
      "10  GTEX-TSE9  female\n",
      "<pandas.core.groupby.groupby.DataFrameGroupBy object at 0x7fa6aea2e780>\n"
     ]
    },
    {
     "data": {
      "text/plain": [
       "(['GTEX-POMQ', 'GTEX-OHPN', 'GTEX-TMMY'],\n",
       " ['GTEX-13NZ8', 'GTEX-145ME', 'GTEX-PWN1'],\n",
       " ['GTEX-ZE7O', 'GTEX-ZV6S', 'GTEX-T6MO'],\n",
       " 'Train set size: 331',\n",
       " 'Valid set size: 111',\n",
       " 'Test set size: 109',\n",
       " 'Total indiv: (551,)')"
      ]
     },
     "execution_count": 9,
     "metadata": {},
     "output_type": "execute_result"
    }
   ],
   "source": [
    "# split individuals in 3/5, 1/5, 1/5 using Gender stratification\n",
    "(train,valid,test) = p.split_by_individuals(gtex,groupby=['Gender'])\n",
    "train[:3],valid[:3],test[:3],'Train set size: ' + str(len(train)),'Valid set size: ' + str(len(valid)),'Test set size: ' + str(len(test)), 'Total indiv: ' + str(pd.Series(gtex.var['Individual']).unique().shape)"
   ]
  },
  {
   "cell_type": "code",
   "execution_count": null,
   "metadata": {},
   "outputs": [
    {
     "name": "stdout",
     "output_type": "stream",
     "text": [
      "Total pairs: 139898\n"
     ]
    }
   ],
   "source": [
    "# compute train, valid, test set\n",
    "selected_genes = gtex.obs_names[:100]\n",
    "%time (X_train, Y_train) = p.rnaseq_cross_tissue(gtex, individuals=train, gene_ids=selected_genes)\n",
    "%time (X_valid, Y_valid) = p.rnaseq_cross_tissue(gtex, individuals=valid, gene_ids=selected_genes)\n",
    "%time (X_test, Y_test) = p.rnaseq_cross_tissue(gtex, individuals=test, gene_ids=selected_genes)\n"
   ]
  },
  {
   "cell_type": "code",
   "execution_count": null,
   "metadata": {},
   "outputs": [],
   "source": []
  },
  {
   "cell_type": "code",
   "execution_count": null,
   "metadata": {},
   "outputs": [],
   "source": []
  }
 ],
 "metadata": {
  "kernelspec": {
   "display_name": "Python (rep)",
   "language": "python",
   "name": "rep"
  },
  "language_info": {
   "codemirror_mode": {
    "name": "ipython",
    "version": 3
   },
   "file_extension": ".py",
   "mimetype": "text/x-python",
   "name": "python",
   "nbconvert_exporter": "python",
   "pygments_lexer": "ipython3",
   "version": "3.6.7"
  }
 },
 "nbformat": 4,
 "nbformat_minor": 2
}
