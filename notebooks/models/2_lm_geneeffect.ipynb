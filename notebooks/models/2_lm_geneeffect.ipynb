{
 "cells": [
  {
   "cell_type": "markdown",
   "metadata": {},
   "source": [
    "### Goal\n",
    "\n",
    "Model the gene expression imputation using not only the individual effect (PCA over the genes) but also gene effect (PCA over samples in the training set).\n",
    "\n",
    "### TODO\n",
    "1. build model\n",
    "2. interprete the results\n",
    "\n",
    "### Conclusions"
   ]
  },
  {
   "cell_type": "code",
   "execution_count": 3,
   "metadata": {},
   "outputs": [],
   "source": [
    "import seaborn as sns\n",
    "from matplotlib import rcParams\n",
    "import matplotlib.pyplot as plt\n",
    "import numpy as np\n",
    "import pandas as pd\n",
    "\n",
    "from sklearn.externals import joblib\n",
    "import sklearn as sk\n",
    "from sklearn.multioutput import MultiOutputRegressor\n",
    "from sklearn.linear_model import LassoLarsCV, LinearRegression\n",
    "from sklearn.preprocessing import StandardScaler, OneHotEncoder\n",
    "from sklearn.decomposition import PCA, KernelPCA, IncrementalPCA\n",
    "from sklearn.pipeline import Pipeline, FeatureUnion, make_pipeline\n",
    "from sklearn.compose import ColumnTransformer\n",
    "\n",
    "import rep.preprocessing_new as prep\n",
    "import rep.datasets as d\n",
    "import rep.models as m\n",
    "import warnings; warnings.simplefilter('ignore')"
   ]
  },
  {
   "cell_type": "code",
   "execution_count": 2,
   "metadata": {},
   "outputs": [],
   "source": [
    "# top candidates\n",
    "\n",
    "top_individuals = ['GTEX-ZAB4',\n",
    "                    'GTEX-12WSD',\n",
    "                     'GTEX-13OW6',\n",
    "                     'GTEX-131YS',\n",
    "                     'GTEX-NPJ8',\n",
    "                     'GTEX-11GSP',\n",
    "                     'GTEX-YFC4',\n",
    "                     'GTEX-13OVJ',\n",
    "                     'GTEX-13OW8',\n",
    "                     'GTEX-12ZZX']\n",
    "top_highvariance_genes = ['ENSG00000171195.10',\n",
    "                         'ENSG00000124233.11',\n",
    "                         'ENSG00000169344.15',\n",
    "                         'ENSG00000172179.11',\n",
    "                         'ENSG00000259384.6',\n",
    "                         'ENSG00000204414.11',\n",
    "                         'ENSG00000279857.1',\n",
    "                         'ENSG00000135346.8',\n",
    "                         'ENSG00000164822.4',\n",
    "                         'ENSG00000164816.7']\n",
    "top_lowvariance_genes = ['ENSG00000262526.2',\n",
    "                         'ENSG00000131143.8',\n",
    "                         'ENSG00000173812.10',\n",
    "                         'ENSG00000104904.12',\n",
    "                         'ENSG00000170315.13',\n",
    "                         'ENSG00000105185.11',\n",
    "                         'ENSG00000123349.13',\n",
    "                         'ENSG00000156976.15',\n",
    "                         'ENSG00000197746.13',\n",
    "                         'ENSG00000172757.12']\n",
    "top_tissues = ['Muscle - Skeletal',\n",
    "             'Skin - Sun Exposed (Lower leg)',\n",
    "             'Adipose - Subcutaneous',\n",
    "             'Lung',\n",
    "             'Artery - Tibial',\n",
    "             'Thyroid',\n",
    "             'Nerve - Tibial',\n",
    "             'Esophagus - Mucosa',\n",
    "             'Cells - Transformed fibroblasts',\n",
    "             'Esophagus - Muscularis',\n",
    "             'Heart - Left Ventricle',\n",
    "             'Skin - Not Sun Exposed (Suprapubic)',\n",
    "             'Artery - Aorta',\n",
    "             'Adipose - Visceral (Omentum)']"
   ]
  },
  {
   "cell_type": "markdown",
   "metadata": {},
   "source": [
    "### 1. Build linear model with PCA (per genes and per samples) model\n"
   ]
  },
  {
   "cell_type": "code",
   "execution_count": null,
   "metadata": {},
   "outputs": [],
   "source": [
    "# load data\n",
    "y_targets_h5 = \"/s/project/rep/processed/gtex/input_data/Y_targets_pc_onlyblood.h5\"\n",
    "x_inputs_h5 = \"/s/project/rep/processed/gtex/input_data/X_inputs_pc_onlyblood.h5\"\n",
    "train_dataset, valid_dataset = d.rep_blood_expression(x_inputs_h5, y_targets_h5, label=None)\n",
    "\n",
    "metadata_samples_train, metadata_samples_valid = train_dataset.metadata, valid_dataset.metadata\n",
    "features_train, features_valid = train_dataset.features, valid_dataset.features\n",
    "x_train, y_train = train_dataset.inputs, train_dataset.targets\n",
    "x_valid, y_valid = valid_dataset.inputs, valid_dataset.targets"
   ]
  },
  {
   "cell_type": "markdown",
   "metadata": {},
   "source": [
    "<br/>\n",
    "Compute $P$ = PCA individual effect (all individuals in train and valid in blood)<br/>\n",
    "    - input $X$: dim($X$) = #indiv x #genes (only blood)<br/>\n",
    "    - output $P$: dim($P$) = #indiv x #n_comp<br/>"
   ]
  },
  {
   "cell_type": "code",
   "execution_count": null,
   "metadata": {},
   "outputs": [],
   "source": [
    "# load gtex data\n",
    "features_file = \"/s/project/rep/processed/gtex/recount/recount_gtex_logratios.h5ad\"\n",
    "train_individuals_file = \"/s/project/rep/processed/gtex/recount/train_individuals.txt\"\n",
    "train_individuals = prep.read_csv_one_column(train_individuals_file)\n",
    "\n",
    "valid_individuals_file = \"/s/project/rep/processed/gtex/recount/valid_individuals.txt\"\n",
    "valid_individuals = prep.read_csv_one_column(valid_individuals_file)\n",
    "\n",
    "gtex = prep.RepAnnData.read_h5ad(features_file)\n",
    "gtex_filtered = gtex[gtex.samples['Individual'].isin(train_individuals + valid_individuals)]\n",
    "gtex_filtered_train = gtex[gtex.samples['Individual'].isin(train_individuals)]\n",
    "del gtex"
   ]
  },
  {
   "cell_type": "code",
   "execution_count": null,
   "metadata": {},
   "outputs": [],
   "source": [
    "# compute PCA\n",
    "def pca_individual_effect(gtex, n_comp = 10, tissue = 'Whole Blood', pca_type = PCA):\n",
    "    n_components = 200\n",
    "    t = 'Whole Blood'\n",
    "    features = gtex[gtex.obs['Tissue'] == tissue].X\n",
    "    print(features.shape)\n",
    "    if features.shape[0] >= n_comp:\n",
    "        features_centered  = StandardScaler().fit_transform(features)\n",
    "        pca = pca_type(n_components=n_comp)\n",
    "        features_pca = pca.fit_transform(features_centered)\n",
    "    return pca, features_pca\n",
    "\n",
    "\n",
    "%time pca_individual_effect_model, P = pca_individual_effect(gtex_filtered)"
   ]
  },
  {
   "cell_type": "code",
   "execution_count": null,
   "metadata": {},
   "outputs": [],
   "source": [
    "pca_individual_effect_model.components_.shape, P.shape"
   ]
  },
  {
   "cell_type": "markdown",
   "metadata": {},
   "source": [
    "<br/>\n",
    "Compute  $Q$  = PCA gene effect (all individuals in train and valid in blood) <br/>\n",
    "    - input  $X^T$ : dim( $X^T$ ) = #genes x #samples (training set, all tissues) <br/>\n",
    "    - output  $Q$ : dim( $Q$ ) = #genes x #n_comp <br/>"
   ]
  },
  {
   "cell_type": "code",
   "execution_count": null,
   "metadata": {},
   "outputs": [],
   "source": [
    "# compute PCA\n",
    "def pca_gene_effect(gtex, n_comp = 10, pca_type = PCA):\n",
    "    n_components = 200\n",
    "    features = gtex.X.transpose()\n",
    "    print(features.shape)\n",
    "    if features.shape[0] >= n_comp:\n",
    "        features_centered  = StandardScaler().fit_transform(features)\n",
    "        pca = pca_type(n_components=n_comp)\n",
    "        features_pca = pca.fit_transform(features_centered)\n",
    "    return pca, features_pca\n",
    "\n",
    "%time pca_gene_effect_model, Q = pca_gene_effect(gtex_filtered_train)"
   ]
  },
  {
   "cell_type": "code",
   "execution_count": null,
   "metadata": {},
   "outputs": [],
   "source": [
    "pca_gene_effect_model.components_.shape, Q.shape"
   ]
  },
  {
   "cell_type": "code",
   "execution_count": null,
   "metadata": {},
   "outputs": [],
   "source": [
    "features_centered  = StandardScaler().fit_transform(gtex_filtered[gtex_filtered.obs['Tissue'] == 'Whole Blood'].X)\n",
    "features_pca = pca_individual_effect_model.transform(features_centered)"
   ]
  },
  {
   "cell_type": "code",
   "execution_count": null,
   "metadata": {},
   "outputs": [],
   "source": [
    "features_pca.shape"
   ]
  },
  {
   "cell_type": "code",
   "execution_count": null,
   "metadata": {},
   "outputs": [],
   "source": [
    "# Normalize Data\n",
    "tissue = 'Muscle - Skeletal'\n",
    "\n",
    "index_train = np.where(metadata_samples_train['To_tissue'] == tissue)[0]\n",
    "index_valid = np.where(metadata_samples_valid['To_tissue'] == tissue)[0]\n",
    "\n",
    "st_x = StandardScaler()\n",
    "xs_train = st_x.fit_transform(x_train[index_train,:])\n",
    "xs_valid = st_x.transform(x_valid[index_valid,:])\n",
    "\n",
    "st_y = StandardScaler()\n",
    "ys_train = st_y.fit_transform(y_train[index_train,:])\n",
    "ys_valid = st_y.transform(y_valid[index_valid,:])\n",
    "\n",
    "xs_train.shape, xs_valid.shape, ys_train.shape, ys_valid.shape"
   ]
  },
  {
   "cell_type": "code",
   "execution_count": null,
   "metadata": {},
   "outputs": [],
   "source": [
    "# from random import seed\n",
    "from random import random\n",
    "seed(1)\n",
    "\n",
    "lm_genes = []\n",
    "\n",
    "mu, sigma = 0, 1\n",
    "s = np.random.normal(mu, sigma, 1000)\n",
    "\n",
    "# dim reduction\n",
    "xs_pca = pca_individual_effect_model.transform(xs_train)\n",
    "beta_zero = np.ones(xs_pca.shape[0])\n",
    "y_old = 0\n",
    "  \n",
    "# the target is gene i \n",
    "y = ys_train[:,100]\n",
    "\n",
    "# error in the estimation\n",
    "epsilon = []\n",
    "for i in range(0, xs_pca.shape[0]): epsilon.append(random())\n",
    "\n",
    "# fit regression for individual effect\n",
    "X = np.c_[np.ones(xs_pca.shape[0]), xs_pca, epsilon]   \n",
    "reg_indiv = LinearRegression().fit(X, y)\n",
    "y_new = reg_indiv.predict(X)\n",
    "plt.scatter(y,y_new)\n",
    "\n",
    "beta_zero, alphas =  reg_indiv.coef_[:1], reg_indiv.coef_[1:-1]\n",
    "\n",
    "# # fit regression for gene effect\n",
    "# X = Q.transpose() # \n",
    "# reg_gene = LinearRegression().fit(X, y - y_new)\n",
    "# y_old = reg_gene.predict(X) + y_new\n",
    "# betas = reg_gene.coef_\n",
    "# print(reg_gene.coef_.shape)    "
   ]
  },
  {
   "cell_type": "code",
   "execution_count": null,
   "metadata": {},
   "outputs": [],
   "source": []
  }
 ],
 "metadata": {
  "kernelspec": {
   "display_name": "Python (rep)",
   "language": "python",
   "name": "rep"
  },
  "language_info": {
   "codemirror_mode": {
    "name": "ipython",
    "version": 3
   },
   "file_extension": ".py",
   "mimetype": "text/x-python",
   "name": "python",
   "nbconvert_exporter": "python",
   "pygments_lexer": "ipython3",
   "version": "3.6.8"
  }
 },
 "nbformat": 4,
 "nbformat_minor": 2
}
