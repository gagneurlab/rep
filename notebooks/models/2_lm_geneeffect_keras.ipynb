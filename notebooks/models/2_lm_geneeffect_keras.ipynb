{
 "cells": [
  {
   "cell_type": "markdown",
   "metadata": {},
   "source": [
    "### Goal\n",
    "Implement the gene_effect + individual_effect using a keras model.evaluation"
   ]
  },
  {
   "cell_type": "code",
   "execution_count": 2,
   "metadata": {},
   "outputs": [],
   "source": [
    "import seaborn as sns\n",
    "import comet_ml\n",
    "from matplotlib import rcParams\n",
    "import matplotlib.pyplot as plt\n",
    "import numpy as np\n",
    "import pandas as pd\n",
    "\n",
    "from sklearn.externals import joblib\n",
    "import sklearn as sk\n",
    "from sklearn.multioutput import MultiOutputRegressor\n",
    "from sklearn.linear_model import LassoLarsCV, LinearRegression, RidgeCV, SGDRegressor\n",
    "from sklearn.preprocessing import StandardScaler, OneHotEncoder\n",
    "from sklearn.decomposition import PCA, KernelPCA, IncrementalPCA\n",
    "from sklearn.pipeline import Pipeline, FeatureUnion, make_pipeline\n",
    "from sklearn.compose import ColumnTransformer\n",
    "from scipy.stats import spearmanr, pearsonr\n",
    "import rep.preprocessing_new as prep\n",
    "import rep.datasets as d\n",
    "import rep.models as m\n",
    "import warnings; warnings.simplefilter('ignore')\n",
    "\n",
    "np.random.seed(1)\n",
    "\n",
    "from keras.layers import Input, Dense, Add\n",
    "from keras.models import Model\n",
    "from keras.optimizers import Adam\n",
    "\n",
    "from scipy.stats import spearmanr, pearsonr\n",
    "\n",
    "\n",
    "import matplotlib.pyplot as plt\n",
    "%matplotlib inline"
   ]
  },
  {
   "cell_type": "markdown",
   "metadata": {},
   "source": [
    "### 1. Build linear model with PCA (per genes and per samples) model\n"
   ]
  },
  {
   "cell_type": "code",
   "execution_count": 3,
   "metadata": {},
   "outputs": [],
   "source": [
    "# load train valida data\n",
    "path = \"/s/project/rep/\"\n",
    "# path = \"/home/mada/Uni/Masterthesis/online_repo/rep/data/\"\n",
    "y_targets_h5 = path + \"processed/gtex/input_data/Y_targets_pc_onlyblood.h5\"\n",
    "x_inputs_h5 =  path + \"processed/gtex/input_data/X_inputs_pc_onlyblood.h5\"\n",
    "train_dataset, valid_dataset = d.rep_blood_expression(x_inputs_h5, y_targets_h5, label=None)\n",
    "\n",
    "metadata_samples_train, metadata_samples_valid = train_dataset.metadata, valid_dataset.metadata\n",
    "features_train, features_valid = train_dataset.features, valid_dataset.features\n",
    "x_train, y_train = train_dataset.inputs, train_dataset.targets\n",
    "x_valid, y_valid = valid_dataset.inputs, valid_dataset.targets\n",
    "\n",
    "# load gtex data\n",
    "features_file = path + \"processed/gtex/recount/recount_gtex_logratios.h5ad\"\n",
    "train_individuals_file = path + \"processed/gtex/recount/train_individuals.txt\"\n",
    "train_individuals = prep.read_csv_one_column(train_individuals_file)\n",
    "\n",
    "valid_individuals_file = path + \"processed/gtex/recount/valid_individuals.txt\"\n",
    "valid_individuals = prep.read_csv_one_column(valid_individuals_file)\n",
    "\n",
    "gtex = prep.RepAnnData.read_h5ad(features_file)\n",
    "gtex_filtered = gtex[gtex.samples['Individual'].isin(train_individuals + valid_individuals)]\n",
    "gtex_filtered_train = gtex[gtex.samples['Individual'].isin(train_individuals)]\n",
    "del gtex"
   ]
  },
  {
   "cell_type": "markdown",
   "metadata": {},
   "source": [
    "\n",
    "### 1.1. Compute $P$ = PCA individual effect (all individuals in train and valid in blood)\n",
    "   - input $X$: dim($X$) = #indiv x #genes (only blood)<br/>\n",
    "   - output $P$: dim($P$) = #indiv x #n_comp<br/>"
   ]
  },
  {
   "cell_type": "code",
   "execution_count": 4,
   "metadata": {},
   "outputs": [
    {
     "name": "stdout",
     "output_type": "stream",
     "text": [
      "CPU times: user 16.5 s, sys: 9.89 s, total: 26.4 s\n",
      "Wall time: 698 ms\n"
     ]
    }
   ],
   "source": [
    "# compute PCA - perform this\n",
    "def pca_individual_effect(gtex, n_comp = 10, tissue = 'Whole Blood', pca_type = PCA):\n",
    "    features = gtex[gtex.obs['Tissue'] == tissue].X\n",
    "    if features.shape[0] >= n_comp:\n",
    "        features_centered  = StandardScaler().fit_transform(features)\n",
    "        pca = pca_type(n_components=n_comp)\n",
    "        features_pca = pca.fit_transform(features_centered)\n",
    "    return pca, features_pca\n",
    "\n",
    "%time pca_individual_effect_model, P = pca_individual_effect(gtex_filtered)"
   ]
  },
  {
   "cell_type": "code",
   "execution_count": 5,
   "metadata": {},
   "outputs": [
    {
     "data": {
      "text/plain": [
       "((10, 19932), (331, 10))"
      ]
     },
     "execution_count": 5,
     "metadata": {},
     "output_type": "execute_result"
    }
   ],
   "source": [
    "pca_individual_effect_model.components_.shape, P.shape"
   ]
  },
  {
   "cell_type": "markdown",
   "metadata": {},
   "source": [
    "\n",
    "### 1.2 Compute  $Q$  = PCA gene effect (all individuals in train and valid in blood)\n",
    "   - input  $X^T$ : dim( $X^T$ ) = #genes x #samples (training set, all tissues) <br/>\n",
    "   - output  $Q$ : dim( $Q$ ) = #genes x #n_comp <br/>"
   ]
  },
  {
   "cell_type": "code",
   "execution_count": 6,
   "metadata": {},
   "outputs": [
    {
     "name": "stdout",
     "output_type": "stream",
     "text": [
      "(19932, 5389)\n",
      "CPU times: user 1min 12s, sys: 17.2 s, total: 1min 29s\n",
      "Wall time: 5.34 s\n"
     ]
    }
   ],
   "source": [
    "# compute PCA\n",
    "def pca_gene_effect(gtex, n_comp = 10, pca_type = PCA):\n",
    "    features = gtex.X.transpose()\n",
    "    print(features.shape)\n",
    "    if features.shape[0] >= n_comp:\n",
    "        features_centered  = StandardScaler().fit_transform(features)\n",
    "        pca = pca_type(n_components=n_comp)\n",
    "        features_pca = pca.fit_transform(features_centered)\n",
    "    return pca, features_pca\n",
    "\n",
    "%time pca_gene_effect_model, Q = pca_gene_effect(gtex_filtered_train)"
   ]
  },
  {
   "cell_type": "code",
   "execution_count": 7,
   "metadata": {},
   "outputs": [],
   "source": [
    "del gtex_filtered_train, gtex_filtered"
   ]
  },
  {
   "cell_type": "code",
   "execution_count": 8,
   "metadata": {},
   "outputs": [
    {
     "data": {
      "text/plain": [
       "(10, 5389)"
      ]
     },
     "execution_count": 8,
     "metadata": {},
     "output_type": "execute_result"
    }
   ],
   "source": [
    "pca_gene_effect_model.components_.shape"
   ]
  },
  {
   "cell_type": "markdown",
   "metadata": {},
   "source": [
    "### Linear regression\n",
    "Compute : $Y_i,g,k=X_i,g,k * P_k_i * alpha_k + Q_g_l * beta_l + epsilon_i,g,k + beta_k$, i=individual, g=gene, k=tissue."
   ]
  },
  {
   "cell_type": "code",
   "execution_count": 9,
   "metadata": {},
   "outputs": [],
   "source": [
    "def data(tissue):\n",
    "    # Normalize Data\n",
    "    index_train = np.where(metadata_samples_train['To_tissue'] == tissue)[0]\n",
    "    index_valid = np.where(metadata_samples_valid['To_tissue'] == tissue)[0]\n",
    "    \n",
    "    xs_train = x_train[index_train,:]\n",
    "    xs_valid = x_train[index_valid,:]\n",
    "    ys_train = y_train[index_train,:]\n",
    "    ys_valid = y_valid[index_valid,:]\n",
    "\n",
    "#     st_x = StandardScaler()\n",
    "#     xs_train = st_x.fit_transform(x_train[index_train,:])\n",
    "#     xs_valid = st_x.transform(x_valid[index_valid,:])\n",
    "\n",
    "#     st_y = StandardScaler()\n",
    "#     ys_train = st_y.fit_transform(y_train[index_train,:])\n",
    "#     ys_valid = st_y.transform(y_valid[index_valid,:])\n",
    "    \n",
    "    print(f'shape y_train {ys_train.shape}; shape y_valid {ys_valid.shape}')\n",
    "\n",
    "    # PCA transform of input data\n",
    "    xs_pca_train = pca_individual_effect_model.transform(xs_train)\n",
    "    xs_pca_valid = pca_individual_effect_model.transform(xs_valid)\n",
    "    \n",
    "    # Y train\n",
    "    # train samples - ys_train = indiv x genes\n",
    "    y = ys_train.flatten()\n",
    "    yv = ys_valid.flatten()\n",
    "    \n",
    "    return xs_pca_train, xs_pca_valid, y, yv"
   ]
  },
  {
   "cell_type": "code",
   "execution_count": 10,
   "metadata": {},
   "outputs": [
    {
     "data": {
      "text/html": [
       "<div>\n",
       "<style scoped>\n",
       "    .dataframe tbody tr th:only-of-type {\n",
       "        vertical-align: middle;\n",
       "    }\n",
       "\n",
       "    .dataframe tbody tr th {\n",
       "        vertical-align: top;\n",
       "    }\n",
       "\n",
       "    .dataframe thead th {\n",
       "        text-align: right;\n",
       "    }\n",
       "</style>\n",
       "<table border=\"1\" class=\"dataframe\">\n",
       "  <thead>\n",
       "    <tr style=\"text-align: right;\">\n",
       "      <th></th>\n",
       "      <th>From_tissue</th>\n",
       "    </tr>\n",
       "    <tr>\n",
       "      <th>To_tissue</th>\n",
       "      <th></th>\n",
       "    </tr>\n",
       "  </thead>\n",
       "  <tbody>\n",
       "    <tr>\n",
       "      <th>Muscle - Skeletal</th>\n",
       "      <td>220</td>\n",
       "    </tr>\n",
       "    <tr>\n",
       "      <th>Skin - Sun Exposed (Lower leg)</th>\n",
       "      <td>193</td>\n",
       "    </tr>\n",
       "    <tr>\n",
       "      <th>Adipose - Subcutaneous</th>\n",
       "      <td>189</td>\n",
       "    </tr>\n",
       "    <tr>\n",
       "      <th>Lung</th>\n",
       "      <td>183</td>\n",
       "    </tr>\n",
       "    <tr>\n",
       "      <th>Artery - Tibial</th>\n",
       "      <td>181</td>\n",
       "    </tr>\n",
       "    <tr>\n",
       "      <th>Cells - Transformed fibroblasts</th>\n",
       "      <td>179</td>\n",
       "    </tr>\n",
       "    <tr>\n",
       "      <th>Nerve - Tibial</th>\n",
       "      <td>164</td>\n",
       "    </tr>\n",
       "    <tr>\n",
       "      <th>Thyroid</th>\n",
       "      <td>162</td>\n",
       "    </tr>\n",
       "    <tr>\n",
       "      <th>Esophagus - Mucosa</th>\n",
       "      <td>154</td>\n",
       "    </tr>\n",
       "    <tr>\n",
       "      <th>Esophagus - Muscularis</th>\n",
       "      <td>147</td>\n",
       "    </tr>\n",
       "    <tr>\n",
       "      <th>Heart - Left Ventricle</th>\n",
       "      <td>143</td>\n",
       "    </tr>\n",
       "    <tr>\n",
       "      <th>Artery - Aorta</th>\n",
       "      <td>126</td>\n",
       "    </tr>\n",
       "    <tr>\n",
       "      <th>Skin - Not Sun Exposed (Suprapubic)</th>\n",
       "      <td>117</td>\n",
       "    </tr>\n",
       "    <tr>\n",
       "      <th>Adipose - Visceral (Omentum)</th>\n",
       "      <td>109</td>\n",
       "    </tr>\n",
       "    <tr>\n",
       "      <th>Stomach</th>\n",
       "      <td>106</td>\n",
       "    </tr>\n",
       "    <tr>\n",
       "      <th>Breast - Mammary Tissue</th>\n",
       "      <td>105</td>\n",
       "    </tr>\n",
       "    <tr>\n",
       "      <th>Pancreas</th>\n",
       "      <td>104</td>\n",
       "    </tr>\n",
       "    <tr>\n",
       "      <th>Colon - Transverse</th>\n",
       "      <td>101</td>\n",
       "    </tr>\n",
       "    <tr>\n",
       "      <th>Heart - Atrial Appendage</th>\n",
       "      <td>92</td>\n",
       "    </tr>\n",
       "    <tr>\n",
       "      <th>Testis</th>\n",
       "      <td>91</td>\n",
       "    </tr>\n",
       "    <tr>\n",
       "      <th>Esophagus - Gastroesophageal Junction</th>\n",
       "      <td>85</td>\n",
       "    </tr>\n",
       "    <tr>\n",
       "      <th>Cells - EBV-transformed lymphocytes</th>\n",
       "      <td>84</td>\n",
       "    </tr>\n",
       "    <tr>\n",
       "      <th>Adrenal Gland</th>\n",
       "      <td>84</td>\n",
       "    </tr>\n",
       "    <tr>\n",
       "      <th>Artery - Coronary</th>\n",
       "      <td>79</td>\n",
       "    </tr>\n",
       "    <tr>\n",
       "      <th>Colon - Sigmoid</th>\n",
       "      <td>77</td>\n",
       "    </tr>\n",
       "    <tr>\n",
       "      <th>Spleen</th>\n",
       "      <td>66</td>\n",
       "    </tr>\n",
       "    <tr>\n",
       "      <th>Brain - Cerebellum</th>\n",
       "      <td>61</td>\n",
       "    </tr>\n",
       "    <tr>\n",
       "      <th>Ovary</th>\n",
       "      <td>59</td>\n",
       "    </tr>\n",
       "    <tr>\n",
       "      <th>Uterus</th>\n",
       "      <td>57</td>\n",
       "    </tr>\n",
       "    <tr>\n",
       "      <th>Liver</th>\n",
       "      <td>56</td>\n",
       "    </tr>\n",
       "  </tbody>\n",
       "</table>\n",
       "</div>"
      ],
      "text/plain": [
       "                                       From_tissue\n",
       "To_tissue                                         \n",
       "Muscle - Skeletal                              220\n",
       "Skin - Sun Exposed (Lower leg)                 193\n",
       "Adipose - Subcutaneous                         189\n",
       "Lung                                           183\n",
       "Artery - Tibial                                181\n",
       "Cells - Transformed fibroblasts                179\n",
       "Nerve - Tibial                                 164\n",
       "Thyroid                                        162\n",
       "Esophagus - Mucosa                             154\n",
       "Esophagus - Muscularis                         147\n",
       "Heart - Left Ventricle                         143\n",
       "Artery - Aorta                                 126\n",
       "Skin - Not Sun Exposed (Suprapubic)            117\n",
       "Adipose - Visceral (Omentum)                   109\n",
       "Stomach                                        106\n",
       "Breast - Mammary Tissue                        105\n",
       "Pancreas                                       104\n",
       "Colon - Transverse                             101\n",
       "Heart - Atrial Appendage                        92\n",
       "Testis                                          91\n",
       "Esophagus - Gastroesophageal Junction           85\n",
       "Cells - EBV-transformed lymphocytes             84\n",
       "Adrenal Gland                                   84\n",
       "Artery - Coronary                               79\n",
       "Colon - Sigmoid                                 77\n",
       "Spleen                                          66\n",
       "Brain - Cerebellum                              61\n",
       "Ovary                                           59\n",
       "Uterus                                          57\n",
       "Liver                                           56"
      ]
     },
     "execution_count": 10,
     "metadata": {},
     "output_type": "execute_result"
    }
   ],
   "source": [
    "count_samples = metadata_samples_train[['From_tissue','To_tissue']].groupby('To_tissue').count().sort_values('From_tissue',ascending=False)[:30]\n",
    "count_samples"
   ]
  },
  {
   "cell_type": "code",
   "execution_count": 11,
   "metadata": {},
   "outputs": [],
   "source": [
    "def model_per_tissue(q_units, p_units):\n",
    "    ## gene effect\n",
    "    q = Input(shape=(q_units,))\n",
    "    gene_effect = Dense(units=1)(q)\n",
    "\n",
    "    ## individual effect\n",
    "    p = Input(shape=(p_units,))\n",
    "    indiv_effect = Dense(units=1)(p)\n",
    "\n",
    "    ## composed effect\n",
    "    added = Add()([indiv_effect, gene_effect])\n",
    "    out = Dense(1)(added)\n",
    "\n",
    "    model = Model(inputs=[p, q], outputs=out)\n",
    "    adam = Adam(decay=0.005,lr=0.001)\n",
    "    model.compile(optimizer=adam, loss = 'mean_squared_error', metrics=['mae'])\n",
    "    \n",
    "    return model\n",
    "\n",
    "\n",
    "def train_predict(model,x_array_train, y_train, x_array_valid):\n",
    "    \"\"\"\n",
    "    Args:\n",
    "        x_array_train: stores the P and Q pairs \n",
    "    \"\"\"\n",
    "    model.fit(x_array_train, y_train,\n",
    "                epochs=50,\n",
    "                batch_size=500,\n",
    "                shuffle=True,\n",
    "                verbose=0)\n",
    "    return model.predict(x_array_valid)\n",
    "\n",
    "\n",
    "def  generate_P_Q_pair(X,Q,g_times, indiv_times):\n",
    "    \n",
    "    x_p = np.tile(X[0,:],(g_times,1))\n",
    "    for i in range(1,indiv_times):\n",
    "        # replicate the PCA of individual i -> g_times\n",
    "        x_p = np.append(x_p, np.tile(X[i,:],(g_times,1)), axis=0)\n",
    "    \n",
    "    x_q = np.tile(Q,(indiv_times,1))\n",
    "    \n",
    "    return x_p, x_q\n",
    "    "
   ]
  },
  {
   "cell_type": "code",
   "execution_count": 66,
   "metadata": {},
   "outputs": [],
   "source": [
    "def pearson(y_true, y_pred, tissue):\n",
    "    pr = []\n",
    "    for i in range(y_true.shape[1]):\n",
    "        pr.append(pearsonr(y_true[:,i], y_pred[:,i])[0]) \n",
    "    pr = np.array(pr)\n",
    "    pr = pr[~np.isnan(pr)]\n",
    "    print(f'max pearson: {np.max(pr)}')\n",
    "\n",
    "    return {'value':np.mean(pr), \n",
    "            'tissue':tissue,\n",
    "            'metric':'pearson'\n",
    "           }\n",
    "\n",
    "def spearman(y_true, y_pred, tissue):\n",
    "    pr = []\n",
    "    for i in range(y_true.shape[1]):\n",
    "        pr.append(spearmanr(y_true[:,i], y_pred[:,i])[0]) \n",
    "    pr = np.array(pr)\n",
    "    pr = pr[~np.isnan(pr)]\n",
    "    return {'value':np.mean(pr), \n",
    "            'tissue':tissue,\n",
    "            'metric':'spearman'\n",
    "           }\n"
   ]
  },
  {
   "cell_type": "code",
   "execution_count": null,
   "metadata": {},
   "outputs": [
    {
     "name": "stdout",
     "output_type": "stream",
     "text": [
      "shape y_train (220, 19932); shape y_valid (83, 19932)\n"
     ]
    }
   ],
   "source": [
    "models = {}\n",
    "evaluation = {}\n",
    "tissues = count_samples.index[:1]\n",
    "for t in tissues:\n",
    "    # data\n",
    "    (xt, xv, yt, yv) = data(t)\n",
    "    x_p_train, x_q_train = generate_P_Q_pair(xt,Q,Q.shape[0],xt.shape[0])\n",
    "    x_p_valid, x_q_valid = generate_P_Q_pair(xv,Q,Q.shape[0],xv.shape[0])\n",
    "\n",
    "    # model\n",
    "    model_t = model_per_tissue(Q.shape[1], P.shape[1])\n",
    "    \n",
    "    # prediction\n",
    "    y_pred = train_predict(model_t, [x_p_train, x_q_train], yt, [x_p_valid, x_q_valid])\n",
    "    models[t] = model_t\n",
    "    \n",
    "    # evaluate\n",
    "    evaluation[t] = {'spearmanr':spearman(yv.reshape(-1,Q.shape[0]), y_pred.reshape(-1, Q.shape[0]),t),\n",
    "                     'pearsonr':pearson(yv.reshape(-1,Q.shape[0]), y_pred.reshape(-1, Q.shape[0]), t)}\n",
    "    print(evaluation[t])\n",
    "    \n",
    "    y_true = yv.reshape(-1, Q.shape[0])\n",
    "    y_pred = y_pred.reshape(-1, Q.shape[0])\n",
    "\n",
    "    f, axes = plt.subplots(3, 6,figsize=(30,12))\n",
    "    for i in range(18):    \n",
    "        ax = sns.scatterplot(x='pred', y='obs', data={'obs':y_true[:,i],'pred':y_pred[:,i]}, ax = axes[int(i/6)][int(i%6)], alpha = 0.5)\n",
    "        ax.set(xlim=(-2,2),ylim=(-2,2), xlabel='Pred',ylabel='Obs',title=\"Total Effect\")"
   ]
  },
  {
   "cell_type": "code",
   "execution_count": null,
   "metadata": {},
   "outputs": [],
   "source": []
  },
  {
   "cell_type": "code",
   "execution_count": null,
   "metadata": {},
   "outputs": [],
   "source": []
  },
  {
   "cell_type": "code",
   "execution_count": null,
   "metadata": {},
   "outputs": [],
   "source": []
  },
  {
   "cell_type": "code",
   "execution_count": null,
   "metadata": {},
   "outputs": [],
   "source": []
  },
  {
   "cell_type": "code",
   "execution_count": null,
   "metadata": {},
   "outputs": [],
   "source": []
  },
  {
   "cell_type": "code",
   "execution_count": 73,
   "metadata": {},
   "outputs": [
    {
     "data": {
      "image/png": "[encoded data removed]",
      "text/plain": [
       "<Figure size 432x288 with 1 Axes>"
      ]
     },
     "metadata": {
      "needs_background": "light"
     },
     "output_type": "display_data"
    }
   ],
   "source": [
    "target_names = ['a','b','c']\n",
    "def plot3clusters(X, title, vtitle):\n",
    "  plt.figure()\n",
    "  colors = ['navy', 'turquoise', 'darkorange']\n",
    "  lw = 2\n",
    "\n",
    "#   for color, i, target_name in zip(colors, [0, 1, 2], target_names):\n",
    "#       plt.scatter(X[y == i, 0], X[y == i, 1], color=color, alpha=1., lw=lw,\n",
    "#                   label=target_name)\n",
    "  for color, i, target_name in zip(colors, [0, 1, 2], target_names):\n",
    "      plt.scatter(X[:, 0], X[:, 1], color=color, alpha=1., lw=lw,\n",
    "                  label=target_name)\n",
    "\n",
    "  plt.legend(loc='best', shadow=False, scatterpoints=1)\n",
    "  plt.title(title)  \n",
    "  plt.xlabel(vtitle + \"1\")\n",
    "  plt.ylabel(vtitle + \"2\")\n",
    "  plt.show()\n",
    "\n",
    "\n",
    "pca = decomposition.PCA()\n",
    "pca_transformed = pca.fit_transform(y_blood_train_norm)\n",
    "plot3clusters(pca_transformed[:,:2], 'PCA', 'PC')  \n",
    "plot3clusters(encoded_data[:,:2], 'AE', 'AE')  \n"
   ]
  }
 ],
 "metadata": {
  "kernelspec": {
   "display_name": "Python (rep)",
   "language": "python",
   "name": "rep"
  },
  "language_info": {
   "codemirror_mode": {
    "name": "ipython",
    "version": 3
   },
   "file_extension": ".py",
   "mimetype": "text/x-python",
   "name": "python",
   "nbconvert_exporter": "python",
   "pygments_lexer": "ipython3",
   "version": "3.6.8"
  }
 },
 "nbformat": 4,
 "nbformat_minor": 2
}
