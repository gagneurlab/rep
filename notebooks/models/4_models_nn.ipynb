{
 "cells": [
  {
   "cell_type": "markdown",
   "metadata": {},
   "source": [
    "### Goal\n",
    "Implement a neural network model using the individual and gene effect information.\n",
    "\n",
    "### TODO\n",
    " - 1. Gene effect variation using PCA \n",
    "     - variance explained of the PCA\n",
    "     - recovery blood expression data from PCA \n",
    " - 2. Autoencoder for individual effect\n",
    "\n",
    "### Conclusions\n",
    " - 1. 1024 components explain 97\\% of the gene effect variation over tissues\n",
    " - 2. "
   ]
  },
  {
   "cell_type": "code",
   "execution_count": 2,
   "metadata": {},
   "outputs": [],
   "source": [
    "import os\n",
    "\n",
    "import comet_ml\n",
    "import numpy as np\n",
    "import pandas as pd\n",
    "\n",
    "import keras\n",
    "from keras import backend as K\n",
    "from keras.layers import Input, Dense, Add, Dropout, Embedding, Conv2D, Flatten, Conv1D, MaxPooling1D, LeakyReLU\n",
    "from keras.models import Sequential\n",
    "\n",
    "from keras.models import Model\n",
    "from keras.losses import *\n",
    "from keras.optimizers import Adam\n",
    "from keras.callbacks import EarlyStopping\n",
    "from keras.regularizers import *\n",
    "\n",
    "import warnings; warnings.simplefilter('ignore')\n",
    "\n",
    "import rep.preprocessing_new as prep\n",
    "import rep.datasets as d\n",
    "import rep.models as m\n",
    "import rep.metrics as mt\n",
    "\n",
    "import matplotlib.pyplot as plt\n",
    "%matplotlib inline\n",
    "%autoreload 1\n",
    "\n",
    "from tensorflow.python.client import device_lib\n",
    "import tensorflow as tf\n",
    "\n",
    "# import keras\n",
    "# from keras import backend as K\n",
    "\n",
    "from numpy.random import seed\n",
    "seed(1)\n",
    "\n",
    "# from tensorflow import keras\n",
    "# from tensorflow.keras import backend as K\n",
    "# from tensorflow.keras.layers import *\n",
    "\n",
    "# from tensorflow.keras.models import Model, Sequential\n",
    "# from tensorflow.keras.losses import *\n",
    "# from tensorflow.keras.optimizers import Adam\n",
    "# from tensorflow.keras.callbacks import EarlyStopping\n",
    "# from tensorflow.keras.regularizers import *"
   ]
  },
  {
   "cell_type": "code",
   "execution_count": 3,
   "metadata": {},
   "outputs": [],
   "source": [
    "config = tf.ConfigProto( device_count = {'GPU': 1, 'CPU': 4} ) \n",
    "sess = tf.Session(config=config) \n",
    "keras.backend.set_session(sess)"
   ]
  },
  {
   "cell_type": "code",
   "execution_count": 4,
   "metadata": {},
   "outputs": [
    {
     "name": "stdout",
     "output_type": "stream",
     "text": [
      "[name: \"/device:CPU:0\"\n",
      "device_type: \"CPU\"\n",
      "memory_limit: 268435456\n",
      "locality {\n",
      "}\n",
      "incarnation: 10240851666335420714\n",
      ", name: \"/device:XLA_CPU:0\"\n",
      "device_type: \"XLA_CPU\"\n",
      "memory_limit: 17179869184\n",
      "locality {\n",
      "}\n",
      "incarnation: 2223834963409278768\n",
      "physical_device_desc: \"device: XLA_CPU device\"\n",
      "]\n"
     ]
    }
   ],
   "source": [
    "print(device_lib.list_local_devices())"
   ]
  },
  {
   "cell_type": "code",
   "execution_count": 4,
   "metadata": {},
   "outputs": [],
   "source": [
    "data_path = os.readlink(os.path.join(\"..\",\"..\",\"data\"))\n",
    "path = os.path.join(data_path,\"processed\",\"gtex\")\n",
    "x_inputs_h5 = os.path.join(path,\"X_inputs_pc_onlyblood.h5\")\n",
    "y_targets_h5 = os.path.join(path,\"Y_targets_pc_onlyblood.h5\")\n",
    "train_raw, valid_raw = d.rep_blood_expression(x_inputs_h5, y_targets_h5, label=None)"
   ]
  },
  {
   "cell_type": "markdown",
   "metadata": {},
   "source": [
    "### 1. Gene effect variation using PCA"
   ]
  },
  {
   "cell_type": "code",
   "execution_count": 7,
   "metadata": {},
   "outputs": [
    {
     "data": {
      "text/plain": [
       "[<matplotlib.lines.Line2D at 0x7fc8141101d0>]"
      ]
     },
     "execution_count": 7,
     "metadata": {},
     "output_type": "execute_result"
    },
    {
     "data": {
      "image/png": "[encoded data removed]",
      "text/plain": [
       "<Figure size 432x288 with 1 Axes>"
      ]
     },
     "metadata": {
      "needs_background": "light"
     },
     "output_type": "display_data"
    }
   ],
   "source": [
    "# compute PCA for gene effect variation\n",
    "from sklearn.decomposition import PCA\n",
    "nComp = 1024\n",
    "pca = PCA(n_components=nComp)\n",
    "data_train = np.concatenate((train_raw.inputs.T, train_raw.targets.T), axis=1)\n",
    "data_valid = np.concatenate((valid_raw.inputs.T, valid_raw.targets.T), axis=1)\n",
    "gene_effect = pca.fit_transform(data_train)\n",
    "\n",
    "# reconstruct Gene Effect\n",
    "mu = np.mean(data_train, axis=0)\n",
    "gene_effect_pred = np.dot(pca.transform(data_train)[:,:nComp], pca.components_[:nComp,:])\n",
    "gene_effect_pred += mu\n",
    "\n",
    "eval_gene_effect = mt.rep_metric(data_train, gene_effect_pred)\n",
    "eval_gene_effect['spearmanr']\n",
    "\n",
    "# plot cumsum of the effect\n",
    "plt.plot(np.cumsum((pca.explained_variance_ratio_)))"
   ]
  },
  {
   "cell_type": "code",
   "execution_count": 8,
   "metadata": {},
   "outputs": [
    {
     "name": "stdout",
     "output_type": "stream",
     "text": [
      "Variance explained 0.970557\n"
     ]
    }
   ],
   "source": [
    "print(\"Variance explained\",np.max(np.cumsum((pca.explained_variance_ratio_))))"
   ]
  },
  {
   "cell_type": "code",
   "execution_count": 5,
   "metadata": {},
   "outputs": [],
   "source": [
    "# filter train and valid by tissue\n",
    "train = train_raw.filter_by(from_tissue='Whole Blood',to_tissue='Muscle - Skeletal')\n",
    "valid = valid_raw.filter_by(from_tissue='Whole Blood',to_tissue='Muscle - Skeletal')\n",
    "del train_raw, valid_raw"
   ]
  },
  {
   "cell_type": "code",
   "execution_count": 7,
   "metadata": {},
   "outputs": [
    {
     "data": {
      "text/plain": [
       "((220, 19932), (220, 19932), (220, 11), (19932, 3))"
      ]
     },
     "execution_count": 7,
     "metadata": {},
     "output_type": "execute_result"
    }
   ],
   "source": [
    "train.inputs.shape, train.targets.shape, train.metadata.shape, train.features.shape"
   ]
  },
  {
   "cell_type": "markdown",
   "metadata": {},
   "source": [
    "### 2.1. Autoencoder for individual effect"
   ]
  },
  {
   "cell_type": "code",
   "execution_count": 14,
   "metadata": {},
   "outputs": [
    {
     "name": "stdout",
     "output_type": "stream",
     "text": [
      "WARNING:tensorflow:From /home/mada/anaconda3/envs/rep/lib/python3.6/site-packages/tensorflow/python/keras/utils/losses_utils.py:170: to_float (from tensorflow.python.ops.math_ops) is deprecated and will be removed in a future version.\n",
      "Instructions for updating:\n",
      "Use tf.cast instead.\n",
      "WARNING:tensorflow:From /home/mada/anaconda3/envs/rep/lib/python3.6/site-packages/tensorflow/python/ops/math_ops.py:3066: to_int32 (from tensorflow.python.ops.math_ops) is deprecated and will be removed in a future version.\n",
      "Instructions for updating:\n",
      "Use tf.cast instead.\n"
     ]
    }
   ],
   "source": [
    "from sklearn.utils.validation import check_array as check_arrays\n",
    "\n",
    "# loss\n",
    "def mean_absolute_percentage_error(y_true, y_pred): \n",
    "    return K.mean(K.abs((y_true - y_pred) / y_true)) * 100\n",
    "\n",
    "def huber_loss(y_true, y_pred, clip_delta=2.5):\n",
    "    error = y_true - y_pred\n",
    "    cond  = tf.keras.backend.abs(error) < clip_delta\n",
    "\n",
    "    squared_loss = 0.5 * tf.keras.backend.square(error)\n",
    "    linear_loss  = clip_delta * (tf.keras.backend.abs(error) - 0.5 * clip_delta)\n",
    "\n",
    "    return tf.where(cond, squared_loss, linear_loss)\n",
    "\n",
    "\n",
    "# optimizer\n",
    "adam = Adam(lr=0.0001, beta_1=0.9, beta_2=0.999, decay=0.0000001)\n",
    "\n",
    "# autoencoder\n",
    "code_size = 64\n",
    "ae = Sequential([\n",
    "    Dense(code_size, input_shape=(train.inputs.shape[1],)),\n",
    "    Dense(train.inputs.shape[1])\n",
    "])\n",
    "ae.compile(optimizer = adam, \n",
    "           loss = 'mean_squared_error')\n",
    "\n",
    "ae.fit(train.inputs,\n",
    "       train.inputs,\n",
    "       epochs=500,\n",
    "       batch_size=16,\n",
    "       validation_data=(valid.inputs, valid.inputs),\n",
    "       verbose=0,\n",
    "       callbacks=[EarlyStopping(monitor='val_loss', min_delta=0.000001, patience=5)])\n",
    "\n",
    "recovered_data = ae.predict(valid.inputs)\n",
    "eval_ae = mt.rep_metric(valid.inputs, recovered_data)"
   ]
  },
  {
   "cell_type": "code",
   "execution_count": 15,
   "metadata": {},
   "outputs": [
    {
     "data": {
      "text/plain": [
       "{'mean': 0.7630303126163696,\n",
       " 'min': -0.40711153704414127,\n",
       " 'p10': 0.2063174937062444,\n",
       " 'p25': 0.6632380626847383,\n",
       " 'median': 0.9252915184147276,\n",
       " 'p75': 0.9689799217019847,\n",
       " 'p90': 0.9805409490223241,\n",
       " 'max': 0.9945212380742464}"
      ]
     },
     "execution_count": 15,
     "metadata": {},
     "output_type": "execute_result"
    }
   ],
   "source": [
    "eval_ae['spearmanr']"
   ]
  },
  {
   "cell_type": "markdown",
   "metadata": {},
   "source": [
    "### 3. Neural network - implement gene expression imputation from blood to muscle tissue"
   ]
  },
  {
   "cell_type": "markdown",
   "metadata": {},
   "source": [
    "#### 3.1 Implement a network with one layer to predict from blood to muscle"
   ]
  },
  {
   "cell_type": "code",
   "execution_count": 19,
   "metadata": {},
   "outputs": [
    {
     "data": {
      "text/plain": [
       "{'mean': 0.32708409937405153,\n",
       " 'min': -0.4964952687755446,\n",
       " 'p10': 0.015261935930561157,\n",
       " 'p25': 0.16836818324962177,\n",
       " 'median': 0.34903650372417216,\n",
       " 'p75': 0.49716618739487645,\n",
       " 'p90': 0.60299649450203,\n",
       " 'max': 0.8727828040531936}"
      ]
     },
     "execution_count": 19,
     "metadata": {},
     "output_type": "execute_result"
    }
   ],
   "source": [
    "hidden = 64\n",
    "nn = Sequential([\n",
    "    Dense(hidden, input_shape=(train.inputs.shape[1],)),\n",
    "    Dense(train.inputs.shape[1])\n",
    "])\n",
    "nn.compile(optimizer = adam, \n",
    "           loss = 'mean_squared_error')\n",
    "nn.reset_states()\n",
    "nn.fit(train.inputs,\n",
    "       train.targets,\n",
    "       epochs=500,\n",
    "       batch_size=16,\n",
    "       validation_data=(valid.inputs, valid.targets),\n",
    "       verbose=0,\n",
    "       callbacks=[EarlyStopping(monitor='val_loss', min_delta=0.000001, patience=5)])\n",
    "recovered_data = nn.predict(valid.inputs)\n",
    "eval_nn = mt.rep_metric(valid.targets, recovered_data)\n",
    "eval_nn['spearmanr']"
   ]
  },
  {
   "cell_type": "markdown",
   "metadata": {},
   "source": [
    "#### 3.1.1 Add layers"
   ]
  },
  {
   "cell_type": "code",
   "execution_count": 76,
   "metadata": {},
   "outputs": [],
   "source": [
    "np.random.seed(1337)\n",
    "# optimizer\n",
    "adam = Adam(lr=0.0001, beta_1=0.9, beta_2=0.999, decay=0.0000001)\n",
    "\n",
    "def simple_model():\n",
    "    \n",
    "    hidden = 1024\n",
    "    hidden_2 = 256\n",
    "    hidden_3 = 64\n",
    "    hidden_4 = 32\n",
    "    \n",
    "    nn_aux = Sequential([\n",
    "        Dense(hidden, input_shape=(train.inputs.shape[1],)),\n",
    "        Dense(hidden_2),\n",
    "        Dense(hidden_3),\n",
    "        Dense(hidden_4),\n",
    "        Dense(train.inputs.shape[1])\n",
    "    ])\n",
    "    nn_aux.compile(optimizer = adam, \n",
    "               loss = 'mean_squared_error')\n",
    "\n",
    "    return nn_aux"
   ]
  },
  {
   "cell_type": "code",
   "execution_count": 77,
   "metadata": {},
   "outputs": [],
   "source": [
    "nn = simple_model()"
   ]
  },
  {
   "cell_type": "code",
   "execution_count": 78,
   "metadata": {},
   "outputs": [
    {
     "data": {
      "text/plain": [
       "{'mean': 0.29230391734801814,\n",
       " 'min': -0.40162066413046044,\n",
       " 'p10': -0.008554778273798682,\n",
       " 'p25': 0.12727561228072834,\n",
       " 'median': 0.30400512187068746,\n",
       " 'p75': 0.457812926409061,\n",
       " 'p90': 0.5804582380302498,\n",
       " 'max': 0.861583996353003}"
      ]
     },
     "execution_count": 78,
     "metadata": {},
     "output_type": "execute_result"
    }
   ],
   "source": [
    "nn.reset_states()\n",
    "nn.fit(train.inputs,\n",
    "       train.targets,\n",
    "       epochs=500,\n",
    "       batch_size=16,\n",
    "       validation_data=(valid.inputs, valid.targets),\n",
    "       verbose=0,\n",
    "       callbacks=[EarlyStopping(monitor='val_loss', min_delta=1e-10, patience=5)])\n",
    "recovered_data = nn.predict(valid.inputs)\n",
    "eval_nn = mt.rep_metric(valid.targets, recovered_data)\n",
    "eval_nn['spearmanr']"
   ]
  },
  {
   "cell_type": "code",
   "execution_count": 67,
   "metadata": {},
   "outputs": [],
   "source": [
    "nn.save(\"simple_layer_model.h5\")"
   ]
  },
  {
   "cell_type": "markdown",
   "metadata": {},
   "source": [
    "#### 3.2 Network \n",
    "- contains the AE hidden layer of the individual variation as first layer"
   ]
  },
  {
   "cell_type": "code",
   "execution_count": 23,
   "metadata": {},
   "outputs": [],
   "source": [
    "import torch\n",
    "import torch.nn as nn\n",
    "import torch.nn.functional as F\n",
    "torch.manual_seed(1234)\n",
    "\n",
    "class Flatten(nn.Module):\n",
    "    def forward(self, input):\n",
    "        return input.view(input.size(0), -1)\n",
    "\n",
    "hidden = 128\n",
    "hidden_2 = 64\n",
    "hidden_3 = 32\n",
    "\n",
    "x = torch.tensor(train.inputs)\n",
    "y = torch.tensor(train.targets)\n",
    "model = nn.Sequential(\n",
    "                    nn.Linear(train.inputs.shape[1],hidden),\n",
    "                    nn.Conv1d(hidden,1,3,stride=1),\n",
    "                    nn.Conv1d(10,10,3,stride=2,dilation=2),\n",
    "                    nn.Conv1d(10,10,3,stride=4,dilation=4)\\\n",
    "#     ,\n",
    "#                     Flatten(),\n",
    "#                     nn.Linear(hidden, train.inputs.shape[1])\n",
    "                    )\n",
    "criterion = torch.nn.MSELoss()\n",
    "optimizer = torch.optim.Adam(model.parameters(), lr=0.001, betas=(0.9, 0.999), weight_decay=0.0000001)\n",
    "\n",
    "\n",
    "for epoch in range(500):\n",
    "    # Forward Propagation\n",
    "    y_pred = model(x)\n",
    "    print(y_pred.shape)\n",
    "    # Compute and print loss\n",
    "    loss = criterion(y_pred, y)\n",
    "    \n",
    "    if epoch % 50 == 0:\n",
    "        print('epoch: ', epoch,' loss: ', loss.item())\n",
    "    \n",
    "    # Zero the gradients\n",
    "    optimizer.zero_grad()\n",
    "    \n",
    "    # perform a backward pass (backpropagation)\n",
    "    loss.backward()\n",
    "    \n",
    "    # Update the parameters\n",
    "    optimizer.step()\n",
    "\n",
    "x_valid = torch.tensor(valid.inputs)\n",
    "y_valid = torch.tensor(valid.targets)\n",
    "\n",
    "y_pred = model(x_valid)\n",
    "eval_nn = mt.rep_metric(valid.targets, y_pred.detach().numpy())\n",
    "eval_nn['spearmanr']"
   ]
  },
  {
   "cell_type": "code",
   "execution_count": 9,
   "metadata": {},
   "outputs": [],
   "source": [
    "import torch\n",
    "import pycuda.driver as cuda\n",
    "\n",
    "cuda.init()\n",
    "\n",
    "## Get Id of default device\n",
    "torch.cuda.current_device()\n",
    "# 0\n",
    "cuda.Device(0).name()"
   ]
  },
  {
   "cell_type": "code",
   "execution_count": null,
   "metadata": {},
   "outputs": [],
   "source": []
  },
  {
   "cell_type": "code",
   "execution_count": null,
   "metadata": {},
   "outputs": [],
   "source": []
  },
  {
   "cell_type": "code",
   "execution_count": null,
   "metadata": {},
   "outputs": [],
   "source": []
  },
  {
   "cell_type": "code",
   "execution_count": null,
   "metadata": {},
   "outputs": [],
   "source": []
  },
  {
   "cell_type": "code",
   "execution_count": null,
   "metadata": {},
   "outputs": [],
   "source": []
  },
  {
   "cell_type": "code",
   "execution_count": null,
   "metadata": {},
   "outputs": [],
   "source": []
  },
  {
   "cell_type": "code",
   "execution_count": null,
   "metadata": {},
   "outputs": [],
   "source": []
  },
  {
   "cell_type": "code",
   "execution_count": null,
   "metadata": {},
   "outputs": [],
   "source": []
  },
  {
   "cell_type": "code",
   "execution_count": 16,
   "metadata": {},
   "outputs": [],
   "source": [
    "weights_autoencoder = ae.layers[0].get_weights()"
   ]
  },
  {
   "cell_type": "code",
   "execution_count": 10,
   "metadata": {},
   "outputs": [],
   "source": [
    "import numpy as np\n",
    "from matplotlib import pyplot as plt\n",
    "from IPython.display import clear_output\n",
    "\n",
    "class PlotLosses(keras.callbacks.Callback):\n",
    "    def on_train_begin(self, logs={}):\n",
    "        self.i = 0\n",
    "        self.x = []\n",
    "        self.losses = []\n",
    "        self.val_losses = []\n",
    "        \n",
    "        self.fig = plt.figure()\n",
    "        \n",
    "        self.logs = []\n",
    "\n",
    "    def on_epoch_end(self, epoch, logs={}):\n",
    "        \n",
    "        self.logs.append(logs)\n",
    "        self.x.append(self.i)\n",
    "        self.losses.append(logs.get('loss'))\n",
    "        self.val_losses.append(logs.get('val_loss'))\n",
    "        self.i += 1\n",
    "        \n",
    "        clear_output(wait=True)\n",
    "        plt.plot(self.x, self.losses, label=\"loss\")\n",
    "        plt.plot(self.x, self.val_losses, label=\"val_loss\")\n",
    "        plt.legend()\n",
    "        plt.show();\n",
    "        \n",
    "plot_losses = PlotLosses()\n",
    "\n",
    "# optimizer\n",
    "adam = Adam(lr=0.001, beta_1=0.9, beta_2=0.999, decay=0.0000001)\n",
    "\n",
    "def model_conv():\n",
    "    \n",
    "    hidden = 128\n",
    "    hidden_2 = 64\n",
    "    hidden_3 = 32  \n",
    "    \n",
    "    input1 = keras.layers.Input(shape=(train.inputs.shape[1],1))\n",
    "    hidden1 = keras.layers.Dense(hidden)(input1)\n",
    "    hidden2 = keras.layers.Conv1D(3, (3), strides=1, padding='valid')(hidden1)\n",
    "    hidden3 = keras.layers.Conv1D(3, (3), dilation_rate = 2, padding='valid')(hidden2)\n",
    "    flat = keras.layers.Flatten()(hidden3)\n",
    "    outh = keras.layers.Dense(train.inputs.shape[1])(flat)\n",
    "    \n",
    "    nn_aux = keras.models.Model(inputs=input1, outputs=outh)\n",
    "    nn_aux.compile(optimizer = adam, \n",
    "               loss = 'mean_squared_error')\n",
    "    \n",
    "    return nn_aux"
   ]
  },
  {
   "cell_type": "code",
   "execution_count": null,
   "metadata": {},
   "outputs": [
    {
     "name": "stdout",
     "output_type": "stream",
     "text": [
      "WARNING:tensorflow:From /home/mada/anaconda3/envs/rep/lib/python3.6/site-packages/tensorflow/python/ops/math_ops.py:3066: to_int32 (from tensorflow.python.ops.math_ops) is deprecated and will be removed in a future version.\n",
      "Instructions for updating:\n",
      "Use tf.cast instead.\n"
     ]
    }
   ],
   "source": [
    "nn = model_conv()\n",
    "nn.reset_states()\n",
    "nn.fit(K.expand_dims(train.inputs),\n",
    "       train.targets,\n",
    "       epochs=10,\n",
    "#        batch_size=16,\n",
    "       steps_per_epoch=16,\n",
    "       validation_steps=16,\n",
    "       validation_data=(K.expand_dims(valid.inputs), valid.targets),\n",
    "       verbose=0,\n",
    "       callbacks=[\n",
    "           EarlyStopping(monitor='val_loss', min_delta=0.0001, patience=5), \n",
    "           plot_losses])"
   ]
  },
  {
   "cell_type": "code",
   "execution_count": 1,
   "metadata": {},
   "outputs": [
    {
     "ename": "NameError",
     "evalue": "name 'nn' is not defined",
     "output_type": "error",
     "traceback": [
      "\u001b[0;31m---------------------------------------------------------------------------\u001b[0m",
      "\u001b[0;31mNameError\u001b[0m                                 Traceback (most recent call last)",
      "\u001b[0;32m<ipython-input-1-c738f200b197>\u001b[0m in \u001b[0;36m<module>\u001b[0;34m\u001b[0m\n\u001b[0;32m----> 1\u001b[0;31m \u001b[0my_pred\u001b[0m \u001b[0;34m=\u001b[0m \u001b[0mnn\u001b[0m\u001b[0;34m.\u001b[0m\u001b[0mpredict\u001b[0m\u001b[0;34m(\u001b[0m\u001b[0mK\u001b[0m\u001b[0;34m.\u001b[0m\u001b[0mexpand_dims\u001b[0m\u001b[0;34m(\u001b[0m\u001b[0mvalid\u001b[0m\u001b[0;34m.\u001b[0m\u001b[0minputs\u001b[0m\u001b[0;34m)\u001b[0m\u001b[0;34m)\u001b[0m\u001b[0;34m\u001b[0m\u001b[0;34m\u001b[0m\u001b[0m\n\u001b[0m\u001b[1;32m      2\u001b[0m \u001b[0meval_nn\u001b[0m \u001b[0;34m=\u001b[0m \u001b[0mmt\u001b[0m\u001b[0;34m.\u001b[0m\u001b[0mrep_metric\u001b[0m\u001b[0;34m(\u001b[0m\u001b[0mvalid\u001b[0m\u001b[0;34m.\u001b[0m\u001b[0mtargets\u001b[0m\u001b[0;34m,\u001b[0m \u001b[0my_pred\u001b[0m\u001b[0;34m)\u001b[0m\u001b[0;34m\u001b[0m\u001b[0;34m\u001b[0m\u001b[0m\n\u001b[1;32m      3\u001b[0m \u001b[0meval_nn\u001b[0m\u001b[0;34m[\u001b[0m\u001b[0;34m'spearmanr'\u001b[0m\u001b[0;34m]\u001b[0m\u001b[0;34m\u001b[0m\u001b[0;34m\u001b[0m\u001b[0m\n",
      "\u001b[0;31mNameError\u001b[0m: name 'nn' is not defined"
     ]
    }
   ],
   "source": [
    "y_pred = nn.predict(K.expand_dims(valid.inputs))\n",
    "eval_nn = mt.rep_metric(valid.targets, y_pred)\n",
    "eval_nn['spearmanr']"
   ]
  },
  {
   "cell_type": "code",
   "execution_count": 24,
   "metadata": {},
   "outputs": [
    {
     "data": {
      "text/plain": [
       "TensorShape([Dimension(None), Dimension(19932)])"
      ]
     },
     "execution_count": 24,
     "metadata": {},
     "output_type": "execute_result"
    }
   ],
   "source": [
    "# hidden = 256\n",
    "# hidden_2 = 128\n",
    "# hidden_3 = 32\n",
    "# hidden_4 = 16\n",
    "# # hidden_2 = 1024\n",
    "# nn = Sequential([\n",
    "#     Dense(code_size, input_shape=(train.inputs.shape[1],), trainable=False),\n",
    "#     Dense(hidden_2),\n",
    "#     Dense(hidden_3),\n",
    "#     Dense(hidden_4),\n",
    "#     Dense(train.inputs.shape[1])\n",
    "# ])\n",
    "    \n",
    "    \n",
    "#     Dropout(0.1),\n",
    "#     Dense(hidden_2),\n",
    "#     Dropout(0.1),\n",
    "#     Conv1D(filters=16, kernel_size=(3), activation='relu', input_shape=(hidden_2,1)),\n",
    "#     MaxPooling1D(pool_size=2),\n",
    "#     Flatten(),\n",
    "#     Dense(train.inputs.shape[1])\n",
    "# ])"
   ]
  },
  {
   "cell_type": "code",
   "execution_count": null,
   "metadata": {},
   "outputs": [],
   "source": [
    "print(nn.summary())"
   ]
  }
 ],
 "metadata": {
  "kernelspec": {
   "display_name": "Python (rep)",
   "language": "python",
   "name": "rep"
  },
  "language_info": {
   "codemirror_mode": {
    "name": "ipython",
    "version": 3
   },
   "file_extension": ".py",
   "mimetype": "text/x-python",
   "name": "python",
   "nbconvert_exporter": "python",
   "pygments_lexer": "ipython3",
   "version": "3.6.8"
  }
 },
 "nbformat": 4,
 "nbformat_minor": 2
}
