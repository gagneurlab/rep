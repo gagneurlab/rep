{
 "cells": [
  {
   "cell_type": "markdown",
   "metadata": {},
   "source": [
    "### Goal\n",
    "Implement a neural network model using the individual and gene effect information.\n",
    "\n",
    "### TODO \n",
    " - 1. Autoencoder for individual effect\n",
    "\n",
    "### Conclusions\n",
    " - 1. For a model with one single layer 95 or 64 nodes does not make any difference. Using Huber-loss insead of mean squared error also does not make any difference. "
   ]
  },
  {
   "cell_type": "code",
   "execution_count": 1,
   "metadata": {},
   "outputs": [
    {
     "name": "stderr",
     "output_type": "stream",
     "text": [
      "/home/mada/anaconda3/envs/rep/lib/python3.6/importlib/_bootstrap.py:219: RuntimeWarning: numpy.dtype size changed, may indicate binary incompatibility. Expected 96, got 88\n",
      "  return f(*args, **kwds)\n",
      "Using TensorFlow backend.\n"
     ]
    }
   ],
   "source": [
    "import os\n",
    "\n",
    "import comet_ml\n",
    "import numpy as np\n",
    "import pandas as pd\n",
    "\n",
    "import keras\n",
    "from keras import backend as K\n",
    "from keras.layers import Input, Dense, Add, Dropout, Embedding, Conv2D, Flatten, Conv1D, MaxPooling1D, LeakyReLU, Lambda\n",
    "from keras.models import Sequential\n",
    "\n",
    "from keras.models import Model\n",
    "from keras.losses import *\n",
    "from keras.optimizers import Adam\n",
    "from keras.callbacks import EarlyStopping\n",
    "from keras.regularizers import *\n",
    "\n",
    "import warnings; warnings.simplefilter('ignore')\n",
    "\n",
    "import rep.preprocessing_new as prep\n",
    "import rep.datasets as d\n",
    "import rep.models as m\n",
    "import rep.metrics as mt\n",
    "\n",
    "import matplotlib.pyplot as plt\n",
    "%matplotlib inline\n",
    "%autoreload 1\n",
    "\n",
    "from tensorflow.python.client import device_lib\n",
    "import tensorflow as tf\n",
    "\n",
    "# import keras\n",
    "# from keras import backend as K\n",
    "\n",
    "from numpy.random import seed\n",
    "seed(1)\n",
    "\n",
    "# from tensorflow import keras\n",
    "# from tensorflow.keras import backend as K\n",
    "# from tensorflow.keras.layers import *\n",
    "\n",
    "# from tensorflow.keras.models import Model, Sequential\n",
    "# from tensorflow.keras.losses import *\n",
    "# from tensorflow.keras.optimizers import Adam\n",
    "# from tensorflow.keras.callbacks import EarlyStopping\n",
    "# from tensorflow.keras.regularizers import *"
   ]
  },
  {
   "cell_type": "code",
   "execution_count": 2,
   "metadata": {},
   "outputs": [],
   "source": [
    "config = tf.ConfigProto( device_count = {'GPU': 1, 'CPU': 4} ) \n",
    "sess = tf.Session(config=config) \n",
    "keras.backend.set_session(sess)"
   ]
  },
  {
   "cell_type": "code",
   "execution_count": 3,
   "metadata": {},
   "outputs": [
    {
     "name": "stdout",
     "output_type": "stream",
     "text": [
      "[name: \"/device:CPU:0\"\n",
      "device_type: \"CPU\"\n",
      "memory_limit: 268435456\n",
      "locality {\n",
      "}\n",
      "incarnation: 8457642798632358223\n",
      ", name: \"/device:XLA_CPU:0\"\n",
      "device_type: \"XLA_CPU\"\n",
      "memory_limit: 17179869184\n",
      "locality {\n",
      "}\n",
      "incarnation: 10111682728968969294\n",
      "physical_device_desc: \"device: XLA_CPU device\"\n",
      ", name: \"/device:XLA_GPU:0\"\n",
      "device_type: \"XLA_GPU\"\n",
      "memory_limit: 17179869184\n",
      "locality {\n",
      "}\n",
      "incarnation: 16082512859742057091\n",
      "physical_device_desc: \"device: XLA_GPU device\"\n",
      ", name: \"/device:GPU:0\"\n",
      "device_type: \"GPU\"\n",
      "memory_limit: 3273981952\n",
      "locality {\n",
      "  bus_id: 1\n",
      "  links {\n",
      "  }\n",
      "}\n",
      "incarnation: 9285727182868592132\n",
      "physical_device_desc: \"device: 0, name: GeForce GTX 1050, pci bus id: 0000:01:00.0, compute capability: 6.1\"\n",
      "]\n"
     ]
    }
   ],
   "source": [
    "print(device_lib.list_local_devices())"
   ]
  },
  {
   "cell_type": "code",
   "execution_count": 4,
   "metadata": {},
   "outputs": [],
   "source": [
    "data_path = os.readlink(os.path.join(\"..\",\"..\",\"data\"))\n",
    "path = os.path.join(data_path,\"processed\",\"gtex\")\n",
    "x_inputs_h5 = os.path.join(path,\"X_inputs_pc_onlyblood.h5\")\n",
    "y_targets_h5 = os.path.join(path,\"Y_targets_pc_onlyblood.h5\")\n",
    "train_raw, valid_raw = d.rep_blood_expression(x_inputs_h5, y_targets_h5, label=None)"
   ]
  },
  {
   "cell_type": "code",
   "execution_count": 5,
   "metadata": {},
   "outputs": [],
   "source": [
    "# filter train and valid by tissue\n",
    "train = train_raw.filter_by(from_tissue='Whole Blood',to_tissue='Muscle - Skeletal')\n",
    "valid = valid_raw.filter_by(from_tissue='Whole Blood',to_tissue='Muscle - Skeletal')\n",
    "del train_raw, valid_raw"
   ]
  },
  {
   "cell_type": "code",
   "execution_count": 6,
   "metadata": {},
   "outputs": [
    {
     "data": {
      "text/plain": [
       "((220, 19932), (220, 19932), (220, 11), (19932, 3))"
      ]
     },
     "execution_count": 6,
     "metadata": {},
     "output_type": "execute_result"
    }
   ],
   "source": [
    "train.inputs.shape, train.targets.shape, train.metadata.shape, train.features.shape"
   ]
  },
  {
   "cell_type": "code",
   "execution_count": 7,
   "metadata": {},
   "outputs": [],
   "source": [
    "# interactive plot of the loss\n",
    "\n",
    "import numpy as np\n",
    "from matplotlib import pyplot as plt\n",
    "from IPython.display import clear_output\n",
    "\n",
    "class PlotLosses(keras.callbacks.Callback):\n",
    "    \n",
    "#     def __init__(self,start_epoch=1):\n",
    "#         self.start_epoch = start_epoch\n",
    "    \n",
    "    def on_train_begin(self, logs={}):\n",
    "        self.i = 0\n",
    "        self.x = []\n",
    "        self.losses = []\n",
    "        self.val_losses = []\n",
    "        \n",
    "        self.fig = plt.figure()\n",
    "        \n",
    "        self.logs = []\n",
    "\n",
    "    def on_epoch_end(self, epoch, logs={}):\n",
    "#         print(epoch)\n",
    "#         if epoch >= self.start_epoch:\n",
    "        \n",
    "        self.logs.append(logs)\n",
    "        self.x.append(self.i)\n",
    "        self.losses.append(logs.get('loss'))\n",
    "        self.val_losses.append(logs.get('val_loss'))\n",
    "        self.i += 1\n",
    "\n",
    "        clear_output(wait=True)\n",
    "        plt.plot(self.x, self.losses, label=\"loss\")\n",
    "        plt.plot(self.x, self.val_losses, label=\"val_loss\")\n",
    "        plt.legend()\n",
    "        plt.show()\n",
    "        \n",
    "plot_losses = PlotLosses()\n"
   ]
  },
  {
   "cell_type": "markdown",
   "metadata": {},
   "source": [
    "### 1. Autoencoder for individual effect\n",
    "The AE should perform similar to the PCA (idealy even better)<br/>\n",
    "PCA performance for the individual effect (mean_spearmanr = 0.78, median_spearmanr = 0.93 (ncomp = 95)\n",
    "\n",
    "Model 1 hidden layer with 95 nodes: mean_spearmanr = 0.77, median_spearmanr = 0.93 <br/>\n",
    "Model 1 hidden layer with 95 nodes + huber_loss: mean_spearmanr = 0.77, median_spearmanr = 0.93 <br/>\n",
    "Model 1 hidden layer with 64 nodes: mean_spearmanr = 0.77, median_spearmanr = 0.93 <br/>\n",
    "Model 1 hidden layer with 32 nodes: mean_spearmanr = 0.77, median_spearmanr = 0.92 <br/>\n",
    "\n",
    "Adding more layers / Dropout or activation function does not help improving the model"
   ]
  },
  {
   "cell_type": "code",
   "execution_count": 48,
   "metadata": {},
   "outputs": [
    {
     "data": {
      "image/png": "[encoded data removed]",
      "text/plain": [
       "<Figure size 432x288 with 1 Axes>"
      ]
     },
     "metadata": {
      "needs_background": "light"
     },
     "output_type": "display_data"
    }
   ],
   "source": [
    "from sklearn.utils.validation import check_array as check_arrays\n",
    "\n",
    "# loss\n",
    "def mean_absolute_percentage_error(y_true, y_pred): \n",
    "    return K.mean(K.abs((y_true - y_pred) / y_true)) * 100\n",
    "\n",
    "def huber_loss(y_true, y_pred, clip_delta=1):\n",
    "    error = y_true - y_pred\n",
    "    cond  = tf.keras.backend.abs(error) < clip_delta\n",
    "\n",
    "    squared_loss = 0.5 * tf.keras.backend.square(error)\n",
    "    linear_loss  = clip_delta * (tf.keras.backend.abs(error) - 0.5 * clip_delta)\n",
    "\n",
    "    return tf.where(cond, squared_loss, linear_loss)\n",
    "\n",
    "\n",
    "# optimizer\n",
    "adam = Adam(lr=0.0001, beta_1=0.9, beta_2=0.999, decay=0.0000001)\n",
    "\n",
    "# autoencoder\n",
    "code_size = 32\n",
    "ae = Sequential([   \n",
    "    Dense(128, input_shape=(train.inputs.shape[1],)),\n",
    "    Dense(code_size),\n",
    "    Dense(128),\n",
    "    Dense(train.inputs.shape[1])\n",
    "])\n",
    "ae.compile(optimizer = adam, \n",
    "           loss = 'mean_squared_error')\n",
    "#            loss = huber_loss)\n",
    "\n",
    "\n",
    "ae.fit(train.inputs,\n",
    "       train.inputs,\n",
    "       epochs=500,\n",
    "       batch_size=16,\n",
    "       validation_data=(valid.inputs, valid.inputs),\n",
    "       verbose=0,\n",
    "       callbacks=[EarlyStopping(monitor='val_loss', min_delta=1e-5, patience=10),\n",
    "                 plot_losses])\n",
    "\n",
    "recovered_data = ae.predict(valid.inputs)\n",
    "eval_ae = mt.rep_metric(valid.inputs, recovered_data)"
   ]
  },
  {
   "cell_type": "code",
   "execution_count": 49,
   "metadata": {},
   "outputs": [
    {
     "data": {
      "text/plain": [
       "{'mean': 0.7748012330096412,\n",
       " 'min': -0.32335198926422715,\n",
       " 'p10': 0.2714703348359809,\n",
       " 'p25': 0.682854766264811,\n",
       " 'median': 0.9232028716269403,\n",
       " 'p75': 0.9681769996956242,\n",
       " 'p90': 0.9802680604972868,\n",
       " 'max': 0.9939544695991687}"
      ]
     },
     "execution_count": 49,
     "metadata": {},
     "output_type": "execute_result"
    }
   ],
   "source": [
    "eval_ae['spearmanr']"
   ]
  },
  {
   "cell_type": "markdown",
   "metadata": {},
   "source": [
    "### 3. Neural network - implement gene expression imputation from blood to muscle tissue"
   ]
  },
  {
   "cell_type": "markdown",
   "metadata": {},
   "source": [
    "#### 3.1 Implement a network with one layer to predict from blood to muscle"
   ]
  },
  {
   "cell_type": "code",
   "execution_count": 19,
   "metadata": {},
   "outputs": [
    {
     "data": {
      "text/plain": [
       "{'mean': 0.32708409937405153,\n",
       " 'min': -0.4964952687755446,\n",
       " 'p10': 0.015261935930561157,\n",
       " 'p25': 0.16836818324962177,\n",
       " 'median': 0.34903650372417216,\n",
       " 'p75': 0.49716618739487645,\n",
       " 'p90': 0.60299649450203,\n",
       " 'max': 0.8727828040531936}"
      ]
     },
     "execution_count": 19,
     "metadata": {},
     "output_type": "execute_result"
    }
   ],
   "source": [
    "hidden = 64\n",
    "nn = Sequential([\n",
    "    Dense(hidden, input_shape=(train.inputs.shape[1],)),\n",
    "    Dense(train.inputs.shape[1])\n",
    "])\n",
    "nn.compile(optimizer = adam, \n",
    "           loss = 'mean_squared_error')\n",
    "nn.reset_states()\n",
    "nn.fit(train.inputs,\n",
    "       train.targets,\n",
    "       epochs=500,\n",
    "       batch_size=16,\n",
    "       validation_data=(valid.inputs, valid.targets),\n",
    "       verbose=0,\n",
    "       callbacks=[EarlyStopping(monitor='val_loss', min_delta=0.000001, patience=5)])\n",
    "recovered_data = nn.predict(valid.inputs)\n",
    "eval_nn = mt.rep_metric(valid.targets, recovered_data)\n",
    "eval_nn['spearmanr']"
   ]
  },
  {
   "cell_type": "markdown",
   "metadata": {},
   "source": [
    "#### 3.1.1 Add layers"
   ]
  },
  {
   "cell_type": "code",
   "execution_count": 15,
   "metadata": {},
   "outputs": [],
   "source": [
    "x_train = train.inputs[:,:10000].reshape(-1,100,100)\n",
    "y_train = train.targets[:,:10000]\n",
    "x_valid = valid.inputs[:,:10000].reshape(-1,100,100)\n",
    "y_valid = valid.targets[:,:10000]"
   ]
  },
  {
   "cell_type": "code",
   "execution_count": 76,
   "metadata": {},
   "outputs": [],
   "source": [
    "np.random.seed(1337)\n",
    "# optimizer\n",
    "adam = Adam(lr=0.0001, beta_1=0.9, beta_2=0.999, decay=0.0000001)\n",
    "\n",
    "def simple_model():\n",
    "    \n",
    "    hidden = 1024\n",
    "    hidden_2 = 256\n",
    "    hidden_3 = 64\n",
    "    hidden_4 = 32\n",
    "    \n",
    "    nn_aux = Sequential([\n",
    "        Dense(hidden, input_shape=(train.inputs.shape[1],)),\n",
    "        Dense(hidden_2),\n",
    "        Dense(hidden_3),\n",
    "        Dense(hidden_4),\n",
    "        Dense(train.inputs.shape[1])\n",
    "    ])\n",
    "    nn_aux.compile(optimizer = adam, \n",
    "               loss = 'mean_squared_error')\n",
    "\n",
    "    return nn_aux"
   ]
  },
  {
   "cell_type": "code",
   "execution_count": 77,
   "metadata": {},
   "outputs": [],
   "source": [
    "nn = simple_model()"
   ]
  },
  {
   "cell_type": "code",
   "execution_count": 78,
   "metadata": {},
   "outputs": [
    {
     "data": {
      "text/plain": [
       "{'mean': 0.29230391734801814,\n",
       " 'min': -0.40162066413046044,\n",
       " 'p10': -0.008554778273798682,\n",
       " 'p25': 0.12727561228072834,\n",
       " 'median': 0.30400512187068746,\n",
       " 'p75': 0.457812926409061,\n",
       " 'p90': 0.5804582380302498,\n",
       " 'max': 0.861583996353003}"
      ]
     },
     "execution_count": 78,
     "metadata": {},
     "output_type": "execute_result"
    }
   ],
   "source": [
    "nn.reset_states()\n",
    "nn.fit(train.inputs,\n",
    "       train.targets,\n",
    "       epochs=500,\n",
    "       batch_size=16,\n",
    "       validation_data=(valid.inputs, valid.targets),\n",
    "       verbose=0,\n",
    "       callbacks=[EarlyStopping(monitor='val_loss', min_delta=1e-10, patience=5)])\n",
    "recovered_data = nn.predict(valid.inputs)\n",
    "eval_nn = mt.rep_metric(valid.targets, recovered_data)\n",
    "eval_nn['spearmanr']"
   ]
  },
  {
   "cell_type": "code",
   "execution_count": 67,
   "metadata": {},
   "outputs": [],
   "source": [
    "nn.save(\"simple_layer_model.h5\")"
   ]
  },
  {
   "cell_type": "markdown",
   "metadata": {},
   "source": [
    "#### 3.2 Network \n",
    "- contains the AE hidden layer of the individual variation as first layer"
   ]
  },
  {
   "cell_type": "code",
   "execution_count": 23,
   "metadata": {},
   "outputs": [],
   "source": [
    "import torch\n",
    "import torch.nn as nn\n",
    "import torch.nn.functional as F\n",
    "torch.manual_seed(1234)\n",
    "\n",
    "class Flatten(nn.Module):\n",
    "    def forward(self, input):\n",
    "        return input.view(input.size(0), -1)\n",
    "\n",
    "hidden = 128\n",
    "hidden_2 = 64\n",
    "hidden_3 = 32\n",
    "\n",
    "x = torch.tensor(train.inputs)\n",
    "y = torch.tensor(train.targets)\n",
    "model = nn.Sequential(\n",
    "                    nn.Linear(train.inputs.shape[1],hidden),\n",
    "                    nn.Conv1d(hidden,1,3,stride=1),\n",
    "                    nn.Conv1d(10,10,3,stride=2,dilation=2),\n",
    "                    nn.Conv1d(10,10,3,stride=4,dilation=4)\n",
    "#     ,\n",
    "#                     Flatten(),\n",
    "#                     nn.Linear(hidden, train.inputs.shape[1])\n",
    "                    )\n",
    "criterion = torch.nn.MSELoss()\n",
    "optimizer = torch.optim.Adam(model.parameters(), lr=0.001, betas=(0.9, 0.999), weight_decay=0.0000001)\n",
    "\n",
    "\n",
    "for epoch in range(500):\n",
    "    # Forward Propagation\n",
    "    y_pred = model(x)\n",
    "    print(y_pred.shape)\n",
    "    # Compute and print loss\n",
    "    loss = criterion(y_pred, y)\n",
    "    \n",
    "    if epoch % 50 == 0:\n",
    "        print('epoch: ', epoch,' loss: ', loss.item())\n",
    "    \n",
    "    # Zero the gradients\n",
    "    optimizer.zero_grad()\n",
    "    \n",
    "    # perform a backward pass (backpropagation)\n",
    "    loss.backward()\n",
    "    \n",
    "    # Update the parameters\n",
    "    optimizer.step()\n",
    "\n",
    "x_valid = torch.tensor(valid.inputs)\n",
    "y_valid = torch.tensor(valid.targets)\n",
    "\n",
    "y_pred = model(x_valid)\n",
    "eval_nn = mt.rep_metric(valid.targets, y_pred.detach().numpy())\n",
    "eval_nn['spearmanr']"
   ]
  },
  {
   "cell_type": "code",
   "execution_count": 9,
   "metadata": {},
   "outputs": [],
   "source": [
    "import torch\n",
    "import pycuda.driver as cuda\n",
    "\n",
    "cuda.init()\n",
    "\n",
    "## Get Id of default device\n",
    "torch.cuda.current_device()\n",
    "# 0\n",
    "cuda.Device(0).name()"
   ]
  },
  {
   "cell_type": "code",
   "execution_count": null,
   "metadata": {},
   "outputs": [],
   "source": []
  },
  {
   "cell_type": "code",
   "execution_count": null,
   "metadata": {},
   "outputs": [],
   "source": []
  },
  {
   "cell_type": "code",
   "execution_count": null,
   "metadata": {},
   "outputs": [],
   "source": []
  },
  {
   "cell_type": "code",
   "execution_count": null,
   "metadata": {},
   "outputs": [],
   "source": []
  },
  {
   "cell_type": "code",
   "execution_count": null,
   "metadata": {},
   "outputs": [],
   "source": []
  },
  {
   "cell_type": "code",
   "execution_count": null,
   "metadata": {},
   "outputs": [],
   "source": []
  },
  {
   "cell_type": "code",
   "execution_count": null,
   "metadata": {},
   "outputs": [],
   "source": []
  },
  {
   "cell_type": "code",
   "execution_count": 78,
   "metadata": {},
   "outputs": [
    {
     "data": {
      "text/plain": [
       "(220, 19932)"
      ]
     },
     "execution_count": 78,
     "metadata": {},
     "output_type": "execute_result"
    }
   ],
   "source": [
    "train.inputs.shape"
   ]
  },
  {
   "cell_type": "code",
   "execution_count": 143,
   "metadata": {},
   "outputs": [],
   "source": [
    "# x_train = train.inputs[:,:18000].reshape(-1,200,90)\n",
    "# y_train = train.targets[:,:18000]\n",
    "# x_valid = valid.inputs[:,:18000].reshape(-1,200,90)\n",
    "# y_valid = valid.targets[:,:18000]\n",
    "\n",
    "x_train = train.inputs[:,:18000].reshape(-1,200,90)\n",
    "y_train = train.targets\n",
    "x_valid = valid.inputs[:,:18000].reshape(-1,200,90)\n",
    "y_valid = valid.targets"
   ]
  },
  {
   "cell_type": "code",
   "execution_count": 67,
   "metadata": {},
   "outputs": [],
   "source": [
    "# optimizer\n",
    "adam = Adam(lr=0.0001, beta_1=0.9, beta_2=0.999, decay=0.00000001)\n",
    "\n",
    "def model_conv(input_size1, input_size2):\n",
    "    \n",
    "    \n",
    "    # first submodel\n",
    "    input1 = keras.layers.Input(shape=(input_size1[0],input_size1[1],1))\n",
    "        \n",
    "    hidden3 = keras.layers.Conv2D(7, (3,3), strides=1, padding='valid')(input1)\n",
    "    hidden3 = keras.layers.Conv2D(7, (3,3), dilation_rate = 2, padding='valid')(hidden3)\n",
    "#     hidden3 = keras.layers.Conv2D(7, (3,3), dilation_rate = 4, padding='valid')(hidden3)\n",
    "\n",
    "    flat = keras.layers.Flatten()(hidden3)\n",
    "    \n",
    "    outh = keras.layers.Dropout(rate=0.2)(flat)\n",
    "    outh = keras.layers.Dense(32)(outh)\n",
    "       \n",
    "    outh = keras.layers.Dropout(rate=0.2)(outh)\n",
    "    outh = keras.layers.Dense(64)(outh)\n",
    "   \n",
    "    outh = keras.layers.Dropout(rate=0.2)(outh)\n",
    "    outh1 = keras.layers.Dense(128)(outh)\n",
    "\n",
    "#     outh1 = keras.layers.Dropout(0.2)(outh)\n",
    "    \n",
    "#     outh1 = keras.layers.Dense(input_size[0]*input_size[1])(outh)\n",
    "    \n",
    "#     nn_aux = keras.models.Model(inputs=input1, outputs=outh)\n",
    "#     nn_aux.compile(optimizer = adam, \n",
    "#                loss = 'mean_squared_error')\n",
    "\n",
    "    \n",
    "    # second submodel\n",
    "    input2 = keras.layers.Input(shape=(input_size2,))\n",
    "    print(input2.shape)\n",
    "    outh2 = keras.layers.Dense(64)(input2)\n",
    "    outh2 = keras.layers.Dropout(rate=0.25)(outh2)\n",
    "    outh2 = keras.layers.Dense(32)(outh2)\n",
    "    outh2 = keras.layers.Dropout(rate=0.25)(outh2)\n",
    "\n",
    "\n",
    "    print(outh2.shape)\n",
    "#     outh1 = keras.layers.Reshape(target_shape=(1,128))(outh1)\n",
    "#     outh2 = keras.layers.Reshape(target_shape=(1,32))(outh2)\n",
    "#     concat = keras.layers.concatenate([outh1, outh2])\n",
    "#     print(concat.shape)\n",
    "#     concat = K.squeeze(concat,axis=1)\n",
    "#     print(concat.shape)\n",
    "#     outh3 = keras.layers.Dense(input_size[0]*input_size[1])(concat)\n",
    "#     print(outh3.shape)\n",
    "#     print(input1.shape)\n",
    "#     print(input2.shape)\n",
    "#     print(outh3.shape)\n",
    "    outh3 = keras.layers.Dense(input_size2)(outh2)\n",
    "    print(outh3.shape)\n",
    "    nn_aux = keras.models.Model(inputs=[input1,input2], outputs=[outh3])\n",
    "    nn_aux.compile(optimizer = adam, \n",
    "               loss = 'mean_squared_error')\n",
    "\n",
    "    \n",
    "    \n",
    "    return nn_aux"
   ]
  },
  {
   "cell_type": "code",
   "execution_count": 144,
   "metadata": {},
   "outputs": [
    {
     "ename": "TypeError",
     "evalue": "model_conv() takes 1 positional argument but 2 were given",
     "output_type": "error",
     "traceback": [
      "\u001b[0;31m---------------------------------------\u001b[0m",
      "\u001b[0;31mTypeError\u001b[0mTraceback (most recent call last)",
      "\u001b[0;32m<ipython-input-144-eac03a951d4e>\u001b[0m in \u001b[0;36m<module>\u001b[0;34m\u001b[0m\n\u001b[0;32m----> 1\u001b[0;31m \u001b[0mnn\u001b[0m \u001b[0;34m=\u001b[0m \u001b[0mmodel_conv\u001b[0m\u001b[0;34m(\u001b[0m\u001b[0;34m(\u001b[0m\u001b[0mx_train\u001b[0m\u001b[0;34m.\u001b[0m\u001b[0mshape\u001b[0m\u001b[0;34m[\u001b[0m\u001b[0;36m1\u001b[0m\u001b[0;34m]\u001b[0m\u001b[0;34m,\u001b[0m\u001b[0mx_train\u001b[0m\u001b[0;34m.\u001b[0m\u001b[0mshape\u001b[0m\u001b[0;34m[\u001b[0m\u001b[0;36m2\u001b[0m\u001b[0;34m]\u001b[0m\u001b[0;34m)\u001b[0m\u001b[0;34m,\u001b[0m \u001b[0mtrain\u001b[0m\u001b[0;34m.\u001b[0m\u001b[0minputs\u001b[0m\u001b[0;34m.\u001b[0m\u001b[0mshape\u001b[0m\u001b[0;34m[\u001b[0m\u001b[0;36m1\u001b[0m\u001b[0;34m]\u001b[0m\u001b[0;34m)\u001b[0m\u001b[0;34m\u001b[0m\u001b[0;34m\u001b[0m\u001b[0m\n\u001b[0m\u001b[1;32m      2\u001b[0m \u001b[0mnn\u001b[0m\u001b[0;34m.\u001b[0m\u001b[0mreset_states\u001b[0m\u001b[0;34m(\u001b[0m\u001b[0;34m)\u001b[0m\u001b[0;34m\u001b[0m\u001b[0;34m\u001b[0m\u001b[0m\n\u001b[1;32m      3\u001b[0m nn.fit(x=[K.expand_dims(x_train),train.inputs],\n\u001b[1;32m      4\u001b[0m        \u001b[0my\u001b[0m\u001b[0;34m=\u001b[0m\u001b[0my_train\u001b[0m\u001b[0;34m,\u001b[0m\u001b[0;34m\u001b[0m\u001b[0;34m\u001b[0m\u001b[0m\n\u001b[1;32m      5\u001b[0m        \u001b[0mepochs\u001b[0m\u001b[0;34m=\u001b[0m\u001b[0;36m500\u001b[0m\u001b[0;34m,\u001b[0m\u001b[0;34m\u001b[0m\u001b[0;34m\u001b[0m\u001b[0m\n",
      "\u001b[0;31mTypeError\u001b[0m: model_conv() takes 1 positional argument but 2 were given"
     ]
    }
   ],
   "source": [
    "nn = model_conv((x_train.shape[1],x_train.shape[2]), train.inputs.shape[1])\n",
    "nn.reset_states()\n",
    "nn.fit(x=[K.expand_dims(x_train),train.inputs],\n",
    "       y=y_train,\n",
    "       epochs=500,\n",
    "#        batch_size=16,\n",
    "       steps_per_epoch=16,\n",
    "       validation_steps=1,\n",
    "       validation_data=([K.expand_dims(x_valid),valid.inputs], y_valid),\n",
    "       verbose=0,\n",
    "       callbacks=[\n",
    "           EarlyStopping(monitor='val_loss', min_delta=1e-5, patience=10)\n",
    "           , \n",
    "           plot_losses\n",
    "       ])"
   ]
  },
  {
   "cell_type": "code",
   "execution_count": 64,
   "metadata": {},
   "outputs": [
    {
     "data": {
      "text/plain": [
       "{'mean': 0.3637025457788201,\n",
       " 'min': -0.4228279308306054,\n",
       " 'p10': 0.06465575036333858,\n",
       " 'p25': 0.223556140680859,\n",
       " 'median': 0.3907617708395499,\n",
       " 'p75': 0.5231454270948735,\n",
       " 'p90': 0.6130932639561851,\n",
       " 'max': 0.8423455572579237}"
      ]
     },
     "execution_count": 64,
     "metadata": {},
     "output_type": "execute_result"
    }
   ],
   "source": [
    "y_pred = nn.predict([K.expand_dims(x_valid),valid.inputs],steps=1)\n",
    "eval_nn = mt.rep_metric(y_valid, y_pred)\n",
    "eval_nn['spearmanr']"
   ]
  },
  {
   "cell_type": "code",
   "execution_count": 22,
   "metadata": {},
   "outputs": [],
   "source": [
    "# optimizer\n",
    "adam = Adam(lr=0.00005, beta_1=0.9, beta_2=0.999, decay=0.0000001)\n",
    "\n",
    "def model_conv(input_size_):\n",
    "    \n",
    "#     code_size = 64\n",
    "#     inputLength = 64\n",
    "#     baseNetwork = Sequential()\n",
    "# #     baseNetwork.add(Dense(code_size))\n",
    "#     baseNetwork.add(Embedding(input_dim=100, output_dim=80, input_length=input_size_))\n",
    "#     baseNetwork.add(Conv1D(10, 20, strides=1, padding='valid'))\n",
    "#     baseNetwork.add(LeakyReLU(0.5))\n",
    "#     baseNetwork.add(Dropout(0.1))\n",
    "\n",
    "#     baseNetwork.add(Conv1D(10, 20, dilation_rate=2, padding='valid'))\n",
    "#     baseNetwork.add(LeakyReLU(0.5))\n",
    "#     baseNetwork.add(Dropout(0.1))\n",
    "\n",
    "#     baseNetwork.add(Conv1D(10, 20, dilation_rate=4, padding='valid'))\n",
    "#     baseNetwork.add(LeakyReLU(0.5))\n",
    "#     baseNetwork.add(Dropout(0.1))\n",
    "\n",
    "#     baseNetwork.add(Flatten())\n",
    "\n",
    "#     baseNetwork.add(Dense(128))\n",
    "# #     baseNetwork.add(Dropout(0.1))\n",
    "#     baseNetwork.add(Dense(code_size))\n",
    "#     baseNetwork.add(Dense(code_size))\n",
    "# #     baseNetwork.add(Dropout(0.1))\n",
    "#     baseNetwork.add(Dense(32))\n",
    "#     baseNetwork.add(Dropout(0.1))\n",
    "# #     baseNetwork.add(Dense(16))\n",
    "# #     baseNetwork.add(Dense(16))\n",
    "# #     baseNetwork.add(Dropout(0.1))\n",
    "#     baseNetwork.add(Dense(input_size_))\n",
    "\n",
    "    \n",
    "    input1 = keras.layers.Input(shape=(input_size_,))\n",
    "    emb = keras.layers.Embedding(input_dim=10, output_dim=128, input_length=input_size_)(input1)\n",
    "    flat = keras.layers.Flatten()(emb)\n",
    "    h1 = keras.layers.Dense(128, activation='sigmoid', kernel_regularizer=keras.regularizers.l2(0.005))(flat)\n",
    "    h2 = keras.layers.Dense(64, activation='sigmoid', kernel_regularizer=keras.regularizers.l2(0.005))(h1)\n",
    "    h3 = keras.layers.Dense(32, activation='sigmoid', kernel_regularizer=keras.regularizers.l2(0.005))(h2)\n",
    "    h4 = keras.layers.Dense(64, activation='sigmoid', kernel_regularizer=keras.regularizers.l2(0.005))(h3)    \n",
    "    h5 = keras.layers.Dense(128, activation='sigmoid', kernel_regularizer=keras.regularizers.l2(0.005))(h4)\n",
    "    h6 =  Add()([h1, h5])\n",
    "    out1 = Dropout(0.1)(h6)\n",
    "\n",
    "    out2 = keras.layers.Dense(input_size_)(out1)\n",
    "    baseNetwork = keras.models.Model(inputs=[input1], outputs=[out2])\n",
    "    baseNetwork.compile(optimizer = adam, \n",
    "               loss = 'mean_squared_error')\n",
    "   \n",
    "    \n",
    "    return baseNetwork"
   ]
  },
  {
   "cell_type": "code",
   "execution_count": null,
   "metadata": {},
   "outputs": [],
   "source": [
    "nn = model_conv(train.inputs.shape[1])\n",
    "nn.reset_states()\n",
    "nn.fit(train.inputs,\n",
    "       train.targets,\n",
    "       epochs=500,\n",
    "       batch_size=16,\n",
    "#        steps_per_epoch=16,\n",
    "#        validation_steps=1,\n",
    "       validation_data=(valid.inputs, valid.targets),\n",
    "       verbose=0,\n",
    "       callbacks=[\n",
    "           EarlyStopping(monitor='val_loss', min_delta=1e-10, patience=10), \n",
    "           plot_losses\n",
    "       ])\n",
    "y_pred = nn.predict(valid.inputs)\n",
    "eval_nn = mt.rep_metric(valid.targets, y_pred)\n",
    "eval_nn['spearmanr']"
   ]
  },
  {
   "cell_type": "code",
   "execution_count": null,
   "metadata": {},
   "outputs": [],
   "source": []
  },
  {
   "cell_type": "code",
   "execution_count": null,
   "metadata": {},
   "outputs": [],
   "source": []
  },
  {
   "cell_type": "code",
   "execution_count": null,
   "metadata": {},
   "outputs": [],
   "source": []
  },
  {
   "cell_type": "code",
   "execution_count": null,
   "metadata": {},
   "outputs": [],
   "source": []
  },
  {
   "cell_type": "code",
   "execution_count": 98,
   "metadata": {},
   "outputs": [],
   "source": [
    "# hidden = 256\n",
    "# hidden_2 = 128\n",
    "# hidden_3 = 32\n",
    "# hidden_4 = 16\n",
    "# # hidden_2 = 1024\n",
    "# nn = Sequential([\n",
    "#     Dense(code_size, input_shape=(train.inputs.shape[1],), trainable=False),\n",
    "#     Dense(hidden_2),\n",
    "#     Dense(hidden_3),\n",
    "#     Dense(hidden_4),\n",
    "#     Dense(train.inputs.shape[1])\n",
    "# ])\n",
    "    \n",
    "    \n",
    "#     Dropout(0.1),\n",
    "#     Dense(hidden_2),\n",
    "#     Dropout(0.1),\n",
    "#     Conv1D(filters=16, kernel_size=(3), activation='relu', input_shape=(hidden_2,1)),\n",
    "#     MaxPooling1D(pool_size=2),\n",
    "#     Flatten(),\n",
    "#     Dense(train.inputs.shape[1])\n",
    "# ])"
   ]
  },
  {
   "cell_type": "code",
   "execution_count": null,
   "metadata": {},
   "outputs": [],
   "source": [
    "print(nn.summary())"
   ]
  },
  {
   "cell_type": "code",
   "execution_count": 201,
   "metadata": {},
   "outputs": [
    {
     "data": {
      "text/plain": [
       "\u001b[0;31mSignature:\u001b[0m \u001b[0mkeras\u001b[0m\u001b[0;34m.\u001b[0m\u001b[0mregularizers\u001b[0m\u001b[0;34m.\u001b[0m\u001b[0ml1\u001b[0m\u001b[0;34m(\u001b[0m\u001b[0ml\u001b[0m\u001b[0;34m=\u001b[0m\u001b[0;36m0.01\u001b[0m\u001b[0;34m)\u001b[0m\u001b[0;34m\u001b[0m\u001b[0;34m\u001b[0m\u001b[0m\n",
       "\u001b[0;31mDocstring:\u001b[0m <no docstring>\n",
       "\u001b[0;31mFile:\u001b[0m      ~/anaconda3/envs/rep/lib/python3.6/site-packages/keras/regularizers.py\n",
       "\u001b[0;31mType:\u001b[0m      function\n"
      ]
     },
     "metadata": {},
     "output_type": "display_data"
    }
   ],
   "source": [
    "?keras.regularizers.l1"
   ]
  }
 ],
 "metadata": {
  "kernelspec": {
   "display_name": "Python (rep)",
   "language": "python",
   "name": "rep"
  },
  "language_info": {
   "codemirror_mode": {
    "name": "ipython",
    "version": 3
   },
   "file_extension": ".py",
   "mimetype": "text/x-python",
   "name": "python",
   "nbconvert_exporter": "python",
   "pygments_lexer": "ipython3",
   "version": "3.6.8"
  }
 },
 "nbformat": 4,
 "nbformat_minor": 2
}
