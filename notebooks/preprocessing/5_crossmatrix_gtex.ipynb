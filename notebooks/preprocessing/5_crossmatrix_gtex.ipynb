{
 "cells": [
  {
   "cell_type": "markdown",
   "metadata": {},
   "source": [
    "### Goal \n",
    "\n",
    "Compute the crossmatrix (X,Y) where x_ijk - input and y_ijl - target, for gene i, individual j, and tissues k,l where k <> l \n",
    "\n",
    "### Conclusions\n",
    "\n",
    "These will be stored under `/s/project/rep/processed/gtex/input_data/` as `X_train.h5`, `Y_train.h5`, `X_valid.h5`, `Y_valid.h5`, `X_test.h5`, `Y_test.h5`"
   ]
  },
  {
   "cell_type": "code",
   "execution_count": 2,
   "metadata": {},
   "outputs": [],
   "source": [
    "import os\n",
    "import sys\n",
    "\n",
    "import pandas as pd\n",
    "import numpy as np\n",
    "import matplotlib.pyplot as plt\n",
    "from scipy import stats\n",
    "import seaborn as sns\n",
    "import h5py\n",
    "import anndata\n",
    "\n",
    "from rep import preprocessing_new as p\n",
    "from rep.linear_regression import Linear_Regression\n",
    "from rep.linear_regression import Transform\n",
    "from rep.linear_regression import FeatureReduction\n",
    "from rep import evaluate as e\n",
    "\n",
    "import plotly\n",
    "import plotly.plotly as py\n",
    "from plotly.graph_objs import graph_objs\n",
    "\n",
    "# set credentials\n",
    "plotly.tools.set_credentials_file(username='gium', api_key='nUFs5UnmuBR3pEbGIMj8')\n",
    "\n",
    "import warnings; warnings.simplefilter('ignore')"
   ]
  },
  {
   "cell_type": "code",
   "execution_count": 10,
   "metadata": {},
   "outputs": [
    {
     "name": "stdout",
     "output_type": "stream",
     "text": [
      "Total Genes:  19932\n"
     ]
    }
   ],
   "source": [
    "file = os.path.join(os.readlink(os.path.join(\"..\",\"..\",\"data\")),\"processed\",\"gtex\",\"recount\",\"recount_gtex_logratios.h5ad\")\n",
    "gtex = p.load(file).transpose()\n",
    "gtex = p.RepAnnData(X=gtex.X,samples_obs=gtex.obs,genes_var=gtex.var)\n",
    "\n",
    "# load invidivudals\n",
    "path = os.path.join(\"..\",\"..\",\"data\",\"processed\",\"gtex\",\"recount\")\n",
    "\n",
    "train = []\n",
    "valid = []\n",
    "test = []\n",
    "states = ['train','valid','test']\n",
    "dict_states_indiv = {'train':train,'valid':valid,'test':test}\n",
    "\n",
    "for s in states:\n",
    "    with open(os.path.join(path,s+\"_individuals.txt\"), 'r') as f:\n",
    "        for l in f: dict_states_indiv[s].append(l.replace(\"\\n\",\"\"))\n",
    "\n",
    "\n",
    "selected_genes = gtex.genes_names # training with all features\n",
    "print(\"Total Genes: \",len(selected_genes))\n"
   ]
  },
  {
   "cell_type": "code",
   "execution_count": 14,
   "metadata": {},
   "outputs": [
    {
     "name": "stdout",
     "output_type": "stream",
     "text": [
      "compute all arrangements\n",
      "Total pairs: 4403\n",
      "compute all arrangements\n",
      "Total pairs: 1630\n",
      "compute all arrangements\n",
      "Total pairs: 1558\n"
     ]
    }
   ],
   "source": [
    "%time (X_inputs, Y_targets) =  p.rnaseq_train_valid_test(gtex,dict_states_indiv,selected_genes,onlyBlood=True)\n",
    "# save inputs and targets\n",
    "path = os.path.join(\"..\",\"..\",\"data\",\"processed\",\"gtex\",\"input_data\")\n",
    "X_inputs.save(os.path.join(path,'X_inputs_pc_onlyblood.h5'))\n",
    "Y_targets.save(os.path.join(path,'Y_targets_pc_onlyblood.h5'))"
   ]
  },
  {
   "cell_type": "code",
   "execution_count": 16,
   "metadata": {},
   "outputs": [
    {
     "data": {
      "text/plain": [
       "(4403, 11)"
      ]
     },
     "execution_count": 16,
     "metadata": {},
     "output_type": "execute_result"
    }
   ],
   "source": [
    "# get train inputs\n",
    "X_inputs.samples[X_inputs.samples['Type']=='train'].shape"
   ]
  },
  {
   "cell_type": "code",
   "execution_count": null,
   "metadata": {},
   "outputs": [
    {
     "name": "stdout",
     "output_type": "stream",
     "text": [
      "compute all arrangements\n",
      "Total pairs: 105778\n"
     ]
    }
   ],
   "source": [
    "%time (X_inputs, Y_targets) =  p.rnaseq_train_valid_test(gtex,dict_states_indiv,selected_genes,onlyBlood=False)\n",
    "# save inputs and targets\n",
    "path = os.path.join(\"..\",\"..\",\"data\",\"processed\",\"gtex\",\"input_data\")\n",
    "X_inputs.save(os.path.join(path,'X_inputs_pc.h5'))\n",
    "Y_targets.save(os.path.join(path,'Y_targets_pc.h5'))"
   ]
  },
  {
   "cell_type": "code",
   "execution_count": null,
   "metadata": {},
   "outputs": [],
   "source": []
  },
  {
   "cell_type": "code",
   "execution_count": null,
   "metadata": {},
   "outputs": [],
   "source": []
  },
  {
   "cell_type": "code",
   "execution_count": null,
   "metadata": {},
   "outputs": [],
   "source": []
  },
  {
   "cell_type": "code",
   "execution_count": null,
   "metadata": {},
   "outputs": [],
   "source": []
  },
  {
   "cell_type": "code",
   "execution_count": null,
   "metadata": {},
   "outputs": [],
   "source": []
  },
  {
   "cell_type": "code",
   "execution_count": null,
   "metadata": {},
   "outputs": [],
   "source": []
  },
  {
   "cell_type": "markdown",
   "metadata": {},
   "source": [
    "OLD - calling"
   ]
  },
  {
   "cell_type": "code",
   "execution_count": 2,
   "metadata": {},
   "outputs": [],
   "source": [
    "def cross(norm_gtex):\n",
    "    # load invidivudals\n",
    "    path = os.path.join(\"..\",\"..\",\"data\",\"processed\",\"gtex\",\"recount\")\n",
    "\n",
    "    train = []\n",
    "    valid = []\n",
    "    test = []\n",
    "    states = ['train','valid','test']\n",
    "    dict_states_indiv = {'train':train,'valid':valid,'test':test}\n",
    "\n",
    "    for s in states:\n",
    "        with open(os.path.join(path,s+\"_individuals.txt\"), 'r') as f:\n",
    "            for l in f: dict_states_indiv[s].append(l.replace(\"\\n\",\"\"))\n",
    "\n",
    "\n",
    "    selected_genes = norm_gtex.obs_names # training with all features\n",
    "    print(\"Total Genes: \",len(selected_genes))\n",
    "\n",
    "    # compute cross tissue matrix\n",
    "    (X_train_norm, Y_train_norm, samples_description_train, gene_id_train, metadata_train) = p.rnaseq_cross_tissue(norm_gtex, individuals=train, gene_ids=selected_genes, onlyBlood = True)\n",
    "    (X_valid_norm, Y_valid_norm, samples_description_valid, gene_id_valid, metadata_valid) = p.rnaseq_cross_tissue(norm_gtex, individuals=valid, gene_ids=selected_genes, onlyBlood = True)\n",
    "    (X_test_norm, Y_test_norm, samples_description_test, gene_id_test, metadata_test) = p.rnaseq_cross_tissue(norm_gtex, individuals=test, gene_ids=selected_genes, onlyBlood = True)\n",
    "    \n",
    "    return  (X_train_norm, Y_train_norm, samples_description_train, gene_id_train, metadata_train), (X_valid_norm, Y_valid_norm, samples_description_valid, gene_id_valid, metadata_valid), (X_test_norm, Y_test_norm, samples_description_test, gene_id_test, metadata_test)"
   ]
  },
  {
   "cell_type": "code",
   "execution_count": 4,
   "metadata": {},
   "outputs": [
    {
     "name": "stdout",
     "output_type": "stream",
     "text": [
      "Total Genes:  19932\n",
      "compute all arrangements\n",
      "Total pairs: 4403\n",
      "compute all arrangements\n",
      "Total pairs: 1630\n",
      "compute all arrangements\n",
      "Total pairs: 1558\n"
     ]
    }
   ],
   "source": [
    "file = os.path.join(os.readlink(os.path.join(\"..\",\"..\",\"data\")),\"processed\",\"gtex\",\"recount\",\"recount_gtex_logratios.h5ad\")\n",
    "gtex = p.load(file)\n",
    "(X_train, Y_train, samples_description_train, gene_id_train, metadata_train), (X_valid, Y_valid, samples_description_valid, gene_id_valid, metadata_valid), (X_test, Y_test, samples_description_test, gene_id_test, metadata_test) = cross(gtex)"
   ]
  },
  {
   "cell_type": "code",
   "execution_count": 5,
   "metadata": {},
   "outputs": [],
   "source": [
    "# save\n",
    "path = os.path.join(os.readlink(os.path.join(\"..\",\"..\",\"data\")),\"processed\",\"gtex\",\"input_data\")\n",
    "\n",
    "p.writeh5(X_train,\"X_train\",os.path.join(path,\"X_train_pc_bloodonly.h5\"))\n",
    "p.writeh5(Y_train,\"Y_train\",os.path.join(path,\"Y_train_pc_bloodonly.h5\"))\n",
    "p.writeh5(X_valid,\"X_valid\",os.path.join(path,\"X_valid_pc_bloodonly.h5\"))\n",
    "p.writeh5(Y_valid,\"Y_valid\",os.path.join(path,\"Y_valid_pc_bloodonly.h5\"))\n",
    "p.writeh5(X_test,\"X_test\",os.path.join(path,\"X_test_pc_bloodonly.h5\"))\n",
    "p.writeh5(Y_test,\"Y_test\",os.path.join(path,\"Y_test_pc_bloodonly.h5\"))\n",
    "\n",
    "p.writeJSON(metadata_train,os.path.join(path,\"XY_metadata_train_pc_bloodonly.json\"))\n",
    "p.writeJSON(metadata_valid,os.path.join(path,\"XY_metadata_valid_pc_bloodonly.json\"))\n",
    "p.writeJSON(metadata_test,os.path.join(path,\"XY_metadata_test_pc_bloodonly.json\"))"
   ]
  },
  {
   "cell_type": "code",
   "execution_count": 6,
   "metadata": {},
   "outputs": [],
   "source": [
    "dict = {}\n",
    "dict['train'] = {'samples':samples_description_train,'genes':gene_id_train.tolist()}\n",
    "dict['valid'] = {'samples':samples_description_valid,'genes':gene_id_valid.tolist()}\n",
    "dict['test'] = {'samples':samples_description_test,'genes':gene_id_test.tolist()}\n",
    "p.writeJSON(dict,os.path.join(path,'metadata.json'))"
   ]
  },
  {
   "cell_type": "code",
   "execution_count": null,
   "metadata": {},
   "outputs": [],
   "source": []
  },
  {
   "cell_type": "code",
   "execution_count": null,
   "metadata": {},
   "outputs": [],
   "source": []
  },
  {
   "cell_type": "code",
   "execution_count": null,
   "metadata": {},
   "outputs": [],
   "source": []
  }
 ],
 "metadata": {
  "kernelspec": {
   "display_name": "Python (rep)",
   "language": "python",
   "name": "rep"
  },
  "language_info": {
   "codemirror_mode": {
    "name": "ipython",
    "version": 3
   },
   "file_extension": ".py",
   "mimetype": "text/x-python",
   "name": "python",
   "nbconvert_exporter": "python",
   "pygments_lexer": "ipython3",
   "version": "3.6.8"
  }
 },
 "nbformat": 4,
 "nbformat_minor": 2
}
