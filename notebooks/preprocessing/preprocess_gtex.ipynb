{
 "cells": [
  {
   "cell_type": "markdown",
   "metadata": {},
   "source": [
    "### Goal\n",
    "Parse *recount2*, gene counts to AnnData format.\n",
    "\n",
    "Use first `../../data/raw/gtex/recount/splitGtexData.R` - to split in counts, rowData, colData (the data was available as .RData object)"
   ]
  },
  {
   "cell_type": "code",
   "execution_count": 19,
   "metadata": {},
   "outputs": [],
   "source": [
    "import sys\n",
    "import os\n",
    "\n",
    "import pandas as pd\n",
    "import numpy as np\n",
    "\n",
    "from rep import preprocessing as p"
   ]
  },
  {
   "cell_type": "code",
   "execution_count": 20,
   "metadata": {},
   "outputs": [
    {
     "name": "stdout",
     "output_type": "stream",
     "text": [
      "The history saving thread hit an unexpected error (OperationalError('database is locked',)).History will not be written to the database.\n"
     ]
    }
   ],
   "source": [
    "data_path = os.readlink(os.path.join(\"..\",\"..\",\"data\"))\n",
    "path = os.path.join(data_path,\"raw\",\"gtex\",\"recount\",\"version2\")\n",
    "counts_file = \"recount_gene_counts.csv\"\n",
    "rowdata_file = \"recount_rowdata.csv\"\n",
    "coldata_file = \"recount_coldata.csv\""
   ]
  },
  {
   "cell_type": "code",
   "execution_count": 35,
   "metadata": {},
   "outputs": [],
   "source": [
    "# to do\n",
    "# specify the int columns - avoid loosing precision for very large numbers like 16 142 082 000 instead 16142082353\n",
    "#sample_description=pd.read_csv(os.path.abspath(os.path.join(path,coldata_file)), header=0, delimiter=\"\\t\", index_col=0)"
   ]
  },
  {
   "cell_type": "code",
   "execution_count": 21,
   "metadata": {},
   "outputs": [],
   "source": [
    "# might take longer to create a large object\n",
    "annobj = p.create_anndata(os.path.join(path,counts_file), sep=\"\\t\", samples_anno=os.path.join(path,coldata_file), genes_anno=os.path.join(path,rowdata_file))"
   ]
  },
  {
   "cell_type": "code",
   "execution_count": 22,
   "metadata": {},
   "outputs": [],
   "source": [
    "sample_description = annobj.var\n",
    "sample_description.loc[:,'Gender'] = pd.Series(sample_description['bigwig_file']).str.split(\"_\",expand=True)[3]\n",
    "aux = pd.Series(sample_description['sampid']).str.split(\"-\",expand=True)\n",
    "sample_description.loc[:,'Individual'] = aux[0].map(str) + \"-\" + aux[1]\n",
    "sample_description = sample_description.rename(index=str, columns={\"smts\": \"Parent_Tissue\", \"smtsd\": \"Tissue\"})\n",
    "annobj.var = sample_description"
   ]
  },
  {
   "cell_type": "code",
   "execution_count": 78,
   "metadata": {},
   "outputs": [
    {
     "name": "stderr",
     "output_type": "stream",
     "text": [
      "... storing 'symbol' as categorical\n",
      "... storing 'project' as categorical\n",
      "... storing 'Parent_Tissue' as categorical\n",
      "... storing 'Tissue' as categorical\n",
      "... storing 'Gender' as categorical\n",
      "... storing 'Individual' as categorical\n"
     ]
    },
    {
     "data": {
      "text/plain": [
       "'/s/project/rep/processed/gtex/recount/recount_gtex.h5ad'"
      ]
     },
     "execution_count": 78,
     "metadata": {},
     "output_type": "execute_result"
    }
   ],
   "source": [
    "# save AnnData object to HDF5 format\n",
    "output_file = os.path.join(data_path,\"processed\",\"gtex\",\"recount\",\"recount_gtex.h5ad\")\n",
    "p.save(annobj,output_file)"
   ]
  },
  {
   "cell_type": "code",
   "execution_count": null,
   "metadata": {},
   "outputs": [],
   "source": []
  },
  {
   "cell_type": "code",
   "execution_count": null,
   "metadata": {},
   "outputs": [],
   "source": []
  },
  {
   "cell_type": "code",
   "execution_count": null,
   "metadata": {},
   "outputs": [],
   "source": []
  },
  {
   "cell_type": "code",
   "execution_count": null,
   "metadata": {},
   "outputs": [],
   "source": []
  },
  {
   "cell_type": "code",
   "execution_count": null,
   "metadata": {},
   "outputs": [],
   "source": []
  },
  {
   "cell_type": "code",
   "execution_count": null,
   "metadata": {},
   "outputs": [],
   "source": []
  },
  {
   "cell_type": "code",
   "execution_count": null,
   "metadata": {},
   "outputs": [],
   "source": []
  },
  {
   "cell_type": "code",
   "execution_count": null,
   "metadata": {},
   "outputs": [],
   "source": []
  }
 ],
 "metadata": {
  "kernelspec": {
   "display_name": "Python (rep)",
   "language": "python",
   "name": "rep"
  },
  "language_info": {
   "codemirror_mode": {
    "name": "ipython",
    "version": 3
   },
   "file_extension": ".py",
   "mimetype": "text/x-python",
   "name": "python",
   "nbconvert_exporter": "python",
   "pygments_lexer": "ipython3",
   "version": "3.6.7"
  }
 },
 "nbformat": 4,
 "nbformat_minor": 2
}
