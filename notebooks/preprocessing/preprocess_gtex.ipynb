{
 "cells": [
  {
   "cell_type": "markdown",
   "metadata": {},
   "source": [
    "### Goal\n",
    "Parse *recount2*, gene counts to AnnData format.\n",
    "\n",
    "Use first `/s/project/gtex-processed/recount/splitGtexData.R` - to split in counts, rowData, colData (the data was available as .RData object)"
   ]
  },
  {
   "cell_type": "code",
   "execution_count": 73,
   "metadata": {},
   "outputs": [
    {
     "name": "stdout",
     "output_type": "stream",
     "text": [
      "The autoreload extension is already loaded. To reload it, use:\n",
      "  %reload_ext autoreload\n"
     ]
    }
   ],
   "source": [
    "# code autoreload\n",
    "%load_ext autoreload\n",
    "%autoreload 2\n",
    "\n",
    "import sys\n",
    "import os\n",
    "\n",
    "import pandas as pd\n",
    "\n",
    "from rep import preprocessing as p"
   ]
  },
  {
   "cell_type": "code",
   "execution_count": 74,
   "metadata": {},
   "outputs": [],
   "source": [
    "path = \"/s/project/gtex-processed/recount/version2\"\n",
    "counts_file = \"recount_gene_counts.csv\"\n",
    "rowdata_file = \"recount_rowdata.csv\"\n",
    "coldata_file = \"recount_coldata.csv\""
   ]
  },
  {
   "cell_type": "code",
   "execution_count": 75,
   "metadata": {},
   "outputs": [],
   "source": [
    "# might take longer to create a large object\n",
    "annobj = p.create_anndata(os.path.join(path,counts_file), sep=\"\\t\", samples_anno=os.path.join(path,coldata_file), genes_anno=os.path.join(path,rowdata_file))"
   ]
  },
  {
   "cell_type": "code",
   "execution_count": 76,
   "metadata": {},
   "outputs": [],
   "source": [
    "sample_description = annobj.var\n",
    "sample_description.loc[:,'Gender'] = pd.Series(sample_description['bigwig_file']).str.split(\"_\",expand=True)[3]\n",
    "aux = pd.Series(sample_description['sampid']).str.split(\"-\",expand=True)\n",
    "sample_description.loc[:,'Individual'] = aux[0].map(str) + \"-\" + aux[1]\n",
    "sample_description = sample_description.rename(index=str, columns={\"smts\": \"Parent_Tissue\", \"smtsd\": \"Tissue\"})\n",
    "annobj.var = sample_description"
   ]
  },
  {
   "cell_type": "code",
   "execution_count": 77,
   "metadata": {},
   "outputs": [
    {
     "data": {
      "text/html": [
       "<div>\n",
       "<style scoped>\n",
       "    .dataframe tbody tr th:only-of-type {\n",
       "        vertical-align: middle;\n",
       "    }\n",
       "\n",
       "    .dataframe tbody tr th {\n",
       "        vertical-align: top;\n",
       "    }\n",
       "\n",
       "    .dataframe thead th {\n",
       "        text-align: right;\n",
       "    }\n",
       "</style>\n",
       "<table border=\"1\" class=\"dataframe\">\n",
       "  <thead>\n",
       "    <tr style=\"text-align: right;\">\n",
       "      <th></th>\n",
       "      <th>project</th>\n",
       "      <th>sample</th>\n",
       "      <th>experiment</th>\n",
       "      <th>mapped_read_count</th>\n",
       "      <th>avg_read_length</th>\n",
       "      <th>bigwig_file</th>\n",
       "      <th>sampid</th>\n",
       "      <th>smatsscr</th>\n",
       "      <th>Parent_Tissue</th>\n",
       "      <th>Tissue</th>\n",
       "      <th>Gender</th>\n",
       "      <th>Individual</th>\n",
       "    </tr>\n",
       "  </thead>\n",
       "  <tbody>\n",
       "    <tr>\n",
       "      <th>SRR660824</th>\n",
       "      <td>SRP012682</td>\n",
       "      <td>SRS389722</td>\n",
       "      <td>SRX222703</td>\n",
       "      <td>170790002</td>\n",
       "      <td>152</td>\n",
       "      <td>SRR660824_SRS389722_SRX222703_male_lung.bw</td>\n",
       "      <td>GTEX-QMR6-1926-SM-32PL9</td>\n",
       "      <td>3.0</td>\n",
       "      <td>Lung</td>\n",
       "      <td>Lung</td>\n",
       "      <td>male</td>\n",
       "      <td>GTEX-QMR6</td>\n",
       "    </tr>\n",
       "    <tr>\n",
       "      <th>SRR2166176</th>\n",
       "      <td>SRP012682</td>\n",
       "      <td>SRS1036203</td>\n",
       "      <td>SRX1152700</td>\n",
       "      <td>191059974</td>\n",
       "      <td>500</td>\n",
       "      <td>SRR2166176_SRS1036203_SRX1152700_male_brain.ce...</td>\n",
       "      <td>GTEX-T5JC-0011-R11A-SM-5S2RX</td>\n",
       "      <td>NaN</td>\n",
       "      <td>Brain</td>\n",
       "      <td>Brain - Cerebellar Hemisphere</td>\n",
       "      <td>male</td>\n",
       "      <td>GTEX-T5JC</td>\n",
       "    </tr>\n",
       "  </tbody>\n",
       "</table>\n",
       "</div>"
      ],
      "text/plain": [
       "              project      sample  experiment  mapped_read_count  \\\n",
       "SRR660824   SRP012682   SRS389722   SRX222703          170790002   \n",
       "SRR2166176  SRP012682  SRS1036203  SRX1152700          191059974   \n",
       "\n",
       "            avg_read_length  \\\n",
       "SRR660824               152   \n",
       "SRR2166176              500   \n",
       "\n",
       "                                                  bigwig_file  \\\n",
       "SRR660824          SRR660824_SRS389722_SRX222703_male_lung.bw   \n",
       "SRR2166176  SRR2166176_SRS1036203_SRX1152700_male_brain.ce...   \n",
       "\n",
       "                                  sampid  smatsscr Parent_Tissue  \\\n",
       "SRR660824        GTEX-QMR6-1926-SM-32PL9       3.0          Lung   \n",
       "SRR2166176  GTEX-T5JC-0011-R11A-SM-5S2RX       NaN         Brain   \n",
       "\n",
       "                                   Tissue Gender Individual  \n",
       "SRR660824                            Lung   male  GTEX-QMR6  \n",
       "SRR2166176  Brain - Cerebellar Hemisphere   male  GTEX-T5JC  "
      ]
     },
     "execution_count": 77,
     "metadata": {},
     "output_type": "execute_result"
    }
   ],
   "source": [
    "annobj.var[:2]"
   ]
  },
  {
   "cell_type": "code",
   "execution_count": 78,
   "metadata": {},
   "outputs": [
    {
     "name": "stderr",
     "output_type": "stream",
     "text": [
      "... storing 'symbol' as categorical\n",
      "... storing 'project' as categorical\n",
      "... storing 'Parent_Tissue' as categorical\n",
      "... storing 'Tissue' as categorical\n",
      "... storing 'Gender' as categorical\n",
      "... storing 'Individual' as categorical\n"
     ]
    },
    {
     "data": {
      "text/plain": [
       "'/s/project/rep/processed/gtex/recount/recount_gtex.h5ad'"
      ]
     },
     "execution_count": 78,
     "metadata": {},
     "output_type": "execute_result"
    }
   ],
   "source": [
    "# save AnnData object to HDF5 format\n",
    "data_path = os.readlink(os.path.join(\"..\",\"..\",\"data\"))\n",
    "output_file = os.path.join(data_path,\"processed\",\"gtex\",\"recount\",\"recount_gtex.h5ad\")\n",
    "p.save(annobj,output_file)"
   ]
  },
  {
   "cell_type": "code",
   "execution_count": null,
   "metadata": {},
   "outputs": [],
   "source": []
  },
  {
   "cell_type": "code",
   "execution_count": null,
   "metadata": {},
   "outputs": [],
   "source": []
  },
  {
   "cell_type": "code",
   "execution_count": null,
   "metadata": {},
   "outputs": [],
   "source": []
  },
  {
   "cell_type": "code",
   "execution_count": null,
   "metadata": {},
   "outputs": [],
   "source": []
  },
  {
   "cell_type": "code",
   "execution_count": null,
   "metadata": {},
   "outputs": [],
   "source": []
  },
  {
   "cell_type": "code",
   "execution_count": null,
   "metadata": {},
   "outputs": [],
   "source": []
  },
  {
   "cell_type": "code",
   "execution_count": null,
   "metadata": {},
   "outputs": [],
   "source": []
  },
  {
   "cell_type": "code",
   "execution_count": null,
   "metadata": {},
   "outputs": [],
   "source": []
  }
 ],
 "metadata": {
  "kernelspec": {
   "display_name": "Python (rep)",
   "language": "python",
   "name": "rep"
  },
  "language_info": {
   "codemirror_mode": {
    "name": "ipython",
    "version": 3
   },
   "file_extension": ".py",
   "mimetype": "text/x-python",
   "name": "python",
   "nbconvert_exporter": "python",
   "pygments_lexer": "ipython3",
   "version": "3.6.7"
  }
 },
 "nbformat": 4,
 "nbformat_minor": 2
}
