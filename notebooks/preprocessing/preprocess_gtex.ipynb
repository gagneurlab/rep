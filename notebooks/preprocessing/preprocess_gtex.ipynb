{
 "cells": [
  {
   "cell_type": "markdown",
   "metadata": {},
   "source": [
    "### Goal\n",
    "Parse *recount2*, gene counts to AnnData format.\n",
    "\n",
    "Use first `/s/project/gtex-processed/recount/splitGtexData.R` - to split in counts, rowData, colData (the data was available as .RData object)"
   ]
  },
  {
   "cell_type": "code",
   "execution_count": 4,
   "metadata": {},
   "outputs": [
    {
     "name": "stdout",
     "output_type": "stream",
     "text": [
      "The autoreload extension is already loaded. To reload it, use:\n",
      "  %reload_ext autoreload\n"
     ]
    }
   ],
   "source": [
    "# code autoreload\n",
    "%load_ext autoreload\n",
    "%autoreload 2\n",
    "\n",
    "import sys\n",
    "import os\n",
    "\n",
    "from rep import preprocessing as p"
   ]
  },
  {
   "cell_type": "code",
   "execution_count": 2,
   "metadata": {},
   "outputs": [],
   "source": [
    "path = \"/s/project/gtex-processed/recount/version2\"\n",
    "counts_file = \"recount_gene_counts.csv\"\n",
    "rowdata_file = \"recount_rowdata.csv\"\n",
    "coldata_file = \"recount_coldata.csv\""
   ]
  },
  {
   "cell_type": "code",
   "execution_count": 6,
   "metadata": {},
   "outputs": [],
   "source": [
    "# might take longer to create a large object\n",
    "annobj = p.create_anndata(os.path.join(path,counts_file), sep=\"\\t\", samples_anno=os.path.join(path,coldata_file), genes_anno=os.path.join(path,rowdata_file))"
   ]
  },
  {
   "cell_type": "code",
   "execution_count": 20,
   "metadata": {},
   "outputs": [
    {
     "name": "stderr",
     "output_type": "stream",
     "text": [
      "... storing 'symbol' as categorical\n",
      "... storing 'project' as categorical\n",
      "... storing 'smcenter' as categorical\n",
      "... storing 'smpthnts' as categorical\n",
      "... storing 'smts' as categorical\n",
      "... storing 'smtsd' as categorical\n",
      "... storing 'smubrid' as categorical\n",
      "... storing 'smtstptref' as categorical\n",
      "... storing 'smnabtch' as categorical\n",
      "... storing 'smnabtcht' as categorical\n",
      "... storing 'smnabtchd' as categorical\n",
      "... storing 'smgebtch' as categorical\n",
      "... storing 'smafrze' as categorical\n"
     ]
    },
    {
     "data": {
      "text/plain": [
       "'/s/project/rep/processed/gtex/recount/recount_gtex.h5ad'"
      ]
     },
     "execution_count": 20,
     "metadata": {},
     "output_type": "execute_result"
    }
   ],
   "source": [
    "# save AnnData object to HDF5 format\n",
    "data_path = os.readlink(os.path.join(\"..\",\"..\",\"data\"))\n",
    "output_file = os.path.join(data_path,\"processed\",\"gtex\",\"recount\",\"recount_gtex.h5ad\")\n",
    "p.save(annobj,output_file)"
   ]
  },
  {
   "cell_type": "code",
   "execution_count": null,
   "metadata": {},
   "outputs": [],
   "source": []
  },
  {
   "cell_type": "code",
   "execution_count": null,
   "metadata": {},
   "outputs": [],
   "source": []
  },
  {
   "cell_type": "code",
   "execution_count": null,
   "metadata": {},
   "outputs": [],
   "source": []
  },
  {
   "cell_type": "code",
   "execution_count": null,
   "metadata": {},
   "outputs": [],
   "source": []
  },
  {
   "cell_type": "code",
   "execution_count": null,
   "metadata": {},
   "outputs": [],
   "source": []
  },
  {
   "cell_type": "code",
   "execution_count": null,
   "metadata": {},
   "outputs": [],
   "source": []
  },
  {
   "cell_type": "code",
   "execution_count": null,
   "metadata": {},
   "outputs": [],
   "source": []
  },
  {
   "cell_type": "code",
   "execution_count": null,
   "metadata": {},
   "outputs": [],
   "source": []
  }
 ],
 "metadata": {
  "kernelspec": {
   "display_name": "Python (rep)",
   "language": "python",
   "name": "rep"
  },
  "language_info": {
   "codemirror_mode": {
    "name": "ipython",
    "version": 3
   },
   "file_extension": ".py",
   "mimetype": "text/x-python",
   "name": "python",
   "nbconvert_exporter": "python",
   "pygments_lexer": "ipython3",
   "version": "3.6.7"
  }
 },
 "nbformat": 4,
 "nbformat_minor": 2
}
