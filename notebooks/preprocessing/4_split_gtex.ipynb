{
 "cells": [
  {
   "cell_type": "markdown",
   "metadata": {},
   "source": [
    "### Goal\n",
    "\n",
    "Balanced split of the data. Save into files the individuals for train, test and valid.\n",
    "501 available individuals have (i) #tissues >= 2 and (ii) DNA-seq\n",
    "\n",
    "###  TODO\n",
    "- split dataset by individuals and taking care to have a balanced set in terms of #samples (some invidivuals tent to have more samples as the others), by gender and by WGS/WES\n",
    "\n",
    "### Conclusions\n",
    "\n",
    "Under `/s/project/rep/processed/gtex/recount` are the list of individuals for train, valid, test.\n",
    "\n",
    "`train_individuals.txt`,`valid_individuals.txt`, `test_individuals.txt` - list of individuals\n",
    "\n",
    "`train_individuals.csv`,`valid_individuals.csv`, `test_individuals.csv` - description of samples for these individuals\n",
    "\n",
    "#### Split summary:\n",
    "\n",
    "Expected split: [0.6, 0.2, 0.2]\n",
    "\n",
    "train  #individuals =  286  fraction =  0.5708582834331337<br>\n",
    "valid  #individuals =  100  fraction =  0.1996007984031936<br>\n",
    "test  #individuals =  115  fraction =  0.22954091816367264<br>\n",
    "\n",
    "train  #samples =  (5389, 14)  fraction =  0.6047581640668837<br>\n",
    "valid  #samples =  (1820, 14)  fraction =  0.204241948153967<br>\n",
    "test  #samples =  (1702, 14)  fraction =  0.19099988777914936<br>\n",
    "\n",
    "train  female =  0.36713286713286714 male =  0.6328671328671329<br>\n",
    "valid  female =  0.35 male =  0.65<br>\n",
    "test  female =  0.34782608695652173 male =  0.6521739130434783<br>\n",
    "\n",
    "\n",
    "train  WGS =  0.958041958041958 WES =  0.04195804195804196<br>\n",
    "valid  WGS =  0.95 WES =  0.05<br>\n",
    "test  WGS =  0.9217391304347826 WES =  0.0782608695652174<br>"
   ]
  },
  {
   "cell_type": "code",
   "execution_count": 2,
   "metadata": {},
   "outputs": [
    {
     "name": "stdout",
     "output_type": "stream",
     "text": [
      "Modules to reload:\n",
      "all-except-skipped\n",
      "\n",
      "Modules to skip:\n",
      "\n"
     ]
    }
   ],
   "source": [
    "import os\n",
    "import sys\n",
    "\n",
    "import pandas as pd\n",
    "import numpy as np\n",
    "\n",
    "import rep.preprocessing_new as p\n",
    "from rep.constants import ANNDATA_CST as a\n",
    "\n",
    "%aimport"
   ]
  },
  {
   "cell_type": "code",
   "execution_count": 3,
   "metadata": {},
   "outputs": [],
   "source": [
    "file = os.path.join(os.readlink(os.path.join(\"..\",\"..\",\"data\")),\"processed\",\"gtex\",\"recount\",\"recount_gtex.h5ad\")\n",
    "gtex = p.RepAnnData.read_h5ad(file)"
   ]
  },
  {
   "cell_type": "code",
   "execution_count": 4,
   "metadata": {},
   "outputs": [
    {
     "data": {
      "text/plain": [
       "501"
      ]
     },
     "execution_count": 4,
     "metadata": {},
     "output_type": "execute_result"
    }
   ],
   "source": [
    "# check if every samples have at least 2 tissues\n",
    "count_tissues = gtex.samples[['Individual','Tissue']].groupby(['Individual'], sort=True).size()\n",
    "count_filter = count_tissues[count_tissues > 1]\n",
    "len(count_filter)"
   ]
  },
  {
   "cell_type": "code",
   "execution_count": 5,
   "metadata": {},
   "outputs": [
    {
     "data": {
      "text/plain": [
       "(501, 2)"
      ]
     },
     "execution_count": 5,
     "metadata": {},
     "output_type": "execute_result"
    }
   ],
   "source": [
    "gtex.samples[['Individual','Gender']].drop_duplicates().shape"
   ]
  },
  {
   "cell_type": "code",
   "execution_count": 9,
   "metadata": {},
   "outputs": [
    {
     "name": "stdout",
     "output_type": "stream",
     "text": [
      "Total individuals: 501\n",
      "Individual split before balancing:  298 98 105\n",
      "Individual split after balancing:  286 100 115\n",
      "CPU times: user 5.56 s, sys: 0 ns, total: 5.56 s\n",
      "Wall time: 5.56 s\n"
     ]
    }
   ],
   "source": [
    "%time (train,valid,test) = p.split_by_individuals(gtex,groupby=['Gender','Indiv_Seq_Assay'])"
   ]
  },
  {
   "cell_type": "code",
   "execution_count": 107,
   "metadata": {},
   "outputs": [],
   "source": [
    "#Total individuals: 501\n",
    "#Individual split before balancing:  298 98 105\n",
    "#('Individual split: ', 286, 100, 115)"
   ]
  },
  {
   "cell_type": "markdown",
   "metadata": {},
   "source": [
    "#### Check the uniformity of the datasets"
   ]
  },
  {
   "cell_type": "code",
   "execution_count": 10,
   "metadata": {},
   "outputs": [
    {
     "data": {
      "text/plain": [
       "Gender\n",
       "female    3376\n",
       "male      5535\n",
       "dtype: int64"
      ]
     },
     "execution_count": 10,
     "metadata": {},
     "output_type": "execute_result"
    }
   ],
   "source": [
    "samples_info = gtex.samples\n",
    "samples_info[['Gender','Individual']].groupby('Gender').size()"
   ]
  },
  {
   "cell_type": "code",
   "execution_count": 11,
   "metadata": {},
   "outputs": [],
   "source": [
    "df_train = samples_info[samples_info['Individual'].isin(train)]\n",
    "df_valid = samples_info[samples_info['Individual'].isin(valid)]\n",
    "df_test = samples_info[samples_info['Individual'].isin(test)]"
   ]
  },
  {
   "cell_type": "markdown",
   "metadata": {},
   "source": [
    "- check woman and man ratio"
   ]
  },
  {
   "cell_type": "code",
   "execution_count": 12,
   "metadata": {},
   "outputs": [
    {
     "name": "stdout",
     "output_type": "stream",
     "text": [
      "Expected split: [0.6, 0.2, 0.2]\n",
      "train  #individuals =  286  fraction =  0.5708582834331337\n",
      "valid  #individuals =  100  fraction =  0.1996007984031936\n",
      "test  #individuals =  115  fraction =  0.22954091816367264\n",
      "\n",
      "train  #samples =  (5389, 14)  fraction =  0.6047581640668837\n",
      "valid  #samples =  (1820, 14)  fraction =  0.204241948153967\n",
      "test  #samples =  (1702, 14)  fraction =  0.19099988777914936\n",
      "\n",
      "train  female =  0.36713286713286714 male =  0.6328671328671329\n",
      "valid  female =  0.35 male =  0.65\n",
      "test  female =  0.34782608695652173 male =  0.6521739130434783\n",
      "\n",
      "train  WGS =  0.958041958041958 WES =  0.04195804195804196\n",
      "valid  WGS =  0.95 WES =  0.05\n",
      "test  WGS =  0.9217391304347826 WES =  0.0782608695652174\n"
     ]
    }
   ],
   "source": [
    "states = ['train','valid','test']\n",
    "dict_states = {'train':df_train,'valid':df_valid,'test':df_test}\n",
    "dict_states_indiv = {'train':train,'valid':valid,'test':test}\n",
    "total_len = len(train) + len(test) + len(valid)\n",
    "\n",
    "print(\"Expected split: [0.6, 0.2, 0.2]\")\n",
    "\n",
    "for s in states: print(s,\" #individuals = \", len(dict_states_indiv[s]), \" fraction = \" ,(len(dict_states_indiv[s])/total_len))\n",
    "\n",
    "print()\n",
    "for s in states: print(s,\" #samples = \", dict_states[s].shape, \" fraction = \", dict_states[s].shape[0]/samples_info.shape[0])\n",
    "\n",
    "print()\n",
    "for s in states:\n",
    "    df = dict_states[s]\n",
    "    l = dict_states_indiv[s]\n",
    "    print(s,\" female = \", (df[df['Gender'] == 'female'][['Individual','Gender']].drop_duplicates().shape[0] / len(l)), \"male = \", (df[df['Gender'] == 'male'][['Individual','Gender']].drop_duplicates().shape[0] / len(l)))\n",
    "\n",
    "print()\n",
    "for s in states:\n",
    "    df = dict_states[s]\n",
    "    l = dict_states_indiv[s]\n",
    "    print(s,\" WGS = \", (df[df['Indiv_Seq_Assay'] == 'WGS'][['Individual','Indiv_Seq_Assay']].drop_duplicates().shape[0] / len(l)), \"WES = \", (df[df['Indiv_Seq_Assay'] == 'WES'][['Individual','Indiv_Seq_Assay']].drop_duplicates().shape[0] / len(l))) "
   ]
  },
  {
   "cell_type": "code",
   "execution_count": 111,
   "metadata": {},
   "outputs": [],
   "source": [
    "# save individuals\n",
    "path = os.path.join(os.readlink(os.path.join(\"..\",\"..\",\"data\")),\"processed\",\"gtex\",\"recount\")\n",
    "for s in states:\n",
    "    with open(os.path.join(path,s + \"_individuals.txt\"), 'w') as f: \n",
    "        for item in dict_states_indiv[s]:\n",
    "            f.write(\"%s\\n\" % item)"
   ]
  },
  {
   "cell_type": "code",
   "execution_count": 112,
   "metadata": {},
   "outputs": [],
   "source": [
    "# save data information per training\n",
    "for s in states:\n",
    "    file = os.path.join(path,s + \"_individuals.csv\")\n",
    "    dict_states[s].to_csv(file, encoding='utf-8', sep=\"\\t\")"
   ]
  }
 ],
 "metadata": {
  "kernelspec": {
   "display_name": "Python (rep)",
   "language": "python",
   "name": "rep"
  },
  "language_info": {
   "codemirror_mode": {
    "name": "ipython",
    "version": 3
   },
   "file_extension": ".py",
   "mimetype": "text/x-python",
   "name": "python",
   "nbconvert_exporter": "python",
   "pygments_lexer": "ipython3",
   "version": "3.6.8"
  }
 },
 "nbformat": 4,
 "nbformat_minor": 2
}
