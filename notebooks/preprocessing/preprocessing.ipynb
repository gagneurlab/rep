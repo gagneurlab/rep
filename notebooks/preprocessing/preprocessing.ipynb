{
 "cells": [
  {
   "cell_type": "markdown",
   "metadata": {},
   "source": [
    "### Goal\n",
    "Preprocessing rnaseq data\n",
    "\n",
    "This is a tutorial with the main workflow for preparing a training dataset for a basic linear regression model. \n",
    "The output (X,Y) are all pair combination between tissues per each sample, where X is input, Y target."
   ]
  },
  {
   "cell_type": "code",
   "execution_count": 27,
   "metadata": {},
   "outputs": [],
   "source": [
    "# code autoreload\n",
    "%load_ext autoreload\n",
    "%autoreload 2"
   ]
  },
  {
   "cell_type": "code",
   "execution_count": 7,
   "metadata": {},
   "outputs": [
    {
     "name": "stdout",
     "output_type": "stream",
     "text": [
      "Requirement already satisfied: numpy in /data/nasif12/modules_if12/SL7/i12g/anaconda/3-5.0.1/envs/rep/lib/python3.6/site-packages (1.15.4)\n",
      "Requirement already satisfied: pandas in /data/nasif12/modules_if12/SL7/i12g/anaconda/3-5.0.1/envs/rep/lib/python3.6/site-packages (0.23.4)\n",
      "Requirement already satisfied: python-dateutil>=2.5.0 in /data/nasif12/modules_if12/SL7/i12g/anaconda/3-5.0.1/envs/rep/lib/python3.6/site-packages (from pandas) (2.7.5)\n",
      "Requirement already satisfied: pytz>=2011k in /data/nasif12/modules_if12/SL7/i12g/anaconda/3-5.0.1/envs/rep/lib/python3.6/site-packages (from pandas) (2018.7)\n",
      "Requirement already satisfied: numpy>=1.9.0 in /data/nasif12/modules_if12/SL7/i12g/anaconda/3-5.0.1/envs/rep/lib/python3.6/site-packages (from pandas) (1.15.4)\n",
      "Requirement already satisfied: six>=1.5 in /data/nasif12/modules_if12/SL7/i12g/anaconda/3-5.0.1/envs/rep/lib/python3.6/site-packages (from python-dateutil>=2.5.0->pandas) (1.12.0)\n",
      "Requirement already satisfied: anndata in /data/nasif12/modules_if12/SL7/i12g/anaconda/3-5.0.1/envs/rep/lib/python3.6/site-packages (0.6.16)\n",
      "Requirement already satisfied: numpy~=1.14 in /data/nasif12/modules_if12/SL7/i12g/anaconda/3-5.0.1/envs/rep/lib/python3.6/site-packages (from anndata) (1.15.4)\n",
      "Requirement already satisfied: h5py in /data/nasif12/modules_if12/SL7/i12g/anaconda/3-5.0.1/envs/rep/lib/python3.6/site-packages (from anndata) (2.9.0)\n",
      "Requirement already satisfied: pandas>=0.21.0 in /data/nasif12/modules_if12/SL7/i12g/anaconda/3-5.0.1/envs/rep/lib/python3.6/site-packages (from anndata) (0.23.4)\n",
      "Requirement already satisfied: natsort in /data/nasif12/modules_if12/SL7/i12g/anaconda/3-5.0.1/envs/rep/lib/python3.6/site-packages (from anndata) (5.5.0)\n",
      "Requirement already satisfied: scipy~=1.0 in /data/nasif12/modules_if12/SL7/i12g/anaconda/3-5.0.1/envs/rep/lib/python3.6/site-packages (from anndata) (1.2.0)\n",
      "Requirement already satisfied: six in /data/nasif12/modules_if12/SL7/i12g/anaconda/3-5.0.1/envs/rep/lib/python3.6/site-packages (from h5py->anndata) (1.12.0)\n",
      "Requirement already satisfied: python-dateutil>=2.5.0 in /data/nasif12/modules_if12/SL7/i12g/anaconda/3-5.0.1/envs/rep/lib/python3.6/site-packages (from pandas>=0.21.0->anndata) (2.7.5)\n",
      "Requirement already satisfied: pytz>=2011k in /data/nasif12/modules_if12/SL7/i12g/anaconda/3-5.0.1/envs/rep/lib/python3.6/site-packages (from pandas>=0.21.0->anndata) (2018.7)\n",
      "Requirement already satisfied: scanpy in /data/nasif12/modules_if12/SL7/i12g/anaconda/3-5.0.1/envs/rep/lib/python3.6/site-packages (1.3.6)\n",
      "Requirement already satisfied: scikit-learn>=0.19.1 in /data/nasif12/modules_if12/SL7/i12g/anaconda/3-5.0.1/envs/rep/lib/python3.6/site-packages (from scanpy) (0.20.2)\n",
      "Requirement already satisfied: natsort in /data/nasif12/modules_if12/SL7/i12g/anaconda/3-5.0.1/envs/rep/lib/python3.6/site-packages (from scanpy) (5.5.0)\n",
      "Requirement already satisfied: scipy in /data/nasif12/modules_if12/SL7/i12g/anaconda/3-5.0.1/envs/rep/lib/python3.6/site-packages (from scanpy) (1.2.0)\n",
      "Requirement already satisfied: h5py in /data/nasif12/modules_if12/SL7/i12g/anaconda/3-5.0.1/envs/rep/lib/python3.6/site-packages (from scanpy) (2.9.0)\n",
      "Requirement already satisfied: matplotlib>=2.2 in /data/nasif12/modules_if12/SL7/i12g/anaconda/3-5.0.1/envs/rep/lib/python3.6/site-packages (from scanpy) (3.0.2)\n",
      "Requirement already satisfied: anndata>=0.6.13 in /data/nasif12/modules_if12/SL7/i12g/anaconda/3-5.0.1/envs/rep/lib/python3.6/site-packages (from scanpy) (0.6.16)\n",
      "Requirement already satisfied: statsmodels in /data/nasif12/modules_if12/SL7/i12g/anaconda/3-5.0.1/envs/rep/lib/python3.6/site-packages (from scanpy) (0.9.0)\n",
      "Requirement already satisfied: networkx in /data/nasif12/modules_if12/SL7/i12g/anaconda/3-5.0.1/envs/rep/lib/python3.6/site-packages (from scanpy) (2.2)\n",
      "Requirement already satisfied: joblib in /data/nasif12/modules_if12/SL7/i12g/anaconda/3-5.0.1/envs/rep/lib/python3.6/site-packages (from scanpy) (0.13.0)\n",
      "Requirement already satisfied: numba>=0.40.0 in /data/nasif12/modules_if12/SL7/i12g/anaconda/3-5.0.1/envs/rep/lib/python3.6/site-packages (from scanpy) (0.41.0)\n",
      "Requirement already satisfied: seaborn in /data/nasif12/modules_if12/SL7/i12g/anaconda/3-5.0.1/envs/rep/lib/python3.6/site-packages (from scanpy) (0.9.0)\n",
      "Requirement already satisfied: tables in /data/nasif12/modules_if12/SL7/i12g/anaconda/3-5.0.1/envs/rep/lib/python3.6/site-packages (from scanpy) (3.4.4)\n",
      "Requirement already satisfied: pandas>=0.21 in /data/nasif12/modules_if12/SL7/i12g/anaconda/3-5.0.1/envs/rep/lib/python3.6/site-packages (from scanpy) (0.23.4)\n",
      "Requirement already satisfied: numpy>=1.8.2 in /data/nasif12/modules_if12/SL7/i12g/anaconda/3-5.0.1/envs/rep/lib/python3.6/site-packages (from scikit-learn>=0.19.1->scanpy) (1.15.4)\n",
      "Requirement already satisfied: six in /data/nasif12/modules_if12/SL7/i12g/anaconda/3-5.0.1/envs/rep/lib/python3.6/site-packages (from h5py->scanpy) (1.12.0)\n",
      "Requirement already satisfied: kiwisolver>=1.0.1 in /data/nasif12/modules_if12/SL7/i12g/anaconda/3-5.0.1/envs/rep/lib/python3.6/site-packages (from matplotlib>=2.2->scanpy) (1.0.1)\n",
      "Requirement already satisfied: cycler>=0.10 in /data/nasif12/modules_if12/SL7/i12g/anaconda/3-5.0.1/envs/rep/lib/python3.6/site-packages (from matplotlib>=2.2->scanpy) (0.10.0)\n",
      "Requirement already satisfied: python-dateutil>=2.1 in /data/nasif12/modules_if12/SL7/i12g/anaconda/3-5.0.1/envs/rep/lib/python3.6/site-packages (from matplotlib>=2.2->scanpy) (2.7.5)\n",
      "Requirement already satisfied: pyparsing!=2.0.4,!=2.1.2,!=2.1.6,>=2.0.1 in /data/nasif12/modules_if12/SL7/i12g/anaconda/3-5.0.1/envs/rep/lib/python3.6/site-packages (from matplotlib>=2.2->scanpy) (2.3.0)\n",
      "Requirement already satisfied: patsy in /data/nasif12/modules_if12/SL7/i12g/anaconda/3-5.0.1/envs/rep/lib/python3.6/site-packages (from statsmodels->scanpy) (0.5.1)\n",
      "Requirement already satisfied: decorator>=4.3.0 in /data/nasif12/modules_if12/SL7/i12g/anaconda/3-5.0.1/envs/rep/lib/python3.6/site-packages (from networkx->scanpy) (4.3.0)\n",
      "Requirement already satisfied: llvmlite>=0.26.0dev0 in /data/nasif12/modules_if12/SL7/i12g/anaconda/3-5.0.1/envs/rep/lib/python3.6/site-packages (from numba>=0.40.0->scanpy) (0.26.0)\n",
      "Requirement already satisfied: numexpr>=2.5.2 in /data/nasif12/modules_if12/SL7/i12g/anaconda/3-5.0.1/envs/rep/lib/python3.6/site-packages (from tables->scanpy) (2.6.8)\n",
      "Requirement already satisfied: pytz>=2011k in /data/nasif12/modules_if12/SL7/i12g/anaconda/3-5.0.1/envs/rep/lib/python3.6/site-packages (from pandas>=0.21->scanpy) (2018.7)\n",
      "Requirement already satisfied: setuptools in /data/nasif12/modules_if12/SL7/i12g/anaconda/3-5.0.1/envs/rep/lib/python3.6/site-packages (from kiwisolver>=1.0.1->matplotlib>=2.2->scanpy) (40.6.3)\n",
      "Requirement already satisfied: argh in /data/nasif12/modules_if12/SL7/i12g/anaconda/3-5.0.1/envs/rep/lib/python3.6/site-packages (0.26.2)\n"
     ]
    }
   ],
   "source": [
    "!pip install numpy\n",
    "!pip install pandas\n",
    "!pip install anndata\n",
    "\n",
    "!pip install scanpy\n",
    "!pip install argh"
   ]
  },
  {
   "cell_type": "code",
   "execution_count": 33,
   "metadata": {},
   "outputs": [
    {
     "name": "stdout",
     "output_type": "stream",
     "text": [
      "Modules to reload:\n",
      "all-except-skipped\n",
      "\n",
      "Modules to skip:\n",
      "\n"
     ]
    }
   ],
   "source": [
    "import rep.preprocessing as p\n",
    "from rep.constants import ANNDATA_CST as a\n",
    "\n",
    "%aimport"
   ]
  },
  {
   "cell_type": "markdown",
   "metadata": {},
   "source": [
    "#### 1. Load raw count matrix + annotation and put it into an annodata object"
   ]
  },
  {
   "cell_type": "code",
   "execution_count": 9,
   "metadata": {},
   "outputs": [
    {
     "name": "stdout",
     "output_type": "stream",
     "text": [
      "Writing data.csv\n"
     ]
    }
   ],
   "source": [
    "%%writefile data.csv\n",
    "T1_s1,T2_s2,T3_s1,T4_s2,T5_s1,T6_s1\n",
    "G1,10,20,30,40,5,6\n",
    "G2,5,10,20,30,5,6\n",
    "G3,6,7,8,9,1,1"
   ]
  },
  {
   "cell_type": "code",
   "execution_count": 60,
   "metadata": {},
   "outputs": [
    {
     "name": "stdout",
     "output_type": "stream",
     "text": [
      "Overwriting anno_var.csv\n"
     ]
    }
   ],
   "source": [
    "%%writefile anno_var.csv\n",
    "Sample,Gender,Tissue,Individual,Technology\n",
    "T1_s1,F,Tissue1,Sample1,rnaseq\n",
    "T2_s2,M,Tissue2,Sample2,rnaseq\n",
    "T3_s1,F,Tissue3,Sample1,rnaseq\n",
    "T4_s2,M,Tissue4,Sample2,rnaseq\n",
    "T5_s1,M,Tissue5,Sample1,rnaseq\n",
    "T6_s1,M,Tissue6,Sample1,rnaseq"
   ]
  },
  {
   "cell_type": "code",
   "execution_count": 11,
   "metadata": {},
   "outputs": [
    {
     "name": "stdout",
     "output_type": "stream",
     "text": [
      "Writing anno_obs.csv\n"
     ]
    }
   ],
   "source": [
    "%%writefile anno_obs.csv\n",
    "G1,hg19,T1,chr1,1111,-\n",
    "G2,hg19,T2,chr2,2222,-\n",
    "G3,hg19,T3,chr3,3333,-"
   ]
  },
  {
   "cell_type": "code",
   "execution_count": 63,
   "metadata": {},
   "outputs": [
    {
     "name": "stdout",
     "output_type": "stream",
     "text": [
      "anndata.X\n",
      "[[10. 20. 30. 40.  5.  6.]\n",
      " [ 5. 10. 20. 30.  5.  6.]\n",
      " [ 6.  7.  8.  9.  1.  1.]]\n",
      "anndata.var\n",
      "Index(['T1_s1', 'T2_s2', 'T3_s1', 'T4_s2', 'T5_s1', 'T6_s1'], dtype='object')\n",
      "      Gender   Tissue Individual Technology\n",
      "T1_s1      F  Tissue1    Sample1     rnaseq\n",
      "T2_s2      M  Tissue2    Sample2     rnaseq\n",
      "T3_s1      F  Tissue3    Sample1     rnaseq\n",
      "T4_s2      M  Tissue4    Sample2     rnaseq\n",
      "T5_s1      M  Tissue5    Sample1     rnaseq\n",
      "T6_s1      M  Tissue6    Sample1     rnaseq\n",
      "anndata.obs\n",
      "Index(['G1', 'G2', 'G3'], dtype='object')\n",
      "       1   2     3     4  5\n",
      "G1  hg19  T1  chr1  1111  -\n",
      "G2  hg19  T2  chr2  2222  -\n",
      "G3  hg19  T3  chr3  3333  -\n",
      "\n"
     ]
    }
   ],
   "source": [
    "# annobj is the equivalent of the summarized experiments in R. \n",
    "# It contains \n",
    "# - annobj.X - counts\n",
    "# - annobj.var - data.frame annotation object for the columns of the count matrix (in our case Tissue_Sample)\n",
    "# - annobj.obs - data.frame annotation object for the rows of the count matrix (= features that we measure, in our case Genes)\n",
    "# \n",
    "annobj = p.load_count_matrix(\"data.csv\", sep=\",\", varanno=\"anno_var.csv\", obsanno=\"anno_obs.csv\")\n",
    "p.print_anndata(annobj)"
   ]
  },
  {
   "cell_type": "markdown",
   "metadata": {},
   "source": [
    "#### Save data to h2ad format"
   ]
  },
  {
   "cell_type": "code",
   "execution_count": 16,
   "metadata": {},
   "outputs": [
    {
     "name": "stderr",
     "output_type": "stream",
     "text": [
      "... storing '1' as categorical\n",
      "... storing '5' as categorical\n",
      "... storing '1' as categorical\n",
      "... storing '3' as categorical\n",
      "... storing '4' as categorical\n"
     ]
    },
    {
     "data": {
      "text/plain": [
       "'/data/nasif12/home_if12/giurgiu/rep_gagneur/rep/notebooks/preprocessing/tmp1545316680.h5ad'"
      ]
     },
     "execution_count": 16,
     "metadata": {},
     "output_type": "execute_result"
    }
   ],
   "source": [
    "name = p.save(annobj)\n",
    "name"
   ]
  },
  {
   "cell_type": "markdown",
   "metadata": {},
   "source": [
    "#### 2. Prepare training sample:\n",
    "- select genes and tissue_samples for training\n",
    "- slice the anndata object\n",
    "- compute the cross tissue matrix pair (X,Y)"
   ]
  },
  {
   "cell_type": "code",
   "execution_count": 65,
   "metadata": {},
   "outputs": [
    {
     "name": "stdout",
     "output_type": "stream",
     "text": [
      "      Gender   Tissue Individual Technology\n",
      "T1_s1      F  Tissue1    Sample1     rnaseq\n",
      "T2_s2      M  Tissue2    Sample2     rnaseq\n",
      "T3_s1      F  Tissue3    Sample1     rnaseq\n",
      "T4_s2      M  Tissue4    Sample2     rnaseq\n",
      "T5_s1      M  Tissue5    Sample1     rnaseq\n",
      "T6_s1      M  Tissue6    Sample1     rnaseq\n"
     ]
    },
    {
     "data": {
      "text/plain": [
       "(['T2_s2', 'T6_s1', 'T5_s1', 'T4_s2'], ['G1', 'G2'])"
      ]
     },
     "execution_count": 65,
     "metadata": {},
     "output_type": "execute_result"
    }
   ],
   "source": [
    "# filtering by different values in anndata.var and anndata.obs\n",
    "# stored in a json format by specifying the {column over we would like to filter : array of admitted values}\n",
    "# in this example we filter the anndata.var by gender (M) and anndata.obs should contain only G1 and G2\n",
    "(var, obs) = p.filter_anndata_by_value(annobj, {a.VAR: {'Gender': ['M']}, a.OBS: {0: ['G1', 'G2']}})\n",
    "\n",
    "# these are the rows and columns selected for the training set\n",
    "(var,obs)"
   ]
  },
  {
   "cell_type": "code",
   "execution_count": 67,
   "metadata": {},
   "outputs": [
    {
     "data": {
      "text/plain": [
       "{'Sample1': ['T6_s1', 'T5_s1'], 'Sample2': ['T2_s2', 'T4_s2']}"
      ]
     },
     "execution_count": 67,
     "metadata": {},
     "output_type": "execute_result"
    }
   ],
   "source": [
    "# since we want to impute gene expression across different tissues, we\n",
    "# would like to compute the cross tissue pairs per sample and not across samples\n",
    "\n",
    "# for this purpose we can use the group_by(df, column, index_subset) \n",
    "# function to group tissues by sample\n",
    "\n",
    "dict_samples_var = p.group_by(annobj.var, 'Individual', var)\n",
    "dict_samples_var"
   ]
  },
  {
   "cell_type": "code",
   "execution_count": 72,
   "metadata": {},
   "outputs": [
    {
     "name": "stdout",
     "output_type": "stream",
     "text": [
      "4.3 Slice anndata\n",
      "\n",
      "anndata.X\n",
      "[[20.  5. 30.  6. 10. 40.]\n",
      " [10.  5. 20.  6.  5. 30.]]\n",
      "anndata.var\n",
      "Index(['T2_s2', 'T5_s1', 'T3_s1', 'T6_s1', 'T1_s1', 'T4_s2'], dtype='object')\n",
      "      Gender   Tissue Individual Technology\n",
      "T2_s2      M  Tissue2    Sample2     rnaseq\n",
      "T5_s1      M  Tissue5    Sample1     rnaseq\n",
      "T3_s1      F  Tissue3    Sample1     rnaseq\n",
      "T6_s1      M  Tissue6    Sample1     rnaseq\n",
      "T1_s1      F  Tissue1    Sample1     rnaseq\n",
      "T4_s2      M  Tissue4    Sample2     rnaseq\n",
      "anndata.obs\n",
      "Index(['G1', 'G2'], dtype='object')\n",
      "       1   2     3     4  5\n",
      "G1  hg19  T1  chr1  1111  -\n",
      "G2  hg19  T2  chr2  2222  -\n",
      "\n",
      "4.4 Build the two matrices X and Y\n",
      "\n"
     ]
    }
   ],
   "source": [
    "# compute cross tissue matrix pair (X, Y)\n",
    "(X, Y) = p.rnaseq_cross_tissue(annobj, individuals=['Sample1','Sample2'], gene_ids=obs)"
   ]
  },
  {
   "cell_type": "code",
   "execution_count": 49,
   "metadata": {},
   "outputs": [
    {
     "data": {
      "text/html": [
       "<div>\n",
       "<style scoped>\n",
       "    .dataframe tbody tr th:only-of-type {\n",
       "        vertical-align: middle;\n",
       "    }\n",
       "\n",
       "    .dataframe tbody tr th {\n",
       "        vertical-align: top;\n",
       "    }\n",
       "\n",
       "    .dataframe thead th {\n",
       "        text-align: right;\n",
       "    }\n",
       "</style>\n",
       "<table border=\"1\" class=\"dataframe\">\n",
       "  <thead>\n",
       "    <tr style=\"text-align: right;\">\n",
       "      <th></th>\n",
       "      <th>G1</th>\n",
       "      <th>G2</th>\n",
       "    </tr>\n",
       "  </thead>\n",
       "  <tbody>\n",
       "    <tr>\n",
       "      <th>T6_s1_T5_s1</th>\n",
       "      <td>6</td>\n",
       "      <td>6</td>\n",
       "    </tr>\n",
       "    <tr>\n",
       "      <th>T5_s1_T6_s1</th>\n",
       "      <td>5</td>\n",
       "      <td>5</td>\n",
       "    </tr>\n",
       "    <tr>\n",
       "      <th>T2_s2_T4_s2</th>\n",
       "      <td>20</td>\n",
       "      <td>10</td>\n",
       "    </tr>\n",
       "    <tr>\n",
       "      <th>T4_s2_T2_s2</th>\n",
       "      <td>40</td>\n",
       "      <td>30</td>\n",
       "    </tr>\n",
       "  </tbody>\n",
       "</table>\n",
       "</div>"
      ],
      "text/plain": [
       "             G1  G2\n",
       "T6_s1_T5_s1   6   6\n",
       "T5_s1_T6_s1   5   5\n",
       "T2_s2_T4_s2  20  10\n",
       "T4_s2_T2_s2  40  30"
      ]
     },
     "execution_count": 49,
     "metadata": {},
     "output_type": "execute_result"
    }
   ],
   "source": [
    "# train matrix\n",
    "X"
   ]
  },
  {
   "cell_type": "code",
   "execution_count": 50,
   "metadata": {},
   "outputs": [
    {
     "data": {
      "text/html": [
       "<div>\n",
       "<style scoped>\n",
       "    .dataframe tbody tr th:only-of-type {\n",
       "        vertical-align: middle;\n",
       "    }\n",
       "\n",
       "    .dataframe tbody tr th {\n",
       "        vertical-align: top;\n",
       "    }\n",
       "\n",
       "    .dataframe thead th {\n",
       "        text-align: right;\n",
       "    }\n",
       "</style>\n",
       "<table border=\"1\" class=\"dataframe\">\n",
       "  <thead>\n",
       "    <tr style=\"text-align: right;\">\n",
       "      <th></th>\n",
       "      <th>G1</th>\n",
       "      <th>G2</th>\n",
       "    </tr>\n",
       "  </thead>\n",
       "  <tbody>\n",
       "    <tr>\n",
       "      <th>T6_s1_T5_s1</th>\n",
       "      <td>5</td>\n",
       "      <td>5</td>\n",
       "    </tr>\n",
       "    <tr>\n",
       "      <th>T5_s1_T6_s1</th>\n",
       "      <td>6</td>\n",
       "      <td>6</td>\n",
       "    </tr>\n",
       "    <tr>\n",
       "      <th>T2_s2_T4_s2</th>\n",
       "      <td>40</td>\n",
       "      <td>30</td>\n",
       "    </tr>\n",
       "    <tr>\n",
       "      <th>T4_s2_T2_s2</th>\n",
       "      <td>20</td>\n",
       "      <td>10</td>\n",
       "    </tr>\n",
       "  </tbody>\n",
       "</table>\n",
       "</div>"
      ],
      "text/plain": [
       "             G1  G2\n",
       "T6_s1_T5_s1   5   5\n",
       "T5_s1_T6_s1   6   6\n",
       "T2_s2_T4_s2  40  30\n",
       "T4_s2_T2_s2  20  10"
      ]
     },
     "execution_count": 50,
     "metadata": {},
     "output_type": "execute_result"
    }
   ],
   "source": [
    "# label matrix\n",
    "Y"
   ]
  },
  {
   "cell_type": "code",
   "execution_count": null,
   "metadata": {},
   "outputs": [],
   "source": []
  },
  {
   "cell_type": "code",
   "execution_count": null,
   "metadata": {},
   "outputs": [],
   "source": []
  },
  {
   "cell_type": "code",
   "execution_count": null,
   "metadata": {},
   "outputs": [],
   "source": []
  },
  {
   "cell_type": "code",
   "execution_count": null,
   "metadata": {},
   "outputs": [],
   "source": []
  },
  {
   "cell_type": "code",
   "execution_count": null,
   "metadata": {},
   "outputs": [],
   "source": []
  },
  {
   "cell_type": "code",
   "execution_count": null,
   "metadata": {},
   "outputs": [],
   "source": []
  },
  {
   "cell_type": "code",
   "execution_count": null,
   "metadata": {},
   "outputs": [],
   "source": []
  }
 ],
 "metadata": {
  "kernelspec": {
   "display_name": "Python [conda env:rep]",
   "language": "python",
   "name": "conda-env-rep-py"
  },
  "language_info": {
   "codemirror_mode": {
    "name": "ipython",
    "version": 3
   },
   "file_extension": ".py",
   "mimetype": "text/x-python",
   "name": "python",
   "nbconvert_exporter": "python",
   "pygments_lexer": "ipython3",
   "version": "3.6.7"
  }
 },
 "nbformat": 4,
 "nbformat_minor": 2
}
