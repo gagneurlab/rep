{
 "cells": [
  {
   "cell_type": "markdown",
   "metadata": {},
   "source": [
    "### Goal\n",
    "Parse and clean *recount2*, gene counts to AnnData format.\n",
    "\n",
    "Use first `../../data/raw/gtex/recount/splitGtexData.R` - to split in counts, rowData, colData (the data was available as .RData object)\n",
    "\n",
    "### TODO\n",
    "- Get GTEx metadata:\n",
    "  - check individuals if they have WGS/WXS or RNA-SEQ whole blood\n",
    "  - integrate GTEx metadata (Assay, Gender, Sample Id, Individual ...) into the recount2 sample_description\n",
    "- Create our custom recount2 metadata containing: Assay, Gender, Sample id, Tissue, Parent Tissues, Individual ...\n",
    "- Create the Summarized experiment  + store data as HDF5 format\n",
    "\n",
    "### Conclusions\n",
    "`GTEx` metadata - short analysis:\n",
    "- Total number of individuals: 723\n",
    "- #individuals having WGS or WES: 679\n",
    "- #individuals having Whole Blood RNA-Seq: 427\n",
    "- #individuals having at least 2 Tissues available: 544\n",
    "- #individuals having at least 2 Tissues available + having WGS or WES: 501\n",
    "\n",
    "`recount2` Summarized experiment: `/s/project/rep/processed/gtex/recount/recount_gtex.h5ad`\n"
   ]
  },
  {
   "cell_type": "code",
   "execution_count": 1,
   "metadata": {},
   "outputs": [],
   "source": [
    "import sys\n",
    "import os\n",
    "\n",
    "import pandas as pd\n",
    "import numpy as np\n",
    "\n",
    "from rep import preprocessing as p"
   ]
  },
  {
   "cell_type": "markdown",
   "metadata": {},
   "source": [
    "#### 1. GTEx metadata - short analysis"
   ]
  },
  {
   "cell_type": "code",
   "execution_count": 2,
   "metadata": {},
   "outputs": [],
   "source": [
    "# add metadata patient related - used from gtex v7\n",
    "metadata = '/s/project/gtex-processed/gene_counts_v7/SraRunTable.txt'\n",
    "gtex_meta = p.load_df(metadata,delimiter=\"\\t\",header=0,index_col=None)"
   ]
  },
  {
   "cell_type": "code",
   "execution_count": 214,
   "metadata": {},
   "outputs": [
    {
     "data": {
      "text/html": [
       "<div>\n",
       "<style scoped>\n",
       "    .dataframe tbody tr th:only-of-type {\n",
       "        vertical-align: middle;\n",
       "    }\n",
       "\n",
       "    .dataframe tbody tr th {\n",
       "        vertical-align: top;\n",
       "    }\n",
       "\n",
       "    .dataframe thead th {\n",
       "        text-align: right;\n",
       "    }\n",
       "</style>\n",
       "<table border=\"1\" class=\"dataframe\">\n",
       "  <thead>\n",
       "    <tr style=\"text-align: right;\">\n",
       "      <th></th>\n",
       "      <th>sex_s</th>\n",
       "      <th>Assay_Type_s</th>\n",
       "      <th>Instrument_s</th>\n",
       "      <th>body_site_s</th>\n",
       "      <th>histological_type_s</th>\n",
       "      <th>Sample_Name</th>\n",
       "      <th>Individual</th>\n",
       "    </tr>\n",
       "  </thead>\n",
       "  <tbody>\n",
       "    <tr>\n",
       "      <th>0</th>\n",
       "      <td>female</td>\n",
       "      <td>RNA-Seq</td>\n",
       "      <td>Illumina MiSeq</td>\n",
       "      <td>Skin - Sun Exposed (Lower leg)</td>\n",
       "      <td>Skin</td>\n",
       "      <td>GTEX-WEY5-1826-SM-5CHRT</td>\n",
       "      <td>GTEX-WEY5</td>\n",
       "    </tr>\n",
       "    <tr>\n",
       "      <th>1</th>\n",
       "      <td>male</td>\n",
       "      <td>RNA-Seq</td>\n",
       "      <td>Illumina MiSeq</td>\n",
       "      <td>Testis</td>\n",
       "      <td>Testis</td>\n",
       "      <td>GTEX-SUCS-1326-SM-5CHQI</td>\n",
       "      <td>GTEX-SUCS</td>\n",
       "    </tr>\n",
       "    <tr>\n",
       "      <th>2</th>\n",
       "      <td>male</td>\n",
       "      <td>RNA-Seq</td>\n",
       "      <td>Illumina MiSeq</td>\n",
       "      <td>Thyroid</td>\n",
       "      <td>Thyroid</td>\n",
       "      <td>GTEX-SUCS-0226-SM-5CHQG</td>\n",
       "      <td>GTEX-SUCS</td>\n",
       "    </tr>\n",
       "  </tbody>\n",
       "</table>\n",
       "</div>"
      ],
      "text/plain": [
       "    sex_s Assay_Type_s    Instrument_s                     body_site_s  \\\n",
       "0  female      RNA-Seq  Illumina MiSeq  Skin - Sun Exposed (Lower leg)   \n",
       "1    male      RNA-Seq  Illumina MiSeq                          Testis   \n",
       "2    male      RNA-Seq  Illumina MiSeq                         Thyroid   \n",
       "\n",
       "  histological_type_s              Sample_Name Individual  \n",
       "0                Skin  GTEX-WEY5-1826-SM-5CHRT  GTEX-WEY5  \n",
       "1              Testis  GTEX-SUCS-1326-SM-5CHQI  GTEX-SUCS  \n",
       "2             Thyroid  GTEX-SUCS-0226-SM-5CHQG  GTEX-SUCS  "
      ]
     },
     "execution_count": 214,
     "metadata": {},
     "output_type": "execute_result"
    }
   ],
   "source": [
    "# get individual information\n",
    "gtex_meta_short = gtex_meta[['Sample_Name_s','sex_s','Assay_Type_s','Instrument_s','body_site_s','histological_type_s']]\n",
    "gtex_meta_short.loc[:,'Sample_Name'] = pd.Series(gtex_meta_short['Sample_Name_s']).str.split(\"_\",expand=True)[0]\n",
    "aux = pd.Series(gtex_meta_short['Sample_Name']).str.split(\"-\",expand=True)\n",
    "gtex_meta_short.loc[:,'Individual'] = aux[0].map(str) + \"-\" + aux[1]\n",
    "gtex_meta_unique = gtex_meta_short.iloc[:,1:]\n",
    "gtex_meta_unique.drop_duplicates(inplace=True)\n",
    "gtex_meta_unique.iloc[:3,:]"
   ]
  },
  {
   "cell_type": "markdown",
   "metadata": {},
   "source": [
    "- Count total number of individuals"
   ]
  },
  {
   "cell_type": "code",
   "execution_count": 215,
   "metadata": {},
   "outputs": [
    {
     "name": "stderr",
     "output_type": "stream",
     "text": [
      "/opt/modules/i12g/anaconda/3-5.0.1/envs/rep/lib/python3.6/site-packages/ipykernel_launcher.py:2: SettingWithCopyWarning: \n",
      "A value is trying to be set on a copy of a slice from a DataFrame\n",
      "\n",
      "See the caveats in the documentation: http://pandas.pydata.org/pandas-docs/stable/indexing.html#indexing-view-versus-copy\n",
      "  \n"
     ]
    },
    {
     "data": {
      "text/html": [
       "<div>\n",
       "<style scoped>\n",
       "    .dataframe tbody tr th:only-of-type {\n",
       "        vertical-align: middle;\n",
       "    }\n",
       "\n",
       "    .dataframe tbody tr th {\n",
       "        vertical-align: top;\n",
       "    }\n",
       "\n",
       "    .dataframe thead th {\n",
       "        text-align: right;\n",
       "    }\n",
       "</style>\n",
       "<table border=\"1\" class=\"dataframe\">\n",
       "  <thead>\n",
       "    <tr style=\"text-align: right;\">\n",
       "      <th></th>\n",
       "      <th>body_site_s</th>\n",
       "      <th>Assay_Type_s</th>\n",
       "      <th>Individual</th>\n",
       "    </tr>\n",
       "  </thead>\n",
       "  <tbody>\n",
       "    <tr>\n",
       "      <th>0</th>\n",
       "      <td>Skin - Sun Exposed (Lower leg)</td>\n",
       "      <td>RNA-Seq</td>\n",
       "      <td>GTEX-WEY5</td>\n",
       "    </tr>\n",
       "    <tr>\n",
       "      <th>1</th>\n",
       "      <td>Testis</td>\n",
       "      <td>RNA-Seq</td>\n",
       "      <td>GTEX-SUCS</td>\n",
       "    </tr>\n",
       "    <tr>\n",
       "      <th>2</th>\n",
       "      <td>Thyroid</td>\n",
       "      <td>RNA-Seq</td>\n",
       "      <td>GTEX-SUCS</td>\n",
       "    </tr>\n",
       "  </tbody>\n",
       "</table>\n",
       "</div>"
      ],
      "text/plain": [
       "                      body_site_s Assay_Type_s Individual\n",
       "0  Skin - Sun Exposed (Lower leg)      RNA-Seq  GTEX-WEY5\n",
       "1                          Testis      RNA-Seq  GTEX-SUCS\n",
       "2                         Thyroid      RNA-Seq  GTEX-SUCS"
      ]
     },
     "execution_count": 215,
     "metadata": {},
     "output_type": "execute_result"
    }
   ],
   "source": [
    "subset = gtex_meta_unique[['body_site_s','Assay_Type_s','Individual']]\n",
    "subset.drop_duplicates(inplace=True)\n",
    "subset[:3]"
   ]
  },
  {
   "cell_type": "code",
   "execution_count": 216,
   "metadata": {},
   "outputs": [
    {
     "data": {
      "text/plain": [
       "723"
      ]
     },
     "execution_count": 216,
     "metadata": {},
     "output_type": "execute_result"
    }
   ],
   "source": [
    "indiv = subset['Individual'].drop_duplicates()\n",
    "indiv.count()"
   ]
  },
  {
   "cell_type": "markdown",
   "metadata": {},
   "source": [
    "- Count individuals having WGS or WES"
   ]
  },
  {
   "cell_type": "code",
   "execution_count": 217,
   "metadata": {},
   "outputs": [
    {
     "data": {
      "text/plain": [
       "679"
      ]
     },
     "execution_count": 217,
     "metadata": {},
     "output_type": "execute_result"
    }
   ],
   "source": [
    "count_dnaseq_individuals = subset[subset['Assay_Type_s'].isin(['WGS','WXS'])]['Individual'].drop_duplicates()\n",
    "count_dnaseq_individuals.count()"
   ]
  },
  {
   "cell_type": "markdown",
   "metadata": {},
   "source": [
    "- Count individuals having whole blood RNA-Seq"
   ]
  },
  {
   "cell_type": "code",
   "execution_count": 218,
   "metadata": {},
   "outputs": [
    {
     "data": {
      "text/plain": [
       "427"
      ]
     },
     "execution_count": 218,
     "metadata": {},
     "output_type": "execute_result"
    }
   ],
   "source": [
    "c = subset[subset['Assay_Type_s'].isin(['RNA-Seq'])]\n",
    "count_rnaseq_individuals = c[c['body_site_s'].isin(['Whole Blood'])]['Individual'].drop_duplicates()\n",
    "count_rnaseq_individuals.count()"
   ]
  },
  {
   "cell_type": "markdown",
   "metadata": {},
   "source": [
    "- Count individuals having at least two tissues available"
   ]
  },
  {
   "cell_type": "code",
   "execution_count": 219,
   "metadata": {},
   "outputs": [
    {
     "data": {
      "text/plain": [
       "544"
      ]
     },
     "execution_count": 219,
     "metadata": {},
     "output_type": "execute_result"
    }
   ],
   "source": [
    "c = subset[subset['Assay_Type_s'].isin(['RNA-Seq'])]\n",
    "count_tissues = c.groupby(['Individual','Assay_Type_s'], sort=True).size()\n",
    "count_filter = count_tissues[count_tissues > 1]\n",
    "len(count_filter)"
   ]
  },
  {
   "cell_type": "markdown",
   "metadata": {},
   "source": [
    "- Count indiv with at least two tissues + having WGS/WES"
   ]
  },
  {
   "cell_type": "code",
   "execution_count": 220,
   "metadata": {},
   "outputs": [
    {
     "data": {
      "text/plain": [
       "501"
      ]
     },
     "execution_count": 220,
     "metadata": {},
     "output_type": "execute_result"
    }
   ],
   "source": [
    "tokeep = list(set(count_dnaseq_individuals.tolist()) & set(count_filter.index.get_level_values('Individual')))\n",
    "len(tokeep)"
   ]
  },
  {
   "cell_type": "code",
   "execution_count": 221,
   "metadata": {},
   "outputs": [
    {
     "data": {
      "text/html": [
       "<div>\n",
       "<style scoped>\n",
       "    .dataframe tbody tr th:only-of-type {\n",
       "        vertical-align: middle;\n",
       "    }\n",
       "\n",
       "    .dataframe tbody tr th {\n",
       "        vertical-align: top;\n",
       "    }\n",
       "\n",
       "    .dataframe thead th {\n",
       "        text-align: right;\n",
       "    }\n",
       "</style>\n",
       "<table border=\"1\" class=\"dataframe\">\n",
       "  <thead>\n",
       "    <tr style=\"text-align: right;\">\n",
       "      <th></th>\n",
       "      <th>sex_s</th>\n",
       "      <th>Assay_Type_s</th>\n",
       "      <th>Instrument_s</th>\n",
       "      <th>Tissue</th>\n",
       "      <th>Parent_Tissue</th>\n",
       "      <th>Sample_Name</th>\n",
       "      <th>Individual</th>\n",
       "    </tr>\n",
       "  </thead>\n",
       "  <tbody>\n",
       "    <tr>\n",
       "      <th>0</th>\n",
       "      <td>female</td>\n",
       "      <td>RNA-Seq</td>\n",
       "      <td>Illumina MiSeq</td>\n",
       "      <td>Skin - Sun Exposed (Lower leg)</td>\n",
       "      <td>Skin</td>\n",
       "      <td>GTEX-WEY5-1826-SM-5CHRT</td>\n",
       "      <td>GTEX-WEY5</td>\n",
       "    </tr>\n",
       "    <tr>\n",
       "      <th>1</th>\n",
       "      <td>male</td>\n",
       "      <td>RNA-Seq</td>\n",
       "      <td>Illumina MiSeq</td>\n",
       "      <td>Testis</td>\n",
       "      <td>Testis</td>\n",
       "      <td>GTEX-SUCS-1326-SM-5CHQI</td>\n",
       "      <td>GTEX-SUCS</td>\n",
       "    </tr>\n",
       "    <tr>\n",
       "      <th>2</th>\n",
       "      <td>male</td>\n",
       "      <td>RNA-Seq</td>\n",
       "      <td>Illumina MiSeq</td>\n",
       "      <td>Thyroid</td>\n",
       "      <td>Thyroid</td>\n",
       "      <td>GTEX-SUCS-0226-SM-5CHQG</td>\n",
       "      <td>GTEX-SUCS</td>\n",
       "    </tr>\n",
       "  </tbody>\n",
       "</table>\n",
       "</div>"
      ],
      "text/plain": [
       "    sex_s Assay_Type_s    Instrument_s                          Tissue  \\\n",
       "0  female      RNA-Seq  Illumina MiSeq  Skin - Sun Exposed (Lower leg)   \n",
       "1    male      RNA-Seq  Illumina MiSeq                          Testis   \n",
       "2    male      RNA-Seq  Illumina MiSeq                         Thyroid   \n",
       "\n",
       "  Parent_Tissue              Sample_Name Individual  \n",
       "0          Skin  GTEX-WEY5-1826-SM-5CHRT  GTEX-WEY5  \n",
       "1        Testis  GTEX-SUCS-1326-SM-5CHQI  GTEX-SUCS  \n",
       "2       Thyroid  GTEX-SUCS-0226-SM-5CHQG  GTEX-SUCS  "
      ]
     },
     "execution_count": 221,
     "metadata": {},
     "output_type": "execute_result"
    }
   ],
   "source": [
    "# this array will be further used to complete the recount2 sample data information\n",
    "gtex_tokeep = gtex_meta_unique[gtex_meta_unique['Individual'].isin(tokeep)]\n",
    "gtex_tokeep.rename(columns={\"histological_type_s\": \"Parent_Tissue\", \"body_site_s\": \"Tissue\"},inplace=True)\n",
    "gtex_tokeep[:3]"
   ]
  },
  {
   "cell_type": "markdown",
   "metadata": {},
   "source": [
    "- Individuals without DNA-seq"
   ]
  },
  {
   "cell_type": "code",
   "execution_count": 222,
   "metadata": {},
   "outputs": [],
   "source": [
    "# list individuals without WGS or WXS\n",
    "black = list(set(indiv.tolist())-set(count_dnaseq_individuals.tolist()))"
   ]
  },
  {
   "cell_type": "markdown",
   "metadata": {},
   "source": [
    "#### 2. GTEx to AnnData object\n",
    "GTEx keep only individuals with WES/WGS having at least 2 tissues available.\n",
    "Parse to the recommanded format"
   ]
  },
  {
   "cell_type": "code",
   "execution_count": 223,
   "metadata": {},
   "outputs": [],
   "source": [
    "data_path = os.readlink(os.path.join(\"..\",\"..\",\"data\"))\n",
    "path = os.path.join(data_path,\"raw\",\"gtex\",\"recount\",\"version2\")\n",
    "counts_file = \"recount_gene_counts.csv\"\n",
    "rowdata_file = \"recount_rowdata.csv\"\n",
    "coldata_file = \"recount_coldata.csv\""
   ]
  },
  {
   "cell_type": "code",
   "execution_count": 224,
   "metadata": {},
   "outputs": [],
   "source": [
    "# might take longer to create a large object\n",
    "annobj = p.create_anndata(os.path.join(path,counts_file), sep=\"\\t\", samples_anno=os.path.join(path,coldata_file),genes_anno=os.path.join(path,rowdata_file))"
   ]
  },
  {
   "cell_type": "code",
   "execution_count": 225,
   "metadata": {},
   "outputs": [
    {
     "data": {
      "text/html": [
       "<div>\n",
       "<style scoped>\n",
       "    .dataframe tbody tr th:only-of-type {\n",
       "        vertical-align: middle;\n",
       "    }\n",
       "\n",
       "    .dataframe tbody tr th {\n",
       "        vertical-align: top;\n",
       "    }\n",
       "\n",
       "    .dataframe thead th {\n",
       "        text-align: right;\n",
       "    }\n",
       "</style>\n",
       "<table border=\"1\" class=\"dataframe\">\n",
       "  <thead>\n",
       "    <tr style=\"text-align: right;\">\n",
       "      <th></th>\n",
       "      <th>project</th>\n",
       "      <th>sample</th>\n",
       "      <th>experiment</th>\n",
       "      <th>mapped_read_count</th>\n",
       "      <th>avg_read_length</th>\n",
       "      <th>sampid</th>\n",
       "      <th>smatsscr</th>\n",
       "      <th>smts</th>\n",
       "      <th>smtsd</th>\n",
       "    </tr>\n",
       "  </thead>\n",
       "  <tbody>\n",
       "    <tr>\n",
       "      <th>SRR660824</th>\n",
       "      <td>SRP012682</td>\n",
       "      <td>SRS389722</td>\n",
       "      <td>SRX222703</td>\n",
       "      <td>170790002</td>\n",
       "      <td>152</td>\n",
       "      <td>GTEX-QMR6-1926-SM-32PL9</td>\n",
       "      <td>3.0</td>\n",
       "      <td>Lung</td>\n",
       "      <td>Lung</td>\n",
       "    </tr>\n",
       "    <tr>\n",
       "      <th>SRR2166176</th>\n",
       "      <td>SRP012682</td>\n",
       "      <td>SRS1036203</td>\n",
       "      <td>SRX1152700</td>\n",
       "      <td>191059974</td>\n",
       "      <td>500</td>\n",
       "      <td>GTEX-T5JC-0011-R11A-SM-5S2RX</td>\n",
       "      <td>NaN</td>\n",
       "      <td>Brain</td>\n",
       "      <td>Brain - Cerebellar Hemisphere</td>\n",
       "    </tr>\n",
       "    <tr>\n",
       "      <th>SRR606939</th>\n",
       "      <td>SRP012682</td>\n",
       "      <td>SRS333474</td>\n",
       "      <td>SRX199032</td>\n",
       "      <td>159714774</td>\n",
       "      <td>136</td>\n",
       "      <td>GTEX-POMQ-0326-SM-2I5FO</td>\n",
       "      <td>1.0</td>\n",
       "      <td>Heart</td>\n",
       "      <td>Heart - Left Ventricle</td>\n",
       "    </tr>\n",
       "  </tbody>\n",
       "</table>\n",
       "</div>"
      ],
      "text/plain": [
       "              project      sample  experiment  mapped_read_count  \\\n",
       "SRR660824   SRP012682   SRS389722   SRX222703          170790002   \n",
       "SRR2166176  SRP012682  SRS1036203  SRX1152700          191059974   \n",
       "SRR606939   SRP012682   SRS333474   SRX199032          159714774   \n",
       "\n",
       "            avg_read_length                        sampid  smatsscr   smts  \\\n",
       "SRR660824               152       GTEX-QMR6-1926-SM-32PL9       3.0   Lung   \n",
       "SRR2166176              500  GTEX-T5JC-0011-R11A-SM-5S2RX       NaN  Brain   \n",
       "SRR606939               136       GTEX-POMQ-0326-SM-2I5FO       1.0  Heart   \n",
       "\n",
       "                                    smtsd  \n",
       "SRR660824                            Lung  \n",
       "SRR2166176  Brain - Cerebellar Hemisphere  \n",
       "SRR606939          Heart - Left Ventricle  "
      ]
     },
     "execution_count": 225,
     "metadata": {},
     "output_type": "execute_result"
    }
   ],
   "source": [
    "# parse samples metadata to our standardize form: Individual, Parent_Tissue, Tissue, Indiv_Seq_Assay, Gender\n",
    "sample_description = annobj.var\n",
    "sample_description[:3]"
   ]
  },
  {
   "cell_type": "code",
   "execution_count": 226,
   "metadata": {},
   "outputs": [
    {
     "data": {
      "text/html": [
       "<div>\n",
       "<style scoped>\n",
       "    .dataframe tbody tr th:only-of-type {\n",
       "        vertical-align: middle;\n",
       "    }\n",
       "\n",
       "    .dataframe tbody tr th {\n",
       "        vertical-align: top;\n",
       "    }\n",
       "\n",
       "    .dataframe thead th {\n",
       "        text-align: right;\n",
       "    }\n",
       "</style>\n",
       "<table border=\"1\" class=\"dataframe\">\n",
       "  <thead>\n",
       "    <tr style=\"text-align: right;\">\n",
       "      <th></th>\n",
       "      <th>project</th>\n",
       "      <th>sample</th>\n",
       "      <th>experiment</th>\n",
       "      <th>mapped_read_count</th>\n",
       "      <th>avg_read_length</th>\n",
       "      <th>Sample_Name</th>\n",
       "      <th>smatsscr</th>\n",
       "      <th>Parent_Tissue</th>\n",
       "      <th>Tissue</th>\n",
       "      <th>Individual</th>\n",
       "    </tr>\n",
       "  </thead>\n",
       "  <tbody>\n",
       "    <tr>\n",
       "      <th>SRR660824</th>\n",
       "      <td>SRP012682</td>\n",
       "      <td>SRS389722</td>\n",
       "      <td>SRX222703</td>\n",
       "      <td>170790002</td>\n",
       "      <td>152</td>\n",
       "      <td>GTEX-QMR6-1926-SM-32PL9</td>\n",
       "      <td>3.0</td>\n",
       "      <td>Lung</td>\n",
       "      <td>Lung</td>\n",
       "      <td>GTEX-QMR6</td>\n",
       "    </tr>\n",
       "    <tr>\n",
       "      <th>SRR2166176</th>\n",
       "      <td>SRP012682</td>\n",
       "      <td>SRS1036203</td>\n",
       "      <td>SRX1152700</td>\n",
       "      <td>191059974</td>\n",
       "      <td>500</td>\n",
       "      <td>GTEX-T5JC-0011-R11A-SM-5S2RX</td>\n",
       "      <td>NaN</td>\n",
       "      <td>Brain</td>\n",
       "      <td>Brain - Cerebellar Hemisphere</td>\n",
       "      <td>GTEX-T5JC</td>\n",
       "    </tr>\n",
       "    <tr>\n",
       "      <th>SRR606939</th>\n",
       "      <td>SRP012682</td>\n",
       "      <td>SRS333474</td>\n",
       "      <td>SRX199032</td>\n",
       "      <td>159714774</td>\n",
       "      <td>136</td>\n",
       "      <td>GTEX-POMQ-0326-SM-2I5FO</td>\n",
       "      <td>1.0</td>\n",
       "      <td>Heart</td>\n",
       "      <td>Heart - Left Ventricle</td>\n",
       "      <td>GTEX-POMQ</td>\n",
       "    </tr>\n",
       "  </tbody>\n",
       "</table>\n",
       "</div>"
      ],
      "text/plain": [
       "              project      sample  experiment  mapped_read_count  \\\n",
       "SRR660824   SRP012682   SRS389722   SRX222703          170790002   \n",
       "SRR2166176  SRP012682  SRS1036203  SRX1152700          191059974   \n",
       "SRR606939   SRP012682   SRS333474   SRX199032          159714774   \n",
       "\n",
       "            avg_read_length                   Sample_Name  smatsscr  \\\n",
       "SRR660824               152       GTEX-QMR6-1926-SM-32PL9       3.0   \n",
       "SRR2166176              500  GTEX-T5JC-0011-R11A-SM-5S2RX       NaN   \n",
       "SRR606939               136       GTEX-POMQ-0326-SM-2I5FO       1.0   \n",
       "\n",
       "           Parent_Tissue                         Tissue Individual  \n",
       "SRR660824           Lung                           Lung  GTEX-QMR6  \n",
       "SRR2166176         Brain  Brain - Cerebellar Hemisphere  GTEX-T5JC  \n",
       "SRR606939          Heart         Heart - Left Ventricle  GTEX-POMQ  "
      ]
     },
     "execution_count": 226,
     "metadata": {},
     "output_type": "execute_result"
    }
   ],
   "source": [
    "aux = pd.Series(sample_description['sampid']).str.split(\"-\",expand=True)\n",
    "sample_description.loc[:,'Individual'] = aux[0].map(str) + \"-\" + aux[1]\n",
    "sample_description.rename(index=str, columns={\"smts\": \"Parent_Tissue\", \"smtsd\": \"Tissue\",\"sampid\":\"Sample_Name\"},inplace=True)\n",
    "sample_description[:3]"
   ]
  },
  {
   "cell_type": "code",
   "execution_count": 227,
   "metadata": {},
   "outputs": [
    {
     "data": {
      "text/html": [
       "<div>\n",
       "<style scoped>\n",
       "    .dataframe tbody tr th:only-of-type {\n",
       "        vertical-align: middle;\n",
       "    }\n",
       "\n",
       "    .dataframe tbody tr th {\n",
       "        vertical-align: top;\n",
       "    }\n",
       "\n",
       "    .dataframe thead th {\n",
       "        text-align: right;\n",
       "    }\n",
       "</style>\n",
       "<table border=\"1\" class=\"dataframe\">\n",
       "  <thead>\n",
       "    <tr style=\"text-align: right;\">\n",
       "      <th></th>\n",
       "      <th>project</th>\n",
       "      <th>sample</th>\n",
       "      <th>experiment</th>\n",
       "      <th>mapped_read_count</th>\n",
       "      <th>avg_read_length</th>\n",
       "      <th>Sample_Name</th>\n",
       "      <th>smatsscr</th>\n",
       "      <th>Parent_Tissue</th>\n",
       "      <th>Tissue</th>\n",
       "      <th>Individual</th>\n",
       "      <th>Gender</th>\n",
       "      <th>Assay_Type_s</th>\n",
       "      <th>Instrument_s</th>\n",
       "    </tr>\n",
       "  </thead>\n",
       "  <tbody>\n",
       "    <tr>\n",
       "      <th>SRR660824</th>\n",
       "      <td>SRP012682</td>\n",
       "      <td>SRS389722</td>\n",
       "      <td>SRX222703</td>\n",
       "      <td>170790002</td>\n",
       "      <td>152</td>\n",
       "      <td>GTEX-QMR6-1926-SM-32PL9</td>\n",
       "      <td>3</td>\n",
       "      <td>Lung</td>\n",
       "      <td>Lung</td>\n",
       "      <td>GTEX-QMR6</td>\n",
       "      <td>male</td>\n",
       "      <td>RNA-Seq</td>\n",
       "      <td>Illumina HiSeq 2000</td>\n",
       "    </tr>\n",
       "    <tr>\n",
       "      <th>SRR2166176</th>\n",
       "      <td>SRP012682</td>\n",
       "      <td>SRS1036203</td>\n",
       "      <td>SRX1152700</td>\n",
       "      <td>191059974</td>\n",
       "      <td>500</td>\n",
       "      <td>GTEX-T5JC-0011-R11A-SM-5S2RX</td>\n",
       "      <td></td>\n",
       "      <td>Brain</td>\n",
       "      <td>Brain - Cerebellar Hemisphere</td>\n",
       "      <td>GTEX-T5JC</td>\n",
       "      <td>male</td>\n",
       "      <td>RNA-Seq</td>\n",
       "      <td>Illumina HiSeq 2000</td>\n",
       "    </tr>\n",
       "    <tr>\n",
       "      <th>SRR606939</th>\n",
       "      <td>SRP012682</td>\n",
       "      <td>SRS333474</td>\n",
       "      <td>SRX199032</td>\n",
       "      <td>159714774</td>\n",
       "      <td>136</td>\n",
       "      <td>GTEX-POMQ-0326-SM-2I5FO</td>\n",
       "      <td>1</td>\n",
       "      <td>Heart</td>\n",
       "      <td>Heart - Left Ventricle</td>\n",
       "      <td>GTEX-POMQ</td>\n",
       "      <td>female</td>\n",
       "      <td>RNA-Seq</td>\n",
       "      <td>Illumina HiSeq 2000</td>\n",
       "    </tr>\n",
       "  </tbody>\n",
       "</table>\n",
       "</div>"
      ],
      "text/plain": [
       "              project      sample  experiment  mapped_read_count  \\\n",
       "SRR660824   SRP012682   SRS389722   SRX222703          170790002   \n",
       "SRR2166176  SRP012682  SRS1036203  SRX1152700          191059974   \n",
       "SRR606939   SRP012682   SRS333474   SRX199032          159714774   \n",
       "\n",
       "            avg_read_length                   Sample_Name smatsscr  \\\n",
       "SRR660824               152       GTEX-QMR6-1926-SM-32PL9        3   \n",
       "SRR2166176              500  GTEX-T5JC-0011-R11A-SM-5S2RX            \n",
       "SRR606939               136       GTEX-POMQ-0326-SM-2I5FO        1   \n",
       "\n",
       "           Parent_Tissue                         Tissue Individual  Gender  \\\n",
       "SRR660824           Lung                           Lung  GTEX-QMR6    male   \n",
       "SRR2166176         Brain  Brain - Cerebellar Hemisphere  GTEX-T5JC    male   \n",
       "SRR606939          Heart         Heart - Left Ventricle  GTEX-POMQ  female   \n",
       "\n",
       "           Assay_Type_s         Instrument_s  \n",
       "SRR660824       RNA-Seq  Illumina HiSeq 2000  \n",
       "SRR2166176      RNA-Seq  Illumina HiSeq 2000  \n",
       "SRR606939       RNA-Seq  Illumina HiSeq 2000  "
      ]
     },
     "execution_count": 227,
     "metadata": {},
     "output_type": "execute_result"
    }
   ],
   "source": [
    "new = sample_description.merge(gtex_tokeep,how='left').fillna(\"\").set_index(sample_description.index)\n",
    "new.rename(index=str, columns={\"sex_s\": \"Gender\"},inplace=True)\n",
    "new[:3]"
   ]
  },
  {
   "cell_type": "code",
   "execution_count": 228,
   "metadata": {},
   "outputs": [
    {
     "data": {
      "text/plain": [
       "((9662, 13), 501, 551)"
      ]
     },
     "execution_count": 228,
     "metadata": {},
     "output_type": "execute_result"
    }
   ],
   "source": [
    "new.shape, len(list(set(new['Individual'].tolist()) & set(tokeep))), len(list(set(new['Individual'].tolist())))"
   ]
  },
  {
   "cell_type": "code",
   "execution_count": 232,
   "metadata": {},
   "outputs": [],
   "source": [
    "# assign right assay to the experiments\n",
    "new.loc[:,'Indiv_Seq_Assay'] = pd.Series('WGS', index=new.index)\n",
    "for indiv in tokeep:\n",
    "    assay = list(set(gtex_tokeep[gtex_tokeep['Individual'] == indiv]['Assay_Type_s'].tolist()))\n",
    "    if 'WGS' not in assay and 'WXS' in assay:\n",
    "        # replace assay to whole exome\n",
    "        new.loc[new['Individual']  == indiv, 'Indiv_Seq_Assay'] = 'WES'\n",
    "    elif 'WGS' not in assay and 'WXS' not in assay:\n",
    "        print(\"Error - individual has not DNA-seq: \",indiv)"
   ]
  },
  {
   "cell_type": "code",
   "execution_count": 275,
   "metadata": {},
   "outputs": [],
   "source": [
    "# remove the list of experiments which do not have WGS/WES\n",
    "new_filtered = new[new['Individual'].isin(tokeep)]"
   ]
  },
  {
   "cell_type": "code",
   "execution_count": 276,
   "metadata": {},
   "outputs": [],
   "source": [
    "annobj.var = new\n",
    "filtered_annobj = annobj[:,new_filtered.index.tolist()]\n",
    "filtered_annobj.var_names = filtered_annobj.var.index.tolist()\n",
    "\n",
    "for indiv in tokeep:\n",
    "    gender = filtered_annobj.var.loc[filtered_annobj.var['Individual'] == indiv][['Individual','Gender']].drop_duplicates()\n",
    "    if gender.shape[0] != 1:\n",
    "        genders = gender['Gender'].tolist()\n",
    "        if 'male' in genders and 'female' in genders: print(\"Erroorrrr\")\n",
    "        elif 'male' in genders:\n",
    "            filtered_annobj.var.loc[filtered_annobj.var['Individual'] == indiv,'Gender'] = 'male'\n",
    "        elif 'female' in genders: \n",
    "            filtered_annobj.var.loc[filtered_annobj.var['Individual'] == indiv,'Gender'] = 'female'\n",
    "        else:\n",
    "            print(\"could not found gender \", genders, \" \", indiv)"
   ]
  },
  {
   "cell_type": "code",
   "execution_count": 277,
   "metadata": {},
   "outputs": [
    {
     "data": {
      "text/plain": [
       "((8911, 14), (9662, 14), (8911, 14), 501, (501,))"
      ]
     },
     "execution_count": 277,
     "metadata": {},
     "output_type": "execute_result"
    }
   ],
   "source": [
    "filtered_annobj.var.shape, new.shape, new_filtered.shape, len(tokeep), filtered_annobj.var['Individual'].drop_duplicates().shape"
   ]
  },
  {
   "cell_type": "code",
   "execution_count": 278,
   "metadata": {},
   "outputs": [
    {
     "name": "stdout",
     "output_type": "stream",
     "text": [
      "/s/project/rep/processed/gtex/recount/recount_gtex.h5ad\n"
     ]
    },
    {
     "name": "stderr",
     "output_type": "stream",
     "text": [
      "... storing 'symbol' as categorical\n",
      "... storing 'project' as categorical\n",
      "... storing 'smatsscr' as categorical\n",
      "... storing 'Parent_Tissue' as categorical\n",
      "... storing 'Tissue' as categorical\n",
      "... storing 'Individual' as categorical\n",
      "... storing 'Gender' as categorical\n",
      "... storing 'Assay_Type_s' as categorical\n",
      "... storing 'Instrument_s' as categorical\n",
      "... storing 'Indiv_Seq_Assay' as categorical\n"
     ]
    },
    {
     "data": {
      "text/plain": [
       "'/data/nasif12/home_if12/giurgiu/rep_gagneur/rep/notebooks/preprocessing/tmp1547640828.h5ad'"
      ]
     },
     "execution_count": 278,
     "metadata": {},
     "output_type": "execute_result"
    }
   ],
   "source": [
    "# save AnnData object to HDF5 format\n",
    "output_file = os.path.join(data_path,\"processed\",\"gtex\",\"recount\",\"recount_gtex.h5ad\")\n",
    "p.save(filtered_annobj, outname=output_file)"
   ]
  },
  {
   "cell_type": "code",
   "execution_count": null,
   "metadata": {},
   "outputs": [],
   "source": []
  },
  {
   "cell_type": "code",
   "execution_count": null,
   "metadata": {},
   "outputs": [],
   "source": []
  },
  {
   "cell_type": "code",
   "execution_count": null,
   "metadata": {},
   "outputs": [],
   "source": []
  },
  {
   "cell_type": "code",
   "execution_count": null,
   "metadata": {},
   "outputs": [],
   "source": []
  },
  {
   "cell_type": "code",
   "execution_count": null,
   "metadata": {},
   "outputs": [],
   "source": []
  },
  {
   "cell_type": "code",
   "execution_count": null,
   "metadata": {},
   "outputs": [],
   "source": []
  },
  {
   "cell_type": "code",
   "execution_count": null,
   "metadata": {},
   "outputs": [],
   "source": []
  }
 ],
 "metadata": {
  "kernelspec": {
   "display_name": "Python (rep)",
   "language": "python",
   "name": "rep"
  },
  "language_info": {
   "codemirror_mode": {
    "name": "ipython",
    "version": 3
   },
   "file_extension": ".py",
   "mimetype": "text/x-python",
   "name": "python",
   "nbconvert_exporter": "python",
   "pygments_lexer": "ipython3",
   "version": "3.6.8"
  }
 },
 "nbformat": 4,
 "nbformat_minor": 2
}
