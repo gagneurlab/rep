{
 "cells": [
  {
   "cell_type": "markdown",
   "metadata": {},
   "source": [
    "### Goal\n",
    "Compare gene expression of recount2 and Expecto.\n",
    " - recount2 -> https://jhubiostatistics.shinyapps.io/recount/\n",
    " - expecto -> https://www.nature.com/articles/s41588-018-0160-6\n",
    "\n",
    "Expecto GTEx entries are computed as:  log(mean(over gene expression acrros tissues + 0.0001))\n",
    "- the geneanno.exp.csv contains 218 tissues, where the first 53 are GTex entries\n",
    "- GTEx v6 (this is done using hg19)\n",
    "- GENCODE v24 (this relates to GRCh38.p5)\n",
    "- lift anno to hg19/GRCh37\n",
    "\n",
    "Recount2 GTEx data was downloaded using the Bioconductor package recount. Please check /s/project/gtex-processed/recount/loadGtexData.R\n",
    "- RSE gene - The RangedSummarizedExperiment object for the counts summarized at the gene level using the Gencode v25 (GRCh38.p7, CHR) annotation \n",
    "\n",
    "Additionally - compare Expecto and GTEx V6 (direct download) - this should have a higher correlation"
   ]
  },
  {
   "cell_type": "code",
   "execution_count": 51,
   "metadata": {},
   "outputs": [
    {
     "name": "stdout",
     "output_type": "stream",
     "text": [
      "The autoreload extension is already loaded. To reload it, use:\n",
      "  %reload_ext autoreload\n"
     ]
    }
   ],
   "source": [
    "%load_ext autoreload\n",
    "%autoreload 2\n",
    "\n",
    "import os\n",
    "\n",
    "import pandas as pd\n",
    "import scipy.stats as s"
   ]
  },
  {
   "cell_type": "markdown",
   "metadata": {},
   "source": [
    "#### 1. Expecto data"
   ]
  },
  {
   "cell_type": "code",
   "execution_count": 31,
   "metadata": {},
   "outputs": [],
   "source": [
    "# data\n",
    "expecto_counts_file = \"/s/project/avsec/ExPecto/resources/geneanno.exp.csv\"\n",
    "expecto_anno_file = \"/s/project/avsec/ExPecto/resources/geneanno.csv\""
   ]
  },
  {
   "cell_type": "code",
   "execution_count": 32,
   "metadata": {},
   "outputs": [
    {
     "data": {
      "text/html": [
       "<div>\n",
       "<style scoped>\n",
       "    .dataframe tbody tr th:only-of-type {\n",
       "        vertical-align: middle;\n",
       "    }\n",
       "\n",
       "    .dataframe tbody tr th {\n",
       "        vertical-align: top;\n",
       "    }\n",
       "\n",
       "    .dataframe thead th {\n",
       "        text-align: right;\n",
       "    }\n",
       "</style>\n",
       "<table border=\"1\" class=\"dataframe\">\n",
       "  <thead>\n",
       "    <tr style=\"text-align: right;\">\n",
       "      <th></th>\n",
       "      <th>symbol</th>\n",
       "      <th>seqnames</th>\n",
       "      <th>strand</th>\n",
       "      <th>TSS</th>\n",
       "      <th>CAGE_representative_TSS</th>\n",
       "      <th>type</th>\n",
       "    </tr>\n",
       "    <tr>\n",
       "      <th>id</th>\n",
       "      <th></th>\n",
       "      <th></th>\n",
       "      <th></th>\n",
       "      <th></th>\n",
       "      <th></th>\n",
       "      <th></th>\n",
       "    </tr>\n",
       "  </thead>\n",
       "  <tbody>\n",
       "    <tr>\n",
       "      <th>ENSG00000000003</th>\n",
       "      <td>TSPAN6</td>\n",
       "      <td>chrX</td>\n",
       "      <td>-</td>\n",
       "      <td>99894988</td>\n",
       "      <td>99891748</td>\n",
       "      <td>protein_coding</td>\n",
       "    </tr>\n",
       "    <tr>\n",
       "      <th>ENSG00000000005</th>\n",
       "      <td>TNMD</td>\n",
       "      <td>chrX</td>\n",
       "      <td>+</td>\n",
       "      <td>99839799</td>\n",
       "      <td>99839933</td>\n",
       "      <td>protein_coding</td>\n",
       "    </tr>\n",
       "    <tr>\n",
       "      <th>ENSG00000000419</th>\n",
       "      <td>DPM1</td>\n",
       "      <td>chr20</td>\n",
       "      <td>-</td>\n",
       "      <td>49575092</td>\n",
       "      <td>49575069</td>\n",
       "      <td>protein_coding</td>\n",
       "    </tr>\n",
       "    <tr>\n",
       "      <th>ENSG00000000457</th>\n",
       "      <td>SCYL3</td>\n",
       "      <td>chr1</td>\n",
       "      <td>-</td>\n",
       "      <td>169863408</td>\n",
       "      <td>169863037</td>\n",
       "      <td>protein_coding</td>\n",
       "    </tr>\n",
       "    <tr>\n",
       "      <th>ENSG00000000460</th>\n",
       "      <td>C1orf112</td>\n",
       "      <td>chr1</td>\n",
       "      <td>+</td>\n",
       "      <td>169631245</td>\n",
       "      <td>169764186</td>\n",
       "      <td>protein_coding</td>\n",
       "    </tr>\n",
       "  </tbody>\n",
       "</table>\n",
       "</div>"
      ],
      "text/plain": [
       "                   symbol seqnames strand        TSS  CAGE_representative_TSS  \\\n",
       "id                                                                              \n",
       "ENSG00000000003    TSPAN6     chrX      -   99894988                 99891748   \n",
       "ENSG00000000005      TNMD     chrX      +   99839799                 99839933   \n",
       "ENSG00000000419      DPM1    chr20      -   49575092                 49575069   \n",
       "ENSG00000000457     SCYL3     chr1      -  169863408                169863037   \n",
       "ENSG00000000460  C1orf112     chr1      +  169631245                169764186   \n",
       "\n",
       "                           type  \n",
       "id                               \n",
       "ENSG00000000003  protein_coding  \n",
       "ENSG00000000005  protein_coding  \n",
       "ENSG00000000419  protein_coding  \n",
       "ENSG00000000457  protein_coding  \n",
       "ENSG00000000460  protein_coding  "
      ]
     },
     "execution_count": 32,
     "metadata": {},
     "output_type": "execute_result"
    }
   ],
   "source": [
    "expecto_anno = pd.DataFrame(pd.read_csv(os.path.abspath(expecto_anno_file), header=0, delimiter=\",\", index_col=0))\n",
    "expecto_anno[:5]"
   ]
  },
  {
   "cell_type": "code",
   "execution_count": 33,
   "metadata": {},
   "outputs": [
    {
     "data": {
      "text/plain": [
       "(24339, 53)"
      ]
     },
     "execution_count": 33,
     "metadata": {},
     "output_type": "execute_result"
    }
   ],
   "source": [
    "expecto_counts = pd.DataFrame(pd.read_csv(os.path.abspath(expecto_counts_file), header=0, delimiter=\",\", index_col=0))\n",
    "expecto_counts.index = expecto_anno.index\n",
    "expecto_counts = expecto_counts.iloc[:,:53]\n",
    "expecto_counts.shape"
   ]
  },
  {
   "cell_type": "markdown",
   "metadata": {},
   "source": [
    "#### 2. Recount2 data"
   ]
  },
  {
   "cell_type": "code",
   "execution_count": 34,
   "metadata": {},
   "outputs": [],
   "source": [
    "# data\n",
    "recount2_counts_file = \"/s/project/gtex-processed/recount/version2/recount_mean_tissues.csv\""
   ]
  },
  {
   "cell_type": "code",
   "execution_count": 35,
   "metadata": {},
   "outputs": [
    {
     "data": {
      "text/plain": [
       "(58037, 53)"
      ]
     },
     "execution_count": 35,
     "metadata": {},
     "output_type": "execute_result"
    }
   ],
   "source": [
    "recount2 = pd.DataFrame(pd.read_csv(os.path.abspath(recount2_counts_file), header=0, delimiter=\"\\t\", index_col=0))\n",
    "\n",
    "# ignore ensembl id version\n",
    "recount2.index.name = 'ensemblid'\n",
    "new_index = [item.split(\".\")[0] for item in recount2.index.tolist()]\n",
    "recount2.set_index([new_index],inplace=True,drop=True)\n",
    "\n",
    "# remove 'Cells-Leukemiacellline(CML)' - column\n",
    "recount2.drop(['Cells - Leukemia cell line (CML)'], axis=1, inplace=True)\n",
    "recount2.shape"
   ]
  },
  {
   "cell_type": "markdown",
   "metadata": {},
   "source": [
    "#### 3. Compare\n",
    "Keep only rows with same annotation (ignore ensembl id version).\n",
    "Per tissue do spearman correlation"
   ]
  },
  {
   "cell_type": "code",
   "execution_count": 36,
   "metadata": {},
   "outputs": [
    {
     "data": {
      "text/plain": [
       "['Adipose - Subcutaneous',\n",
       " 'Adipose - Visceral (Omentum)',\n",
       " 'Adrenal Gland',\n",
       " 'Artery - Aorta',\n",
       " 'Artery - Coronary',\n",
       " 'Artery - Tibial',\n",
       " 'Bladder',\n",
       " 'Brain - Amygdala',\n",
       " 'Brain - Anterior cingulate cortex (BA24)',\n",
       " 'Brain - Caudate (basal ganglia)',\n",
       " 'Brain - Cerebellar Hemisphere',\n",
       " 'Brain - Cerebellum',\n",
       " 'Brain - Cortex',\n",
       " 'Brain - Frontal Cortex (BA9)',\n",
       " 'Brain - Hippocampus',\n",
       " 'Brain - Hypothalamus',\n",
       " 'Brain - Nucleus accumbens (basal ganglia)',\n",
       " 'Brain - Putamen (basal ganglia)',\n",
       " 'Brain - Spinal cord (cervical c-1)',\n",
       " 'Brain - Substantia nigra',\n",
       " 'Breast - Mammary Tissue',\n",
       " 'Cells - EBV-transformed lymphocytes',\n",
       " 'Cells - Transformed fibroblasts',\n",
       " 'Cervix - Ectocervix',\n",
       " 'Cervix - Endocervix',\n",
       " 'Colon - Sigmoid',\n",
       " 'Colon - Transverse',\n",
       " 'Esophagus - Gastroesophageal Junction',\n",
       " 'Esophagus - Mucosa',\n",
       " 'Esophagus - Muscularis',\n",
       " 'Fallopian Tube',\n",
       " 'Heart - Atrial Appendage',\n",
       " 'Heart - Left Ventricle',\n",
       " 'Kidney - Cortex',\n",
       " 'Liver',\n",
       " 'Lung',\n",
       " 'Minor Salivary Gland',\n",
       " 'Muscle - Skeletal',\n",
       " 'Nerve - Tibial',\n",
       " 'Ovary',\n",
       " 'Pancreas',\n",
       " 'Pituitary',\n",
       " 'Prostate',\n",
       " 'Skin - Not Sun Exposed (Suprapubic)',\n",
       " 'Skin - Sun Exposed (Lower leg)',\n",
       " 'Small Intestine - Terminal Ileum',\n",
       " 'Spleen',\n",
       " 'Stomach',\n",
       " 'Testis',\n",
       " 'Thyroid',\n",
       " 'Uterus',\n",
       " 'Vagina',\n",
       " 'Whole Blood']"
      ]
     },
     "execution_count": 36,
     "metadata": {},
     "output_type": "execute_result"
    }
   ],
   "source": [
    "recount2.columns.values.tolist()"
   ]
  },
  {
   "cell_type": "code",
   "execution_count": 37,
   "metadata": {},
   "outputs": [
    {
     "data": {
      "text/plain": [
       "['Adipose_Subcutaneous',\n",
       " 'Adipose_Visceral_Omentum',\n",
       " 'Adrenal_Gland',\n",
       " 'Artery_Aorta',\n",
       " 'Artery_Coronary',\n",
       " 'Artery_Tibial',\n",
       " 'Bladder',\n",
       " 'Brain_Amygdala',\n",
       " 'Brain_Anterior_cingulate_cortex_BA24',\n",
       " 'Brain_Caudate_basal_ganglia',\n",
       " 'Brain_Cerebellar_Hemisphere',\n",
       " 'Brain_Cerebellum',\n",
       " 'Brain_Cortex',\n",
       " 'Brain_Frontal_Cortex_BA9',\n",
       " 'Brain_Hippocampus',\n",
       " 'Brain_Hypothalamus',\n",
       " 'Brain_Nucleus_accumbens_basal_ganglia',\n",
       " 'Brain_Putamen_basal_ganglia',\n",
       " 'Brain_Spinal_cord_cervical_c1',\n",
       " 'Brain_Substantia_nigra',\n",
       " 'Breast_Mammary_Tissue',\n",
       " 'Cells_EBV-transformed_lymphocytes',\n",
       " 'Cells_Transformed_fibroblasts',\n",
       " 'Cervix_Ectocervix',\n",
       " 'Cervix_Endocervix',\n",
       " 'Colon_Sigmoid',\n",
       " 'Colon_Transverse',\n",
       " 'Esophagus_Gastroesophageal_Junction',\n",
       " 'Esophagus_Mucosa',\n",
       " 'Esophagus_Muscularis',\n",
       " 'Fallopian_Tube',\n",
       " 'Heart_Atrial_Appendage',\n",
       " 'Heart_Left_Ventricle',\n",
       " 'Kidney_Cortex',\n",
       " 'Liver',\n",
       " 'Lung',\n",
       " 'Minor_Salivary_Gland',\n",
       " 'Muscle_Skeletal',\n",
       " 'Nerve_Tibial',\n",
       " 'Ovary',\n",
       " 'Pancreas',\n",
       " 'Pituitary',\n",
       " 'Prostate',\n",
       " 'Skin_Not_Sun_Exposed_Suprapubic',\n",
       " 'Skin_Sun_Exposed_Lower_leg',\n",
       " 'Small_Intestine_Terminal_Ileum',\n",
       " 'Spleen',\n",
       " 'Stomach',\n",
       " 'Testis',\n",
       " 'Thyroid',\n",
       " 'Uterus',\n",
       " 'Vagina',\n",
       " 'Whole_Blood']"
      ]
     },
     "execution_count": 37,
     "metadata": {},
     "output_type": "execute_result"
    }
   ],
   "source": [
    "expecto_counts.columns.values.tolist()"
   ]
  },
  {
   "cell_type": "code",
   "execution_count": 38,
   "metadata": {},
   "outputs": [
    {
     "data": {
      "text/plain": [
       "(24048, 106)"
      ]
     },
     "execution_count": 38,
     "metadata": {},
     "output_type": "execute_result"
    }
   ],
   "source": [
    "joined_df = recount2.join(expecto_counts, how='inner', lsuffix='_left', rsuffix='_right')\n",
    "joined_df.shape # total of 24048 genes could be mapped"
   ]
  },
  {
   "cell_type": "code",
   "execution_count": 39,
   "metadata": {},
   "outputs": [
    {
     "data": {
      "text/plain": [
       "((24048, 53), (24048, 53))"
      ]
     },
     "execution_count": 39,
     "metadata": {},
     "output_type": "execute_result"
    }
   ],
   "source": [
    "recount2 = joined_df.iloc[:,:53]\n",
    "expecto_counts = joined_df.iloc[:,53:]\n",
    "recount2.shape, expecto_counts.shape"
   ]
  },
  {
   "cell_type": "code",
   "execution_count": 40,
   "metadata": {},
   "outputs": [
    {
     "name": "stdout",
     "output_type": "stream",
     "text": [
      "SpearmanrResult(correlation=0.9838735687792292, pvalue=8.543761829803235e-40) Adipose_Subcutaneous\n",
      "SpearmanrResult(correlation=0.9740364457345588, pvalue=1.4284066127785971e-34) Adipose_Visceral_Omentum\n",
      "SpearmanrResult(correlation=0.8039025963554266, pvalue=4.245306429873534e-13) Adrenal_Gland\n",
      "SpearmanrResult(correlation=0.945250766005483, pvalue=1.849377369033238e-26) Artery_Aorta\n",
      "SpearmanrResult(correlation=0.9604902435091114, pvalue=5.4213608883148544e-30) Artery_Coronary\n",
      "SpearmanrResult(correlation=0.9768585711981939, pvalue=7.854701103222134e-36) Artery_Tibial\n",
      "SpearmanrResult(correlation=0.992823738106757, pvalue=1.0254111217968367e-48) Bladder_right\n",
      "SpearmanrResult(correlation=0.966779551685212, pvalue=7.026477505939181e-32) Brain_Amygdala\n",
      "SpearmanrResult(correlation=0.9634736332849541, pvalue=7.58857065169983e-31) Brain_Anterior_cingulate_cortex_BA24\n",
      "SpearmanrResult(correlation=0.8879213030156425, pvalue=7.868755462656718e-19) Brain_Caudate_basal_ganglia\n",
      "SpearmanrResult(correlation=0.9781486856958554, pvalue=1.847279166289609e-36) Brain_Cerebellar_Hemisphere\n",
      "SpearmanrResult(correlation=0.9829059829059829, pvalue=3.732129889647666e-39) Brain_Cerebellum\n",
      "SpearmanrResult(correlation=0.9582325431382034, pvalue=2.176390687622161e-29) Brain_Cortex\n",
      "SpearmanrResult(correlation=0.9615384615384616, pvalue=2.765617363665421e-30) Brain_Frontal_Cortex_BA9\n",
      "SpearmanrResult(correlation=0.9805676503789711, pvalue=9.544510634339232e-38) Brain_Hippocampus\n",
      "SpearmanrResult(correlation=0.9574262215771651, pvalue=3.5098027838226634e-29) Brain_Hypothalamus\n",
      "SpearmanrResult(correlation=0.917593936461861, pvalue=4.457629151142941e-22) Brain_Nucleus_accumbens_basal_ganglia\n",
      "SpearmanrResult(correlation=0.8496210288663117, pvalue=8.761495481001899e-16) Brain_Putamen_basal_ganglia\n",
      "SpearmanrResult(correlation=0.903725205611998, pvalue=1.9844910125955296e-20) Brain_Spinal_cord_cervical_c1\n",
      "SpearmanrResult(correlation=0.9625060474117078, pvalue=1.4610533666081875e-30) Brain_Substantia_nigra\n",
      "SpearmanrResult(correlation=0.9155781325592647, pvalue=8.053999540559032e-22) Breast_Mammary_Tissue\n",
      "SpearmanrResult(correlation=0.9363812288340589, pvalue=7.640486723181017e-25) Cells_EBV-transformed_lymphocytes\n",
      "SpearmanrResult(correlation=0.9852443154329947, pvalue=9.014779090075875e-41) Cells_Transformed_fibroblasts\n",
      "SpearmanrResult(correlation=nan, pvalue=nan) Cervix_Ectocervix\n",
      "SpearmanrResult(correlation=0.964038058377681, pvalue=5.136102639918265e-31) Cervix_Endocervix\n",
      "SpearmanrResult(correlation=0.9806482825350749, pvalue=8.592554238156501e-38) Colon_Sigmoid\n",
      "SpearmanrResult(correlation=0.9708917916465085, pvalue=2.5389465642269617e-33) Colon_Transverse\n",
      "SpearmanrResult(correlation=0.988953394613772, pvalue=5.860428768741012e-44) Esophagus_Gastroesophageal_Junction\n",
      "SpearmanrResult(correlation=0.9196903725205612, pvalue=2.370677397693628e-22) Esophagus_Mucosa\n",
      "SpearmanrResult(correlation=0.9743589743589743, pvalue=1.0425331066522246e-34) Esophagus_Muscularis\n",
      "SpearmanrResult(correlation=0.9139654894371876, pvalue=1.2792885507415352e-21) Fallopian_Tube\n",
      "SpearmanrResult(correlation=0.9903241412675374, pvalue=2.0310845216823377e-45) Heart_Atrial_Appendage\n",
      "SpearmanrResult(correlation=0.8517174649250121, pvalue=6.28971385509717e-16) Heart_Left_Ventricle\n",
      "SpearmanrResult(correlation=0.9842767295597483, pvalue=4.501384844716535e-40) Kidney_Cortex\n",
      "SpearmanrResult(correlation=0.992178680857926, pvalue=9.137307745304632e-48) Liver_right\n",
      "SpearmanrResult(correlation=0.9877439122722141, pvalue=8.172236797085458e-43) Lung_right\n",
      "SpearmanrResult(correlation=0.9906466698919528, pvalue=8.589016156412102e-46) Minor_Salivary_Gland\n",
      "SpearmanrResult(correlation=0.8865505563618771, pvalue=1.054687979691097e-18) Muscle_Skeletal\n",
      "SpearmanrResult(correlation=0.98451862602806, pvalue=3.040130908752709e-40) Nerve_Tibial\n",
      "SpearmanrResult(correlation=0.9462183518787292, pvalue=1.1875078113776202e-26) Ovary_right\n",
      "SpearmanrResult(correlation=0.9879858087405257, pvalue=4.9297474550243906e-43) Pancreas_right\n",
      "SpearmanrResult(correlation=0.8651830349943558, pvalue=6.577928529157132e-17) Pituitary_right\n",
      "SpearmanrResult(correlation=0.9509756490888566, pvalue=1.1855466970240822e-27) Prostate_right\n",
      "SpearmanrResult(correlation=0.9190453152717304, pvalue=2.884286766911688e-22) Skin_Not_Sun_Exposed_Suprapubic\n",
      "SpearmanrResult(correlation=0.9907273020480567, pvalue=6.8940464052525025e-46) Skin_Sun_Exposed_Lower_leg\n",
      "SpearmanrResult(correlation=0.8889695210449927, pvalue=6.273396963519249e-19) Small_Intestine_Terminal_Ileum\n",
      "SpearmanrResult(correlation=0.791404612159329, pvalue=1.7441064119127364e-12) Spleen_right\n",
      "SpearmanrResult(correlation=0.8542976939203354, pvalue=4.153389778025936e-16) Stomach_right\n",
      "SpearmanrResult(correlation=0.9888727624576681, pvalue=7.047850932419732e-44) Testis_right\n",
      "SpearmanrResult(correlation=0.9457345589421061, pvalue=1.4834449426092344e-26) Thyroid_right\n",
      "SpearmanrResult(correlation=0.9890340267698757, pvalue=4.86644701813579e-44) Uterus_right\n",
      "SpearmanrResult(correlation=0.9035639412997903, pvalue=2.0669011999893138e-20) Vagina_right\n",
      "SpearmanrResult(correlation=0.965166908563135, pvalue=2.3083726817402437e-31) Whole_Blood\n"
     ]
    }
   ],
   "source": [
    "colnames = expecto_counts.columns.values.tolist()\n",
    "for i in range(0,recount2.shape[1]):    \n",
    "    print(s.spearmanr(recount2.iloc[i].values,expecto_counts.iloc[i].values),colnames[i])"
   ]
  },
  {
   "cell_type": "code",
   "execution_count": 29,
   "metadata": {},
   "outputs": [
    {
     "data": {
      "text/plain": [
       "(ENSG00000000003    11.955509\n",
       " ENSG00000000005     6.086746\n",
       " ENSG00000000419    12.065735\n",
       " ENSG00000000457    11.510704\n",
       " ENSG00000000460    10.664779\n",
       " ENSG00000000938    11.174362\n",
       " ENSG00000000971    13.005532\n",
       " ENSG00000001036    12.812286\n",
       " ENSG00000001084    12.336624\n",
       " ENSG00000001167    11.664301\n",
       " Name: Adrenal Gland, dtype: float64, ENSG00000000003    11.349336\n",
       " ENSG00000000005     0.046674\n",
       " ENSG00000000419    29.331713\n",
       " ENSG00000000457     4.271980\n",
       " ENSG00000000460     0.658967\n",
       " ENSG00000000938     4.254194\n",
       " ENSG00000000971    20.765548\n",
       " ENSG00000001036    26.039038\n",
       " ENSG00000001084     8.453453\n",
       " ENSG00000001167     4.415666\n",
       " Name: Adrenal_Gland, dtype: float64)"
      ]
     },
     "execution_count": 29,
     "metadata": {},
     "output_type": "execute_result"
    }
   ],
   "source": [
    "recount2.iloc[:10,2], expecto_counts.iloc[:10,2]    "
   ]
  },
  {
   "cell_type": "markdown",
   "metadata": {},
   "source": [
    "#### 4. Compare Expecto and GTEx V6\n",
    "--- not yet done\n",
    "\n",
    "For this we compute for the GTEx the log(mean) across individuals for each tissue in the same manner as for recount2 data"
   ]
  },
  {
   "cell_type": "code",
   "execution_count": 57,
   "metadata": {},
   "outputs": [],
   "source": [
    "gtex_file = \"/s/project/gtex-processed/gene_counts_v6/recount_mean_tissues.csv\"\n",
    "gtex = pd.DataFrame(pd.read_csv(os.path.abspath(gtex_file), header=0, delimiter=\"\\t\", index_col=0))"
   ]
  },
  {
   "cell_type": "code",
   "execution_count": 58,
   "metadata": {},
   "outputs": [
    {
     "data": {
      "text/plain": [
       "(56318, 53)"
      ]
     },
     "execution_count": 58,
     "metadata": {},
     "output_type": "execute_result"
    }
   ],
   "source": [
    "# ignore ensembl id version\n",
    "new_index = [item.split(\".\")[0] for item in gtex.index.tolist()]\n",
    "gtex.set_index([new_index],inplace=True,drop=True)\n",
    "gtex.shape"
   ]
  },
  {
   "cell_type": "code",
   "execution_count": 59,
   "metadata": {},
   "outputs": [
    {
     "data": {
      "text/plain": [
       "(24048, 106)"
      ]
     },
     "execution_count": 59,
     "metadata": {},
     "output_type": "execute_result"
    }
   ],
   "source": [
    "joined_df = gtex.join(expecto_counts, how='inner', lsuffix='_left', rsuffix='_right')\n",
    "joined_df.shape # total of 24048 genes could be mapped"
   ]
  },
  {
   "cell_type": "code",
   "execution_count": 62,
   "metadata": {},
   "outputs": [
    {
     "data": {
      "text/plain": [
       "((24048, 53), (24048, 53))"
      ]
     },
     "execution_count": 62,
     "metadata": {},
     "output_type": "execute_result"
    }
   ],
   "source": [
    "gtex = joined_df.iloc[:,:53]\n",
    "gtex[gtex < 0] = 0\n",
    "expecto_counts = joined_df.iloc[:,53:]\n",
    "gtex.shape, expecto_counts.shape"
   ]
  },
  {
   "cell_type": "code",
   "execution_count": 63,
   "metadata": {},
   "outputs": [
    {
     "name": "stdout",
     "output_type": "stream",
     "text": [
      "SpearmanrResult(correlation=-0.12143202709240444, pvalue=0.3863969199686569) Adipose_Subcutaneous\n",
      "SpearmanrResult(correlation=0.06297371391711014, pvalue=0.654175815544539) Adipose_Visceral_Omentum\n",
      "SpearmanrResult(correlation=-0.09240445089501692, pvalue=0.5104843466093794) Adrenal_Gland\n",
      "SpearmanrResult(correlation=0.450733752620545, pvalue=0.0007067593183282275) Artery_Aorta\n",
      "SpearmanrResult(correlation=-0.18738913078535718, pvalue=0.17907111414844504) Artery_Coronary\n",
      "SpearmanrResult(correlation=0.1569101757781003, pvalue=0.2618404134477018) Artery_Tibial\n",
      "SpearmanrResult(correlation=0.17053701015965167, pvalue=0.2221273492483992) Bladder_right\n",
      "SpearmanrResult(correlation=-0.14521851314304143, pvalue=0.2994983880203771) Brain_Amygdala\n",
      "SpearmanrResult(correlation=0.033139816158684075, pvalue=0.8137638565846628) Brain_Anterior_cingulate_cortex_BA24\n",
      "SpearmanrResult(correlation=-0.2845508788905015, pvalue=0.03891656299523723) Brain_Caudate_basal_ganglia\n",
      "SpearmanrResult(correlation=0.360587002096436, pvalue=0.007992199482013879) Brain_Cerebellar_Hemisphere\n",
      "SpearmanrResult(correlation=0.43396226415094336, pvalue=0.0011686199181012017) Brain_Cerebellum\n",
      "SpearmanrResult(correlation=0.08732462506047411, pvalue=0.5340975901086504) Brain_Cortex\n",
      "SpearmanrResult(correlation=0.003950975649088856, pvalue=0.9776001359955555) Brain_Frontal_Cortex_BA9\n",
      "SpearmanrResult(correlation=-0.09909691985163684, pvalue=0.4802041550864482) Brain_Hippocampus\n",
      "SpearmanrResult(correlation=0.05144331559425899, pvalue=0.7144956491900716) Brain_Hypothalamus\n",
      "SpearmanrResult(correlation=0.2217384292855991, pvalue=0.11055075934010895) Brain_Nucleus_accumbens_basal_ganglia\n",
      "SpearmanrResult(correlation=-0.17722947911627157, pvalue=0.20424078183440714) Brain_Putamen_basal_ganglia\n",
      "SpearmanrResult(correlation=0.10441864215449122, pvalue=0.45682193938405624) Brain_Spinal_cord_cervical_c1\n",
      "SpearmanrResult(correlation=0.188598613126915, pvalue=0.1762309213576944) Brain_Substantia_nigra\n",
      "SpearmanrResult(correlation=0.23455894210611192, pvalue=0.09091863678022247) Breast_Mammary_Tissue\n",
      "SpearmanrResult(correlation=0.04676665054023545, pvalue=0.7394891850683225) Cells_EBV-transformed_lymphocytes\n",
      "SpearmanrResult(correlation=0.08934042896307047, pvalue=0.5246636073309254) Cells_Transformed_fibroblasts\n",
      "SpearmanrResult(correlation=0.08934042896307047, pvalue=0.5246636073309254) Cervix_Ectocervix\n",
      "SpearmanrResult(correlation=-0.06095791001451379, pvalue=0.664577583965346) Cervix_Endocervix\n",
      "SpearmanrResult(correlation=0.23673601032091598, pvalue=0.08787362211494477) Colon_Sigmoid\n",
      "SpearmanrResult(correlation=-0.1119980648282535, pvalue=0.42461957552994345) Colon_Transverse\n",
      "SpearmanrResult(correlation=0.26737622964038055, pvalue=0.052927430305040254) Esophagus_Gastroesophageal_Junction\n",
      "SpearmanrResult(correlation=-0.2983389775842606, pvalue=0.030019790421607698) Esophagus_Mucosa\n",
      "SpearmanrResult(correlation=-0.19311401386873084, pvalue=0.16591542597372513) Esophagus_Muscularis\n",
      "SpearmanrResult(correlation=-0.004515400741815836, pvalue=0.9744011543445928) Fallopian_Tube\n",
      "SpearmanrResult(correlation=0.03354297693920335, pvalue=0.8115393188785369) Heart_Atrial_Appendage\n",
      "SpearmanrResult(correlation=-0.1081277213352685, pvalue=0.4408997583891171) Heart_Left_Ventricle\n",
      "SpearmanrResult(correlation=-0.15957103692952745, pvalue=0.2537346203319165) Kidney_Cortex\n",
      "SpearmanrResult(correlation=0.1378003547814869, pvalue=0.32512308886902275) Liver_right\n",
      "SpearmanrResult(correlation=0.12868892114175132, pvalue=0.3584325010017071) Lung_right\n",
      "SpearmanrResult(correlation=0.3157555233026931, pvalue=0.021268183616113955) Minor_Salivary_Gland\n",
      "SpearmanrResult(correlation=-0.15199161425576518, pvalue=0.2772765313841894) Muscle_Skeletal\n",
      "SpearmanrResult(correlation=0.4729882277052089, pvalue=0.00034812744956267224) Nerve_Tibial\n",
      "SpearmanrResult(correlation=0.3962264150943396, pvalue=0.0033136751146583443) Ovary_right\n",
      "SpearmanrResult(correlation=0.3247863247863248, pvalue=0.01765285285536446) Pancreas_right\n",
      "SpearmanrResult(correlation=0.01362683438155136, pvalue=0.9228504964590213) Pituitary_right\n",
      "SpearmanrResult(correlation=0.17739074342847927, pvalue=0.20382271376820396) Prostate_right\n",
      "SpearmanrResult(correlation=0.5185453959038865, pvalue=6.962643181825051e-05) Skin_Not_Sun_Exposed_Suprapubic\n",
      "SpearmanrResult(correlation=0.23480083857442346, pvalue=0.09057629117372216) Skin_Sun_Exposed_Lower_leg\n",
      "SpearmanrResult(correlation=-0.36840832123850986, pvalue=0.006641782553988655) Small_Intestine_Terminal_Ileum\n",
      "SpearmanrResult(correlation=-0.0725689404934688, pvalue=0.6055793342787663) Spleen_right\n",
      "SpearmanrResult(correlation=-0.21867440735365262, pvalue=0.11569140914589651) Stomach_right\n",
      "SpearmanrResult(correlation=0.22222222222222218, pvalue=0.10975533539849754) Testis_right\n",
      "SpearmanrResult(correlation=-0.12917271407837447, pvalue=0.35661323868277417) Thyroid_right\n",
      "SpearmanrResult(correlation=-0.1551362683438155, pvalue=0.2673396917164773) Uterus_right\n",
      "SpearmanrResult(correlation=-0.3282535074987905, pvalue=0.01641099427495967) Vagina_right\n",
      "SpearmanrResult(correlation=-0.01781970649895178, pvalue=0.8992206018180372) Whole_Blood\n"
     ]
    }
   ],
   "source": [
    "colnames = expecto_counts.columns.values.tolist()\n",
    "for i in range(0,gtex.shape[1]):    \n",
    "    print(s.spearmanr(gtex.iloc[i].values,expecto_counts.iloc[i].values),colnames[i])"
   ]
  },
  {
   "cell_type": "code",
   "execution_count": null,
   "metadata": {},
   "outputs": [],
   "source": []
  },
  {
   "cell_type": "code",
   "execution_count": null,
   "metadata": {},
   "outputs": [],
   "source": []
  },
  {
   "cell_type": "code",
   "execution_count": null,
   "metadata": {},
   "outputs": [],
   "source": []
  }
 ],
 "metadata": {
  "kernelspec": {
   "display_name": "Python (rep)",
   "language": "python",
   "name": "rep"
  },
  "language_info": {
   "codemirror_mode": {
    "name": "ipython",
    "version": 3
   },
   "file_extension": ".py",
   "mimetype": "text/x-python",
   "name": "python",
   "nbconvert_exporter": "python",
   "pygments_lexer": "ipython3",
   "version": "3.6.7"
  }
 },
 "nbformat": 4,
 "nbformat_minor": 2
}
